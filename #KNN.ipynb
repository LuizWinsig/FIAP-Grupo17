#KNN 
from sklearn.neighbors import KNeighborsClassifier
from sklearn.preprocessing import StandardScaler, MinMaxScaler
from sklearn.model_selection import StratifiedShuffleSplit

scaler = MinMaxScaler()
scaler.fit(x_train_Knn)
x_train_Knn_escalonado = scaler.transform(x_train_Knn)
x_test_Knn_escalonado = scaler.transform(x_test_Knn)



erros= []

for i in range(1,20):
    knn = KNeighborsClassifier(n_neighbors=i)
    knn.fit(x_train_Knn_escalonado, y_train_Knn)
    predicao = knn.predict(x_test_Knn_escalonado)
    erros.append(np.mean(predicao!= y_test_Knn))

plt.figure(figsize=(12, 6))
plt.plot(range(1, 20), erros, color='red', linestyle='dashed', marker='o')
plt.title(f'Error Rate K Value com {valordiv}')
plt.xlabel('K Value')
plt.ylabel('Mean Error')


knn = KNeighborsClassifier(n_neighbors=3)
knn.fit(x_train_Knn_escalonado, y_train_Knn)
predicao = knn.predict(x_test_Knn_escalonado)

from sklearn.metrics import accuracy_score
print(accuracy_score(y_test_Knn, predicao))


###SVM -------------------------------------------------------------------------


from sklearn.pipeline import Pipeline
from sklearn.svm import LinearSVC

svm = Pipeline([
    ("linear_svc", LinearSVC(C=1))
])

svm.fit(x_train_Knn_escalonado, y_train_Knn) 

_predito_svm = svm.predict(x_test_Knn_escalonado) 
print(accuracy_score(y_test_Knn, _predito_svm)) 