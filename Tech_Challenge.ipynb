{
 "cells": [
  {
   "cell_type": "markdown",
   "metadata": {},
   "source": [
    "Importação de bibliotecas que serão utilizadas na análise do Tech Challenge"
   ]
  },
  {
   "cell_type": "code",
   "execution_count": 368,
   "metadata": {},
   "outputs": [],
   "source": [
    "#Vou importar as bibliotecas necessárias para o projeto\n",
    "\n",
    "#bibliotecas basicas para análises de dados.\n",
    "import numpy as np\n",
    "import seaborn as sb\n",
    "import matplotlib.pyplot as plt\n",
    "import pandas as pd\n",
    "import os\n",
    "# Algoritmos de Agrupamento\n",
    "from sklearn.cluster import KMeans, DBSCAN\n",
    "\n",
    "# Avaliacao de desempenho\n",
    "from sklearn.metrics import adjusted_rand_score, silhouette_score\n",
    "from sklearn.metrics import accuracy_score \n",
    "\n",
    "from sklearn.preprocessing import LabelEncoder \n",
    "# Pre-processamento e escalonamento (Feature Engineering)\n",
    "from sklearn.preprocessing import StandardScaler, MinMaxScaler #Feature Engineer\n",
    "\n",
    "# Modelos de Machine Learning para separar teste e treino do modelo\n",
    "from sklearn.model_selection import train_test_split \n"
   ]
  },
  {
   "cell_type": "markdown",
   "metadata": {},
   "source": [
    "Vamos Importar os dados do ficheiro \"medical_insurance.csv\" para o Python e criar um DataFrame."
   ]
  },
  {
   "cell_type": "code",
   "execution_count": 369,
   "metadata": {},
   "outputs": [
    {
     "data": {
      "text/html": [
       "<div>\n",
       "<style scoped>\n",
       "    .dataframe tbody tr th:only-of-type {\n",
       "        vertical-align: middle;\n",
       "    }\n",
       "\n",
       "    .dataframe tbody tr th {\n",
       "        vertical-align: top;\n",
       "    }\n",
       "\n",
       "    .dataframe thead th {\n",
       "        text-align: right;\n",
       "    }\n",
       "</style>\n",
       "<table border=\"1\" class=\"dataframe\">\n",
       "  <thead>\n",
       "    <tr style=\"text-align: right;\">\n",
       "      <th></th>\n",
       "      <th>age</th>\n",
       "      <th>sex</th>\n",
       "      <th>bmi</th>\n",
       "      <th>children</th>\n",
       "      <th>smoker</th>\n",
       "      <th>region</th>\n",
       "      <th>charges</th>\n",
       "    </tr>\n",
       "  </thead>\n",
       "  <tbody>\n",
       "    <tr>\n",
       "      <th>0</th>\n",
       "      <td>56</td>\n",
       "      <td>female</td>\n",
       "      <td>29.774374</td>\n",
       "      <td>2</td>\n",
       "      <td>yes</td>\n",
       "      <td>southwest</td>\n",
       "      <td>31109.889763</td>\n",
       "    </tr>\n",
       "    <tr>\n",
       "      <th>1</th>\n",
       "      <td>46</td>\n",
       "      <td>male</td>\n",
       "      <td>25.857395</td>\n",
       "      <td>1</td>\n",
       "      <td>no</td>\n",
       "      <td>northeast</td>\n",
       "      <td>26650.702647</td>\n",
       "    </tr>\n",
       "    <tr>\n",
       "      <th>2</th>\n",
       "      <td>32</td>\n",
       "      <td>male</td>\n",
       "      <td>23.014840</td>\n",
       "      <td>0</td>\n",
       "      <td>no</td>\n",
       "      <td>southwest</td>\n",
       "      <td>21459.037990</td>\n",
       "    </tr>\n",
       "    <tr>\n",
       "      <th>3</th>\n",
       "      <td>19</td>\n",
       "      <td>female</td>\n",
       "      <td>27.900000</td>\n",
       "      <td>0</td>\n",
       "      <td>yes</td>\n",
       "      <td>southwest</td>\n",
       "      <td>16884.924000</td>\n",
       "    </tr>\n",
       "    <tr>\n",
       "      <th>4</th>\n",
       "      <td>18</td>\n",
       "      <td>male</td>\n",
       "      <td>33.770000</td>\n",
       "      <td>1</td>\n",
       "      <td>no</td>\n",
       "      <td>southeast</td>\n",
       "      <td>1725.552300</td>\n",
       "    </tr>\n",
       "  </tbody>\n",
       "</table>\n",
       "</div>"
      ],
      "text/plain": [
       "   age     sex        bmi  children smoker     region       charges\n",
       "0   56  female  29.774374         2    yes  southwest  31109.889763\n",
       "1   46    male  25.857395         1     no  northeast  26650.702647\n",
       "2   32    male  23.014840         0     no  southwest  21459.037990\n",
       "3   19  female  27.900000         0    yes  southwest  16884.924000\n",
       "4   18    male  33.770000         1     no  southeast   1725.552300"
      ]
     },
     "execution_count": 369,
     "metadata": {},
     "output_type": "execute_result"
    }
   ],
   "source": [
    "#utilizando o pandas para ler o arquivo csv e colocar no dataframe Dados e fazer um head() para ver a \"aparencia dos dados que serão utilizados\"\n",
    "Dados = pd.read_csv('medical_insurance.csv',sep=',')\n",
    "Dados.head()"
   ]
  },
  {
   "cell_type": "code",
   "execution_count": 370,
   "metadata": {},
   "outputs": [
    {
     "data": {
      "text/plain": [
       "(4113, 7)"
      ]
     },
     "execution_count": 370,
     "metadata": {},
     "output_type": "execute_result"
    }
   ],
   "source": [
    "Dados.shape"
   ]
  },
  {
   "cell_type": "markdown",
   "metadata": {},
   "source": [
    "Este dataframe contém 4113 linhas e 7 colunas. Cada linha representa uma pessoa e as colunas são as seguintes: \n",
    "    - age: idade da pessoa\n",
    "    - sex : sexo da pessoa\n",
    "    - bmi : índice de massa corporal\n",
    "    - children: número de filhos\n",
    "    - smoker: se a pessoa fuma ou não\n",
    "    - region: região em que a pessoa vive\n",
    "    - charges: o valor da seguro médico\n",
    "    \n",
    "O objetivo deste projeto é criar um modelo de machine learning que possa prever o valor da seguro médico de uma pessoa, baseado nas suas características.\n",
    "Se temos acesso ao valor do historico de seguro médico, podemos prever o valor de uma nova pessoa com base nas características dela."
   ]
  },
  {
   "cell_type": "code",
   "execution_count": 371,
   "metadata": {},
   "outputs": [
    {
     "name": "stdout",
     "output_type": "stream",
     "text": [
      "<class 'pandas.core.frame.DataFrame'>\n",
      "RangeIndex: 4113 entries, 0 to 4112\n",
      "Data columns (total 7 columns):\n",
      " #   Column    Non-Null Count  Dtype  \n",
      "---  ------    --------------  -----  \n",
      " 0   age       4113 non-null   int64  \n",
      " 1   sex       4113 non-null   object \n",
      " 2   bmi       4113 non-null   float64\n",
      " 3   children  4113 non-null   int64  \n",
      " 4   smoker    4113 non-null   object \n",
      " 5   region    4113 non-null   object \n",
      " 6   charges   4113 non-null   float64\n",
      "dtypes: float64(2), int64(2), object(3)\n",
      "memory usage: 225.1+ KB\n"
     ]
    }
   ],
   "source": [
    "# Vamos Explorar os dados para saber as informações do dataset\n",
    "Dados.info()"
   ]
  },
  {
   "cell_type": "markdown",
   "metadata": {},
   "source": [
    "Podemos ver que todas as colunas possuem 4113 dados não nulos,que pode nos poupar algum trabalho, o que é bom. Além disso, também podemos avaliar o tipo de dados que o dataset possui.\n",
    "dtypes: float64(2), int64(2), object(3)\n",
    "\n",
    "Antes de fazer quaquer análise, vamos ver se a base de dados possui dados repitidos ou não:"
   ]
  },
  {
   "cell_type": "code",
   "execution_count": 372,
   "metadata": {},
   "outputs": [
    {
     "data": {
      "text/plain": [
       "2773"
      ]
     },
     "execution_count": 372,
     "metadata": {},
     "output_type": "execute_result"
    }
   ],
   "source": [
    "duplicados =Dados.duplicated()\n",
    "duplicados.sum()"
   ]
  },
  {
   "cell_type": "markdown",
   "metadata": {},
   "source": [
    "Com o comando .duplicated() é possivel observar quais são as linhas duplicadas do dataset. No caso, podemos ver que possuimos 2773 linhas duplicadas.\n",
    "\n",
    "Com base nesta informação, utilizaremos o comapndo drop_duplicates() para \"limpar\" a base de dados."
   ]
  },
  {
   "cell_type": "code",
   "execution_count": 373,
   "metadata": {},
   "outputs": [
    {
     "data": {
      "text/html": [
       "<div>\n",
       "<style scoped>\n",
       "    .dataframe tbody tr th:only-of-type {\n",
       "        vertical-align: middle;\n",
       "    }\n",
       "\n",
       "    .dataframe tbody tr th {\n",
       "        vertical-align: top;\n",
       "    }\n",
       "\n",
       "    .dataframe thead th {\n",
       "        text-align: right;\n",
       "    }\n",
       "</style>\n",
       "<table border=\"1\" class=\"dataframe\">\n",
       "  <thead>\n",
       "    <tr style=\"text-align: right;\">\n",
       "      <th></th>\n",
       "      <th>age</th>\n",
       "      <th>sex</th>\n",
       "      <th>bmi</th>\n",
       "      <th>children</th>\n",
       "      <th>smoker</th>\n",
       "      <th>region</th>\n",
       "      <th>charges</th>\n",
       "    </tr>\n",
       "  </thead>\n",
       "  <tbody>\n",
       "    <tr>\n",
       "      <th>0</th>\n",
       "      <td>56</td>\n",
       "      <td>female</td>\n",
       "      <td>29.774374</td>\n",
       "      <td>2</td>\n",
       "      <td>yes</td>\n",
       "      <td>southwest</td>\n",
       "      <td>31109.889763</td>\n",
       "    </tr>\n",
       "    <tr>\n",
       "      <th>1</th>\n",
       "      <td>46</td>\n",
       "      <td>male</td>\n",
       "      <td>25.857395</td>\n",
       "      <td>1</td>\n",
       "      <td>no</td>\n",
       "      <td>northeast</td>\n",
       "      <td>26650.702647</td>\n",
       "    </tr>\n",
       "    <tr>\n",
       "      <th>2</th>\n",
       "      <td>32</td>\n",
       "      <td>male</td>\n",
       "      <td>23.014840</td>\n",
       "      <td>0</td>\n",
       "      <td>no</td>\n",
       "      <td>southwest</td>\n",
       "      <td>21459.037990</td>\n",
       "    </tr>\n",
       "    <tr>\n",
       "      <th>2775</th>\n",
       "      <td>19</td>\n",
       "      <td>female</td>\n",
       "      <td>27.900000</td>\n",
       "      <td>0</td>\n",
       "      <td>yes</td>\n",
       "      <td>southwest</td>\n",
       "      <td>16884.924000</td>\n",
       "    </tr>\n",
       "    <tr>\n",
       "      <th>2776</th>\n",
       "      <td>18</td>\n",
       "      <td>male</td>\n",
       "      <td>33.770000</td>\n",
       "      <td>1</td>\n",
       "      <td>no</td>\n",
       "      <td>southeast</td>\n",
       "      <td>1725.552300</td>\n",
       "    </tr>\n",
       "    <tr>\n",
       "      <th>...</th>\n",
       "      <td>...</td>\n",
       "      <td>...</td>\n",
       "      <td>...</td>\n",
       "      <td>...</td>\n",
       "      <td>...</td>\n",
       "      <td>...</td>\n",
       "      <td>...</td>\n",
       "    </tr>\n",
       "    <tr>\n",
       "      <th>4108</th>\n",
       "      <td>50</td>\n",
       "      <td>male</td>\n",
       "      <td>30.970000</td>\n",
       "      <td>3</td>\n",
       "      <td>no</td>\n",
       "      <td>northwest</td>\n",
       "      <td>10600.548300</td>\n",
       "    </tr>\n",
       "    <tr>\n",
       "      <th>4109</th>\n",
       "      <td>18</td>\n",
       "      <td>female</td>\n",
       "      <td>31.920000</td>\n",
       "      <td>0</td>\n",
       "      <td>no</td>\n",
       "      <td>northeast</td>\n",
       "      <td>2205.980800</td>\n",
       "    </tr>\n",
       "    <tr>\n",
       "      <th>4110</th>\n",
       "      <td>18</td>\n",
       "      <td>female</td>\n",
       "      <td>36.850000</td>\n",
       "      <td>0</td>\n",
       "      <td>no</td>\n",
       "      <td>southeast</td>\n",
       "      <td>1629.833500</td>\n",
       "    </tr>\n",
       "    <tr>\n",
       "      <th>4111</th>\n",
       "      <td>21</td>\n",
       "      <td>female</td>\n",
       "      <td>25.800000</td>\n",
       "      <td>0</td>\n",
       "      <td>no</td>\n",
       "      <td>southwest</td>\n",
       "      <td>2007.945000</td>\n",
       "    </tr>\n",
       "    <tr>\n",
       "      <th>4112</th>\n",
       "      <td>61</td>\n",
       "      <td>female</td>\n",
       "      <td>29.070000</td>\n",
       "      <td>0</td>\n",
       "      <td>yes</td>\n",
       "      <td>northwest</td>\n",
       "      <td>29141.360300</td>\n",
       "    </tr>\n",
       "  </tbody>\n",
       "</table>\n",
       "<p>1340 rows × 7 columns</p>\n",
       "</div>"
      ],
      "text/plain": [
       "      age     sex        bmi  children smoker     region       charges\n",
       "0      56  female  29.774374         2    yes  southwest  31109.889763\n",
       "1      46    male  25.857395         1     no  northeast  26650.702647\n",
       "2      32    male  23.014840         0     no  southwest  21459.037990\n",
       "2775   19  female  27.900000         0    yes  southwest  16884.924000\n",
       "2776   18    male  33.770000         1     no  southeast   1725.552300\n",
       "...   ...     ...        ...       ...    ...        ...           ...\n",
       "4108   50    male  30.970000         3     no  northwest  10600.548300\n",
       "4109   18  female  31.920000         0     no  northeast   2205.980800\n",
       "4110   18  female  36.850000         0     no  southeast   1629.833500\n",
       "4111   21  female  25.800000         0     no  southwest   2007.945000\n",
       "4112   61  female  29.070000         0    yes  northwest  29141.360300\n",
       "\n",
       "[1340 rows x 7 columns]"
      ]
     },
     "execution_count": 373,
     "metadata": {},
     "output_type": "execute_result"
    }
   ],
   "source": [
    "Dados=Dados.drop_duplicates(keep='last')\n",
    "Dados"
   ]
  },
  {
   "cell_type": "markdown",
   "metadata": {},
   "source": [
    "de 4113 linhas originais do dataset, o numero caiu para 1340 lihas apenas. com isso, o dataset ficou muito menor. agora vamos avaliar o dataset de modo estatistico para saber o comportamento dos dados. \n",
    "\n",
    "Primeiro, vamos utilizar o metodo describe, pois ele mostra o numero de valores nulos, media, desvio padrao, minimo, maximo, 25%, 50%, 75%  da distribuiçao dos dados"
   ]
  },
  {
   "cell_type": "code",
   "execution_count": 374,
   "metadata": {},
   "outputs": [
    {
     "data": {
      "text/html": [
       "<div>\n",
       "<style scoped>\n",
       "    .dataframe tbody tr th:only-of-type {\n",
       "        vertical-align: middle;\n",
       "    }\n",
       "\n",
       "    .dataframe tbody tr th {\n",
       "        vertical-align: top;\n",
       "    }\n",
       "\n",
       "    .dataframe thead th {\n",
       "        text-align: right;\n",
       "    }\n",
       "</style>\n",
       "<table border=\"1\" class=\"dataframe\">\n",
       "  <thead>\n",
       "    <tr style=\"text-align: right;\">\n",
       "      <th></th>\n",
       "      <th>age</th>\n",
       "      <th>bmi</th>\n",
       "      <th>children</th>\n",
       "      <th>charges</th>\n",
       "    </tr>\n",
       "  </thead>\n",
       "  <tbody>\n",
       "    <tr>\n",
       "      <th>count</th>\n",
       "      <td>1340.000000</td>\n",
       "      <td>1340.000000</td>\n",
       "      <td>1340.000000</td>\n",
       "      <td>1340.000000</td>\n",
       "    </tr>\n",
       "    <tr>\n",
       "      <th>mean</th>\n",
       "      <td>39.234328</td>\n",
       "      <td>30.653494</td>\n",
       "      <td>1.095522</td>\n",
       "      <td>13308.511237</td>\n",
       "    </tr>\n",
       "    <tr>\n",
       "      <th>std</th>\n",
       "      <td>14.038686</td>\n",
       "      <td>6.098669</td>\n",
       "      <td>1.204849</td>\n",
       "      <td>12114.136459</td>\n",
       "    </tr>\n",
       "    <tr>\n",
       "      <th>min</th>\n",
       "      <td>18.000000</td>\n",
       "      <td>15.960000</td>\n",
       "      <td>0.000000</td>\n",
       "      <td>1121.873900</td>\n",
       "    </tr>\n",
       "    <tr>\n",
       "      <th>25%</th>\n",
       "      <td>27.000000</td>\n",
       "      <td>26.220000</td>\n",
       "      <td>0.000000</td>\n",
       "      <td>4746.875675</td>\n",
       "    </tr>\n",
       "    <tr>\n",
       "      <th>50%</th>\n",
       "      <td>39.000000</td>\n",
       "      <td>30.332500</td>\n",
       "      <td>1.000000</td>\n",
       "      <td>9401.175500</td>\n",
       "    </tr>\n",
       "    <tr>\n",
       "      <th>75%</th>\n",
       "      <td>51.000000</td>\n",
       "      <td>34.681250</td>\n",
       "      <td>2.000000</td>\n",
       "      <td>16818.539955</td>\n",
       "    </tr>\n",
       "    <tr>\n",
       "      <th>max</th>\n",
       "      <td>64.000000</td>\n",
       "      <td>53.130000</td>\n",
       "      <td>5.000000</td>\n",
       "      <td>63770.428010</td>\n",
       "    </tr>\n",
       "  </tbody>\n",
       "</table>\n",
       "</div>"
      ],
      "text/plain": [
       "               age          bmi     children       charges\n",
       "count  1340.000000  1340.000000  1340.000000   1340.000000\n",
       "mean     39.234328    30.653494     1.095522  13308.511237\n",
       "std      14.038686     6.098669     1.204849  12114.136459\n",
       "min      18.000000    15.960000     0.000000   1121.873900\n",
       "25%      27.000000    26.220000     0.000000   4746.875675\n",
       "50%      39.000000    30.332500     1.000000   9401.175500\n",
       "75%      51.000000    34.681250     2.000000  16818.539955\n",
       "max      64.000000    53.130000     5.000000  63770.428010"
      ]
     },
     "execution_count": 374,
     "metadata": {},
     "output_type": "execute_result"
    }
   ],
   "source": [
    "Dados.describe()"
   ]
  },
  {
   "cell_type": "code",
   "execution_count": 375,
   "metadata": {},
   "outputs": [
    {
     "data": {
      "image/png": "[encoded data removed]",
      "text/plain": [
       "<Figure size 640x480 with 2 Axes>"
      ]
     },
     "metadata": {},
     "output_type": "display_data"
    }
   ],
   "source": [
    "fig , (ax_box,ax_hist)= plt.subplots(2,sharex=True,gridspec_kw={\"height_ratios\": (.15,.85)})\n",
    "sb.boxplot(x=Dados['age'],ax=ax_box)\n",
    "ax_box.set(xlabel='')\n",
    "\n",
    "sb.histplot(data=Dados,x='age' ,ax=ax_hist,bins=47,kde=False)\n",
    "ax_hist.set(title='Distribuição da idade')\n",
    "ax_hist.set(xlabel='Idade em anos',ylabel='Numero de repetições')\n",
    "plt.show()"
   ]
  },
  {
   "cell_type": "markdown",
   "metadata": {},
   "source": [
    "No gráfico das idades, podemos ver que a distribuição das idades é praticamente uniforme , com exceção das idades inferiores a 20 anos, que realmente possuem um numero significativamente maior de pessoas.\n",
    "\n",
    "Motivo?? - seguros mais baratos ?????\n",
    "\n"
   ]
  },
  {
   "cell_type": "code",
   "execution_count": 376,
   "metadata": {},
   "outputs": [
    {
     "data": {
      "image/png": "[encoded data removed]",
      "text/plain": [
       "<Figure size 640x480 with 2 Axes>"
      ]
     },
     "metadata": {},
     "output_type": "display_data"
    }
   ],
   "source": [
    "fig , (ax_box,ax_hist)= plt.subplots(2,sharex=True,gridspec_kw={\"height_ratios\": (.15,.85)})\n",
    "sb.boxplot(x=Dados['bmi'],ax=ax_box)\n",
    "ax_box.set(xlabel='')\n",
    "\n",
    "sb.histplot(data=Dados,x='bmi' ,ax=ax_hist,bins=47,kde=False)\n",
    "ax_hist.set(title='Distribuição do Indice de massa corporal')\n",
    "ax_hist.set(xlabel='IMC',ylabel='Numero de repetições')\n",
    "plt.show()"
   ]
  },
  {
   "cell_type": "markdown",
   "metadata": {},
   "source": [
    "Podemos ver que o histograma retorna quase uma distribuição normal (Gaussiana) centrada em um valor proximo a 30, com alguns outliers acima dos 45 de IMC. Agora vamos avaliar o impacto do valor dos fumantes no valor a ser cobrado pelos seguros..."
   ]
  },
  {
   "cell_type": "code",
   "execution_count": 377,
   "metadata": {},
   "outputs": [
    {
     "data": {
      "application/vnd.plotly.v1+json": {
       "config": {
        "plotlyServerURL": "https://plot.ly"
       },
       "data": [
        {
         "alignmentgroup": "True",
         "bingroup": "x",
         "hovertemplate": "smoker=yes<br>charges=%{x}<br>count=%{y}<extra></extra>",
         "legendgroup": "yes",
         "marker": {
          "color": "#636efa",
          "pattern": {
           "shape": ""
          }
         },
         "name": "yes",
         "offsetgroup": "yes",
         "orientation": "v",
         "showlegend": true,
         "type": "histogram",
         "x": [
          31109.889763423336,
          16884.924,
          27808.7251,
          39611.7577,
          36837.467,
          37701.8768,
          38711,
          35585.576,
          51194.55914,
          39774.2763,
          48173.361,
          38709.176,
          23568.272,
          37742.5757,
          47496.49445,
          34303.1672,
          23244.7902,
          14711.7438,
          17663.1442,
          16577.7795,
          37165.1638,
          39836.519,
          21098.55405,
          43578.9394,
          30184.9367,
          47291.055,
          22412.6485,
          15820.699,
          30942.1918,
          17560.37975,
          47055.5321,
          19107.7796,
          39556.4945,
          17081.08,
          32734.1863,
          18972.495,
          20745.9891,
          40720.55105,
          19964.7463,
          21223.6758,
          15518.18025,
          36950.2567,
          21348.706,
          36149.4835,
          48824.45,
          43753.33705,
          37133.8982,
          20984.0936,
          34779.615,
          19515.5416,
          19444.2658,
          17352.6803,
          38511.6283,
          29523.1656,
          12829.4551,
          47305.305,
          44260.7499,
          41097.16175,
          43921.1837,
          33750.2918,
          17085.2676,
          24869.8368,
          36219.40545,
          46151.1245,
          17179.522,
          42856.838,
          22331.5668,
          48549.17835,
          47896.79135,
          42112.2356,
          16297.846,
          21978.6769,
          38746.3551,
          24873.3849,
          42124.5153,
          34838.873,
          35491.64,
          42760.5022,
          47928.03,
          48517.56315,
          24393.6224,
          41919.097,
          13844.506,
          36085.219,
          18033.9679,
          21659.9301,
          38126.2465,
          15006.57945,
          42303.69215,
          19594.80965,
          14455.64405,
          18608.262,
          28950.4692,
          46889.2612,
          46599.1084,
          39125.33225,
          37079.372,
          26109.32905,
          22144.032,
          19521.9682,
          25382.297,
          28868.6639,
          35147.52848,
          48885.13561,
          17942.106,
          36197.699,
          22218.1149,
          32548.3405,
          21082.16,
          38245.59327,
          48675.5177,
          63770.42801,
          23807.2406,
          45863.205,
          39983.42595,
          45702.02235,
          58571.07448,
          43943.8761,
          15359.1045,
          17468.9839,
          25678.77845,
          39241.442,
          42969.8527,
          23306.547,
          34439.8559,
          40182.246,
          34617.84065,
          42983.4585,
          20149.3229,
          32787.45859,
          24667.419,
          27037.9141,
          42560.4304,
          40003.33225,
          45710.20785,
          46200.9851,
          46130.5265,
          40103.89,
          34806.4677,
          40273.6455,
          44400.4064,
          40932.4295,
          16657.71745,
          19361.9988,
          40419.0191,
          36189.1017,
          44585.45587,
          18246.4955,
          43254.41795,
          19539.243,
          23065.4207,
          36307.7983,
          19040.876,
          17748.5062,
          18259.216,
          24520.264,
          21195.818,
          18310.742,
          17904.52705,
          38792.6856,
          23401.30575,
          55135.40209,
          43813.8661,
          20773.62775,
          39597.4072,
          36021.0112,
          27533.9129,
          45008.9555,
          37270.1512,
          42111.6647,
          24106.91255,
          40974.1649,
          15817.9857,
          46113.511,
          46255.1125,
          19719.6947,
          27218.43725,
          29330.98315,
          44202.6536,
          19798.05455,
          48673.5588,
          17496.306,
          33732.6867,
          21774.32215,
          35069.37452,
          39047.285,
          19933.458,
          47462.894,
          38998.546,
          20009.63365,
          41999.52,
          41034.2214,
          23967.38305,
          16138.76205,
          19199.944,
          14571.8908,
          16420.49455,
          17361.7661,
          34472.841,
          24915.22085,
          18767.7377,
          35595.5898,
          42211.1382,
          16450.8947,
          21677.28345,
          44423.803,
          13747.87235,
          37484.4493,
          39725.51805,
          20234.85475,
          33475.81715,
          21880.82,
          44501.3982,
          39727.614,
          25309.489,
          48970.2476,
          39871.7043,
          34672.1472,
          19023.26,
          41676.0811,
          33907.548,
          44641.1974,
          16776.30405,
          41949.2441,
          24180.9335,
          36124.5737,
          38282.7495,
          34166.273,
          46661.4424,
          40904.1995,
          36898.73308,
          52590.82939,
          40941.2854,
          39722.7462,
          17178.6824,
          22478.6,
          23887.6627,
          19350.3689,
          18328.2381,
          37465.34375,
          21771.3423,
          33307.5508,
          18223.4512,
          38415.474,
          20296.86345,
          41661.602,
          26125.67477,
          60021.39897,
          20167.33603,
          47269.854,
          49577.6624,
          37607.5277,
          18648.4217,
          16232.847,
          26926.5144,
          34254.05335,
          17043.3414,
          22462.04375,
          24535.69855,
          14283.4594,
          47403.88,
          38344.566,
          34828.654,
          62592.87309,
          46718.16325,
          37829.7242,
          21259.37795,
          16115.3045,
          21472.4788,
          33900.653,
          36397.576,
          18765.87545,
          28101.33305,
          43896.3763,
          29141.3603
         ],
         "xaxis": "x",
         "yaxis": "y"
        },
        {
         "alignmentgroup": "True",
         "hovertemplate": "smoker=yes<br>charges=%{x}<extra></extra>",
         "legendgroup": "yes",
         "marker": {
          "color": "#636efa"
         },
         "name": "yes",
         "notched": true,
         "offsetgroup": "yes",
         "showlegend": false,
         "type": "box",
         "x": [
          31109.889763423336,
          16884.924,
          27808.7251,
          39611.7577,
          36837.467,
          37701.8768,
          38711,
          35585.576,
          51194.55914,
          39774.2763,
          48173.361,
          38709.176,
          23568.272,
          37742.5757,
          47496.49445,
          34303.1672,
          23244.7902,
          14711.7438,
          17663.1442,
          16577.7795,
          37165.1638,
          39836.519,
          21098.55405,
          43578.9394,
          30184.9367,
          47291.055,
          22412.6485,
          15820.699,
          30942.1918,
          17560.37975,
          47055.5321,
          19107.7796,
          39556.4945,
          17081.08,
          32734.1863,
          18972.495,
          20745.9891,
          40720.55105,
          19964.7463,
          21223.6758,
          15518.18025,
          36950.2567,
          21348.706,
          36149.4835,
          48824.45,
          43753.33705,
          37133.8982,
          20984.0936,
          34779.615,
          19515.5416,
          19444.2658,
          17352.6803,
          38511.6283,
          29523.1656,
          12829.4551,
          47305.305,
          44260.7499,
          41097.16175,
          43921.1837,
          33750.2918,
          17085.2676,
          24869.8368,
          36219.40545,
          46151.1245,
          17179.522,
          42856.838,
          22331.5668,
          48549.17835,
          47896.79135,
          42112.2356,
          16297.846,
          21978.6769,
          38746.3551,
          24873.3849,
          42124.5153,
          34838.873,
          35491.64,
          42760.5022,
          47928.03,
          48517.56315,
          24393.6224,
          41919.097,
          13844.506,
          36085.219,
          18033.9679,
          21659.9301,
          38126.2465,
          15006.57945,
          42303.69215,
          19594.80965,
          14455.64405,
          18608.262,
          28950.4692,
          46889.2612,
          46599.1084,
          39125.33225,
          37079.372,
          26109.32905,
          22144.032,
          19521.9682,
          25382.297,
          28868.6639,
          35147.52848,
          48885.13561,
          17942.106,
          36197.699,
          22218.1149,
          32548.3405,
          21082.16,
          38245.59327,
          48675.5177,
          63770.42801,
          23807.2406,
          45863.205,
          39983.42595,
          45702.02235,
          58571.07448,
          43943.8761,
          15359.1045,
          17468.9839,
          25678.77845,
          39241.442,
          42969.8527,
          23306.547,
          34439.8559,
          40182.246,
          34617.84065,
          42983.4585,
          20149.3229,
          32787.45859,
          24667.419,
          27037.9141,
          42560.4304,
          40003.33225,
          45710.20785,
          46200.9851,
          46130.5265,
          40103.89,
          34806.4677,
          40273.6455,
          44400.4064,
          40932.4295,
          16657.71745,
          19361.9988,
          40419.0191,
          36189.1017,
          44585.45587,
          18246.4955,
          43254.41795,
          19539.243,
          23065.4207,
          36307.7983,
          19040.876,
          17748.5062,
          18259.216,
          24520.264,
          21195.818,
          18310.742,
          17904.52705,
          38792.6856,
          23401.30575,
          55135.40209,
          43813.8661,
          20773.62775,
          39597.4072,
          36021.0112,
          27533.9129,
          45008.9555,
          37270.1512,
          42111.6647,
          24106.91255,
          40974.1649,
          15817.9857,
          46113.511,
          46255.1125,
          19719.6947,
          27218.43725,
          29330.98315,
          44202.6536,
          19798.05455,
          48673.5588,
          17496.306,
          33732.6867,
          21774.32215,
          35069.37452,
          39047.285,
          19933.458,
          47462.894,
          38998.546,
          20009.63365,
          41999.52,
          41034.2214,
          23967.38305,
          16138.76205,
          19199.944,
          14571.8908,
          16420.49455,
          17361.7661,
          34472.841,
          24915.22085,
          18767.7377,
          35595.5898,
          42211.1382,
          16450.8947,
          21677.28345,
          44423.803,
          13747.87235,
          37484.4493,
          39725.51805,
          20234.85475,
          33475.81715,
          21880.82,
          44501.3982,
          39727.614,
          25309.489,
          48970.2476,
          39871.7043,
          34672.1472,
          19023.26,
          41676.0811,
          33907.548,
          44641.1974,
          16776.30405,
          41949.2441,
          24180.9335,
          36124.5737,
          38282.7495,
          34166.273,
          46661.4424,
          40904.1995,
          36898.73308,
          52590.82939,
          40941.2854,
          39722.7462,
          17178.6824,
          22478.6,
          23887.6627,
          19350.3689,
          18328.2381,
          37465.34375,
          21771.3423,
          33307.5508,
          18223.4512,
          38415.474,
          20296.86345,
          41661.602,
          26125.67477,
          60021.39897,
          20167.33603,
          47269.854,
          49577.6624,
          37607.5277,
          18648.4217,
          16232.847,
          26926.5144,
          34254.05335,
          17043.3414,
          22462.04375,
          24535.69855,
          14283.4594,
          47403.88,
          38344.566,
          34828.654,
          62592.87309,
          46718.16325,
          37829.7242,
          21259.37795,
          16115.3045,
          21472.4788,
          33900.653,
          36397.576,
          18765.87545,
          28101.33305,
          43896.3763,
          29141.3603
         ],
         "xaxis": "x2",
         "yaxis": "y2"
        },
        {
         "alignmentgroup": "True",
         "bingroup": "x",
         "hovertemplate": "smoker=no<br>charges=%{x}<br>count=%{y}<extra></extra>",
         "legendgroup": "no",
         "marker": {
          "color": "#EF553B",
          "pattern": {
           "shape": ""
          }
         },
         "name": "no",
         "offsetgroup": "no",
         "orientation": "v",
         "showlegend": true,
         "type": "histogram",
         "x": [
          26650.70264664269,
          21459.03799039332,
          1725.5523,
          4449.462,
          21984.47061,
          3866.8552,
          3756.6216,
          8240.5896,
          7281.5056,
          6406.4107,
          28923.13692,
          2721.3208,
          1826.843,
          11090.7178,
          1837.237,
          10797.3362,
          2395.17155,
          10602.385,
          13228.84695,
          4149.736,
          1137.011,
          6203.90175,
          14001.1338,
          14451.83515,
          12268.63225,
          2775.19215,
          2198.18985,
          4687.797,
          13770.0979,
          1625.43375,
          15612.19335,
          2302.3,
          3046.062,
          4949.7587,
          6272.4772,
          6313.759,
          6079.6715,
          20630.28351,
          3393.35635,
          3556.9223,
          12629.8967,
          2211.13075,
          3579.8287,
          8059.6791,
          13607.36875,
          5989.52365,
          8606.2174,
          4504.6624,
          30166.61817,
          4133.64165,
          1743.214,
          14235.072,
          6389.37785,
          5920.1041,
          6799.458,
          11741.726,
          11946.6259,
          7726.854,
          11356.6609,
          3947.4131,
          1532.4697,
          2755.02095,
          6571.02435,
          4441.21315,
          7935.29115,
          11033.6617,
          11073.176,
          8026.6666,
          11082.5772,
          2026.9741,
          10942.13205,
          5729.0053,
          3766.8838,
          12105.32,
          10226.2842,
          6186.127,
          3645.0894,
          21344.8467,
          5003.853,
          2331.519,
          3877.30425,
          2867.1196,
          10825.2537,
          11881.358,
          4646.759,
          2404.7338,
          11488.31695,
          30259.99556,
          11381.3254,
          8601.3293,
          6686.4313,
          7740.337,
          1705.6245,
          2257.47525,
          10115.00885,
          3385.39915,
          9634.538,
          6082.405,
          12815.44495,
          13616.3586,
          11163.568,
          1632.56445,
          2457.21115,
          2155.6815,
          1261.442,
          2045.68525,
          27322.73386,
          2166.732,
          27375.90478,
          3490.5491,
          18157.876,
          5138.2567,
          9877.6077,
          10959.6947,
          1842.519,
          5125.2157,
          7789.635,
          6334.34355,
          7077.1894,
          6948.7008,
          19749.38338,
          10450.552,
          5152.134,
          5028.1466,
          10407.08585,
          4830.63,
          6128.79745,
          2719.27975,
          4827.90495,
          13405.3903,
          8116.68,
          1694.7964,
          5246.047,
          2855.43755,
          6455.86265,
          10436.096,
          8823.279,
          8538.28845,
          11735.87905,
          1631.8212,
          4005.4225,
          7419.4779,
          7731.4271,
          3981.9768,
          5325.651,
          6775.961,
          4922.9159,
          12557.6053,
          4883.866,
          2137.6536,
          12044.342,
          1137.4697,
          5649.715,
          8516.829,
          9644.2525,
          14901.5167,
          2130.6759,
          8871.1517,
          13012.20865,
          7147.105,
          4337.7352,
          11743.299,
          13880.949,
          6610.1097,
          1980.07,
          8162.71625,
          3537.703,
          5002.7827,
          8520.026,
          7371.772,
          10355.641,
          2483.736,
          3392.9768,
          25081.76784,
          5012.471,
          10564.8845,
          5253.524,
          11987.1682,
          2689.4954,
          24227.33724,
          7358.17565,
          9225.2564,
          7443.64305,
          14001.2867,
          1727.785,
          12333.828,
          6710.1919,
          1615.7667,
          4463.2051,
          7152.6714,
          5354.07465,
          35160.13457,
          7196.867,
          24476.47851,
          12648.7034,
          1986.9334,
          1832.094,
          4040.55825,
          4260.744,
          13047.33235,
          5400.9805,
          11520.09985,
          11837.16,
          20462.99766,
          14590.63205,
          7441.053,
          9282.4806,
          1719.4363,
          7265.7025,
          9617.66245,
          2523.1695,
          9715.841,
          2803.69785,
          2150.469,
          12928.7911,
          9855.1314,
          4237.12655,
          11879.10405,
          9625.92,
          7742.1098,
          9432.9253,
          14256.1928,
          25992.82104,
          3172.018,
          20277.80751,
          2156.7518,
          3906.127,
          1704.5681,
          9249.4952,
          6746.7425,
          12265.5069,
          4349.462,
          12646.207,
          19442.3535,
          20177.67113,
          4151.0287,
          11944.59435,
          7749.1564,
          8444.474,
          1737.376,
          8124.4084,
          9722.7695,
          8835.26495,
          10435.06525,
          7421.19455,
          4667.60765,
          4894.7533,
          24671.66334,
          11566.30055,
          2866.091,
          6600.20595,
          3561.8889,
          9144.565,
          13429.0354,
          11658.37915,
          19144.57652,
          13822.803,
          12142.5786,
          13937.6665,
          8232.6388,
          18955.22017,
          13352.0998,
          13217.0945,
          13981.85035,
          10977.2063,
          6184.2994,
          4889.9995,
          8334.45755,
          5478.0368,
          1635.73365,
          11830.6072,
          8932.084,
          3554.203,
          12404.8791,
          14133.03775,
          24603.04837,
          8944.1151,
          9620.3307,
          1837.2819,
          1607.5101,
          10043.249,
          4751.07,
          2597.779,
          3180.5101,
          9778.3472,
          13430.265,
          8017.06115,
          8116.26885,
          3481.868,
          13415.0381,
          12029.2867,
          7639.41745,
          1391.5287,
          16455.70785,
          27000.98473,
          20781.48892,
          5846.9176,
          8302.53565,
          1261.859,
          11856.4115,
          30284.64294,
          3176.8159,
          4618.0799,
          10736.87075,
          2138.0707,
          8964.06055,
          9290.1395,
          9411.005,
          7526.70645,
          8522.003,
          16586.49771,
          14988.432,
          1631.6683,
          9264.797,
          8083.9198,
          14692.66935,
          10269.46,
          3260.199,
          11396.9002,
          4185.0979,
          8539.671,
          6652.5288,
          4074.4537,
          1621.3402,
          5080.096,
          2134.9015,
          7345.7266,
          9140.951,
          14418.2804,
          2727.3951,
          8968.33,
          9788.8659,
          6555.07035,
          7323.734819,
          3167.45585,
          18804.7524,
          23082.95533,
          4906.40965,
          5969.723,
          12638.195,
          4243.59005,
          13919.8229,
          2254.7967,
          5926.846,
          12592.5345,
          2897.3235,
          4738.2682,
          1149.3959,
          28287.89766,
          7345.084,
          12730.9996,
          11454.0215,
          5910.944,
          4762.329,
          7512.267,
          4032.2407,
          1969.614,
          1769.53165,
          4686.3887,
          21797.0004,
          11881.9696,
          11840.77505,
          10601.412,
          7682.67,
          10381.4787,
          15230.32405,
          11165.41765,
          1632.03625,
          13224.693,
          12643.3778,
          23288.9284,
          2201.0971,
          2497.0383,
          2203.47185,
          1744.465,
          20878.78443,
          2534.39375,
          1534.3045,
          1824.2854,
          15555.18875,
          9304.7019,
          1622.1885,
          9880.068,
          9563.029,
          4347.02335,
          12475.3513,
          1253.936,
          10461.9794,
          1748.774,
          24513.09126,
          2196.4732,
          12574.049,
          1967.0227,
          4931.647,
          8027.968,
          8211.1002,
          13470.86,
          6837.3687,
          5974.3847,
          6796.86325,
          2643.2685,
          3077.0955,
          3044.2133,
          11455.28,
          11763.0009,
          2498.4144,
          9361.3268,
          1256.299,
          11362.755,
          27724.28875,
          8413.46305,
          5240.765,
          3857.75925,
          25656.57526,
          3994.1778,
          9866.30485,
          5397.6167,
          11482.63485,
          24059.68019,
          9861.025,
          8342.90875,
          1708.0014,
          14043.4767,
          12925.886,
          19214.70553,
          13831.1152,
          6067.12675,
          5972.378,
          8825.086,
          8233.0975,
          27346.04207,
          6196.448,
          3056.3881,
          13887.204,
          10231.4999,
          3268.84665,
          11538.421,
          3213.62205,
          13390.559,
          3972.9247,
          12957.118,
          11187.6567,
          17878.90068,
          3847.674,
          8334.5896,
          3935.1799,
          1646.4297,
          9193.8385,
          10923.9332,
          2494.022,
          9058.7303,
          2801.2588,
          2128.43105,
          6373.55735,
          7256.7231,
          11552.904,
          3761.292,
          2219.4451,
          4753.6368,
          31620.00106,
          13224.05705,
          12222.8983,
          1664.9996,
          9724.53,
          3206.49135,
          12913.9924,
          1639.5631,
          6356.2707,
          17626.23951,
          1242.816,
          4779.6023,
          3861.20965,
          13635.6379,
          5976.8311,
          11842.442,
          8428.0693,
          2566.4707,
          5709.1644,
          8823.98575,
          7640.3092,
          5594.8455,
          7441.501,
          33471.97189,
          1633.0444,
          9174.13565,
          11070.535,
          16085.1275,
          9283.562,
          3558.62025,
          4435.0942,
          8547.6913,
          6571.544,
          2207.69745,
          6753.038,
          1880.07,
          11658.11505,
          10713.644,
          3659.346,
          9182.17,
          12129.61415,
          3736.4647,
          6748.5912,
          11326.71487,
          11365.952,
          10085.846,
          1977.815,
          3366.6697,
          7173.35995,
          9391.346,
          14410.9321,
          2709.1119,
          24915.04626,
          12949.1554,
          6666.243,
          13143.86485,
          4466.6214,
          18806.14547,
          10141.1362,
          6123.5688,
          8252.2843,
          1712.227,
          12430.95335,
          9800.8882,
          10579.711,
          8280.6227,
          8527.532,
          12244.531,
          3410.324,
          4058.71245,
          26392.26029,
          14394.39815,
          6435.6237,
          22192.43711,
          5148.5526,
          1136.3994,
          8703.456,
          6500.2359,
          4837.5823,
          3943.5954,
          4399.731,
          6185.3208,
          7222.78625,
          12485.8009,
          12363.547,
          10156.7832,
          2585.269,
          1242.26,
          9863.4718,
          4766.022,
          11244.3769,
          7729.64575,
          5438.7491,
          26236.57997,
          2104.1134,
          8068.185,
          2362.22905,
          2352.96845,
          3577.999,
          3201.24515,
          29186.48236,
          10976.24575,
          3500.6123,
          2020.5523,
          9541.69555,
          9504.3103,
          5385.3379,
          8930.93455,
          5375.038,
          10264.4421,
          6113.23105,
          5469.0066,
          1727.54,
          10107.2206,
          8310.83915,
          1984.4533,
          2457.502,
          12146.971,
          9566.9909,
          13112.6048,
          10848.1343,
          12231.6136,
          9875.6804,
          11264.541,
          12979.358,
          1263.249,
          10106.13425,
          6664.68595,
          2217.6012,
          6781.3542,
          10065.413,
          4234.927,
          9447.25035,
          14007.222,
          9583.8933,
          3484.331,
          8604.48365,
          3757.8448,
          8827.2099,
          9910.35985,
          11737.84884,
          1627.28245,
          8556.907,
          3062.50825,
          1906.35825,
          14210.53595,
          11833.7823,
          17128.42608,
          5031.26955,
          7985.815,
          5428.7277,
          3925.7582,
          2416.955,
          3070.8087,
          9095.06825,
          11842.62375,
          8062.764,
          7050.642,
          14319.031,
          6933.24225,
          27941.28758,
          11150.78,
          12797.20962,
          7261.741,
          10560.4917,
          6986.697,
          7448.40395,
          5934.3798,
          9869.8102,
          1146.7966,
          9386.1613,
          4350.5144,
          6414.178,
          12741.16745,
          1917.3184,
          5209.57885,
          13457.9608,
          5662.225,
          1252.407,
          2731.9122,
          7209.4918,
          4266.1658,
          4719.52405,
          11848.141,
          7046.7222,
          14313.8463,
          2103.08,
          1815.8759,
          7731.85785,
          28476.73499,
          2136.88225,
          1131.5066,
          3309.7926,
          9414.92,
          6360.9936,
          11013.7119,
          4428.88785,
          5584.3057,
          1877.9294,
          2842.76075,
          3597.596,
          7445.918,
          2680.9493,
          1621.8827,
          8219.2039,
          12523.6048,
          16069.08475,
          6117.4945,
          13393.756,
          5266.3656,
          4719.73655,
          11743.9341,
          5377.4578,
          7160.3303,
          4402.233,
          11657.7189,
          6402.29135,
          12622.1795,
          1526.312,
          12323.936,
          10072.05505,
          9872.701,
          2438.0552,
          2974.126,
          10601.63225,
          14119.62,
          11729.6795,
          1875.344,
          18218.16139,
          10965.446,
          7151.092,
          12269.68865,
          5458.04645,
          8782.469,
          6600.361,
          1141.4451,
          11576.13,
          13129.60345,
          4391.652,
          8457.818,
          3392.3652,
          5966.8874,
          6849.026,
          8891.1395,
          2690.1138,
          26140.3603,
          6653.7886,
          6282.235,
          6311.952,
          3443.064,
          2789.0574,
          2585.85065,
          4877.98105,
          5272.1758,
          1682.597,
          11945.1327,
          7243.8136,
          10422.91665,
          13555.0049,
          13063.883,
          2221.56445,
          1634.5734,
          2117.33885,
          8688.85885,
          4661.28635,
          8125.7845,
          12644.589,
          4564.19145,
          4846.92015,
          7633.7206,
          15170.069,
          2639.0429,
          14382.70905,
          7626.993,
          5257.50795,
          2473.3341,
          13041.921,
          5245.2269,
          13451.122,
          13462.52,
          5488.262,
          4320.41085,
          6250.435,
          25333.33284,
          2913.569,
          12032.326,
          13470.8044,
          6289.7549,
          2927.0647,
          6238.298,
          10096.97,
          7348.142,
          4673.3922,
          12233.828,
          32108.66282,
          8965.79575,
          2304.0022,
          9487.6442,
          1121.8739,
          9549.5651,
          2217.46915,
          1628.4709,
          12982.8747,
          11674.13,
          7160.094,
          6358.77645,
          11534.87265,
          4527.18295,
          3875.7341,
          12609.88702,
          28468.91901,
          2730.10785,
          3353.284,
          14474.675,
          9500.57305,
          26467.09737,
          4746.344,
          7518.02535,
          3279.86855,
          8596.8278,
          10702.6424,
          4992.3764,
          2527.81865,
          1759.338,
          2322.6218,
          7804.1605,
          2902.9065,
          9704.66805,
          4889.0368,
          25517.11363,
          4500.33925,
          16796.41194,
          4915.05985,
          7624.63,
          8410.04685,
          28340.18885,
          4518.82625,
          3378.91,
          7144.86265,
          10118.424,
          5484.4673,
          7986.47525,
          7418.522,
          13887.9685,
          6551.7501,
          5267.81815,
          1972.95,
          21232.18226,
          8627.5411,
          4433.3877,
          4438.2634,
          23241.47453,
          9957.7216,
          8269.044,
          36580.28216,
          8765.249,
          5383.536,
          12124.9924,
          2709.24395,
          3987.926,
          12495.29085,
          26018.95052,
          8798.593,
          1711.0268,
          8569.8618,
          2020.177,
          21595.38229,
          9850.432,
          6877.9801,
          4137.5227,
          12950.0712,
          12094.478,
          2250.8352,
          22493.65964,
          1704.70015,
          3161.454,
          11394.06555,
          7325.0482,
          3594.17085,
          8023.13545,
          14394.5579,
          9288.0267,
          3353.4703,
          10594.50155,
          8277.523,
          17929.30337,
          2480.9791,
          4462.7218,
          1981.5819,
          11554.2236,
          6548.19505,
          5708.867,
          7045.499,
          8978.1851,
          5757.41345,
          14349.8544,
          10928.849,
          13974.45555,
          1909.52745,
          12096.6512,
          13204.28565,
          4562.8421,
          8551.347,
          2102.2647,
          15161.5344,
          11884.04858,
          4454.40265,
          5855.9025,
          4076.497,
          15019.76005,
          10796.35025,
          11353.2276,
          9748.9106,
          10577.087,
          11286.5387,
          3591.48,
          11299.343,
          4561.1885,
          1674.6323,
          23045.56616,
          3227.1211,
          11253.421,
          3471.4096,
          11363.2832,
          20420.60465,
          10338.9316,
          8988.15875,
          10493.9458,
          2904.088,
          8605.3615,
          11512.405,
          5312.16985,
          2396.0959,
          10807.4863,
          9222.4026,
          5693.4305,
          8347.1643,
          18903.49141,
          14254.6082,
          10214.636,
          5836.5204,
          14358.36437,
          1728.897,
          8582.3023,
          3693.428,
          20709.02034,
          9991.03765,
          19673.33573,
          11085.5868,
          7623.518,
          3176.2877,
          3704.3545,
          9048.0273,
          7954.517,
          27117.99378,
          6338.0756,
          9630.397,
          11289.10925,
          2261.5688,
          10791.96,
          5979.731,
          2203.73595,
          12235.8392,
          5630.45785,
          11015.1747,
          7228.21565,
          14426.07385,
          2459.7201,
          3989.841,
          7727.2532,
          5124.1887,
          18963.17192,
          2200.83085,
          7153.5539,
          5227.98875,
          10982.5013,
          4529.477,
          4670.64,
          6112.35295,
          11093.6229,
          6457.8434,
          4433.9159,
          2154.361,
          6496.886,
          2899.48935,
          7650.77375,
          2850.68375,
          2632.992,
          9447.3824,
          8603.8234,
          13844.7972,
          13126.67745,
          5327.40025,
          13725.47184,
          13019.16105,
          8671.19125,
          4134.08245,
          18838.70366,
          5699.8375,
          6393.60345,
          4934.705,
          6198.7518,
          8733.22925,
          2055.3249,
          9964.06,
          5116.5004,
          36910.60803,
          12347.172,
          5373.36425,
          23563.01618,
          1702.4553,
          10806.839,
          3956.07145,
          12890.05765,
          5415.6612,
          4058.1161,
          7537.1639,
          4718.20355,
          6593.5083,
          8442.667,
          6858.4796,
          4795.6568,
          6640.54485,
          7162.0122,
          10594.2257,
          11938.25595,
          12479.70895,
          11345.519,
          8515.7587,
          2699.56835,
          14449.8544,
          12224.35085,
          6985.50695,
          3238.4357,
          4296.2712,
          3171.6149,
          1135.9407,
          5615.369,
          9101.798,
          6059.173,
          1633.9618,
          1241.565,
          15828.82173,
          4415.1588,
          6474.013,
          11436.73815,
          11305.93455,
          30063.58055,
          10197.7722,
          4544.2348,
          3277.161,
          6770.1925,
          7337.748,
          10370.91255,
          10704.47,
          1880.487,
          8615.3,
          3292.52985,
          3021.80915,
          14478.33015,
          4747.0529,
          10959.33,
          2741.948,
          4357.04365,
          4189.1131,
          8283.6807,
          1720.3537,
          8534.6718,
          3732.6251,
          5472.449,
          7147.4728,
          7133.9025,
          1515.3449,
          9301.89355,
          11931.12525,
          1964.78,
          1708.92575,
          4340.4409,
          5261.46945,
          2710.82855,
          3208.787,
          2464.6188,
          6875.961,
          6940.90985,
          4571.41305,
          4536.259,
          11272.33139,
          1731.677,
          1163.4627,
          19496.71917,
          7201.70085,
          5425.02335,
          12981.3457,
          4239.89265,
          13143.33665,
          7050.0213,
          9377.9047,
          22395.74424,
          10325.206,
          12629.1656,
          10795.93733,
          11411.685,
          10600.5483,
          2205.9808,
          1629.8335,
          2007.945
         ],
         "xaxis": "x",
         "yaxis": "y"
        },
        {
         "alignmentgroup": "True",
         "hovertemplate": "smoker=no<br>charges=%{x}<extra></extra>",
         "legendgroup": "no",
         "marker": {
          "color": "#EF553B"
         },
         "name": "no",
         "notched": true,
         "offsetgroup": "no",
         "showlegend": false,
         "type": "box",
         "x": [
          26650.70264664269,
          21459.03799039332,
          1725.5523,
          4449.462,
          21984.47061,
          3866.8552,
          3756.6216,
          8240.5896,
          7281.5056,
          6406.4107,
          28923.13692,
          2721.3208,
          1826.843,
          11090.7178,
          1837.237,
          10797.3362,
          2395.17155,
          10602.385,
          13228.84695,
          4149.736,
          1137.011,
          6203.90175,
          14001.1338,
          14451.83515,
          12268.63225,
          2775.19215,
          2198.18985,
          4687.797,
          13770.0979,
          1625.43375,
          15612.19335,
          2302.3,
          3046.062,
          4949.7587,
          6272.4772,
          6313.759,
          6079.6715,
          20630.28351,
          3393.35635,
          3556.9223,
          12629.8967,
          2211.13075,
          3579.8287,
          8059.6791,
          13607.36875,
          5989.52365,
          8606.2174,
          4504.6624,
          30166.61817,
          4133.64165,
          1743.214,
          14235.072,
          6389.37785,
          5920.1041,
          6799.458,
          11741.726,
          11946.6259,
          7726.854,
          11356.6609,
          3947.4131,
          1532.4697,
          2755.02095,
          6571.02435,
          4441.21315,
          7935.29115,
          11033.6617,
          11073.176,
          8026.6666,
          11082.5772,
          2026.9741,
          10942.13205,
          5729.0053,
          3766.8838,
          12105.32,
          10226.2842,
          6186.127,
          3645.0894,
          21344.8467,
          5003.853,
          2331.519,
          3877.30425,
          2867.1196,
          10825.2537,
          11881.358,
          4646.759,
          2404.7338,
          11488.31695,
          30259.99556,
          11381.3254,
          8601.3293,
          6686.4313,
          7740.337,
          1705.6245,
          2257.47525,
          10115.00885,
          3385.39915,
          9634.538,
          6082.405,
          12815.44495,
          13616.3586,
          11163.568,
          1632.56445,
          2457.21115,
          2155.6815,
          1261.442,
          2045.68525,
          27322.73386,
          2166.732,
          27375.90478,
          3490.5491,
          18157.876,
          5138.2567,
          9877.6077,
          10959.6947,
          1842.519,
          5125.2157,
          7789.635,
          6334.34355,
          7077.1894,
          6948.7008,
          19749.38338,
          10450.552,
          5152.134,
          5028.1466,
          10407.08585,
          4830.63,
          6128.79745,
          2719.27975,
          4827.90495,
          13405.3903,
          8116.68,
          1694.7964,
          5246.047,
          2855.43755,
          6455.86265,
          10436.096,
          8823.279,
          8538.28845,
          11735.87905,
          1631.8212,
          4005.4225,
          7419.4779,
          7731.4271,
          3981.9768,
          5325.651,
          6775.961,
          4922.9159,
          12557.6053,
          4883.866,
          2137.6536,
          12044.342,
          1137.4697,
          5649.715,
          8516.829,
          9644.2525,
          14901.5167,
          2130.6759,
          8871.1517,
          13012.20865,
          7147.105,
          4337.7352,
          11743.299,
          13880.949,
          6610.1097,
          1980.07,
          8162.71625,
          3537.703,
          5002.7827,
          8520.026,
          7371.772,
          10355.641,
          2483.736,
          3392.9768,
          25081.76784,
          5012.471,
          10564.8845,
          5253.524,
          11987.1682,
          2689.4954,
          24227.33724,
          7358.17565,
          9225.2564,
          7443.64305,
          14001.2867,
          1727.785,
          12333.828,
          6710.1919,
          1615.7667,
          4463.2051,
          7152.6714,
          5354.07465,
          35160.13457,
          7196.867,
          24476.47851,
          12648.7034,
          1986.9334,
          1832.094,
          4040.55825,
          4260.744,
          13047.33235,
          5400.9805,
          11520.09985,
          11837.16,
          20462.99766,
          14590.63205,
          7441.053,
          9282.4806,
          1719.4363,
          7265.7025,
          9617.66245,
          2523.1695,
          9715.841,
          2803.69785,
          2150.469,
          12928.7911,
          9855.1314,
          4237.12655,
          11879.10405,
          9625.92,
          7742.1098,
          9432.9253,
          14256.1928,
          25992.82104,
          3172.018,
          20277.80751,
          2156.7518,
          3906.127,
          1704.5681,
          9249.4952,
          6746.7425,
          12265.5069,
          4349.462,
          12646.207,
          19442.3535,
          20177.67113,
          4151.0287,
          11944.59435,
          7749.1564,
          8444.474,
          1737.376,
          8124.4084,
          9722.7695,
          8835.26495,
          10435.06525,
          7421.19455,
          4667.60765,
          4894.7533,
          24671.66334,
          11566.30055,
          2866.091,
          6600.20595,
          3561.8889,
          9144.565,
          13429.0354,
          11658.37915,
          19144.57652,
          13822.803,
          12142.5786,
          13937.6665,
          8232.6388,
          18955.22017,
          13352.0998,
          13217.0945,
          13981.85035,
          10977.2063,
          6184.2994,
          4889.9995,
          8334.45755,
          5478.0368,
          1635.73365,
          11830.6072,
          8932.084,
          3554.203,
          12404.8791,
          14133.03775,
          24603.04837,
          8944.1151,
          9620.3307,
          1837.2819,
          1607.5101,
          10043.249,
          4751.07,
          2597.779,
          3180.5101,
          9778.3472,
          13430.265,
          8017.06115,
          8116.26885,
          3481.868,
          13415.0381,
          12029.2867,
          7639.41745,
          1391.5287,
          16455.70785,
          27000.98473,
          20781.48892,
          5846.9176,
          8302.53565,
          1261.859,
          11856.4115,
          30284.64294,
          3176.8159,
          4618.0799,
          10736.87075,
          2138.0707,
          8964.06055,
          9290.1395,
          9411.005,
          7526.70645,
          8522.003,
          16586.49771,
          14988.432,
          1631.6683,
          9264.797,
          8083.9198,
          14692.66935,
          10269.46,
          3260.199,
          11396.9002,
          4185.0979,
          8539.671,
          6652.5288,
          4074.4537,
          1621.3402,
          5080.096,
          2134.9015,
          7345.7266,
          9140.951,
          14418.2804,
          2727.3951,
          8968.33,
          9788.8659,
          6555.07035,
          7323.734819,
          3167.45585,
          18804.7524,
          23082.95533,
          4906.40965,
          5969.723,
          12638.195,
          4243.59005,
          13919.8229,
          2254.7967,
          5926.846,
          12592.5345,
          2897.3235,
          4738.2682,
          1149.3959,
          28287.89766,
          7345.084,
          12730.9996,
          11454.0215,
          5910.944,
          4762.329,
          7512.267,
          4032.2407,
          1969.614,
          1769.53165,
          4686.3887,
          21797.0004,
          11881.9696,
          11840.77505,
          10601.412,
          7682.67,
          10381.4787,
          15230.32405,
          11165.41765,
          1632.03625,
          13224.693,
          12643.3778,
          23288.9284,
          2201.0971,
          2497.0383,
          2203.47185,
          1744.465,
          20878.78443,
          2534.39375,
          1534.3045,
          1824.2854,
          15555.18875,
          9304.7019,
          1622.1885,
          9880.068,
          9563.029,
          4347.02335,
          12475.3513,
          1253.936,
          10461.9794,
          1748.774,
          24513.09126,
          2196.4732,
          12574.049,
          1967.0227,
          4931.647,
          8027.968,
          8211.1002,
          13470.86,
          6837.3687,
          5974.3847,
          6796.86325,
          2643.2685,
          3077.0955,
          3044.2133,
          11455.28,
          11763.0009,
          2498.4144,
          9361.3268,
          1256.299,
          11362.755,
          27724.28875,
          8413.46305,
          5240.765,
          3857.75925,
          25656.57526,
          3994.1778,
          9866.30485,
          5397.6167,
          11482.63485,
          24059.68019,
          9861.025,
          8342.90875,
          1708.0014,
          14043.4767,
          12925.886,
          19214.70553,
          13831.1152,
          6067.12675,
          5972.378,
          8825.086,
          8233.0975,
          27346.04207,
          6196.448,
          3056.3881,
          13887.204,
          10231.4999,
          3268.84665,
          11538.421,
          3213.62205,
          13390.559,
          3972.9247,
          12957.118,
          11187.6567,
          17878.90068,
          3847.674,
          8334.5896,
          3935.1799,
          1646.4297,
          9193.8385,
          10923.9332,
          2494.022,
          9058.7303,
          2801.2588,
          2128.43105,
          6373.55735,
          7256.7231,
          11552.904,
          3761.292,
          2219.4451,
          4753.6368,
          31620.00106,
          13224.05705,
          12222.8983,
          1664.9996,
          9724.53,
          3206.49135,
          12913.9924,
          1639.5631,
          6356.2707,
          17626.23951,
          1242.816,
          4779.6023,
          3861.20965,
          13635.6379,
          5976.8311,
          11842.442,
          8428.0693,
          2566.4707,
          5709.1644,
          8823.98575,
          7640.3092,
          5594.8455,
          7441.501,
          33471.97189,
          1633.0444,
          9174.13565,
          11070.535,
          16085.1275,
          9283.562,
          3558.62025,
          4435.0942,
          8547.6913,
          6571.544,
          2207.69745,
          6753.038,
          1880.07,
          11658.11505,
          10713.644,
          3659.346,
          9182.17,
          12129.61415,
          3736.4647,
          6748.5912,
          11326.71487,
          11365.952,
          10085.846,
          1977.815,
          3366.6697,
          7173.35995,
          9391.346,
          14410.9321,
          2709.1119,
          24915.04626,
          12949.1554,
          6666.243,
          13143.86485,
          4466.6214,
          18806.14547,
          10141.1362,
          6123.5688,
          8252.2843,
          1712.227,
          12430.95335,
          9800.8882,
          10579.711,
          8280.6227,
          8527.532,
          12244.531,
          3410.324,
          4058.71245,
          26392.26029,
          14394.39815,
          6435.6237,
          22192.43711,
          5148.5526,
          1136.3994,
          8703.456,
          6500.2359,
          4837.5823,
          3943.5954,
          4399.731,
          6185.3208,
          7222.78625,
          12485.8009,
          12363.547,
          10156.7832,
          2585.269,
          1242.26,
          9863.4718,
          4766.022,
          11244.3769,
          7729.64575,
          5438.7491,
          26236.57997,
          2104.1134,
          8068.185,
          2362.22905,
          2352.96845,
          3577.999,
          3201.24515,
          29186.48236,
          10976.24575,
          3500.6123,
          2020.5523,
          9541.69555,
          9504.3103,
          5385.3379,
          8930.93455,
          5375.038,
          10264.4421,
          6113.23105,
          5469.0066,
          1727.54,
          10107.2206,
          8310.83915,
          1984.4533,
          2457.502,
          12146.971,
          9566.9909,
          13112.6048,
          10848.1343,
          12231.6136,
          9875.6804,
          11264.541,
          12979.358,
          1263.249,
          10106.13425,
          6664.68595,
          2217.6012,
          6781.3542,
          10065.413,
          4234.927,
          9447.25035,
          14007.222,
          9583.8933,
          3484.331,
          8604.48365,
          3757.8448,
          8827.2099,
          9910.35985,
          11737.84884,
          1627.28245,
          8556.907,
          3062.50825,
          1906.35825,
          14210.53595,
          11833.7823,
          17128.42608,
          5031.26955,
          7985.815,
          5428.7277,
          3925.7582,
          2416.955,
          3070.8087,
          9095.06825,
          11842.62375,
          8062.764,
          7050.642,
          14319.031,
          6933.24225,
          27941.28758,
          11150.78,
          12797.20962,
          7261.741,
          10560.4917,
          6986.697,
          7448.40395,
          5934.3798,
          9869.8102,
          1146.7966,
          9386.1613,
          4350.5144,
          6414.178,
          12741.16745,
          1917.3184,
          5209.57885,
          13457.9608,
          5662.225,
          1252.407,
          2731.9122,
          7209.4918,
          4266.1658,
          4719.52405,
          11848.141,
          7046.7222,
          14313.8463,
          2103.08,
          1815.8759,
          7731.85785,
          28476.73499,
          2136.88225,
          1131.5066,
          3309.7926,
          9414.92,
          6360.9936,
          11013.7119,
          4428.88785,
          5584.3057,
          1877.9294,
          2842.76075,
          3597.596,
          7445.918,
          2680.9493,
          1621.8827,
          8219.2039,
          12523.6048,
          16069.08475,
          6117.4945,
          13393.756,
          5266.3656,
          4719.73655,
          11743.9341,
          5377.4578,
          7160.3303,
          4402.233,
          11657.7189,
          6402.29135,
          12622.1795,
          1526.312,
          12323.936,
          10072.05505,
          9872.701,
          2438.0552,
          2974.126,
          10601.63225,
          14119.62,
          11729.6795,
          1875.344,
          18218.16139,
          10965.446,
          7151.092,
          12269.68865,
          5458.04645,
          8782.469,
          6600.361,
          1141.4451,
          11576.13,
          13129.60345,
          4391.652,
          8457.818,
          3392.3652,
          5966.8874,
          6849.026,
          8891.1395,
          2690.1138,
          26140.3603,
          6653.7886,
          6282.235,
          6311.952,
          3443.064,
          2789.0574,
          2585.85065,
          4877.98105,
          5272.1758,
          1682.597,
          11945.1327,
          7243.8136,
          10422.91665,
          13555.0049,
          13063.883,
          2221.56445,
          1634.5734,
          2117.33885,
          8688.85885,
          4661.28635,
          8125.7845,
          12644.589,
          4564.19145,
          4846.92015,
          7633.7206,
          15170.069,
          2639.0429,
          14382.70905,
          7626.993,
          5257.50795,
          2473.3341,
          13041.921,
          5245.2269,
          13451.122,
          13462.52,
          5488.262,
          4320.41085,
          6250.435,
          25333.33284,
          2913.569,
          12032.326,
          13470.8044,
          6289.7549,
          2927.0647,
          6238.298,
          10096.97,
          7348.142,
          4673.3922,
          12233.828,
          32108.66282,
          8965.79575,
          2304.0022,
          9487.6442,
          1121.8739,
          9549.5651,
          2217.46915,
          1628.4709,
          12982.8747,
          11674.13,
          7160.094,
          6358.77645,
          11534.87265,
          4527.18295,
          3875.7341,
          12609.88702,
          28468.91901,
          2730.10785,
          3353.284,
          14474.675,
          9500.57305,
          26467.09737,
          4746.344,
          7518.02535,
          3279.86855,
          8596.8278,
          10702.6424,
          4992.3764,
          2527.81865,
          1759.338,
          2322.6218,
          7804.1605,
          2902.9065,
          9704.66805,
          4889.0368,
          25517.11363,
          4500.33925,
          16796.41194,
          4915.05985,
          7624.63,
          8410.04685,
          28340.18885,
          4518.82625,
          3378.91,
          7144.86265,
          10118.424,
          5484.4673,
          7986.47525,
          7418.522,
          13887.9685,
          6551.7501,
          5267.81815,
          1972.95,
          21232.18226,
          8627.5411,
          4433.3877,
          4438.2634,
          23241.47453,
          9957.7216,
          8269.044,
          36580.28216,
          8765.249,
          5383.536,
          12124.9924,
          2709.24395,
          3987.926,
          12495.29085,
          26018.95052,
          8798.593,
          1711.0268,
          8569.8618,
          2020.177,
          21595.38229,
          9850.432,
          6877.9801,
          4137.5227,
          12950.0712,
          12094.478,
          2250.8352,
          22493.65964,
          1704.70015,
          3161.454,
          11394.06555,
          7325.0482,
          3594.17085,
          8023.13545,
          14394.5579,
          9288.0267,
          3353.4703,
          10594.50155,
          8277.523,
          17929.30337,
          2480.9791,
          4462.7218,
          1981.5819,
          11554.2236,
          6548.19505,
          5708.867,
          7045.499,
          8978.1851,
          5757.41345,
          14349.8544,
          10928.849,
          13974.45555,
          1909.52745,
          12096.6512,
          13204.28565,
          4562.8421,
          8551.347,
          2102.2647,
          15161.5344,
          11884.04858,
          4454.40265,
          5855.9025,
          4076.497,
          15019.76005,
          10796.35025,
          11353.2276,
          9748.9106,
          10577.087,
          11286.5387,
          3591.48,
          11299.343,
          4561.1885,
          1674.6323,
          23045.56616,
          3227.1211,
          11253.421,
          3471.4096,
          11363.2832,
          20420.60465,
          10338.9316,
          8988.15875,
          10493.9458,
          2904.088,
          8605.3615,
          11512.405,
          5312.16985,
          2396.0959,
          10807.4863,
          9222.4026,
          5693.4305,
          8347.1643,
          18903.49141,
          14254.6082,
          10214.636,
          5836.5204,
          14358.36437,
          1728.897,
          8582.3023,
          3693.428,
          20709.02034,
          9991.03765,
          19673.33573,
          11085.5868,
          7623.518,
          3176.2877,
          3704.3545,
          9048.0273,
          7954.517,
          27117.99378,
          6338.0756,
          9630.397,
          11289.10925,
          2261.5688,
          10791.96,
          5979.731,
          2203.73595,
          12235.8392,
          5630.45785,
          11015.1747,
          7228.21565,
          14426.07385,
          2459.7201,
          3989.841,
          7727.2532,
          5124.1887,
          18963.17192,
          2200.83085,
          7153.5539,
          5227.98875,
          10982.5013,
          4529.477,
          4670.64,
          6112.35295,
          11093.6229,
          6457.8434,
          4433.9159,
          2154.361,
          6496.886,
          2899.48935,
          7650.77375,
          2850.68375,
          2632.992,
          9447.3824,
          8603.8234,
          13844.7972,
          13126.67745,
          5327.40025,
          13725.47184,
          13019.16105,
          8671.19125,
          4134.08245,
          18838.70366,
          5699.8375,
          6393.60345,
          4934.705,
          6198.7518,
          8733.22925,
          2055.3249,
          9964.06,
          5116.5004,
          36910.60803,
          12347.172,
          5373.36425,
          23563.01618,
          1702.4553,
          10806.839,
          3956.07145,
          12890.05765,
          5415.6612,
          4058.1161,
          7537.1639,
          4718.20355,
          6593.5083,
          8442.667,
          6858.4796,
          4795.6568,
          6640.54485,
          7162.0122,
          10594.2257,
          11938.25595,
          12479.70895,
          11345.519,
          8515.7587,
          2699.56835,
          14449.8544,
          12224.35085,
          6985.50695,
          3238.4357,
          4296.2712,
          3171.6149,
          1135.9407,
          5615.369,
          9101.798,
          6059.173,
          1633.9618,
          1241.565,
          15828.82173,
          4415.1588,
          6474.013,
          11436.73815,
          11305.93455,
          30063.58055,
          10197.7722,
          4544.2348,
          3277.161,
          6770.1925,
          7337.748,
          10370.91255,
          10704.47,
          1880.487,
          8615.3,
          3292.52985,
          3021.80915,
          14478.33015,
          4747.0529,
          10959.33,
          2741.948,
          4357.04365,
          4189.1131,
          8283.6807,
          1720.3537,
          8534.6718,
          3732.6251,
          5472.449,
          7147.4728,
          7133.9025,
          1515.3449,
          9301.89355,
          11931.12525,
          1964.78,
          1708.92575,
          4340.4409,
          5261.46945,
          2710.82855,
          3208.787,
          2464.6188,
          6875.961,
          6940.90985,
          4571.41305,
          4536.259,
          11272.33139,
          1731.677,
          1163.4627,
          19496.71917,
          7201.70085,
          5425.02335,
          12981.3457,
          4239.89265,
          13143.33665,
          7050.0213,
          9377.9047,
          22395.74424,
          10325.206,
          12629.1656,
          10795.93733,
          11411.685,
          10600.5483,
          2205.9808,
          1629.8335,
          2007.945
         ],
         "xaxis": "x2",
         "yaxis": "y2"
        }
       ],
       "layout": {
        "bargap": 0.2,
        "barmode": "relative",
        "legend": {
         "title": {
          "text": "smoker"
         },
         "tracegroupgap": 0
        },
        "margin": {
         "t": 60
        },
        "template": {
         "data": {
          "bar": [
           {
            "error_x": {
             "color": "#2a3f5f"
            },
            "error_y": {
             "color": "#2a3f5f"
            },
            "marker": {
             "line": {
              "color": "#E5ECF6",
              "width": 0.5
             },
             "pattern": {
              "fillmode": "overlay",
              "size": 10,
              "solidity": 0.2
             }
            },
            "type": "bar"
           }
          ],
          "barpolar": [
           {
            "marker": {
             "line": {
              "color": "#E5ECF6",
              "width": 0.5
             },
             "pattern": {
              "fillmode": "overlay",
              "size": 10,
              "solidity": 0.2
             }
            },
            "type": "barpolar"
           }
          ],
          "carpet": [
           {
            "aaxis": {
             "endlinecolor": "#2a3f5f",
             "gridcolor": "white",
             "linecolor": "white",
             "minorgridcolor": "white",
             "startlinecolor": "#2a3f5f"
            },
            "baxis": {
             "endlinecolor": "#2a3f5f",
             "gridcolor": "white",
             "linecolor": "white",
             "minorgridcolor": "white",
             "startlinecolor": "#2a3f5f"
            },
            "type": "carpet"
           }
          ],
          "choropleth": [
           {
            "colorbar": {
             "outlinewidth": 0,
             "ticks": ""
            },
            "type": "choropleth"
           }
          ],
          "contour": [
           {
            "colorbar": {
             "outlinewidth": 0,
             "ticks": ""
            },
            "colorscale": [
             [
              0,
              "#0d0887"
             ],
             [
              0.1111111111111111,
              "#46039f"
             ],
             [
              0.2222222222222222,
              "#7201a8"
             ],
             [
              0.3333333333333333,
              "#9c179e"
             ],
             [
              0.4444444444444444,
              "#bd3786"
             ],
             [
              0.5555555555555556,
              "#d8576b"
             ],
             [
              0.6666666666666666,
              "#ed7953"
             ],
             [
              0.7777777777777778,
              "#fb9f3a"
             ],
             [
              0.8888888888888888,
              "#fdca26"
             ],
             [
              1,
              "#f0f921"
             ]
            ],
            "type": "contour"
           }
          ],
          "contourcarpet": [
           {
            "colorbar": {
             "outlinewidth": 0,
             "ticks": ""
            },
            "type": "contourcarpet"
           }
          ],
          "heatmap": [
           {
            "colorbar": {
             "outlinewidth": 0,
             "ticks": ""
            },
            "colorscale": [
             [
              0,
              "#0d0887"
             ],
             [
              0.1111111111111111,
              "#46039f"
             ],
             [
              0.2222222222222222,
              "#7201a8"
             ],
             [
              0.3333333333333333,
              "#9c179e"
             ],
             [
              0.4444444444444444,
              "#bd3786"
             ],
             [
              0.5555555555555556,
              "#d8576b"
             ],
             [
              0.6666666666666666,
              "#ed7953"
             ],
             [
              0.7777777777777778,
              "#fb9f3a"
             ],
             [
              0.8888888888888888,
              "#fdca26"
             ],
             [
              1,
              "#f0f921"
             ]
            ],
            "type": "heatmap"
           }
          ],
          "heatmapgl": [
           {
            "colorbar": {
             "outlinewidth": 0,
             "ticks": ""
            },
            "colorscale": [
             [
              0,
              "#0d0887"
             ],
             [
              0.1111111111111111,
              "#46039f"
             ],
             [
              0.2222222222222222,
              "#7201a8"
             ],
             [
              0.3333333333333333,
              "#9c179e"
             ],
             [
              0.4444444444444444,
              "#bd3786"
             ],
             [
              0.5555555555555556,
              "#d8576b"
             ],
             [
              0.6666666666666666,
              "#ed7953"
             ],
             [
              0.7777777777777778,
              "#fb9f3a"
             ],
             [
              0.8888888888888888,
              "#fdca26"
             ],
             [
              1,
              "#f0f921"
             ]
            ],
            "type": "heatmapgl"
           }
          ],
          "histogram": [
           {
            "marker": {
             "pattern": {
              "fillmode": "overlay",
              "size": 10,
              "solidity": 0.2
             }
            },
            "type": "histogram"
           }
          ],
          "histogram2d": [
           {
            "colorbar": {
             "outlinewidth": 0,
             "ticks": ""
            },
            "colorscale": [
             [
              0,
              "#0d0887"
             ],
             [
              0.1111111111111111,
              "#46039f"
             ],
             [
              0.2222222222222222,
              "#7201a8"
             ],
             [
              0.3333333333333333,
              "#9c179e"
             ],
             [
              0.4444444444444444,
              "#bd3786"
             ],
             [
              0.5555555555555556,
              "#d8576b"
             ],
             [
              0.6666666666666666,
              "#ed7953"
             ],
             [
              0.7777777777777778,
              "#fb9f3a"
             ],
             [
              0.8888888888888888,
              "#fdca26"
             ],
             [
              1,
              "#f0f921"
             ]
            ],
            "type": "histogram2d"
           }
          ],
          "histogram2dcontour": [
           {
            "colorbar": {
             "outlinewidth": 0,
             "ticks": ""
            },
            "colorscale": [
             [
              0,
              "#0d0887"
             ],
             [
              0.1111111111111111,
              "#46039f"
             ],
             [
              0.2222222222222222,
              "#7201a8"
             ],
             [
              0.3333333333333333,
              "#9c179e"
             ],
             [
              0.4444444444444444,
              "#bd3786"
             ],
             [
              0.5555555555555556,
              "#d8576b"
             ],
             [
              0.6666666666666666,
              "#ed7953"
             ],
             [
              0.7777777777777778,
              "#fb9f3a"
             ],
             [
              0.8888888888888888,
              "#fdca26"
             ],
             [
              1,
              "#f0f921"
             ]
            ],
            "type": "histogram2dcontour"
           }
          ],
          "mesh3d": [
           {
            "colorbar": {
             "outlinewidth": 0,
             "ticks": ""
            },
            "type": "mesh3d"
           }
          ],
          "parcoords": [
           {
            "line": {
             "colorbar": {
              "outlinewidth": 0,
              "ticks": ""
             }
            },
            "type": "parcoords"
           }
          ],
          "pie": [
           {
            "automargin": true,
            "type": "pie"
           }
          ],
          "scatter": [
           {
            "fillpattern": {
             "fillmode": "overlay",
             "size": 10,
             "solidity": 0.2
            },
            "type": "scatter"
           }
          ],
          "scatter3d": [
           {
            "line": {
             "colorbar": {
              "outlinewidth": 0,
              "ticks": ""
             }
            },
            "marker": {
             "colorbar": {
              "outlinewidth": 0,
              "ticks": ""
             }
            },
            "type": "scatter3d"
           }
          ],
          "scattercarpet": [
           {
            "marker": {
             "colorbar": {
              "outlinewidth": 0,
              "ticks": ""
             }
            },
            "type": "scattercarpet"
           }
          ],
          "scattergeo": [
           {
            "marker": {
             "colorbar": {
              "outlinewidth": 0,
              "ticks": ""
             }
            },
            "type": "scattergeo"
           }
          ],
          "scattergl": [
           {
            "marker": {
             "colorbar": {
              "outlinewidth": 0,
              "ticks": ""
             }
            },
            "type": "scattergl"
           }
          ],
          "scattermapbox": [
           {
            "marker": {
             "colorbar": {
              "outlinewidth": 0,
              "ticks": ""
             }
            },
            "type": "scattermapbox"
           }
          ],
          "scatterpolar": [
           {
            "marker": {
             "colorbar": {
              "outlinewidth": 0,
              "ticks": ""
             }
            },
            "type": "scatterpolar"
           }
          ],
          "scatterpolargl": [
           {
            "marker": {
             "colorbar": {
              "outlinewidth": 0,
              "ticks": ""
             }
            },
            "type": "scatterpolargl"
           }
          ],
          "scatterternary": [
           {
            "marker": {
             "colorbar": {
              "outlinewidth": 0,
              "ticks": ""
             }
            },
            "type": "scatterternary"
           }
          ],
          "surface": [
           {
            "colorbar": {
             "outlinewidth": 0,
             "ticks": ""
            },
            "colorscale": [
             [
              0,
              "#0d0887"
             ],
             [
              0.1111111111111111,
              "#46039f"
             ],
             [
              0.2222222222222222,
              "#7201a8"
             ],
             [
              0.3333333333333333,
              "#9c179e"
             ],
             [
              0.4444444444444444,
              "#bd3786"
             ],
             [
              0.5555555555555556,
              "#d8576b"
             ],
             [
              0.6666666666666666,
              "#ed7953"
             ],
             [
              0.7777777777777778,
              "#fb9f3a"
             ],
             [
              0.8888888888888888,
              "#fdca26"
             ],
             [
              1,
              "#f0f921"
             ]
            ],
            "type": "surface"
           }
          ],
          "table": [
           {
            "cells": {
             "fill": {
              "color": "#EBF0F8"
             },
             "line": {
              "color": "white"
             }
            },
            "header": {
             "fill": {
              "color": "#C8D4E3"
             },
             "line": {
              "color": "white"
             }
            },
            "type": "table"
           }
          ]
         },
         "layout": {
          "annotationdefaults": {
           "arrowcolor": "#2a3f5f",
           "arrowhead": 0,
           "arrowwidth": 1
          },
          "autotypenumbers": "strict",
          "coloraxis": {
           "colorbar": {
            "outlinewidth": 0,
            "ticks": ""
           }
          },
          "colorscale": {
           "diverging": [
            [
             0,
             "#8e0152"
            ],
            [
             0.1,
             "#c51b7d"
            ],
            [
             0.2,
             "#de77ae"
            ],
            [
             0.3,
             "#f1b6da"
            ],
            [
             0.4,
             "#fde0ef"
            ],
            [
             0.5,
             "#f7f7f7"
            ],
            [
             0.6,
             "#e6f5d0"
            ],
            [
             0.7,
             "#b8e186"
            ],
            [
             0.8,
             "#7fbc41"
            ],
            [
             0.9,
             "#4d9221"
            ],
            [
             1,
             "#276419"
            ]
           ],
           "sequential": [
            [
             0,
             "#0d0887"
            ],
            [
             0.1111111111111111,
             "#46039f"
            ],
            [
             0.2222222222222222,
             "#7201a8"
            ],
            [
             0.3333333333333333,
             "#9c179e"
            ],
            [
             0.4444444444444444,
             "#bd3786"
            ],
            [
             0.5555555555555556,
             "#d8576b"
            ],
            [
             0.6666666666666666,
             "#ed7953"
            ],
            [
             0.7777777777777778,
             "#fb9f3a"
            ],
            [
             0.8888888888888888,
             "#fdca26"
            ],
            [
             1,
             "#f0f921"
            ]
           ],
           "sequentialminus": [
            [
             0,
             "#0d0887"
            ],
            [
             0.1111111111111111,
             "#46039f"
            ],
            [
             0.2222222222222222,
             "#7201a8"
            ],
            [
             0.3333333333333333,
             "#9c179e"
            ],
            [
             0.4444444444444444,
             "#bd3786"
            ],
            [
             0.5555555555555556,
             "#d8576b"
            ],
            [
             0.6666666666666666,
             "#ed7953"
            ],
            [
             0.7777777777777778,
             "#fb9f3a"
            ],
            [
             0.8888888888888888,
             "#fdca26"
            ],
            [
             1,
             "#f0f921"
            ]
           ]
          },
          "colorway": [
           "#636efa",
           "#EF553B",
           "#00cc96",
           "#ab63fa",
           "#FFA15A",
           "#19d3f3",
           "#FF6692",
           "#B6E880",
           "#FF97FF",
           "#FECB52"
          ],
          "font": {
           "color": "#2a3f5f"
          },
          "geo": {
           "bgcolor": "white",
           "lakecolor": "white",
           "landcolor": "#E5ECF6",
           "showlakes": true,
           "showland": true,
           "subunitcolor": "white"
          },
          "hoverlabel": {
           "align": "left"
          },
          "hovermode": "closest",
          "mapbox": {
           "style": "light"
          },
          "paper_bgcolor": "white",
          "plot_bgcolor": "#E5ECF6",
          "polar": {
           "angularaxis": {
            "gridcolor": "white",
            "linecolor": "white",
            "ticks": ""
           },
           "bgcolor": "#E5ECF6",
           "radialaxis": {
            "gridcolor": "white",
            "linecolor": "white",
            "ticks": ""
           }
          },
          "scene": {
           "xaxis": {
            "backgroundcolor": "#E5ECF6",
            "gridcolor": "white",
            "gridwidth": 2,
            "linecolor": "white",
            "showbackground": true,
            "ticks": "",
            "zerolinecolor": "white"
           },
           "yaxis": {
            "backgroundcolor": "#E5ECF6",
            "gridcolor": "white",
            "gridwidth": 2,
            "linecolor": "white",
            "showbackground": true,
            "ticks": "",
            "zerolinecolor": "white"
           },
           "zaxis": {
            "backgroundcolor": "#E5ECF6",
            "gridcolor": "white",
            "gridwidth": 2,
            "linecolor": "white",
            "showbackground": true,
            "ticks": "",
            "zerolinecolor": "white"
           }
          },
          "shapedefaults": {
           "line": {
            "color": "#2a3f5f"
           }
          },
          "ternary": {
           "aaxis": {
            "gridcolor": "white",
            "linecolor": "white",
            "ticks": ""
           },
           "baxis": {
            "gridcolor": "white",
            "linecolor": "white",
            "ticks": ""
           },
           "bgcolor": "#E5ECF6",
           "caxis": {
            "gridcolor": "white",
            "linecolor": "white",
            "ticks": ""
           }
          },
          "title": {
           "x": 0.05
          },
          "xaxis": {
           "automargin": true,
           "gridcolor": "white",
           "linecolor": "white",
           "ticks": "",
           "title": {
            "standoff": 15
           },
           "zerolinecolor": "white",
           "zerolinewidth": 2
          },
          "yaxis": {
           "automargin": true,
           "gridcolor": "white",
           "linecolor": "white",
           "ticks": "",
           "title": {
            "standoff": 15
           },
           "zerolinecolor": "white",
           "zerolinewidth": 2
          }
         }
        },
        "title": {
         "text": "Variação do valor entre fumantes x não fumantes"
        },
        "xaxis": {
         "anchor": "y",
         "domain": [
          0,
          1
         ],
         "title": {
          "text": "Valor do Custo"
         }
        },
        "xaxis2": {
         "anchor": "y2",
         "domain": [
          0,
          1
         ],
         "matches": "x",
         "showgrid": true,
         "showticklabels": false
        },
        "yaxis": {
         "anchor": "x",
         "domain": [
          0,
          0.7326
         ],
         "title": {
          "text": "Frequência"
         }
        },
        "yaxis2": {
         "anchor": "x2",
         "domain": [
          0.7426,
          1
         ],
         "matches": "y2",
         "showgrid": false,
         "showline": false,
         "showticklabels": false,
         "ticks": ""
        }
       }
      }
     },
     "metadata": {},
     "output_type": "display_data"
    }
   ],
   "source": [
    "import plotly_express as px\n",
    "\n",
    "fig= px.histogram(Dados,x='charges',marginal='box',color='smoker')\n",
    "fig.update_layout(title='Variação do valor entre fumantes x não fumantes',xaxis_title='Valor do Custo',yaxis_title='Frequência', bargap=0.2) \n",
    "fig.show()"
   ]
  },
  {
   "cell_type": "code",
   "execution_count": 378,
   "metadata": {},
   "outputs": [
    {
     "data": {
      "text/plain": [
       "smoker\n",
       "no     1065\n",
       "yes     275\n",
       "Name: count, dtype: int64"
      ]
     },
     "execution_count": 378,
     "metadata": {},
     "output_type": "execute_result"
    }
   ],
   "source": [
    "Dados.smoker.value_counts()"
   ]
  },
  {
   "cell_type": "markdown",
   "metadata": {},
   "source": [
    "PODEMOS AVALIAR QUE OS NÃO FUMANTES POSSUEM UM VAMLOR MÉDIO CONSIDERÁVELMENTE MAIS BAIXO, COM A MÉDIA ESTANDO ABAIXO DOS 10K DOLARES, ENQUANTO A DOS FUMANTES É APROXIMADAMENTE 35-40K DOLARES. É UM FATOR DETERMINANTE PARA O VALOR FINAL DO SEGURO. E existem muito mais não fumantes do que fumantes na bd."
   ]
  },
  {
   "cell_type": "code",
   "execution_count": 379,
   "metadata": {},
   "outputs": [
    {
     "data": {
      "application/vnd.plotly.v1+json": {
       "config": {
        "plotlyServerURL": "https://plot.ly"
       },
       "data": [
        {
         "alignmentgroup": "True",
         "bingroup": "x",
         "hovertemplate": "sex=female<br>charges=%{x}<br>count=%{y}<extra></extra>",
         "legendgroup": "female",
         "marker": {
          "color": "#636efa",
          "pattern": {
           "shape": ""
          }
         },
         "name": "female",
         "offsetgroup": "female",
         "orientation": "v",
         "showlegend": true,
         "type": "histogram",
         "x": [
          31109.889763423336,
          16884.924,
          3756.6216,
          8240.5896,
          7281.5056,
          28923.13692,
          27808.7251,
          11090.7178,
          10797.3362,
          13228.84695,
          4149.736,
          37701.8768,
          14001.1338,
          14451.83515,
          12268.63225,
          2198.18985,
          4687.797,
          15612.19335,
          3046.062,
          4949.7587,
          6313.759,
          3393.35635,
          3556.9223,
          12629.8967,
          2211.13075,
          3579.8287,
          8059.6791,
          13607.36875,
          23244.7902,
          5989.52365,
          4133.64165,
          14711.7438,
          1743.214,
          14235.072,
          5920.1041,
          16577.7795,
          11741.726,
          3947.4131,
          2755.02095,
          6571.02435,
          7935.29115,
          11033.6617,
          39836.519,
          43578.9394,
          11073.176,
          8026.6666,
          11082.5772,
          2026.9741,
          10942.13205,
          47291.055,
          3766.8838,
          12105.32,
          6186.127,
          21344.8467,
          30942.1918,
          5003.853,
          2331.519,
          11881.358,
          2404.7338,
          19107.7796,
          8601.3293,
          6686.4313,
          2257.47525,
          10115.00885,
          3385.39915,
          17081.08,
          9634.538,
          32734.1863,
          12815.44495,
          13616.3586,
          11163.568,
          2457.21115,
          2155.6815,
          27322.73386,
          2166.732,
          5138.2567,
          9877.6077,
          10959.6947,
          6334.34355,
          19964.7463,
          7077.1894,
          19749.38338,
          21348.706,
          36149.4835,
          5152.134,
          4830.63,
          6128.79745,
          2719.27975,
          5246.047,
          2855.43755,
          48824.45,
          8823.279,
          8538.28845,
          1631.8212,
          7419.4779,
          3981.9768,
          5325.651,
          6775.961,
          4922.9159,
          4883.866,
          12044.342,
          5649.715,
          8516.829,
          9644.2525,
          14901.5167,
          2130.6759,
          8871.1517,
          13012.20865,
          37133.8982,
          4337.7352,
          13880.949,
          5002.7827,
          8520.026,
          7371.772,
          10355.641,
          3392.9768,
          25081.76784,
          5012.471,
          10564.8845,
          24227.33724,
          7358.17565,
          7443.64305,
          14001.2867,
          1727.785,
          19444.2658,
          1615.7667,
          38511.6283,
          5354.07465,
          35160.13457,
          29523.1656,
          12648.7034,
          47305.305,
          13047.33235,
          5400.9805,
          11837.16,
          17085.2676,
          20462.99766,
          14590.63205,
          9715.841,
          2150.469,
          9855.1314,
          22331.5668,
          11879.10405,
          9625.92,
          9432.9253,
          14256.1928,
          47896.79135,
          3172.018,
          2156.7518,
          9249.4952,
          24873.3849,
          12265.5069,
          4349.462,
          12646.207,
          20177.67113,
          4151.0287,
          7749.1564,
          1737.376,
          34838.873,
          7421.19455,
          24671.66334,
          3561.8889,
          47928.03,
          48517.56315,
          13429.0354,
          11658.37915,
          19144.57652,
          8232.6388,
          18955.22017,
          13217.0945,
          10977.2063,
          6184.2994,
          5478.0368,
          11830.6072,
          8932.084,
          3554.203,
          14133.03775,
          1607.5101,
          10043.249,
          13844.506,
          2597.779,
          3180.5101,
          9778.3472,
          13430.265,
          8017.06115,
          13415.0381,
          12029.2867,
          7639.41745,
          18033.9679,
          21659.9301,
          16455.70785,
          15006.57945,
          5846.9176,
          11856.4115,
          3176.8159,
          4618.0799,
          2138.0707,
          9411.005,
          8522.003,
          1631.6683,
          9264.797,
          14692.66935,
          11396.9002,
          4185.0979,
          8539.671,
          19594.80965,
          14455.64405,
          2134.9015,
          7345.7266,
          18608.262,
          28950.4692,
          6555.07035,
          7323.734819,
          3167.45585,
          18804.7524,
          4906.40965,
          12638.195,
          12592.5345,
          4738.2682,
          37079.372,
          28287.89766,
          7345.084,
          11454.0215,
          5910.944,
          11881.9696,
          11840.77505,
          7682.67,
          10381.4787,
          15230.32405,
          19521.9682,
          13224.693,
          12643.3778,
          23288.9284,
          2201.0971,
          2203.47185,
          1744.465,
          20878.78443,
          1622.1885,
          9880.068,
          4347.02335,
          12475.3513,
          48885.13561,
          1748.774,
          24513.09126,
          2196.4732,
          4931.647,
          8211.1002,
          13470.86,
          5974.3847,
          3044.2133,
          11455.28,
          5240.765,
          25656.57526,
          3994.1778,
          9866.30485,
          5397.6167,
          11482.63485,
          24059.68019,
          9861.025,
          14043.4767,
          5972.378,
          8825.086,
          8233.0975,
          6196.448,
          3056.3881,
          13887.204,
          63770.42801,
          11538.421,
          3213.62205,
          45863.205,
          3972.9247,
          11187.6567,
          17878.90068,
          39983.42595,
          9193.8385,
          10923.9332,
          2801.2588,
          2128.43105,
          6373.55735,
          11552.904,
          3761.292,
          2219.4451,
          4753.6368,
          31620.00106,
          13224.05705,
          12222.8983,
          58571.07448,
          3206.49135,
          17626.23951,
          4779.6023,
          43943.8761,
          13635.6379,
          5976.8311,
          11842.442,
          15359.1045,
          8823.98575,
          7640.3092,
          5594.8455,
          33471.97189,
          1633.0444,
          11070.535,
          16085.1275,
          17468.9839,
          9283.562,
          3558.62025,
          25678.77845,
          8547.6913,
          6571.544,
          2207.69745,
          6753.038,
          1880.07,
          42969.8527,
          11658.11505,
          34439.8559,
          10713.644,
          9182.17,
          3736.4647,
          42983.4585,
          3366.6697,
          2709.1119,
          24915.04626,
          4466.6214,
          8252.2843,
          12430.95335,
          9800.8882,
          10579.711,
          8280.6227,
          8527.532,
          12244.531,
          24667.419,
          3410.324,
          26392.26029,
          14394.39815,
          22192.43711,
          5148.5526,
          27037.9141,
          40003.33225,
          6500.2359,
          3943.5954,
          6185.3208,
          46200.9851,
          12485.8009,
          10156.7832,
          2585.269,
          4766.022,
          26236.57997,
          3577.999,
          3201.24515,
          29186.48236,
          3500.6123,
          2020.5523,
          9541.69555,
          5385.3379,
          8930.93455,
          5375.038,
          44400.4064,
          6113.23105,
          5469.0066,
          10107.2206,
          8310.83915,
          2457.502,
          9566.9909,
          10848.1343,
          12231.6136,
          9875.6804,
          10106.13425,
          40932.4295,
          16657.71745,
          2217.6012,
          6781.3542,
          4234.927,
          9447.25035,
          14007.222,
          9583.8933,
          40419.0191,
          3757.8448,
          9910.35985,
          8556.907,
          19539.243,
          11833.7823,
          7985.815,
          23065.4207,
          3925.7582,
          9095.06825,
          11842.62375,
          7050.642,
          14319.031,
          6933.24225,
          11150.78,
          12797.20962,
          17748.5062,
          24520.264,
          4350.5144,
          6414.178,
          13457.9608,
          5662.225,
          2731.9122,
          7209.4918,
          4719.52405,
          11848.141,
          7046.7222,
          14313.8463,
          38792.6856,
          7731.85785,
          28476.73499,
          2136.88225,
          9414.92,
          6360.9936,
          1877.9294,
          2842.76075,
          23401.30575,
          55135.40209,
          1621.8827,
          8219.2039,
          16069.08475,
          5266.3656,
          4719.73655,
          11657.7189,
          6402.29135,
          12622.1795,
          36021.0112,
          27533.9129,
          45008.9555,
          9872.701,
          2974.126,
          37270.1512,
          42111.6647,
          11729.6795,
          24106.91255,
          1875.344,
          40974.1649,
          18218.16139,
          46113.511,
          7151.092,
          12269.68865,
          5458.04645,
          4391.652,
          3392.3652,
          2690.1138,
          26140.3603,
          6311.952,
          2585.85065,
          46255.1125,
          5272.1758,
          29330.98315,
          7243.8136,
          13063.883,
          19798.05455,
          1634.5734,
          2117.33885,
          12644.589,
          4564.19145,
          7633.7206,
          17496.306,
          14382.70905,
          7626.993,
          2473.3341,
          21774.32215,
          13041.921,
          5245.2269,
          13451.122,
          13462.52,
          2913.569,
          12032.326,
          13470.8044,
          6238.298,
          7348.142,
          12233.828,
          8965.79575,
          9549.5651,
          2217.46915,
          11674.13,
          4527.18295,
          2730.10785,
          3353.284,
          14474.675,
          8596.8278,
          10702.6424,
          4992.3764,
          2527.81865,
          1759.338,
          9704.66805,
          4889.0368,
          16796.41194,
          7624.63,
          28340.18885,
          14571.8908,
          3378.91,
          7144.86265,
          10118.424,
          16420.49455,
          7986.47525,
          7418.522,
          13887.9685,
          6551.7501,
          5267.81815,
          8269.044,
          36580.28216,
          5383.536,
          2709.24395,
          3987.926,
          12495.29085,
          26018.95052,
          35595.5898,
          8569.8618,
          2020.177,
          6877.9801,
          21677.28345,
          44423.803,
          4137.5227,
          12094.478,
          39725.51805,
          20234.85475,
          3161.454,
          21880.82,
          7325.0482,
          3594.17085,
          8023.13545,
          3353.4703,
          8277.523,
          17929.30337,
          2480.9791,
          5708.867,
          7045.499,
          10928.849,
          12096.6512,
          13204.28565,
          4562.8421,
          8551.347,
          15019.76005,
          19023.26,
          11286.5387,
          33907.548,
          11299.343,
          4561.1885,
          44641.1974,
          23045.56616,
          3227.1211,
          16776.30405,
          10338.9316,
          8988.15875,
          10493.9458,
          11512.405,
          24180.9335,
          5312.16985,
          5693.4305,
          34166.273,
          46661.4424,
          18903.49141,
          40904.1995,
          14254.6082,
          5836.5204,
          1728.897,
          8582.3023,
          9991.03765,
          11085.5868,
          7623.518,
          3176.2877,
          36898.73308,
          7954.517,
          27117.99378,
          2261.5688,
          2203.73595,
          12235.8392,
          40941.2854,
          5630.45785,
          11015.1747,
          7228.21565,
          14426.07385,
          2459.7201,
          3989.841,
          7727.2532,
          2200.83085,
          7153.5539,
          5227.98875,
          4529.477,
          6112.35295,
          22478.6,
          11093.6229,
          2154.361,
          23887.6627,
          6496.886,
          2899.48935,
          7650.77375,
          2850.68375,
          2632.992,
          9447.3824,
          18328.2381,
          13844.7972,
          21771.3423,
          13126.67745,
          5327.40025,
          13725.47184,
          13019.16105,
          8671.19125,
          4134.08245,
          18838.70366,
          33307.5508,
          4934.705,
          18223.4512,
          36910.60803,
          20296.86345,
          10806.839,
          3956.07145,
          41661.602,
          7537.1639,
          4718.20355,
          26125.67477,
          4795.6568,
          20167.33603,
          12479.70895,
          8515.7587,
          14449.8544,
          12224.35085,
          3238.4357,
          4296.2712,
          3171.6149,
          9101.798,
          1633.9618,
          15828.82173,
          4415.1588,
          6474.013,
          11436.73815,
          11305.93455,
          10197.7722,
          4544.2348,
          6770.1925,
          7337.748,
          10370.91255,
          10704.47,
          1880.487,
          3021.80915,
          2741.948,
          4357.04365,
          4189.1131,
          8283.6807,
          24535.69855,
          14283.4594,
          8534.6718,
          3732.6251,
          5472.449,
          7133.9025,
          4340.4409,
          2710.82855,
          3208.787,
          2464.6188,
          16115.3045,
          33900.653,
          4571.41305,
          36397.576,
          18765.87545,
          1731.677,
          7201.70085,
          43896.3763,
          7050.0213,
          22395.74424,
          12629.1656,
          10795.93733,
          11411.685,
          2205.9808,
          1629.8335,
          2007.945,
          29141.3603
         ],
         "xaxis": "x",
         "yaxis": "y"
        },
        {
         "alignmentgroup": "True",
         "hovertemplate": "sex=female<br>charges=%{x}<extra></extra>",
         "legendgroup": "female",
         "marker": {
          "color": "#636efa"
         },
         "name": "female",
         "notched": true,
         "offsetgroup": "female",
         "showlegend": false,
         "type": "box",
         "x": [
          31109.889763423336,
          16884.924,
          3756.6216,
          8240.5896,
          7281.5056,
          28923.13692,
          27808.7251,
          11090.7178,
          10797.3362,
          13228.84695,
          4149.736,
          37701.8768,
          14001.1338,
          14451.83515,
          12268.63225,
          2198.18985,
          4687.797,
          15612.19335,
          3046.062,
          4949.7587,
          6313.759,
          3393.35635,
          3556.9223,
          12629.8967,
          2211.13075,
          3579.8287,
          8059.6791,
          13607.36875,
          23244.7902,
          5989.52365,
          4133.64165,
          14711.7438,
          1743.214,
          14235.072,
          5920.1041,
          16577.7795,
          11741.726,
          3947.4131,
          2755.02095,
          6571.02435,
          7935.29115,
          11033.6617,
          39836.519,
          43578.9394,
          11073.176,
          8026.6666,
          11082.5772,
          2026.9741,
          10942.13205,
          47291.055,
          3766.8838,
          12105.32,
          6186.127,
          21344.8467,
          30942.1918,
          5003.853,
          2331.519,
          11881.358,
          2404.7338,
          19107.7796,
          8601.3293,
          6686.4313,
          2257.47525,
          10115.00885,
          3385.39915,
          17081.08,
          9634.538,
          32734.1863,
          12815.44495,
          13616.3586,
          11163.568,
          2457.21115,
          2155.6815,
          27322.73386,
          2166.732,
          5138.2567,
          9877.6077,
          10959.6947,
          6334.34355,
          19964.7463,
          7077.1894,
          19749.38338,
          21348.706,
          36149.4835,
          5152.134,
          4830.63,
          6128.79745,
          2719.27975,
          5246.047,
          2855.43755,
          48824.45,
          8823.279,
          8538.28845,
          1631.8212,
          7419.4779,
          3981.9768,
          5325.651,
          6775.961,
          4922.9159,
          4883.866,
          12044.342,
          5649.715,
          8516.829,
          9644.2525,
          14901.5167,
          2130.6759,
          8871.1517,
          13012.20865,
          37133.8982,
          4337.7352,
          13880.949,
          5002.7827,
          8520.026,
          7371.772,
          10355.641,
          3392.9768,
          25081.76784,
          5012.471,
          10564.8845,
          24227.33724,
          7358.17565,
          7443.64305,
          14001.2867,
          1727.785,
          19444.2658,
          1615.7667,
          38511.6283,
          5354.07465,
          35160.13457,
          29523.1656,
          12648.7034,
          47305.305,
          13047.33235,
          5400.9805,
          11837.16,
          17085.2676,
          20462.99766,
          14590.63205,
          9715.841,
          2150.469,
          9855.1314,
          22331.5668,
          11879.10405,
          9625.92,
          9432.9253,
          14256.1928,
          47896.79135,
          3172.018,
          2156.7518,
          9249.4952,
          24873.3849,
          12265.5069,
          4349.462,
          12646.207,
          20177.67113,
          4151.0287,
          7749.1564,
          1737.376,
          34838.873,
          7421.19455,
          24671.66334,
          3561.8889,
          47928.03,
          48517.56315,
          13429.0354,
          11658.37915,
          19144.57652,
          8232.6388,
          18955.22017,
          13217.0945,
          10977.2063,
          6184.2994,
          5478.0368,
          11830.6072,
          8932.084,
          3554.203,
          14133.03775,
          1607.5101,
          10043.249,
          13844.506,
          2597.779,
          3180.5101,
          9778.3472,
          13430.265,
          8017.06115,
          13415.0381,
          12029.2867,
          7639.41745,
          18033.9679,
          21659.9301,
          16455.70785,
          15006.57945,
          5846.9176,
          11856.4115,
          3176.8159,
          4618.0799,
          2138.0707,
          9411.005,
          8522.003,
          1631.6683,
          9264.797,
          14692.66935,
          11396.9002,
          4185.0979,
          8539.671,
          19594.80965,
          14455.64405,
          2134.9015,
          7345.7266,
          18608.262,
          28950.4692,
          6555.07035,
          7323.734819,
          3167.45585,
          18804.7524,
          4906.40965,
          12638.195,
          12592.5345,
          4738.2682,
          37079.372,
          28287.89766,
          7345.084,
          11454.0215,
          5910.944,
          11881.9696,
          11840.77505,
          7682.67,
          10381.4787,
          15230.32405,
          19521.9682,
          13224.693,
          12643.3778,
          23288.9284,
          2201.0971,
          2203.47185,
          1744.465,
          20878.78443,
          1622.1885,
          9880.068,
          4347.02335,
          12475.3513,
          48885.13561,
          1748.774,
          24513.09126,
          2196.4732,
          4931.647,
          8211.1002,
          13470.86,
          5974.3847,
          3044.2133,
          11455.28,
          5240.765,
          25656.57526,
          3994.1778,
          9866.30485,
          5397.6167,
          11482.63485,
          24059.68019,
          9861.025,
          14043.4767,
          5972.378,
          8825.086,
          8233.0975,
          6196.448,
          3056.3881,
          13887.204,
          63770.42801,
          11538.421,
          3213.62205,
          45863.205,
          3972.9247,
          11187.6567,
          17878.90068,
          39983.42595,
          9193.8385,
          10923.9332,
          2801.2588,
          2128.43105,
          6373.55735,
          11552.904,
          3761.292,
          2219.4451,
          4753.6368,
          31620.00106,
          13224.05705,
          12222.8983,
          58571.07448,
          3206.49135,
          17626.23951,
          4779.6023,
          43943.8761,
          13635.6379,
          5976.8311,
          11842.442,
          15359.1045,
          8823.98575,
          7640.3092,
          5594.8455,
          33471.97189,
          1633.0444,
          11070.535,
          16085.1275,
          17468.9839,
          9283.562,
          3558.62025,
          25678.77845,
          8547.6913,
          6571.544,
          2207.69745,
          6753.038,
          1880.07,
          42969.8527,
          11658.11505,
          34439.8559,
          10713.644,
          9182.17,
          3736.4647,
          42983.4585,
          3366.6697,
          2709.1119,
          24915.04626,
          4466.6214,
          8252.2843,
          12430.95335,
          9800.8882,
          10579.711,
          8280.6227,
          8527.532,
          12244.531,
          24667.419,
          3410.324,
          26392.26029,
          14394.39815,
          22192.43711,
          5148.5526,
          27037.9141,
          40003.33225,
          6500.2359,
          3943.5954,
          6185.3208,
          46200.9851,
          12485.8009,
          10156.7832,
          2585.269,
          4766.022,
          26236.57997,
          3577.999,
          3201.24515,
          29186.48236,
          3500.6123,
          2020.5523,
          9541.69555,
          5385.3379,
          8930.93455,
          5375.038,
          44400.4064,
          6113.23105,
          5469.0066,
          10107.2206,
          8310.83915,
          2457.502,
          9566.9909,
          10848.1343,
          12231.6136,
          9875.6804,
          10106.13425,
          40932.4295,
          16657.71745,
          2217.6012,
          6781.3542,
          4234.927,
          9447.25035,
          14007.222,
          9583.8933,
          40419.0191,
          3757.8448,
          9910.35985,
          8556.907,
          19539.243,
          11833.7823,
          7985.815,
          23065.4207,
          3925.7582,
          9095.06825,
          11842.62375,
          7050.642,
          14319.031,
          6933.24225,
          11150.78,
          12797.20962,
          17748.5062,
          24520.264,
          4350.5144,
          6414.178,
          13457.9608,
          5662.225,
          2731.9122,
          7209.4918,
          4719.52405,
          11848.141,
          7046.7222,
          14313.8463,
          38792.6856,
          7731.85785,
          28476.73499,
          2136.88225,
          9414.92,
          6360.9936,
          1877.9294,
          2842.76075,
          23401.30575,
          55135.40209,
          1621.8827,
          8219.2039,
          16069.08475,
          5266.3656,
          4719.73655,
          11657.7189,
          6402.29135,
          12622.1795,
          36021.0112,
          27533.9129,
          45008.9555,
          9872.701,
          2974.126,
          37270.1512,
          42111.6647,
          11729.6795,
          24106.91255,
          1875.344,
          40974.1649,
          18218.16139,
          46113.511,
          7151.092,
          12269.68865,
          5458.04645,
          4391.652,
          3392.3652,
          2690.1138,
          26140.3603,
          6311.952,
          2585.85065,
          46255.1125,
          5272.1758,
          29330.98315,
          7243.8136,
          13063.883,
          19798.05455,
          1634.5734,
          2117.33885,
          12644.589,
          4564.19145,
          7633.7206,
          17496.306,
          14382.70905,
          7626.993,
          2473.3341,
          21774.32215,
          13041.921,
          5245.2269,
          13451.122,
          13462.52,
          2913.569,
          12032.326,
          13470.8044,
          6238.298,
          7348.142,
          12233.828,
          8965.79575,
          9549.5651,
          2217.46915,
          11674.13,
          4527.18295,
          2730.10785,
          3353.284,
          14474.675,
          8596.8278,
          10702.6424,
          4992.3764,
          2527.81865,
          1759.338,
          9704.66805,
          4889.0368,
          16796.41194,
          7624.63,
          28340.18885,
          14571.8908,
          3378.91,
          7144.86265,
          10118.424,
          16420.49455,
          7986.47525,
          7418.522,
          13887.9685,
          6551.7501,
          5267.81815,
          8269.044,
          36580.28216,
          5383.536,
          2709.24395,
          3987.926,
          12495.29085,
          26018.95052,
          35595.5898,
          8569.8618,
          2020.177,
          6877.9801,
          21677.28345,
          44423.803,
          4137.5227,
          12094.478,
          39725.51805,
          20234.85475,
          3161.454,
          21880.82,
          7325.0482,
          3594.17085,
          8023.13545,
          3353.4703,
          8277.523,
          17929.30337,
          2480.9791,
          5708.867,
          7045.499,
          10928.849,
          12096.6512,
          13204.28565,
          4562.8421,
          8551.347,
          15019.76005,
          19023.26,
          11286.5387,
          33907.548,
          11299.343,
          4561.1885,
          44641.1974,
          23045.56616,
          3227.1211,
          16776.30405,
          10338.9316,
          8988.15875,
          10493.9458,
          11512.405,
          24180.9335,
          5312.16985,
          5693.4305,
          34166.273,
          46661.4424,
          18903.49141,
          40904.1995,
          14254.6082,
          5836.5204,
          1728.897,
          8582.3023,
          9991.03765,
          11085.5868,
          7623.518,
          3176.2877,
          36898.73308,
          7954.517,
          27117.99378,
          2261.5688,
          2203.73595,
          12235.8392,
          40941.2854,
          5630.45785,
          11015.1747,
          7228.21565,
          14426.07385,
          2459.7201,
          3989.841,
          7727.2532,
          2200.83085,
          7153.5539,
          5227.98875,
          4529.477,
          6112.35295,
          22478.6,
          11093.6229,
          2154.361,
          23887.6627,
          6496.886,
          2899.48935,
          7650.77375,
          2850.68375,
          2632.992,
          9447.3824,
          18328.2381,
          13844.7972,
          21771.3423,
          13126.67745,
          5327.40025,
          13725.47184,
          13019.16105,
          8671.19125,
          4134.08245,
          18838.70366,
          33307.5508,
          4934.705,
          18223.4512,
          36910.60803,
          20296.86345,
          10806.839,
          3956.07145,
          41661.602,
          7537.1639,
          4718.20355,
          26125.67477,
          4795.6568,
          20167.33603,
          12479.70895,
          8515.7587,
          14449.8544,
          12224.35085,
          3238.4357,
          4296.2712,
          3171.6149,
          9101.798,
          1633.9618,
          15828.82173,
          4415.1588,
          6474.013,
          11436.73815,
          11305.93455,
          10197.7722,
          4544.2348,
          6770.1925,
          7337.748,
          10370.91255,
          10704.47,
          1880.487,
          3021.80915,
          2741.948,
          4357.04365,
          4189.1131,
          8283.6807,
          24535.69855,
          14283.4594,
          8534.6718,
          3732.6251,
          5472.449,
          7133.9025,
          4340.4409,
          2710.82855,
          3208.787,
          2464.6188,
          16115.3045,
          33900.653,
          4571.41305,
          36397.576,
          18765.87545,
          1731.677,
          7201.70085,
          43896.3763,
          7050.0213,
          22395.74424,
          12629.1656,
          10795.93733,
          11411.685,
          2205.9808,
          1629.8335,
          2007.945,
          29141.3603
         ],
         "xaxis": "x2",
         "yaxis": "y2"
        },
        {
         "alignmentgroup": "True",
         "bingroup": "x",
         "hovertemplate": "sex=male<br>charges=%{x}<br>count=%{y}<extra></extra>",
         "legendgroup": "male",
         "marker": {
          "color": "#EF553B",
          "pattern": {
           "shape": ""
          }
         },
         "name": "male",
         "offsetgroup": "male",
         "orientation": "v",
         "showlegend": true,
         "type": "histogram",
         "x": [
          26650.70264664269,
          21459.03799039332,
          1725.5523,
          4449.462,
          21984.47061,
          3866.8552,
          6406.4107,
          2721.3208,
          1826.843,
          39611.7577,
          1837.237,
          2395.17155,
          10602.385,
          36837.467,
          1137.011,
          6203.90175,
          2775.19215,
          38711,
          35585.576,
          13770.0979,
          51194.55914,
          1625.43375,
          2302.3,
          39774.2763,
          48173.361,
          6272.4772,
          6079.6715,
          20630.28351,
          38709.176,
          23568.272,
          37742.5757,
          47496.49445,
          34303.1672,
          8606.2174,
          4504.6624,
          30166.61817,
          6389.37785,
          17663.1442,
          6799.458,
          11946.6259,
          7726.854,
          11356.6609,
          1532.4697,
          4441.21315,
          37165.1638,
          21098.55405,
          30184.9367,
          5729.0053,
          10226.2842,
          22412.6485,
          15820.699,
          3645.0894,
          17560.37975,
          3877.30425,
          2867.1196,
          47055.5321,
          10825.2537,
          4646.759,
          11488.31695,
          30259.99556,
          11381.3254,
          7740.337,
          1705.6245,
          39556.4945,
          6082.405,
          1632.56445,
          1261.442,
          2045.68525,
          27375.90478,
          3490.5491,
          18972.495,
          18157.876,
          20745.9891,
          40720.55105,
          1842.519,
          5125.2157,
          7789.635,
          6948.7008,
          21223.6758,
          15518.18025,
          36950.2567,
          10450.552,
          5028.1466,
          10407.08585,
          4827.90495,
          13405.3903,
          8116.68,
          1694.7964,
          6455.86265,
          10436.096,
          11735.87905,
          4005.4225,
          7731.4271,
          43753.33705,
          12557.6053,
          2137.6536,
          1137.4697,
          7147.105,
          11743.299,
          20984.0936,
          6610.1097,
          1980.07,
          8162.71625,
          3537.703,
          2483.736,
          5253.524,
          34779.615,
          19515.5416,
          11987.1682,
          2689.4954,
          9225.2564,
          12333.828,
          6710.1919,
          4463.2051,
          17352.6803,
          7152.6714,
          7196.867,
          24476.47851,
          1986.9334,
          1832.094,
          4040.55825,
          12829.4551,
          44260.7499,
          4260.744,
          41097.16175,
          43921.1837,
          11520.09985,
          33750.2918,
          24869.8368,
          36219.40545,
          46151.1245,
          17179.522,
          7441.053,
          9282.4806,
          1719.4363,
          42856.838,
          7265.7025,
          9617.66245,
          2523.1695,
          2803.69785,
          12928.7911,
          48549.17835,
          4237.12655,
          7742.1098,
          25992.82104,
          20277.80751,
          42112.2356,
          3906.127,
          1704.5681,
          16297.846,
          21978.6769,
          38746.3551,
          6746.7425,
          19442.3535,
          11944.59435,
          8444.474,
          42124.5153,
          8124.4084,
          9722.7695,
          8835.26495,
          10435.06525,
          4667.60765,
          4894.7533,
          35491.64,
          11566.30055,
          2866.091,
          6600.20595,
          42760.5022,
          9144.565,
          24393.6224,
          13822.803,
          12142.5786,
          13937.6665,
          41919.097,
          13352.0998,
          13981.85035,
          4889.9995,
          8334.45755,
          1635.73365,
          12404.8791,
          24603.04837,
          8944.1151,
          9620.3307,
          1837.2819,
          4751.07,
          8116.26885,
          3481.868,
          36085.219,
          1391.5287,
          38126.2465,
          27000.98473,
          42303.69215,
          20781.48892,
          8302.53565,
          1261.859,
          30284.64294,
          10736.87075,
          8964.06055,
          9290.1395,
          7526.70645,
          16586.49771,
          14988.432,
          8083.9198,
          10269.46,
          3260.199,
          6652.5288,
          4074.4537,
          1621.3402,
          5080.096,
          9140.951,
          14418.2804,
          46889.2612,
          46599.1084,
          39125.33225,
          2727.3951,
          8968.33,
          9788.8659,
          23082.95533,
          5969.723,
          4243.59005,
          13919.8229,
          2254.7967,
          5926.846,
          2897.3235,
          1149.3959,
          26109.32905,
          12730.9996,
          4762.329,
          7512.267,
          4032.2407,
          1969.614,
          1769.53165,
          4686.3887,
          21797.0004,
          10601.412,
          22144.032,
          11165.41765,
          1632.03625,
          2497.0383,
          25382.297,
          28868.6639,
          35147.52848,
          2534.39375,
          1534.3045,
          1824.2854,
          15555.18875,
          9304.7019,
          9563.029,
          1253.936,
          10461.9794,
          12574.049,
          17942.106,
          1967.0227,
          8027.968,
          36197.699,
          6837.3687,
          22218.1149,
          32548.3405,
          6796.86325,
          2643.2685,
          3077.0955,
          11763.0009,
          2498.4144,
          9361.3268,
          1256.299,
          21082.16,
          11362.755,
          27724.28875,
          8413.46305,
          3857.75925,
          38245.59327,
          8342.90875,
          1708.0014,
          48675.5177,
          12925.886,
          19214.70553,
          13831.1152,
          6067.12675,
          27346.04207,
          10231.4999,
          23807.2406,
          3268.84665,
          13390.559,
          12957.118,
          3847.674,
          8334.5896,
          3935.1799,
          1646.4297,
          2494.022,
          9058.7303,
          7256.7231,
          45702.02235,
          1664.9996,
          9724.53,
          12913.9924,
          1639.5631,
          6356.2707,
          1242.816,
          3861.20965,
          8428.0693,
          2566.4707,
          5709.1644,
          7441.501,
          9174.13565,
          4435.0942,
          39241.442,
          23306.547,
          3659.346,
          40182.246,
          34617.84065,
          12129.61415,
          6748.5912,
          11326.71487,
          11365.952,
          10085.846,
          1977.815,
          7173.35995,
          9391.346,
          14410.9321,
          20149.3229,
          12949.1554,
          6666.243,
          32787.45859,
          13143.86485,
          18806.14547,
          10141.1362,
          6123.5688,
          1712.227,
          4058.71245,
          6435.6237,
          1136.3994,
          42560.4304,
          8703.456,
          45710.20785,
          4837.5823,
          4399.731,
          7222.78625,
          46130.5265,
          12363.547,
          1242.26,
          40103.89,
          9863.4718,
          11244.3769,
          7729.64575,
          5438.7491,
          34806.4677,
          2104.1134,
          8068.185,
          2362.22905,
          2352.96845,
          40273.6455,
          10976.24575,
          9504.3103,
          10264.4421,
          1727.54,
          1984.4533,
          12146.971,
          13112.6048,
          11264.541,
          12979.358,
          1263.249,
          6664.68595,
          19361.9988,
          10065.413,
          3484.331,
          36189.1017,
          44585.45587,
          8604.48365,
          18246.4955,
          43254.41795,
          8827.2099,
          11737.84884,
          1627.28245,
          3062.50825,
          1906.35825,
          14210.53595,
          17128.42608,
          5031.26955,
          5428.7277,
          36307.7983,
          2416.955,
          19040.876,
          3070.8087,
          8062.764,
          27941.28758,
          7261.741,
          10560.4917,
          6986.697,
          7448.40395,
          5934.3798,
          9869.8102,
          18259.216,
          1146.7966,
          9386.1613,
          12741.16745,
          1917.3184,
          5209.57885,
          1252.407,
          21195.818,
          18310.742,
          4266.1658,
          17904.52705,
          2103.08,
          1815.8759,
          1131.5066,
          3309.7926,
          11013.7119,
          4428.88785,
          5584.3057,
          3597.596,
          7445.918,
          2680.9493,
          12523.6048,
          43813.8661,
          20773.62775,
          39597.4072,
          6117.4945,
          13393.756,
          11743.9341,
          5377.4578,
          7160.3303,
          4402.233,
          1526.312,
          12323.936,
          10072.05505,
          2438.0552,
          10601.63225,
          14119.62,
          15817.9857,
          10965.446,
          8782.469,
          6600.361,
          1141.4451,
          11576.13,
          13129.60345,
          8457.818,
          5966.8874,
          6849.026,
          8891.1395,
          6653.7886,
          6282.235,
          3443.064,
          2789.0574,
          4877.98105,
          19719.6947,
          27218.43725,
          1682.597,
          11945.1327,
          10422.91665,
          44202.6536,
          13555.0049,
          2221.56445,
          8688.85885,
          48673.5588,
          4661.28635,
          8125.7845,
          4846.92015,
          15170.069,
          2639.0429,
          33732.6867,
          5257.50795,
          35069.37452,
          5488.262,
          4320.41085,
          6250.435,
          25333.33284,
          6289.7549,
          2927.0647,
          10096.97,
          4673.3922,
          32108.66282,
          2304.0022,
          9487.6442,
          1121.8739,
          1628.4709,
          12982.8747,
          7160.094,
          39047.285,
          6358.77645,
          19933.458,
          11534.87265,
          47462.894,
          38998.546,
          20009.63365,
          3875.7341,
          41999.52,
          12609.88702,
          41034.2214,
          28468.91901,
          9500.57305,
          26467.09737,
          4746.344,
          23967.38305,
          7518.02535,
          3279.86855,
          2322.6218,
          16138.76205,
          7804.1605,
          2902.9065,
          25517.11363,
          4500.33925,
          19199.944,
          4915.05985,
          8410.04685,
          4518.82625,
          5484.4673,
          17361.7661,
          34472.841,
          1972.95,
          21232.18226,
          8627.5411,
          4433.3877,
          4438.2634,
          24915.22085,
          23241.47453,
          9957.7216,
          18767.7377,
          8765.249,
          12124.9924,
          8798.593,
          42211.1382,
          1711.0268,
          16450.8947,
          21595.38229,
          9850.432,
          13747.87235,
          12950.0712,
          37484.4493,
          2250.8352,
          22493.65964,
          1704.70015,
          33475.81715,
          11394.06555,
          44501.3982,
          39727.614,
          14394.5579,
          9288.0267,
          25309.489,
          10594.50155,
          4462.7218,
          1981.5819,
          11554.2236,
          48970.2476,
          6548.19505,
          8978.1851,
          5757.41345,
          14349.8544,
          39871.7043,
          13974.45555,
          1909.52745,
          2102.2647,
          34672.1472,
          15161.5344,
          11884.04858,
          4454.40265,
          5855.9025,
          4076.497,
          10796.35025,
          11353.2276,
          9748.9106,
          10577.087,
          41676.0811,
          3591.48,
          1674.6323,
          11253.421,
          3471.4096,
          11363.2832,
          20420.60465,
          2904.088,
          8605.3615,
          41949.2441,
          2396.0959,
          10807.4863,
          9222.4026,
          36124.5737,
          38282.7495,
          8347.1643,
          10214.636,
          14358.36437,
          3693.428,
          20709.02034,
          19673.33573,
          3704.3545,
          9048.0273,
          6338.0756,
          9630.397,
          11289.10925,
          52590.82939,
          10791.96,
          5979.731,
          39722.7462,
          5124.1887,
          18963.17192,
          10982.5013,
          4670.64,
          17178.6824,
          6457.8434,
          4433.9159,
          19350.3689,
          8603.8234,
          37465.34375,
          5699.8375,
          6393.60345,
          6198.7518,
          8733.22925,
          2055.3249,
          9964.06,
          5116.5004,
          38415.474,
          12347.172,
          5373.36425,
          23563.01618,
          1702.4553,
          12890.05765,
          5415.6612,
          4058.1161,
          6593.5083,
          8442.667,
          6858.4796,
          6640.54485,
          7162.0122,
          10594.2257,
          11938.25595,
          60021.39897,
          11345.519,
          2699.56835,
          6985.50695,
          47269.854,
          49577.6624,
          1135.9407,
          5615.369,
          6059.173,
          37607.5277,
          18648.4217,
          1241.565,
          16232.847,
          30063.58055,
          3277.161,
          26926.5144,
          34254.05335,
          8615.3,
          3292.52985,
          14478.33015,
          4747.0529,
          17043.3414,
          10959.33,
          22462.04375,
          1720.3537,
          47403.88,
          38344.566,
          7147.4728,
          34828.654,
          1515.3449,
          9301.89355,
          11931.12525,
          1964.78,
          1708.92575,
          5261.46945,
          62592.87309,
          46718.16325,
          37829.7242,
          21259.37795,
          21472.4788,
          6875.961,
          6940.90985,
          4536.259,
          11272.33139,
          1163.4627,
          19496.71917,
          5425.02335,
          28101.33305,
          12981.3457,
          4239.89265,
          13143.33665,
          9377.9047,
          10325.206,
          10600.5483
         ],
         "xaxis": "x",
         "yaxis": "y"
        },
        {
         "alignmentgroup": "True",
         "hovertemplate": "sex=male<br>charges=%{x}<extra></extra>",
         "legendgroup": "male",
         "marker": {
          "color": "#EF553B"
         },
         "name": "male",
         "notched": true,
         "offsetgroup": "male",
         "showlegend": false,
         "type": "box",
         "x": [
          26650.70264664269,
          21459.03799039332,
          1725.5523,
          4449.462,
          21984.47061,
          3866.8552,
          6406.4107,
          2721.3208,
          1826.843,
          39611.7577,
          1837.237,
          2395.17155,
          10602.385,
          36837.467,
          1137.011,
          6203.90175,
          2775.19215,
          38711,
          35585.576,
          13770.0979,
          51194.55914,
          1625.43375,
          2302.3,
          39774.2763,
          48173.361,
          6272.4772,
          6079.6715,
          20630.28351,
          38709.176,
          23568.272,
          37742.5757,
          47496.49445,
          34303.1672,
          8606.2174,
          4504.6624,
          30166.61817,
          6389.37785,
          17663.1442,
          6799.458,
          11946.6259,
          7726.854,
          11356.6609,
          1532.4697,
          4441.21315,
          37165.1638,
          21098.55405,
          30184.9367,
          5729.0053,
          10226.2842,
          22412.6485,
          15820.699,
          3645.0894,
          17560.37975,
          3877.30425,
          2867.1196,
          47055.5321,
          10825.2537,
          4646.759,
          11488.31695,
          30259.99556,
          11381.3254,
          7740.337,
          1705.6245,
          39556.4945,
          6082.405,
          1632.56445,
          1261.442,
          2045.68525,
          27375.90478,
          3490.5491,
          18972.495,
          18157.876,
          20745.9891,
          40720.55105,
          1842.519,
          5125.2157,
          7789.635,
          6948.7008,
          21223.6758,
          15518.18025,
          36950.2567,
          10450.552,
          5028.1466,
          10407.08585,
          4827.90495,
          13405.3903,
          8116.68,
          1694.7964,
          6455.86265,
          10436.096,
          11735.87905,
          4005.4225,
          7731.4271,
          43753.33705,
          12557.6053,
          2137.6536,
          1137.4697,
          7147.105,
          11743.299,
          20984.0936,
          6610.1097,
          1980.07,
          8162.71625,
          3537.703,
          2483.736,
          5253.524,
          34779.615,
          19515.5416,
          11987.1682,
          2689.4954,
          9225.2564,
          12333.828,
          6710.1919,
          4463.2051,
          17352.6803,
          7152.6714,
          7196.867,
          24476.47851,
          1986.9334,
          1832.094,
          4040.55825,
          12829.4551,
          44260.7499,
          4260.744,
          41097.16175,
          43921.1837,
          11520.09985,
          33750.2918,
          24869.8368,
          36219.40545,
          46151.1245,
          17179.522,
          7441.053,
          9282.4806,
          1719.4363,
          42856.838,
          7265.7025,
          9617.66245,
          2523.1695,
          2803.69785,
          12928.7911,
          48549.17835,
          4237.12655,
          7742.1098,
          25992.82104,
          20277.80751,
          42112.2356,
          3906.127,
          1704.5681,
          16297.846,
          21978.6769,
          38746.3551,
          6746.7425,
          19442.3535,
          11944.59435,
          8444.474,
          42124.5153,
          8124.4084,
          9722.7695,
          8835.26495,
          10435.06525,
          4667.60765,
          4894.7533,
          35491.64,
          11566.30055,
          2866.091,
          6600.20595,
          42760.5022,
          9144.565,
          24393.6224,
          13822.803,
          12142.5786,
          13937.6665,
          41919.097,
          13352.0998,
          13981.85035,
          4889.9995,
          8334.45755,
          1635.73365,
          12404.8791,
          24603.04837,
          8944.1151,
          9620.3307,
          1837.2819,
          4751.07,
          8116.26885,
          3481.868,
          36085.219,
          1391.5287,
          38126.2465,
          27000.98473,
          42303.69215,
          20781.48892,
          8302.53565,
          1261.859,
          30284.64294,
          10736.87075,
          8964.06055,
          9290.1395,
          7526.70645,
          16586.49771,
          14988.432,
          8083.9198,
          10269.46,
          3260.199,
          6652.5288,
          4074.4537,
          1621.3402,
          5080.096,
          9140.951,
          14418.2804,
          46889.2612,
          46599.1084,
          39125.33225,
          2727.3951,
          8968.33,
          9788.8659,
          23082.95533,
          5969.723,
          4243.59005,
          13919.8229,
          2254.7967,
          5926.846,
          2897.3235,
          1149.3959,
          26109.32905,
          12730.9996,
          4762.329,
          7512.267,
          4032.2407,
          1969.614,
          1769.53165,
          4686.3887,
          21797.0004,
          10601.412,
          22144.032,
          11165.41765,
          1632.03625,
          2497.0383,
          25382.297,
          28868.6639,
          35147.52848,
          2534.39375,
          1534.3045,
          1824.2854,
          15555.18875,
          9304.7019,
          9563.029,
          1253.936,
          10461.9794,
          12574.049,
          17942.106,
          1967.0227,
          8027.968,
          36197.699,
          6837.3687,
          22218.1149,
          32548.3405,
          6796.86325,
          2643.2685,
          3077.0955,
          11763.0009,
          2498.4144,
          9361.3268,
          1256.299,
          21082.16,
          11362.755,
          27724.28875,
          8413.46305,
          3857.75925,
          38245.59327,
          8342.90875,
          1708.0014,
          48675.5177,
          12925.886,
          19214.70553,
          13831.1152,
          6067.12675,
          27346.04207,
          10231.4999,
          23807.2406,
          3268.84665,
          13390.559,
          12957.118,
          3847.674,
          8334.5896,
          3935.1799,
          1646.4297,
          2494.022,
          9058.7303,
          7256.7231,
          45702.02235,
          1664.9996,
          9724.53,
          12913.9924,
          1639.5631,
          6356.2707,
          1242.816,
          3861.20965,
          8428.0693,
          2566.4707,
          5709.1644,
          7441.501,
          9174.13565,
          4435.0942,
          39241.442,
          23306.547,
          3659.346,
          40182.246,
          34617.84065,
          12129.61415,
          6748.5912,
          11326.71487,
          11365.952,
          10085.846,
          1977.815,
          7173.35995,
          9391.346,
          14410.9321,
          20149.3229,
          12949.1554,
          6666.243,
          32787.45859,
          13143.86485,
          18806.14547,
          10141.1362,
          6123.5688,
          1712.227,
          4058.71245,
          6435.6237,
          1136.3994,
          42560.4304,
          8703.456,
          45710.20785,
          4837.5823,
          4399.731,
          7222.78625,
          46130.5265,
          12363.547,
          1242.26,
          40103.89,
          9863.4718,
          11244.3769,
          7729.64575,
          5438.7491,
          34806.4677,
          2104.1134,
          8068.185,
          2362.22905,
          2352.96845,
          40273.6455,
          10976.24575,
          9504.3103,
          10264.4421,
          1727.54,
          1984.4533,
          12146.971,
          13112.6048,
          11264.541,
          12979.358,
          1263.249,
          6664.68595,
          19361.9988,
          10065.413,
          3484.331,
          36189.1017,
          44585.45587,
          8604.48365,
          18246.4955,
          43254.41795,
          8827.2099,
          11737.84884,
          1627.28245,
          3062.50825,
          1906.35825,
          14210.53595,
          17128.42608,
          5031.26955,
          5428.7277,
          36307.7983,
          2416.955,
          19040.876,
          3070.8087,
          8062.764,
          27941.28758,
          7261.741,
          10560.4917,
          6986.697,
          7448.40395,
          5934.3798,
          9869.8102,
          18259.216,
          1146.7966,
          9386.1613,
          12741.16745,
          1917.3184,
          5209.57885,
          1252.407,
          21195.818,
          18310.742,
          4266.1658,
          17904.52705,
          2103.08,
          1815.8759,
          1131.5066,
          3309.7926,
          11013.7119,
          4428.88785,
          5584.3057,
          3597.596,
          7445.918,
          2680.9493,
          12523.6048,
          43813.8661,
          20773.62775,
          39597.4072,
          6117.4945,
          13393.756,
          11743.9341,
          5377.4578,
          7160.3303,
          4402.233,
          1526.312,
          12323.936,
          10072.05505,
          2438.0552,
          10601.63225,
          14119.62,
          15817.9857,
          10965.446,
          8782.469,
          6600.361,
          1141.4451,
          11576.13,
          13129.60345,
          8457.818,
          5966.8874,
          6849.026,
          8891.1395,
          6653.7886,
          6282.235,
          3443.064,
          2789.0574,
          4877.98105,
          19719.6947,
          27218.43725,
          1682.597,
          11945.1327,
          10422.91665,
          44202.6536,
          13555.0049,
          2221.56445,
          8688.85885,
          48673.5588,
          4661.28635,
          8125.7845,
          4846.92015,
          15170.069,
          2639.0429,
          33732.6867,
          5257.50795,
          35069.37452,
          5488.262,
          4320.41085,
          6250.435,
          25333.33284,
          6289.7549,
          2927.0647,
          10096.97,
          4673.3922,
          32108.66282,
          2304.0022,
          9487.6442,
          1121.8739,
          1628.4709,
          12982.8747,
          7160.094,
          39047.285,
          6358.77645,
          19933.458,
          11534.87265,
          47462.894,
          38998.546,
          20009.63365,
          3875.7341,
          41999.52,
          12609.88702,
          41034.2214,
          28468.91901,
          9500.57305,
          26467.09737,
          4746.344,
          23967.38305,
          7518.02535,
          3279.86855,
          2322.6218,
          16138.76205,
          7804.1605,
          2902.9065,
          25517.11363,
          4500.33925,
          19199.944,
          4915.05985,
          8410.04685,
          4518.82625,
          5484.4673,
          17361.7661,
          34472.841,
          1972.95,
          21232.18226,
          8627.5411,
          4433.3877,
          4438.2634,
          24915.22085,
          23241.47453,
          9957.7216,
          18767.7377,
          8765.249,
          12124.9924,
          8798.593,
          42211.1382,
          1711.0268,
          16450.8947,
          21595.38229,
          9850.432,
          13747.87235,
          12950.0712,
          37484.4493,
          2250.8352,
          22493.65964,
          1704.70015,
          33475.81715,
          11394.06555,
          44501.3982,
          39727.614,
          14394.5579,
          9288.0267,
          25309.489,
          10594.50155,
          4462.7218,
          1981.5819,
          11554.2236,
          48970.2476,
          6548.19505,
          8978.1851,
          5757.41345,
          14349.8544,
          39871.7043,
          13974.45555,
          1909.52745,
          2102.2647,
          34672.1472,
          15161.5344,
          11884.04858,
          4454.40265,
          5855.9025,
          4076.497,
          10796.35025,
          11353.2276,
          9748.9106,
          10577.087,
          41676.0811,
          3591.48,
          1674.6323,
          11253.421,
          3471.4096,
          11363.2832,
          20420.60465,
          2904.088,
          8605.3615,
          41949.2441,
          2396.0959,
          10807.4863,
          9222.4026,
          36124.5737,
          38282.7495,
          8347.1643,
          10214.636,
          14358.36437,
          3693.428,
          20709.02034,
          19673.33573,
          3704.3545,
          9048.0273,
          6338.0756,
          9630.397,
          11289.10925,
          52590.82939,
          10791.96,
          5979.731,
          39722.7462,
          5124.1887,
          18963.17192,
          10982.5013,
          4670.64,
          17178.6824,
          6457.8434,
          4433.9159,
          19350.3689,
          8603.8234,
          37465.34375,
          5699.8375,
          6393.60345,
          6198.7518,
          8733.22925,
          2055.3249,
          9964.06,
          5116.5004,
          38415.474,
          12347.172,
          5373.36425,
          23563.01618,
          1702.4553,
          12890.05765,
          5415.6612,
          4058.1161,
          6593.5083,
          8442.667,
          6858.4796,
          6640.54485,
          7162.0122,
          10594.2257,
          11938.25595,
          60021.39897,
          11345.519,
          2699.56835,
          6985.50695,
          47269.854,
          49577.6624,
          1135.9407,
          5615.369,
          6059.173,
          37607.5277,
          18648.4217,
          1241.565,
          16232.847,
          30063.58055,
          3277.161,
          26926.5144,
          34254.05335,
          8615.3,
          3292.52985,
          14478.33015,
          4747.0529,
          17043.3414,
          10959.33,
          22462.04375,
          1720.3537,
          47403.88,
          38344.566,
          7147.4728,
          34828.654,
          1515.3449,
          9301.89355,
          11931.12525,
          1964.78,
          1708.92575,
          5261.46945,
          62592.87309,
          46718.16325,
          37829.7242,
          21259.37795,
          21472.4788,
          6875.961,
          6940.90985,
          4536.259,
          11272.33139,
          1163.4627,
          19496.71917,
          5425.02335,
          28101.33305,
          12981.3457,
          4239.89265,
          13143.33665,
          9377.9047,
          10325.206,
          10600.5483
         ],
         "xaxis": "x2",
         "yaxis": "y2"
        }
       ],
       "layout": {
        "bargap": 0.2,
        "barmode": "relative",
        "legend": {
         "title": {
          "text": "sex"
         },
         "tracegroupgap": 0
        },
        "margin": {
         "t": 60
        },
        "template": {
         "data": {
          "bar": [
           {
            "error_x": {
             "color": "#2a3f5f"
            },
            "error_y": {
             "color": "#2a3f5f"
            },
            "marker": {
             "line": {
              "color": "#E5ECF6",
              "width": 0.5
             },
             "pattern": {
              "fillmode": "overlay",
              "size": 10,
              "solidity": 0.2
             }
            },
            "type": "bar"
           }
          ],
          "barpolar": [
           {
            "marker": {
             "line": {
              "color": "#E5ECF6",
              "width": 0.5
             },
             "pattern": {
              "fillmode": "overlay",
              "size": 10,
              "solidity": 0.2
             }
            },
            "type": "barpolar"
           }
          ],
          "carpet": [
           {
            "aaxis": {
             "endlinecolor": "#2a3f5f",
             "gridcolor": "white",
             "linecolor": "white",
             "minorgridcolor": "white",
             "startlinecolor": "#2a3f5f"
            },
            "baxis": {
             "endlinecolor": "#2a3f5f",
             "gridcolor": "white",
             "linecolor": "white",
             "minorgridcolor": "white",
             "startlinecolor": "#2a3f5f"
            },
            "type": "carpet"
           }
          ],
          "choropleth": [
           {
            "colorbar": {
             "outlinewidth": 0,
             "ticks": ""
            },
            "type": "choropleth"
           }
          ],
          "contour": [
           {
            "colorbar": {
             "outlinewidth": 0,
             "ticks": ""
            },
            "colorscale": [
             [
              0,
              "#0d0887"
             ],
             [
              0.1111111111111111,
              "#46039f"
             ],
             [
              0.2222222222222222,
              "#7201a8"
             ],
             [
              0.3333333333333333,
              "#9c179e"
             ],
             [
              0.4444444444444444,
              "#bd3786"
             ],
             [
              0.5555555555555556,
              "#d8576b"
             ],
             [
              0.6666666666666666,
              "#ed7953"
             ],
             [
              0.7777777777777778,
              "#fb9f3a"
             ],
             [
              0.8888888888888888,
              "#fdca26"
             ],
             [
              1,
              "#f0f921"
             ]
            ],
            "type": "contour"
           }
          ],
          "contourcarpet": [
           {
            "colorbar": {
             "outlinewidth": 0,
             "ticks": ""
            },
            "type": "contourcarpet"
           }
          ],
          "heatmap": [
           {
            "colorbar": {
             "outlinewidth": 0,
             "ticks": ""
            },
            "colorscale": [
             [
              0,
              "#0d0887"
             ],
             [
              0.1111111111111111,
              "#46039f"
             ],
             [
              0.2222222222222222,
              "#7201a8"
             ],
             [
              0.3333333333333333,
              "#9c179e"
             ],
             [
              0.4444444444444444,
              "#bd3786"
             ],
             [
              0.5555555555555556,
              "#d8576b"
             ],
             [
              0.6666666666666666,
              "#ed7953"
             ],
             [
              0.7777777777777778,
              "#fb9f3a"
             ],
             [
              0.8888888888888888,
              "#fdca26"
             ],
             [
              1,
              "#f0f921"
             ]
            ],
            "type": "heatmap"
           }
          ],
          "heatmapgl": [
           {
            "colorbar": {
             "outlinewidth": 0,
             "ticks": ""
            },
            "colorscale": [
             [
              0,
              "#0d0887"
             ],
             [
              0.1111111111111111,
              "#46039f"
             ],
             [
              0.2222222222222222,
              "#7201a8"
             ],
             [
              0.3333333333333333,
              "#9c179e"
             ],
             [
              0.4444444444444444,
              "#bd3786"
             ],
             [
              0.5555555555555556,
              "#d8576b"
             ],
             [
              0.6666666666666666,
              "#ed7953"
             ],
             [
              0.7777777777777778,
              "#fb9f3a"
             ],
             [
              0.8888888888888888,
              "#fdca26"
             ],
             [
              1,
              "#f0f921"
             ]
            ],
            "type": "heatmapgl"
           }
          ],
          "histogram": [
           {
            "marker": {
             "pattern": {
              "fillmode": "overlay",
              "size": 10,
              "solidity": 0.2
             }
            },
            "type": "histogram"
           }
          ],
          "histogram2d": [
           {
            "colorbar": {
             "outlinewidth": 0,
             "ticks": ""
            },
            "colorscale": [
             [
              0,
              "#0d0887"
             ],
             [
              0.1111111111111111,
              "#46039f"
             ],
             [
              0.2222222222222222,
              "#7201a8"
             ],
             [
              0.3333333333333333,
              "#9c179e"
             ],
             [
              0.4444444444444444,
              "#bd3786"
             ],
             [
              0.5555555555555556,
              "#d8576b"
             ],
             [
              0.6666666666666666,
              "#ed7953"
             ],
             [
              0.7777777777777778,
              "#fb9f3a"
             ],
             [
              0.8888888888888888,
              "#fdca26"
             ],
             [
              1,
              "#f0f921"
             ]
            ],
            "type": "histogram2d"
           }
          ],
          "histogram2dcontour": [
           {
            "colorbar": {
             "outlinewidth": 0,
             "ticks": ""
            },
            "colorscale": [
             [
              0,
              "#0d0887"
             ],
             [
              0.1111111111111111,
              "#46039f"
             ],
             [
              0.2222222222222222,
              "#7201a8"
             ],
             [
              0.3333333333333333,
              "#9c179e"
             ],
             [
              0.4444444444444444,
              "#bd3786"
             ],
             [
              0.5555555555555556,
              "#d8576b"
             ],
             [
              0.6666666666666666,
              "#ed7953"
             ],
             [
              0.7777777777777778,
              "#fb9f3a"
             ],
             [
              0.8888888888888888,
              "#fdca26"
             ],
             [
              1,
              "#f0f921"
             ]
            ],
            "type": "histogram2dcontour"
           }
          ],
          "mesh3d": [
           {
            "colorbar": {
             "outlinewidth": 0,
             "ticks": ""
            },
            "type": "mesh3d"
           }
          ],
          "parcoords": [
           {
            "line": {
             "colorbar": {
              "outlinewidth": 0,
              "ticks": ""
             }
            },
            "type": "parcoords"
           }
          ],
          "pie": [
           {
            "automargin": true,
            "type": "pie"
           }
          ],
          "scatter": [
           {
            "fillpattern": {
             "fillmode": "overlay",
             "size": 10,
             "solidity": 0.2
            },
            "type": "scatter"
           }
          ],
          "scatter3d": [
           {
            "line": {
             "colorbar": {
              "outlinewidth": 0,
              "ticks": ""
             }
            },
            "marker": {
             "colorbar": {
              "outlinewidth": 0,
              "ticks": ""
             }
            },
            "type": "scatter3d"
           }
          ],
          "scattercarpet": [
           {
            "marker": {
             "colorbar": {
              "outlinewidth": 0,
              "ticks": ""
             }
            },
            "type": "scattercarpet"
           }
          ],
          "scattergeo": [
           {
            "marker": {
             "colorbar": {
              "outlinewidth": 0,
              "ticks": ""
             }
            },
            "type": "scattergeo"
           }
          ],
          "scattergl": [
           {
            "marker": {
             "colorbar": {
              "outlinewidth": 0,
              "ticks": ""
             }
            },
            "type": "scattergl"
           }
          ],
          "scattermapbox": [
           {
            "marker": {
             "colorbar": {
              "outlinewidth": 0,
              "ticks": ""
             }
            },
            "type": "scattermapbox"
           }
          ],
          "scatterpolar": [
           {
            "marker": {
             "colorbar": {
              "outlinewidth": 0,
              "ticks": ""
             }
            },
            "type": "scatterpolar"
           }
          ],
          "scatterpolargl": [
           {
            "marker": {
             "colorbar": {
              "outlinewidth": 0,
              "ticks": ""
             }
            },
            "type": "scatterpolargl"
           }
          ],
          "scatterternary": [
           {
            "marker": {
             "colorbar": {
              "outlinewidth": 0,
              "ticks": ""
             }
            },
            "type": "scatterternary"
           }
          ],
          "surface": [
           {
            "colorbar": {
             "outlinewidth": 0,
             "ticks": ""
            },
            "colorscale": [
             [
              0,
              "#0d0887"
             ],
             [
              0.1111111111111111,
              "#46039f"
             ],
             [
              0.2222222222222222,
              "#7201a8"
             ],
             [
              0.3333333333333333,
              "#9c179e"
             ],
             [
              0.4444444444444444,
              "#bd3786"
             ],
             [
              0.5555555555555556,
              "#d8576b"
             ],
             [
              0.6666666666666666,
              "#ed7953"
             ],
             [
              0.7777777777777778,
              "#fb9f3a"
             ],
             [
              0.8888888888888888,
              "#fdca26"
             ],
             [
              1,
              "#f0f921"
             ]
            ],
            "type": "surface"
           }
          ],
          "table": [
           {
            "cells": {
             "fill": {
              "color": "#EBF0F8"
             },
             "line": {
              "color": "white"
             }
            },
            "header": {
             "fill": {
              "color": "#C8D4E3"
             },
             "line": {
              "color": "white"
             }
            },
            "type": "table"
           }
          ]
         },
         "layout": {
          "annotationdefaults": {
           "arrowcolor": "#2a3f5f",
           "arrowhead": 0,
           "arrowwidth": 1
          },
          "autotypenumbers": "strict",
          "coloraxis": {
           "colorbar": {
            "outlinewidth": 0,
            "ticks": ""
           }
          },
          "colorscale": {
           "diverging": [
            [
             0,
             "#8e0152"
            ],
            [
             0.1,
             "#c51b7d"
            ],
            [
             0.2,
             "#de77ae"
            ],
            [
             0.3,
             "#f1b6da"
            ],
            [
             0.4,
             "#fde0ef"
            ],
            [
             0.5,
             "#f7f7f7"
            ],
            [
             0.6,
             "#e6f5d0"
            ],
            [
             0.7,
             "#b8e186"
            ],
            [
             0.8,
             "#7fbc41"
            ],
            [
             0.9,
             "#4d9221"
            ],
            [
             1,
             "#276419"
            ]
           ],
           "sequential": [
            [
             0,
             "#0d0887"
            ],
            [
             0.1111111111111111,
             "#46039f"
            ],
            [
             0.2222222222222222,
             "#7201a8"
            ],
            [
             0.3333333333333333,
             "#9c179e"
            ],
            [
             0.4444444444444444,
             "#bd3786"
            ],
            [
             0.5555555555555556,
             "#d8576b"
            ],
            [
             0.6666666666666666,
             "#ed7953"
            ],
            [
             0.7777777777777778,
             "#fb9f3a"
            ],
            [
             0.8888888888888888,
             "#fdca26"
            ],
            [
             1,
             "#f0f921"
            ]
           ],
           "sequentialminus": [
            [
             0,
             "#0d0887"
            ],
            [
             0.1111111111111111,
             "#46039f"
            ],
            [
             0.2222222222222222,
             "#7201a8"
            ],
            [
             0.3333333333333333,
             "#9c179e"
            ],
            [
             0.4444444444444444,
             "#bd3786"
            ],
            [
             0.5555555555555556,
             "#d8576b"
            ],
            [
             0.6666666666666666,
             "#ed7953"
            ],
            [
             0.7777777777777778,
             "#fb9f3a"
            ],
            [
             0.8888888888888888,
             "#fdca26"
            ],
            [
             1,
             "#f0f921"
            ]
           ]
          },
          "colorway": [
           "#636efa",
           "#EF553B",
           "#00cc96",
           "#ab63fa",
           "#FFA15A",
           "#19d3f3",
           "#FF6692",
           "#B6E880",
           "#FF97FF",
           "#FECB52"
          ],
          "font": {
           "color": "#2a3f5f"
          },
          "geo": {
           "bgcolor": "white",
           "lakecolor": "white",
           "landcolor": "#E5ECF6",
           "showlakes": true,
           "showland": true,
           "subunitcolor": "white"
          },
          "hoverlabel": {
           "align": "left"
          },
          "hovermode": "closest",
          "mapbox": {
           "style": "light"
          },
          "paper_bgcolor": "white",
          "plot_bgcolor": "#E5ECF6",
          "polar": {
           "angularaxis": {
            "gridcolor": "white",
            "linecolor": "white",
            "ticks": ""
           },
           "bgcolor": "#E5ECF6",
           "radialaxis": {
            "gridcolor": "white",
            "linecolor": "white",
            "ticks": ""
           }
          },
          "scene": {
           "xaxis": {
            "backgroundcolor": "#E5ECF6",
            "gridcolor": "white",
            "gridwidth": 2,
            "linecolor": "white",
            "showbackground": true,
            "ticks": "",
            "zerolinecolor": "white"
           },
           "yaxis": {
            "backgroundcolor": "#E5ECF6",
            "gridcolor": "white",
            "gridwidth": 2,
            "linecolor": "white",
            "showbackground": true,
            "ticks": "",
            "zerolinecolor": "white"
           },
           "zaxis": {
            "backgroundcolor": "#E5ECF6",
            "gridcolor": "white",
            "gridwidth": 2,
            "linecolor": "white",
            "showbackground": true,
            "ticks": "",
            "zerolinecolor": "white"
           }
          },
          "shapedefaults": {
           "line": {
            "color": "#2a3f5f"
           }
          },
          "ternary": {
           "aaxis": {
            "gridcolor": "white",
            "linecolor": "white",
            "ticks": ""
           },
           "baxis": {
            "gridcolor": "white",
            "linecolor": "white",
            "ticks": ""
           },
           "bgcolor": "#E5ECF6",
           "caxis": {
            "gridcolor": "white",
            "linecolor": "white",
            "ticks": ""
           }
          },
          "title": {
           "x": 0.05
          },
          "xaxis": {
           "automargin": true,
           "gridcolor": "white",
           "linecolor": "white",
           "ticks": "",
           "title": {
            "standoff": 15
           },
           "zerolinecolor": "white",
           "zerolinewidth": 2
          },
          "yaxis": {
           "automargin": true,
           "gridcolor": "white",
           "linecolor": "white",
           "ticks": "",
           "title": {
            "standoff": 15
           },
           "zerolinecolor": "white",
           "zerolinewidth": 2
          }
         }
        },
        "title": {
         "text": "Distribuição dos generos"
        },
        "xaxis": {
         "anchor": "y",
         "domain": [
          0,
          1
         ],
         "title": {
          "text": "Valor do Custo"
         }
        },
        "xaxis2": {
         "anchor": "y2",
         "domain": [
          0,
          1
         ],
         "matches": "x",
         "showgrid": true,
         "showticklabels": false
        },
        "yaxis": {
         "anchor": "x",
         "domain": [
          0,
          0.7326
         ],
         "title": {
          "text": "Frequência"
         }
        },
        "yaxis2": {
         "anchor": "x2",
         "domain": [
          0.7426,
          1
         ],
         "matches": "y2",
         "showgrid": false,
         "showline": false,
         "showticklabels": false,
         "ticks": ""
        }
       }
      }
     },
     "metadata": {},
     "output_type": "display_data"
    }
   ],
   "source": [
    "#AGORA VOU AVALIAR CONSOANTE OS GENEROS :\n",
    "\n",
    "fig= px.histogram(Dados,x='charges',marginal='box',color='sex')\n",
    "fig.update_layout(title='Distribuição dos generos',xaxis_title='Valor do Custo',yaxis_title='Frequência', bargap=0.2) \n",
    "fig.show()"
   ]
  },
  {
   "cell_type": "code",
   "execution_count": 380,
   "metadata": {},
   "outputs": [
    {
     "data": {
      "text/plain": [
       "sex\n",
       "male      677\n",
       "female    663\n",
       "Name: count, dtype: int64"
      ]
     },
     "execution_count": 380,
     "metadata": {},
     "output_type": "execute_result"
    }
   ],
   "source": [
    "Dados.sex.value_counts()"
   ]
  },
  {
   "cell_type": "markdown",
   "metadata": {},
   "source": [
    "Aqui validamos que a distribuição de generos é praticamente igual em todas as faixas de valores."
   ]
  },
  {
   "cell_type": "code",
   "execution_count": 381,
   "metadata": {},
   "outputs": [
    {
     "data": {
      "application/vnd.plotly.v1+json": {
       "config": {
        "plotlyServerURL": "https://plot.ly"
       },
       "data": [
        {
         "alignmentgroup": "True",
         "bingroup": "x",
         "hovertemplate": "region=southwest<br>charges=%{x}<br>count=%{y}<extra></extra>",
         "legendgroup": "southwest",
         "marker": {
          "color": "#636efa",
          "pattern": {
           "shape": ""
          }
         },
         "name": "southwest",
         "offsetgroup": "southwest",
         "orientation": "v",
         "showlegend": true,
         "type": "histogram",
         "x": [
          31109.889763423336,
          21459.03799039332,
          16884.924,
          1826.843,
          1837.237,
          10602.385,
          36837.467,
          4149.736,
          38711,
          35585.576,
          4687.797,
          51194.55914,
          2302.3,
          48173.361,
          20630.28351,
          23568.272,
          1743.214,
          14235.072,
          11741.726,
          7726.854,
          39836.519,
          11073.176,
          47291.055,
          12105.32,
          15820.699,
          6186.127,
          5003.853,
          2331.519,
          11881.358,
          4646.759,
          7740.337,
          17081.08,
          9634.538,
          6082.405,
          11163.568,
          1261.442,
          2166.732,
          1842.519,
          10450.552,
          5152.134,
          4830.63,
          8116.68,
          5246.047,
          48824.45,
          10436.096,
          8823.279,
          5325.651,
          6775.961,
          4883.866,
          5649.715,
          7147.105,
          13880.949,
          1980.07,
          8520.026,
          7371.772,
          5012.471,
          5253.524,
          34779.615,
          1727.785,
          12333.828,
          35160.13457,
          7196.867,
          1832.094,
          47305.305,
          4260.744,
          11837.16,
          7441.053,
          42856.838,
          2150.469,
          9625.92,
          3172.018,
          3906.127,
          16297.846,
          12646.207,
          20177.67113,
          8444.474,
          1737.376,
          34838.873,
          35491.64,
          2866.091,
          47928.03,
          9144.565,
          13822.803,
          18955.22017,
          8932.084,
          3554.203,
          24603.04837,
          4751.07,
          13844.506,
          2597.779,
          36085.219,
          1261.859,
          8522.003,
          14988.432,
          9264.797,
          3260.199,
          8539.671,
          5080.096,
          18608.262,
          8968.33,
          23082.95533,
          5969.723,
          12638.195,
          5926.846,
          37079.372,
          7345.084,
          5910.944,
          4762.329,
          7512.267,
          1969.614,
          21797.0004,
          10601.412,
          22144.032,
          13224.693,
          1744.465,
          25382.297,
          9880.068,
          9563.029,
          1253.936,
          1748.774,
          12574.049,
          17942.106,
          4931.647,
          8027.968,
          13470.86,
          36197.699,
          11455.28,
          1256.299,
          21082.16,
          11362.755,
          5240.765,
          9861.025,
          5972.378,
          8825.086,
          6196.448,
          11538.421,
          13390.559,
          12957.118,
          3847.674,
          2494.022,
          11552.904,
          3761.292,
          9724.53,
          1242.816,
          11842.442,
          7441.501,
          11070.535,
          39241.442,
          6571.544,
          23306.547,
          10713.644,
          3659.346,
          40182.246,
          9182.17,
          11365.952,
          10085.846,
          1977.815,
          9391.346,
          6666.243,
          3410.324,
          8703.456,
          12363.547,
          2585.269,
          1242.26,
          40103.89,
          4766.022,
          26236.57997,
          8068.185,
          3577.999,
          5375.038,
          2457.502,
          12146.971,
          11264.541,
          12979.358,
          1263.249,
          10065.413,
          4234.927,
          14007.222,
          3484.331,
          44585.45587,
          11737.84884,
          8556.907,
          2416.955,
          19040.876,
          8062.764,
          7050.642,
          14319.031,
          27941.28758,
          11150.78,
          18259.216,
          24520.264,
          6414.178,
          1252.407,
          11848.141,
          2103.08,
          9414.92,
          3597.596,
          7445.918,
          13393.756,
          4402.233,
          1526.312,
          9872.701,
          2974.126,
          1875.344,
          10965.446,
          46113.511,
          7151.092,
          8782.469,
          6600.361,
          11576.13,
          4391.652,
          8457.818,
          6849.026,
          26140.3603,
          6282.235,
          6311.952,
          3443.064,
          1682.597,
          13063.883,
          12644.589,
          15170.069,
          17496.306,
          7626.993,
          13041.921,
          13451.122,
          13462.52,
          5488.262,
          6250.435,
          2913.569,
          12032.326,
          6238.298,
          10096.97,
          7348.142,
          12233.828,
          11674.13,
          7160.094,
          19933.458,
          38998.546,
          3353.284,
          4746.344,
          1759.338,
          19199.944,
          7624.63,
          3378.91,
          10118.424,
          7418.522,
          34472.841,
          1972.95,
          21232.18226,
          8269.044,
          5383.536,
          3987.926,
          8798.593,
          2020.177,
          9850.432,
          12094.478,
          3161.454,
          39727.614,
          25309.489,
          8277.523,
          5708.867,
          7045.499,
          8551.347,
          4076.497,
          19023.26,
          10577.087,
          3591.48,
          11299.343,
          11253.421,
          20420.60465,
          2904.088,
          34166.273,
          10214.636,
          14358.36437,
          1728.897,
          3693.428,
          7623.518,
          7954.517,
          9630.397,
          52590.82939,
          10791.96,
          5979.731,
          3989.841,
          4529.477,
          4670.64,
          22478.6,
          2154.361,
          6496.886,
          2632.992,
          13126.67745,
          4934.705,
          36910.60803,
          38415.474,
          12347.172,
          10806.839,
          41661.602,
          20167.33603,
          11345.519,
          5615.369,
          9101.798,
          6059.173,
          1241.565,
          16232.847,
          15828.82173,
          6474.013,
          3277.161,
          7337.748,
          10704.47,
          1880.487,
          8615.3,
          10959.33,
          47403.88,
          5472.449,
          38344.566,
          34828.654,
          1964.78,
          3208.787,
          37829.7242,
          33900.653,
          6875.961,
          4536.259,
          36397.576,
          1731.677,
          10325.206,
          10795.93733,
          11411.685,
          2007.945
         ],
         "xaxis": "x",
         "yaxis": "y"
        },
        {
         "alignmentgroup": "True",
         "hovertemplate": "region=southwest<br>charges=%{x}<extra></extra>",
         "legendgroup": "southwest",
         "marker": {
          "color": "#636efa"
         },
         "name": "southwest",
         "notched": true,
         "offsetgroup": "southwest",
         "showlegend": false,
         "type": "box",
         "x": [
          31109.889763423336,
          21459.03799039332,
          16884.924,
          1826.843,
          1837.237,
          10602.385,
          36837.467,
          4149.736,
          38711,
          35585.576,
          4687.797,
          51194.55914,
          2302.3,
          48173.361,
          20630.28351,
          23568.272,
          1743.214,
          14235.072,
          11741.726,
          7726.854,
          39836.519,
          11073.176,
          47291.055,
          12105.32,
          15820.699,
          6186.127,
          5003.853,
          2331.519,
          11881.358,
          4646.759,
          7740.337,
          17081.08,
          9634.538,
          6082.405,
          11163.568,
          1261.442,
          2166.732,
          1842.519,
          10450.552,
          5152.134,
          4830.63,
          8116.68,
          5246.047,
          48824.45,
          10436.096,
          8823.279,
          5325.651,
          6775.961,
          4883.866,
          5649.715,
          7147.105,
          13880.949,
          1980.07,
          8520.026,
          7371.772,
          5012.471,
          5253.524,
          34779.615,
          1727.785,
          12333.828,
          35160.13457,
          7196.867,
          1832.094,
          47305.305,
          4260.744,
          11837.16,
          7441.053,
          42856.838,
          2150.469,
          9625.92,
          3172.018,
          3906.127,
          16297.846,
          12646.207,
          20177.67113,
          8444.474,
          1737.376,
          34838.873,
          35491.64,
          2866.091,
          47928.03,
          9144.565,
          13822.803,
          18955.22017,
          8932.084,
          3554.203,
          24603.04837,
          4751.07,
          13844.506,
          2597.779,
          36085.219,
          1261.859,
          8522.003,
          14988.432,
          9264.797,
          3260.199,
          8539.671,
          5080.096,
          18608.262,
          8968.33,
          23082.95533,
          5969.723,
          12638.195,
          5926.846,
          37079.372,
          7345.084,
          5910.944,
          4762.329,
          7512.267,
          1969.614,
          21797.0004,
          10601.412,
          22144.032,
          13224.693,
          1744.465,
          25382.297,
          9880.068,
          9563.029,
          1253.936,
          1748.774,
          12574.049,
          17942.106,
          4931.647,
          8027.968,
          13470.86,
          36197.699,
          11455.28,
          1256.299,
          21082.16,
          11362.755,
          5240.765,
          9861.025,
          5972.378,
          8825.086,
          6196.448,
          11538.421,
          13390.559,
          12957.118,
          3847.674,
          2494.022,
          11552.904,
          3761.292,
          9724.53,
          1242.816,
          11842.442,
          7441.501,
          11070.535,
          39241.442,
          6571.544,
          23306.547,
          10713.644,
          3659.346,
          40182.246,
          9182.17,
          11365.952,
          10085.846,
          1977.815,
          9391.346,
          6666.243,
          3410.324,
          8703.456,
          12363.547,
          2585.269,
          1242.26,
          40103.89,
          4766.022,
          26236.57997,
          8068.185,
          3577.999,
          5375.038,
          2457.502,
          12146.971,
          11264.541,
          12979.358,
          1263.249,
          10065.413,
          4234.927,
          14007.222,
          3484.331,
          44585.45587,
          11737.84884,
          8556.907,
          2416.955,
          19040.876,
          8062.764,
          7050.642,
          14319.031,
          27941.28758,
          11150.78,
          18259.216,
          24520.264,
          6414.178,
          1252.407,
          11848.141,
          2103.08,
          9414.92,
          3597.596,
          7445.918,
          13393.756,
          4402.233,
          1526.312,
          9872.701,
          2974.126,
          1875.344,
          10965.446,
          46113.511,
          7151.092,
          8782.469,
          6600.361,
          11576.13,
          4391.652,
          8457.818,
          6849.026,
          26140.3603,
          6282.235,
          6311.952,
          3443.064,
          1682.597,
          13063.883,
          12644.589,
          15170.069,
          17496.306,
          7626.993,
          13041.921,
          13451.122,
          13462.52,
          5488.262,
          6250.435,
          2913.569,
          12032.326,
          6238.298,
          10096.97,
          7348.142,
          12233.828,
          11674.13,
          7160.094,
          19933.458,
          38998.546,
          3353.284,
          4746.344,
          1759.338,
          19199.944,
          7624.63,
          3378.91,
          10118.424,
          7418.522,
          34472.841,
          1972.95,
          21232.18226,
          8269.044,
          5383.536,
          3987.926,
          8798.593,
          2020.177,
          9850.432,
          12094.478,
          3161.454,
          39727.614,
          25309.489,
          8277.523,
          5708.867,
          7045.499,
          8551.347,
          4076.497,
          19023.26,
          10577.087,
          3591.48,
          11299.343,
          11253.421,
          20420.60465,
          2904.088,
          34166.273,
          10214.636,
          14358.36437,
          1728.897,
          3693.428,
          7623.518,
          7954.517,
          9630.397,
          52590.82939,
          10791.96,
          5979.731,
          3989.841,
          4529.477,
          4670.64,
          22478.6,
          2154.361,
          6496.886,
          2632.992,
          13126.67745,
          4934.705,
          36910.60803,
          38415.474,
          12347.172,
          10806.839,
          41661.602,
          20167.33603,
          11345.519,
          5615.369,
          9101.798,
          6059.173,
          1241.565,
          16232.847,
          15828.82173,
          6474.013,
          3277.161,
          7337.748,
          10704.47,
          1880.487,
          8615.3,
          10959.33,
          47403.88,
          5472.449,
          38344.566,
          34828.654,
          1964.78,
          3208.787,
          37829.7242,
          33900.653,
          6875.961,
          4536.259,
          36397.576,
          1731.677,
          10325.206,
          10795.93733,
          11411.685,
          2007.945
         ],
         "xaxis": "x2",
         "yaxis": "y2"
        },
        {
         "alignmentgroup": "True",
         "bingroup": "x",
         "hovertemplate": "region=northeast<br>charges=%{x}<br>count=%{y}<extra></extra>",
         "legendgroup": "northeast",
         "marker": {
          "color": "#EF553B",
          "pattern": {
           "shape": ""
          }
         },
         "name": "northeast",
         "offsetgroup": "northeast",
         "orientation": "v",
         "showlegend": true,
         "type": "histogram",
         "x": [
          26650.70264664269,
          6406.4107,
          2721.3208,
          10797.3362,
          2395.17155,
          13228.84695,
          37701.8768,
          14451.83515,
          2198.18985,
          39774.2763,
          3046.062,
          6079.6715,
          3393.35635,
          2211.13075,
          13607.36875,
          8606.2174,
          6799.458,
          2755.02095,
          4441.21315,
          7935.29115,
          30184.9367,
          22412.6485,
          3645.0894,
          21344.8467,
          11488.31695,
          30259.99556,
          1705.6245,
          39556.4945,
          3385.39915,
          12815.44495,
          13616.3586,
          2457.21115,
          27375.90478,
          3490.5491,
          6334.34355,
          19964.7463,
          7077.1894,
          15518.18025,
          10407.08585,
          4827.90495,
          1694.7964,
          8538.28845,
          4005.4225,
          43753.33705,
          14901.5167,
          4337.7352,
          20984.0936,
          6610.1097,
          10564.8845,
          7358.17565,
          9225.2564,
          38511.6283,
          5354.07465,
          29523.1656,
          4040.55825,
          12829.4551,
          41097.16175,
          13047.33235,
          24869.8368,
          14590.63205,
          9282.4806,
          9617.66245,
          9715.841,
          22331.5668,
          48549.17835,
          4237.12655,
          11879.10405,
          9432.9253,
          47896.79135,
          20277.80751,
          1704.5681,
          6746.7425,
          24873.3849,
          11944.59435,
          9722.7695,
          10435.06525,
          4667.60765,
          24671.66334,
          11566.30055,
          6600.20595,
          48517.56315,
          11658.37915,
          19144.57652,
          41919.097,
          13217.0945,
          13981.85035,
          8334.45755,
          12404.8791,
          10043.249,
          9778.3472,
          13430.265,
          3481.868,
          12029.2867,
          7639.41745,
          21659.9301,
          15006.57945,
          42303.69215,
          8302.53565,
          10736.87075,
          8964.06055,
          9290.1395,
          9411.005,
          11396.9002,
          19594.80965,
          14455.64405,
          39125.33225,
          2727.3951,
          6555.07035,
          7323.734819,
          3167.45585,
          2254.7967,
          2897.3235,
          12730.9996,
          15230.32405,
          11165.41765,
          23288.9284,
          2203.47185,
          20878.78443,
          35147.52848,
          4347.02335,
          2196.4732,
          1967.0227,
          6837.3687,
          3044.2133,
          11763.0009,
          9361.3268,
          3857.75925,
          25656.57526,
          9866.30485,
          8342.90875,
          1708.0014,
          14043.4767,
          6067.12675,
          3268.84665,
          3213.62205,
          17878.90068,
          8334.5896,
          10923.9332,
          31620.00106,
          13224.05705,
          58571.07448,
          3206.49135,
          12913.9924,
          3861.20965,
          13635.6379,
          15359.1045,
          8823.98575,
          5594.8455,
          3558.62025,
          4435.0942,
          2207.69745,
          6753.038,
          11658.11505,
          34617.84065,
          6748.5912,
          7173.35995,
          14410.9321,
          24915.04626,
          20149.3229,
          13143.86485,
          10141.1362,
          8252.2843,
          1712.227,
          12430.95335,
          26392.26029,
          14394.39815,
          5148.5526,
          45710.20785,
          3943.5954,
          11244.3769,
          7729.64575,
          2104.1134,
          29186.48236,
          9541.69555,
          6113.23105,
          5469.0066,
          1984.4533,
          9875.6804,
          10106.13425,
          16657.71745,
          2217.6012,
          9447.25035,
          36189.1017,
          8604.48365,
          43254.41795,
          17128.42608,
          5031.26955,
          7985.815,
          5428.7277,
          3925.7582,
          3070.8087,
          9095.06825,
          12797.20962,
          7448.40395,
          12741.16745,
          5209.57885,
          2731.9122,
          4719.52405,
          17904.52705,
          3309.7926,
          4428.88785,
          23401.30575,
          16069.08475,
          20773.62775,
          39597.4072,
          11657.7189,
          6402.29135,
          12323.936,
          10072.05505,
          37270.1512,
          42111.6647,
          11729.6795,
          24106.91255,
          5458.04645,
          13129.60345,
          8891.1395,
          2585.85065,
          46255.1125,
          27218.43725,
          10422.91665,
          13555.0049,
          19798.05455,
          8688.85885,
          4661.28635,
          4564.19145,
          4846.92015,
          33732.6867,
          35069.37452,
          25333.33284,
          32108.66282,
          2217.46915,
          39047.285,
          11534.87265,
          41034.2214,
          9500.57305,
          3279.86855,
          4992.3764,
          16138.76205,
          9704.66805,
          25517.11363,
          4500.33925,
          16796.41194,
          4915.05985,
          4518.82625,
          14571.8908,
          7144.86265,
          7986.47525,
          6551.7501,
          8627.5411,
          4438.2634,
          23241.47453,
          9957.7216,
          6877.9801,
          4137.5227,
          13747.87235,
          2250.8352,
          1704.70015,
          33475.81715,
          11394.06555,
          7325.0482,
          14394.5579,
          9288.0267,
          5757.41345,
          13974.45555,
          12096.6512,
          13204.28565,
          2102.2647,
          10796.35025,
          11286.5387,
          4561.1885,
          44641.1974,
          23045.56616,
          16776.30405,
          11512.405,
          2396.0959,
          9222.4026,
          18903.49141,
          40904.1995,
          20709.02034,
          2203.73595,
          7228.21565,
          2459.7201,
          2200.83085,
          5227.98875,
          17178.6824,
          2899.48935,
          7650.77375,
          9447.3824,
          8603.8234,
          21771.3423,
          13725.47184,
          13019.16105,
          9964.06,
          20296.86345,
          1702.4553,
          12890.05765,
          4718.20355,
          6858.4796,
          6640.54485,
          11938.25595,
          14449.8544,
          6985.50695,
          37607.5277,
          18648.4217,
          10197.7722,
          4544.2348,
          10370.91255,
          34254.05335,
          2741.948,
          22462.04375,
          14283.4594,
          8534.6718,
          3732.6251,
          7133.9025,
          11931.12525,
          1708.92575,
          21259.37795,
          16115.3045,
          11272.33139,
          19496.71917,
          28101.33305,
          13143.33665,
          7050.0213,
          22395.74424,
          2205.9808
         ],
         "xaxis": "x",
         "yaxis": "y"
        },
        {
         "alignmentgroup": "True",
         "hovertemplate": "region=northeast<br>charges=%{x}<extra></extra>",
         "legendgroup": "northeast",
         "marker": {
          "color": "#EF553B"
         },
         "name": "northeast",
         "notched": true,
         "offsetgroup": "northeast",
         "showlegend": false,
         "type": "box",
         "x": [
          26650.70264664269,
          6406.4107,
          2721.3208,
          10797.3362,
          2395.17155,
          13228.84695,
          37701.8768,
          14451.83515,
          2198.18985,
          39774.2763,
          3046.062,
          6079.6715,
          3393.35635,
          2211.13075,
          13607.36875,
          8606.2174,
          6799.458,
          2755.02095,
          4441.21315,
          7935.29115,
          30184.9367,
          22412.6485,
          3645.0894,
          21344.8467,
          11488.31695,
          30259.99556,
          1705.6245,
          39556.4945,
          3385.39915,
          12815.44495,
          13616.3586,
          2457.21115,
          27375.90478,
          3490.5491,
          6334.34355,
          19964.7463,
          7077.1894,
          15518.18025,
          10407.08585,
          4827.90495,
          1694.7964,
          8538.28845,
          4005.4225,
          43753.33705,
          14901.5167,
          4337.7352,
          20984.0936,
          6610.1097,
          10564.8845,
          7358.17565,
          9225.2564,
          38511.6283,
          5354.07465,
          29523.1656,
          4040.55825,
          12829.4551,
          41097.16175,
          13047.33235,
          24869.8368,
          14590.63205,
          9282.4806,
          9617.66245,
          9715.841,
          22331.5668,
          48549.17835,
          4237.12655,
          11879.10405,
          9432.9253,
          47896.79135,
          20277.80751,
          1704.5681,
          6746.7425,
          24873.3849,
          11944.59435,
          9722.7695,
          10435.06525,
          4667.60765,
          24671.66334,
          11566.30055,
          6600.20595,
          48517.56315,
          11658.37915,
          19144.57652,
          41919.097,
          13217.0945,
          13981.85035,
          8334.45755,
          12404.8791,
          10043.249,
          9778.3472,
          13430.265,
          3481.868,
          12029.2867,
          7639.41745,
          21659.9301,
          15006.57945,
          42303.69215,
          8302.53565,
          10736.87075,
          8964.06055,
          9290.1395,
          9411.005,
          11396.9002,
          19594.80965,
          14455.64405,
          39125.33225,
          2727.3951,
          6555.07035,
          7323.734819,
          3167.45585,
          2254.7967,
          2897.3235,
          12730.9996,
          15230.32405,
          11165.41765,
          23288.9284,
          2203.47185,
          20878.78443,
          35147.52848,
          4347.02335,
          2196.4732,
          1967.0227,
          6837.3687,
          3044.2133,
          11763.0009,
          9361.3268,
          3857.75925,
          25656.57526,
          9866.30485,
          8342.90875,
          1708.0014,
          14043.4767,
          6067.12675,
          3268.84665,
          3213.62205,
          17878.90068,
          8334.5896,
          10923.9332,
          31620.00106,
          13224.05705,
          58571.07448,
          3206.49135,
          12913.9924,
          3861.20965,
          13635.6379,
          15359.1045,
          8823.98575,
          5594.8455,
          3558.62025,
          4435.0942,
          2207.69745,
          6753.038,
          11658.11505,
          34617.84065,
          6748.5912,
          7173.35995,
          14410.9321,
          24915.04626,
          20149.3229,
          13143.86485,
          10141.1362,
          8252.2843,
          1712.227,
          12430.95335,
          26392.26029,
          14394.39815,
          5148.5526,
          45710.20785,
          3943.5954,
          11244.3769,
          7729.64575,
          2104.1134,
          29186.48236,
          9541.69555,
          6113.23105,
          5469.0066,
          1984.4533,
          9875.6804,
          10106.13425,
          16657.71745,
          2217.6012,
          9447.25035,
          36189.1017,
          8604.48365,
          43254.41795,
          17128.42608,
          5031.26955,
          7985.815,
          5428.7277,
          3925.7582,
          3070.8087,
          9095.06825,
          12797.20962,
          7448.40395,
          12741.16745,
          5209.57885,
          2731.9122,
          4719.52405,
          17904.52705,
          3309.7926,
          4428.88785,
          23401.30575,
          16069.08475,
          20773.62775,
          39597.4072,
          11657.7189,
          6402.29135,
          12323.936,
          10072.05505,
          37270.1512,
          42111.6647,
          11729.6795,
          24106.91255,
          5458.04645,
          13129.60345,
          8891.1395,
          2585.85065,
          46255.1125,
          27218.43725,
          10422.91665,
          13555.0049,
          19798.05455,
          8688.85885,
          4661.28635,
          4564.19145,
          4846.92015,
          33732.6867,
          35069.37452,
          25333.33284,
          32108.66282,
          2217.46915,
          39047.285,
          11534.87265,
          41034.2214,
          9500.57305,
          3279.86855,
          4992.3764,
          16138.76205,
          9704.66805,
          25517.11363,
          4500.33925,
          16796.41194,
          4915.05985,
          4518.82625,
          14571.8908,
          7144.86265,
          7986.47525,
          6551.7501,
          8627.5411,
          4438.2634,
          23241.47453,
          9957.7216,
          6877.9801,
          4137.5227,
          13747.87235,
          2250.8352,
          1704.70015,
          33475.81715,
          11394.06555,
          7325.0482,
          14394.5579,
          9288.0267,
          5757.41345,
          13974.45555,
          12096.6512,
          13204.28565,
          2102.2647,
          10796.35025,
          11286.5387,
          4561.1885,
          44641.1974,
          23045.56616,
          16776.30405,
          11512.405,
          2396.0959,
          9222.4026,
          18903.49141,
          40904.1995,
          20709.02034,
          2203.73595,
          7228.21565,
          2459.7201,
          2200.83085,
          5227.98875,
          17178.6824,
          2899.48935,
          7650.77375,
          9447.3824,
          8603.8234,
          21771.3423,
          13725.47184,
          13019.16105,
          9964.06,
          20296.86345,
          1702.4553,
          12890.05765,
          4718.20355,
          6858.4796,
          6640.54485,
          11938.25595,
          14449.8544,
          6985.50695,
          37607.5277,
          18648.4217,
          10197.7722,
          4544.2348,
          10370.91255,
          34254.05335,
          2741.948,
          22462.04375,
          14283.4594,
          8534.6718,
          3732.6251,
          7133.9025,
          11931.12525,
          1708.92575,
          21259.37795,
          16115.3045,
          11272.33139,
          19496.71917,
          28101.33305,
          13143.33665,
          7050.0213,
          22395.74424,
          2205.9808
         ],
         "xaxis": "x2",
         "yaxis": "y2"
        },
        {
         "alignmentgroup": "True",
         "bingroup": "x",
         "hovertemplate": "region=southeast<br>charges=%{x}<br>count=%{y}<extra></extra>",
         "legendgroup": "southeast",
         "marker": {
          "color": "#00cc96",
          "pattern": {
           "shape": ""
          }
         },
         "name": "southeast",
         "offsetgroup": "southeast",
         "orientation": "v",
         "showlegend": true,
         "type": "histogram",
         "x": [
          1725.5523,
          4449.462,
          3756.6216,
          8240.5896,
          27808.7251,
          11090.7178,
          39611.7577,
          1137.011,
          14001.1338,
          4949.7587,
          6272.4772,
          6313.759,
          12629.8967,
          38709.176,
          37742.5757,
          34303.1672,
          23244.7902,
          4504.6624,
          5920.1041,
          17663.1442,
          16577.7795,
          11946.6259,
          3947.4131,
          1532.4697,
          37165.1638,
          2026.9741,
          3766.8838,
          10226.2842,
          30942.1918,
          2867.1196,
          47055.5321,
          11381.3254,
          19107.7796,
          8601.3293,
          2155.6815,
          27322.73386,
          18972.495,
          5138.2567,
          9877.6077,
          7789.635,
          21223.6758,
          36950.2567,
          19749.38338,
          36149.4835,
          13405.3903,
          1631.8212,
          7731.4271,
          3981.9768,
          12557.6053,
          2137.6536,
          1137.4697,
          8516.829,
          8871.1517,
          37133.8982,
          11743.299,
          5002.7827,
          2483.736,
          3392.9768,
          25081.76784,
          19515.5416,
          11987.1682,
          2689.4954,
          24227.33724,
          14001.2867,
          19444.2658,
          1615.7667,
          4463.2051,
          7152.6714,
          12648.7034,
          1986.9334,
          44260.7499,
          5400.9805,
          17085.2676,
          20462.99766,
          46151.1245,
          17179.522,
          1719.4363,
          12928.7911,
          9855.1314,
          7742.1098,
          25992.82104,
          42112.2356,
          2156.7518,
          21978.6769,
          12265.5069,
          4349.462,
          4151.0287,
          42124.5153,
          8124.4084,
          3561.8889,
          12142.5786,
          8232.6388,
          10977.2063,
          6184.2994,
          4889.9995,
          5478.0368,
          14133.03775,
          8944.1151,
          1837.2819,
          1607.5101,
          3180.5101,
          1391.5287,
          38126.2465,
          27000.98473,
          20781.48892,
          5846.9176,
          11856.4115,
          16586.49771,
          1631.6683,
          8083.9198,
          4185.0979,
          6652.5288,
          4074.4537,
          7345.7266,
          9140.951,
          14418.2804,
          46889.2612,
          46599.1084,
          9788.8659,
          13919.8229,
          12592.5345,
          1149.3959,
          28287.89766,
          4686.3887,
          11881.9696,
          7682.67,
          10381.4787,
          19521.9682,
          2201.0971,
          2497.0383,
          1534.3045,
          1824.2854,
          9304.7019,
          1622.1885,
          48885.13561,
          24513.09126,
          8211.1002,
          22218.1149,
          32548.3405,
          5974.3847,
          2498.4144,
          27724.28875,
          3994.1778,
          5397.6167,
          38245.59327,
          11482.63485,
          48675.5177,
          12925.886,
          19214.70553,
          13831.1152,
          8233.0975,
          27346.04207,
          3056.3881,
          13887.204,
          63770.42801,
          45863.205,
          3972.9247,
          3935.1799,
          9058.7303,
          2801.2588,
          2219.4451,
          4753.6368,
          1664.9996,
          6356.2707,
          17626.23951,
          4779.6023,
          5976.8311,
          2566.4707,
          5709.1644,
          7640.3092,
          1633.0444,
          16085.1275,
          9283.562,
          8547.6913,
          1880.07,
          42969.8527,
          34439.8559,
          11326.71487,
          3366.6697,
          12949.1554,
          18806.14547,
          9800.8882,
          10579.711,
          8280.6227,
          8527.532,
          12244.531,
          24667.419,
          6435.6237,
          22192.43711,
          1136.3994,
          27037.9141,
          42560.4304,
          6500.2359,
          4837.5823,
          4399.731,
          6185.3208,
          46200.9851,
          12485.8009,
          5438.7491,
          34806.4677,
          40273.6455,
          3500.6123,
          2020.5523,
          9504.3103,
          44400.4064,
          1727.54,
          10107.2206,
          40932.4295,
          6781.3542,
          19361.9988,
          40419.0191,
          18246.4955,
          3757.8448,
          19539.243,
          11833.7823,
          23065.4207,
          36307.7983,
          10560.4917,
          5934.3798,
          1146.7966,
          9386.1613,
          4350.5144,
          13457.9608,
          5662.225,
          21195.818,
          4266.1658,
          7046.7222,
          14313.8463,
          38792.6856,
          1815.8759,
          1131.5066,
          11013.7119,
          5584.3057,
          1877.9294,
          1621.8827,
          8219.2039,
          43813.8661,
          7160.3303,
          36021.0112,
          27533.9129,
          45008.9555,
          2438.0552,
          40974.1649,
          18218.16139,
          1141.4451,
          3392.3652,
          5966.8874,
          6653.7886,
          19719.6947,
          7243.8136,
          44202.6536,
          1634.5734,
          48673.5588,
          8125.7845,
          7633.7206,
          2473.3341,
          5245.2269,
          13470.8044,
          6289.7549,
          2927.0647,
          4673.3922,
          2304.0022,
          9487.6442,
          1121.8739,
          9549.5651,
          12982.8747,
          47462.894,
          3875.7341,
          41999.52,
          14474.675,
          8596.8278,
          10702.6424,
          2322.6218,
          7804.1605,
          2902.9065,
          4889.0368,
          5484.4673,
          13887.9685,
          18767.7377,
          36580.28216,
          35595.5898,
          42211.1382,
          1711.0268,
          8569.8618,
          44423.803,
          37484.4493,
          44501.3982,
          17929.30337,
          2480.9791,
          1981.5819,
          11554.2236,
          48970.2476,
          8978.1851,
          10928.849,
          39871.7043,
          4562.8421,
          34672.1472,
          15161.5344,
          11884.04858,
          9748.9106,
          41676.0811,
          1674.6323,
          3227.1211,
          3471.4096,
          11363.2832,
          10338.9316,
          8605.3615,
          41949.2441,
          24180.9335,
          10807.4863,
          36124.5737,
          38282.7495,
          8347.1643,
          5836.5204,
          8582.3023,
          3704.3545,
          9048.0273,
          27117.99378,
          6338.0756,
          40941.2854,
          39722.7462,
          5124.1887,
          18963.17192,
          10982.5013,
          11093.6229,
          19350.3689,
          18328.2381,
          5699.8375,
          18223.4512,
          23563.01618,
          5415.6612,
          4058.1161,
          6593.5083,
          8442.667,
          26125.67477,
          4795.6568,
          7162.0122,
          10594.2257,
          8515.7587,
          3238.4357,
          47269.854,
          49577.6624,
          3171.6149,
          1135.9407,
          1633.9618,
          4415.1588,
          6770.1925,
          26926.5144,
          14478.33015,
          4747.0529,
          17043.3414,
          8283.6807,
          1720.3537,
          7147.4728,
          1515.3449,
          4340.4409,
          62592.87309,
          2464.6188,
          1163.4627,
          12981.3457,
          43896.3763,
          9377.9047,
          12629.1656,
          1629.8335
         ],
         "xaxis": "x",
         "yaxis": "y"
        },
        {
         "alignmentgroup": "True",
         "hovertemplate": "region=southeast<br>charges=%{x}<extra></extra>",
         "legendgroup": "southeast",
         "marker": {
          "color": "#00cc96"
         },
         "name": "southeast",
         "notched": true,
         "offsetgroup": "southeast",
         "showlegend": false,
         "type": "box",
         "x": [
          1725.5523,
          4449.462,
          3756.6216,
          8240.5896,
          27808.7251,
          11090.7178,
          39611.7577,
          1137.011,
          14001.1338,
          4949.7587,
          6272.4772,
          6313.759,
          12629.8967,
          38709.176,
          37742.5757,
          34303.1672,
          23244.7902,
          4504.6624,
          5920.1041,
          17663.1442,
          16577.7795,
          11946.6259,
          3947.4131,
          1532.4697,
          37165.1638,
          2026.9741,
          3766.8838,
          10226.2842,
          30942.1918,
          2867.1196,
          47055.5321,
          11381.3254,
          19107.7796,
          8601.3293,
          2155.6815,
          27322.73386,
          18972.495,
          5138.2567,
          9877.6077,
          7789.635,
          21223.6758,
          36950.2567,
          19749.38338,
          36149.4835,
          13405.3903,
          1631.8212,
          7731.4271,
          3981.9768,
          12557.6053,
          2137.6536,
          1137.4697,
          8516.829,
          8871.1517,
          37133.8982,
          11743.299,
          5002.7827,
          2483.736,
          3392.9768,
          25081.76784,
          19515.5416,
          11987.1682,
          2689.4954,
          24227.33724,
          14001.2867,
          19444.2658,
          1615.7667,
          4463.2051,
          7152.6714,
          12648.7034,
          1986.9334,
          44260.7499,
          5400.9805,
          17085.2676,
          20462.99766,
          46151.1245,
          17179.522,
          1719.4363,
          12928.7911,
          9855.1314,
          7742.1098,
          25992.82104,
          42112.2356,
          2156.7518,
          21978.6769,
          12265.5069,
          4349.462,
          4151.0287,
          42124.5153,
          8124.4084,
          3561.8889,
          12142.5786,
          8232.6388,
          10977.2063,
          6184.2994,
          4889.9995,
          5478.0368,
          14133.03775,
          8944.1151,
          1837.2819,
          1607.5101,
          3180.5101,
          1391.5287,
          38126.2465,
          27000.98473,
          20781.48892,
          5846.9176,
          11856.4115,
          16586.49771,
          1631.6683,
          8083.9198,
          4185.0979,
          6652.5288,
          4074.4537,
          7345.7266,
          9140.951,
          14418.2804,
          46889.2612,
          46599.1084,
          9788.8659,
          13919.8229,
          12592.5345,
          1149.3959,
          28287.89766,
          4686.3887,
          11881.9696,
          7682.67,
          10381.4787,
          19521.9682,
          2201.0971,
          2497.0383,
          1534.3045,
          1824.2854,
          9304.7019,
          1622.1885,
          48885.13561,
          24513.09126,
          8211.1002,
          22218.1149,
          32548.3405,
          5974.3847,
          2498.4144,
          27724.28875,
          3994.1778,
          5397.6167,
          38245.59327,
          11482.63485,
          48675.5177,
          12925.886,
          19214.70553,
          13831.1152,
          8233.0975,
          27346.04207,
          3056.3881,
          13887.204,
          63770.42801,
          45863.205,
          3972.9247,
          3935.1799,
          9058.7303,
          2801.2588,
          2219.4451,
          4753.6368,
          1664.9996,
          6356.2707,
          17626.23951,
          4779.6023,
          5976.8311,
          2566.4707,
          5709.1644,
          7640.3092,
          1633.0444,
          16085.1275,
          9283.562,
          8547.6913,
          1880.07,
          42969.8527,
          34439.8559,
          11326.71487,
          3366.6697,
          12949.1554,
          18806.14547,
          9800.8882,
          10579.711,
          8280.6227,
          8527.532,
          12244.531,
          24667.419,
          6435.6237,
          22192.43711,
          1136.3994,
          27037.9141,
          42560.4304,
          6500.2359,
          4837.5823,
          4399.731,
          6185.3208,
          46200.9851,
          12485.8009,
          5438.7491,
          34806.4677,
          40273.6455,
          3500.6123,
          2020.5523,
          9504.3103,
          44400.4064,
          1727.54,
          10107.2206,
          40932.4295,
          6781.3542,
          19361.9988,
          40419.0191,
          18246.4955,
          3757.8448,
          19539.243,
          11833.7823,
          23065.4207,
          36307.7983,
          10560.4917,
          5934.3798,
          1146.7966,
          9386.1613,
          4350.5144,
          13457.9608,
          5662.225,
          21195.818,
          4266.1658,
          7046.7222,
          14313.8463,
          38792.6856,
          1815.8759,
          1131.5066,
          11013.7119,
          5584.3057,
          1877.9294,
          1621.8827,
          8219.2039,
          43813.8661,
          7160.3303,
          36021.0112,
          27533.9129,
          45008.9555,
          2438.0552,
          40974.1649,
          18218.16139,
          1141.4451,
          3392.3652,
          5966.8874,
          6653.7886,
          19719.6947,
          7243.8136,
          44202.6536,
          1634.5734,
          48673.5588,
          8125.7845,
          7633.7206,
          2473.3341,
          5245.2269,
          13470.8044,
          6289.7549,
          2927.0647,
          4673.3922,
          2304.0022,
          9487.6442,
          1121.8739,
          9549.5651,
          12982.8747,
          47462.894,
          3875.7341,
          41999.52,
          14474.675,
          8596.8278,
          10702.6424,
          2322.6218,
          7804.1605,
          2902.9065,
          4889.0368,
          5484.4673,
          13887.9685,
          18767.7377,
          36580.28216,
          35595.5898,
          42211.1382,
          1711.0268,
          8569.8618,
          44423.803,
          37484.4493,
          44501.3982,
          17929.30337,
          2480.9791,
          1981.5819,
          11554.2236,
          48970.2476,
          8978.1851,
          10928.849,
          39871.7043,
          4562.8421,
          34672.1472,
          15161.5344,
          11884.04858,
          9748.9106,
          41676.0811,
          1674.6323,
          3227.1211,
          3471.4096,
          11363.2832,
          10338.9316,
          8605.3615,
          41949.2441,
          24180.9335,
          10807.4863,
          36124.5737,
          38282.7495,
          8347.1643,
          5836.5204,
          8582.3023,
          3704.3545,
          9048.0273,
          27117.99378,
          6338.0756,
          40941.2854,
          39722.7462,
          5124.1887,
          18963.17192,
          10982.5013,
          11093.6229,
          19350.3689,
          18328.2381,
          5699.8375,
          18223.4512,
          23563.01618,
          5415.6612,
          4058.1161,
          6593.5083,
          8442.667,
          26125.67477,
          4795.6568,
          7162.0122,
          10594.2257,
          8515.7587,
          3238.4357,
          47269.854,
          49577.6624,
          3171.6149,
          1135.9407,
          1633.9618,
          4415.1588,
          6770.1925,
          26926.5144,
          14478.33015,
          4747.0529,
          17043.3414,
          8283.6807,
          1720.3537,
          7147.4728,
          1515.3449,
          4340.4409,
          62592.87309,
          2464.6188,
          1163.4627,
          12981.3457,
          43896.3763,
          9377.9047,
          12629.1656,
          1629.8335
         ],
         "xaxis": "x2",
         "yaxis": "y2"
        },
        {
         "alignmentgroup": "True",
         "bingroup": "x",
         "hovertemplate": "region=northwest<br>charges=%{x}<br>count=%{y}<extra></extra>",
         "legendgroup": "northwest",
         "marker": {
          "color": "#ab63fa",
          "pattern": {
           "shape": ""
          }
         },
         "name": "northwest",
         "offsetgroup": "northwest",
         "orientation": "v",
         "showlegend": true,
         "type": "histogram",
         "x": [
          21984.47061,
          3866.8552,
          7281.5056,
          28923.13692,
          6203.90175,
          12268.63225,
          2775.19215,
          13770.0979,
          1625.43375,
          15612.19335,
          3556.9223,
          3579.8287,
          8059.6791,
          47496.49445,
          5989.52365,
          30166.61817,
          4133.64165,
          14711.7438,
          6389.37785,
          11356.6609,
          6571.02435,
          11033.6617,
          21098.55405,
          43578.9394,
          8026.6666,
          11082.5772,
          10942.13205,
          5729.0053,
          17560.37975,
          3877.30425,
          10825.2537,
          2404.7338,
          6686.4313,
          2257.47525,
          10115.00885,
          32734.1863,
          1632.56445,
          2045.68525,
          18157.876,
          20745.9891,
          40720.55105,
          10959.6947,
          5125.2157,
          6948.7008,
          21348.706,
          5028.1466,
          6128.79745,
          2719.27975,
          2855.43755,
          6455.86265,
          11735.87905,
          7419.4779,
          4922.9159,
          12044.342,
          9644.2525,
          2130.6759,
          13012.20865,
          8162.71625,
          3537.703,
          10355.641,
          7443.64305,
          6710.1919,
          17352.6803,
          24476.47851,
          43921.1837,
          11520.09985,
          33750.2918,
          36219.40545,
          7265.7025,
          2523.1695,
          2803.69785,
          14256.1928,
          38746.3551,
          9249.4952,
          19442.3535,
          7749.1564,
          8835.26495,
          7421.19455,
          4894.7533,
          42760.5022,
          24393.6224,
          13429.0354,
          13937.6665,
          13352.0998,
          1635.73365,
          11830.6072,
          9620.3307,
          8017.06115,
          8116.26885,
          13415.0381,
          18033.9679,
          16455.70785,
          30284.64294,
          3176.8159,
          4618.0799,
          2138.0707,
          7526.70645,
          14692.66935,
          10269.46,
          1621.3402,
          2134.9015,
          28950.4692,
          18804.7524,
          4906.40965,
          4243.59005,
          4738.2682,
          26109.32905,
          11454.0215,
          4032.2407,
          1769.53165,
          11840.77505,
          1632.03625,
          12643.3778,
          28868.6639,
          2534.39375,
          15555.18875,
          12475.3513,
          10461.9794,
          6796.86325,
          2643.2685,
          3077.0955,
          8413.46305,
          24059.68019,
          10231.4999,
          23807.2406,
          11187.6567,
          39983.42595,
          1646.4297,
          9193.8385,
          2128.43105,
          6373.55735,
          7256.7231,
          45702.02235,
          12222.8983,
          1639.5631,
          43943.8761,
          8428.0693,
          33471.97189,
          9174.13565,
          17468.9839,
          25678.77845,
          12129.61415,
          3736.4647,
          42983.4585,
          2709.1119,
          32787.45859,
          4466.6214,
          6123.5688,
          4058.71245,
          40003.33225,
          7222.78625,
          46130.5265,
          10156.7832,
          9863.4718,
          2362.22905,
          2352.96845,
          3201.24515,
          10976.24575,
          5385.3379,
          8930.93455,
          10264.4421,
          8310.83915,
          9566.9909,
          13112.6048,
          10848.1343,
          12231.6136,
          6664.68595,
          9583.8933,
          8827.2099,
          9910.35985,
          1627.28245,
          3062.50825,
          1906.35825,
          14210.53595,
          11842.62375,
          6933.24225,
          17748.5062,
          7261.741,
          6986.697,
          9869.8102,
          1917.3184,
          7209.4918,
          18310.742,
          7731.85785,
          28476.73499,
          2136.88225,
          6360.9936,
          2842.76075,
          55135.40209,
          2680.9493,
          12523.6048,
          6117.4945,
          5266.3656,
          4719.73655,
          11743.9341,
          5377.4578,
          12622.1795,
          10601.63225,
          14119.62,
          15817.9857,
          12269.68865,
          2690.1138,
          2789.0574,
          4877.98105,
          5272.1758,
          11945.1327,
          29330.98315,
          2221.56445,
          2117.33885,
          2639.0429,
          14382.70905,
          5257.50795,
          21774.32215,
          4320.41085,
          8965.79575,
          1628.4709,
          6358.77645,
          4527.18295,
          20009.63365,
          12609.88702,
          28468.91901,
          2730.10785,
          26467.09737,
          23967.38305,
          7518.02535,
          2527.81865,
          8410.04685,
          28340.18885,
          16420.49455,
          5267.81815,
          17361.7661,
          4433.3877,
          24915.22085,
          8765.249,
          12124.9924,
          2709.24395,
          12495.29085,
          26018.95052,
          16450.8947,
          21595.38229,
          21677.28345,
          12950.0712,
          39725.51805,
          22493.65964,
          20234.85475,
          21880.82,
          3594.17085,
          8023.13545,
          3353.4703,
          10594.50155,
          4462.7218,
          6548.19505,
          14349.8544,
          1909.52745,
          4454.40265,
          5855.9025,
          15019.76005,
          11353.2276,
          33907.548,
          8988.15875,
          10493.9458,
          5312.16985,
          5693.4305,
          46661.4424,
          14254.6082,
          9991.03765,
          19673.33573,
          11085.5868,
          3176.2877,
          36898.73308,
          11289.10925,
          2261.5688,
          12235.8392,
          5630.45785,
          11015.1747,
          14426.07385,
          7727.2532,
          7153.5539,
          6112.35295,
          6457.8434,
          4433.9159,
          23887.6627,
          2850.68375,
          37465.34375,
          13844.7972,
          5327.40025,
          8671.19125,
          4134.08245,
          18838.70366,
          33307.5508,
          6393.60345,
          6198.7518,
          8733.22925,
          2055.3249,
          5116.5004,
          5373.36425,
          3956.07145,
          7537.1639,
          60021.39897,
          12479.70895,
          2699.56835,
          12224.35085,
          4296.2712,
          11436.73815,
          11305.93455,
          30063.58055,
          3292.52985,
          3021.80915,
          4357.04365,
          4189.1131,
          24535.69855,
          9301.89355,
          5261.46945,
          2710.82855,
          46718.16325,
          21472.4788,
          6940.90985,
          4571.41305,
          18765.87545,
          7201.70085,
          5425.02335,
          4239.89265,
          10600.5483,
          29141.3603
         ],
         "xaxis": "x",
         "yaxis": "y"
        },
        {
         "alignmentgroup": "True",
         "hovertemplate": "region=northwest<br>charges=%{x}<extra></extra>",
         "legendgroup": "northwest",
         "marker": {
          "color": "#ab63fa"
         },
         "name": "northwest",
         "notched": true,
         "offsetgroup": "northwest",
         "showlegend": false,
         "type": "box",
         "x": [
          21984.47061,
          3866.8552,
          7281.5056,
          28923.13692,
          6203.90175,
          12268.63225,
          2775.19215,
          13770.0979,
          1625.43375,
          15612.19335,
          3556.9223,
          3579.8287,
          8059.6791,
          47496.49445,
          5989.52365,
          30166.61817,
          4133.64165,
          14711.7438,
          6389.37785,
          11356.6609,
          6571.02435,
          11033.6617,
          21098.55405,
          43578.9394,
          8026.6666,
          11082.5772,
          10942.13205,
          5729.0053,
          17560.37975,
          3877.30425,
          10825.2537,
          2404.7338,
          6686.4313,
          2257.47525,
          10115.00885,
          32734.1863,
          1632.56445,
          2045.68525,
          18157.876,
          20745.9891,
          40720.55105,
          10959.6947,
          5125.2157,
          6948.7008,
          21348.706,
          5028.1466,
          6128.79745,
          2719.27975,
          2855.43755,
          6455.86265,
          11735.87905,
          7419.4779,
          4922.9159,
          12044.342,
          9644.2525,
          2130.6759,
          13012.20865,
          8162.71625,
          3537.703,
          10355.641,
          7443.64305,
          6710.1919,
          17352.6803,
          24476.47851,
          43921.1837,
          11520.09985,
          33750.2918,
          36219.40545,
          7265.7025,
          2523.1695,
          2803.69785,
          14256.1928,
          38746.3551,
          9249.4952,
          19442.3535,
          7749.1564,
          8835.26495,
          7421.19455,
          4894.7533,
          42760.5022,
          24393.6224,
          13429.0354,
          13937.6665,
          13352.0998,
          1635.73365,
          11830.6072,
          9620.3307,
          8017.06115,
          8116.26885,
          13415.0381,
          18033.9679,
          16455.70785,
          30284.64294,
          3176.8159,
          4618.0799,
          2138.0707,
          7526.70645,
          14692.66935,
          10269.46,
          1621.3402,
          2134.9015,
          28950.4692,
          18804.7524,
          4906.40965,
          4243.59005,
          4738.2682,
          26109.32905,
          11454.0215,
          4032.2407,
          1769.53165,
          11840.77505,
          1632.03625,
          12643.3778,
          28868.6639,
          2534.39375,
          15555.18875,
          12475.3513,
          10461.9794,
          6796.86325,
          2643.2685,
          3077.0955,
          8413.46305,
          24059.68019,
          10231.4999,
          23807.2406,
          11187.6567,
          39983.42595,
          1646.4297,
          9193.8385,
          2128.43105,
          6373.55735,
          7256.7231,
          45702.02235,
          12222.8983,
          1639.5631,
          43943.8761,
          8428.0693,
          33471.97189,
          9174.13565,
          17468.9839,
          25678.77845,
          12129.61415,
          3736.4647,
          42983.4585,
          2709.1119,
          32787.45859,
          4466.6214,
          6123.5688,
          4058.71245,
          40003.33225,
          7222.78625,
          46130.5265,
          10156.7832,
          9863.4718,
          2362.22905,
          2352.96845,
          3201.24515,
          10976.24575,
          5385.3379,
          8930.93455,
          10264.4421,
          8310.83915,
          9566.9909,
          13112.6048,
          10848.1343,
          12231.6136,
          6664.68595,
          9583.8933,
          8827.2099,
          9910.35985,
          1627.28245,
          3062.50825,
          1906.35825,
          14210.53595,
          11842.62375,
          6933.24225,
          17748.5062,
          7261.741,
          6986.697,
          9869.8102,
          1917.3184,
          7209.4918,
          18310.742,
          7731.85785,
          28476.73499,
          2136.88225,
          6360.9936,
          2842.76075,
          55135.40209,
          2680.9493,
          12523.6048,
          6117.4945,
          5266.3656,
          4719.73655,
          11743.9341,
          5377.4578,
          12622.1795,
          10601.63225,
          14119.62,
          15817.9857,
          12269.68865,
          2690.1138,
          2789.0574,
          4877.98105,
          5272.1758,
          11945.1327,
          29330.98315,
          2221.56445,
          2117.33885,
          2639.0429,
          14382.70905,
          5257.50795,
          21774.32215,
          4320.41085,
          8965.79575,
          1628.4709,
          6358.77645,
          4527.18295,
          20009.63365,
          12609.88702,
          28468.91901,
          2730.10785,
          26467.09737,
          23967.38305,
          7518.02535,
          2527.81865,
          8410.04685,
          28340.18885,
          16420.49455,
          5267.81815,
          17361.7661,
          4433.3877,
          24915.22085,
          8765.249,
          12124.9924,
          2709.24395,
          12495.29085,
          26018.95052,
          16450.8947,
          21595.38229,
          21677.28345,
          12950.0712,
          39725.51805,
          22493.65964,
          20234.85475,
          21880.82,
          3594.17085,
          8023.13545,
          3353.4703,
          10594.50155,
          4462.7218,
          6548.19505,
          14349.8544,
          1909.52745,
          4454.40265,
          5855.9025,
          15019.76005,
          11353.2276,
          33907.548,
          8988.15875,
          10493.9458,
          5312.16985,
          5693.4305,
          46661.4424,
          14254.6082,
          9991.03765,
          19673.33573,
          11085.5868,
          3176.2877,
          36898.73308,
          11289.10925,
          2261.5688,
          12235.8392,
          5630.45785,
          11015.1747,
          14426.07385,
          7727.2532,
          7153.5539,
          6112.35295,
          6457.8434,
          4433.9159,
          23887.6627,
          2850.68375,
          37465.34375,
          13844.7972,
          5327.40025,
          8671.19125,
          4134.08245,
          18838.70366,
          33307.5508,
          6393.60345,
          6198.7518,
          8733.22925,
          2055.3249,
          5116.5004,
          5373.36425,
          3956.07145,
          7537.1639,
          60021.39897,
          12479.70895,
          2699.56835,
          12224.35085,
          4296.2712,
          11436.73815,
          11305.93455,
          30063.58055,
          3292.52985,
          3021.80915,
          4357.04365,
          4189.1131,
          24535.69855,
          9301.89355,
          5261.46945,
          2710.82855,
          46718.16325,
          21472.4788,
          6940.90985,
          4571.41305,
          18765.87545,
          7201.70085,
          5425.02335,
          4239.89265,
          10600.5483,
          29141.3603
         ],
         "xaxis": "x2",
         "yaxis": "y2"
        }
       ],
       "layout": {
        "bargap": 0.2,
        "barmode": "relative",
        "legend": {
         "title": {
          "text": "region"
         },
         "tracegroupgap": 0
        },
        "margin": {
         "t": 60
        },
        "template": {
         "data": {
          "bar": [
           {
            "error_x": {
             "color": "#2a3f5f"
            },
            "error_y": {
             "color": "#2a3f5f"
            },
            "marker": {
             "line": {
              "color": "#E5ECF6",
              "width": 0.5
             },
             "pattern": {
              "fillmode": "overlay",
              "size": 10,
              "solidity": 0.2
             }
            },
            "type": "bar"
           }
          ],
          "barpolar": [
           {
            "marker": {
             "line": {
              "color": "#E5ECF6",
              "width": 0.5
             },
             "pattern": {
              "fillmode": "overlay",
              "size": 10,
              "solidity": 0.2
             }
            },
            "type": "barpolar"
           }
          ],
          "carpet": [
           {
            "aaxis": {
             "endlinecolor": "#2a3f5f",
             "gridcolor": "white",
             "linecolor": "white",
             "minorgridcolor": "white",
             "startlinecolor": "#2a3f5f"
            },
            "baxis": {
             "endlinecolor": "#2a3f5f",
             "gridcolor": "white",
             "linecolor": "white",
             "minorgridcolor": "white",
             "startlinecolor": "#2a3f5f"
            },
            "type": "carpet"
           }
          ],
          "choropleth": [
           {
            "colorbar": {
             "outlinewidth": 0,
             "ticks": ""
            },
            "type": "choropleth"
           }
          ],
          "contour": [
           {
            "colorbar": {
             "outlinewidth": 0,
             "ticks": ""
            },
            "colorscale": [
             [
              0,
              "#0d0887"
             ],
             [
              0.1111111111111111,
              "#46039f"
             ],
             [
              0.2222222222222222,
              "#7201a8"
             ],
             [
              0.3333333333333333,
              "#9c179e"
             ],
             [
              0.4444444444444444,
              "#bd3786"
             ],
             [
              0.5555555555555556,
              "#d8576b"
             ],
             [
              0.6666666666666666,
              "#ed7953"
             ],
             [
              0.7777777777777778,
              "#fb9f3a"
             ],
             [
              0.8888888888888888,
              "#fdca26"
             ],
             [
              1,
              "#f0f921"
             ]
            ],
            "type": "contour"
           }
          ],
          "contourcarpet": [
           {
            "colorbar": {
             "outlinewidth": 0,
             "ticks": ""
            },
            "type": "contourcarpet"
           }
          ],
          "heatmap": [
           {
            "colorbar": {
             "outlinewidth": 0,
             "ticks": ""
            },
            "colorscale": [
             [
              0,
              "#0d0887"
             ],
             [
              0.1111111111111111,
              "#46039f"
             ],
             [
              0.2222222222222222,
              "#7201a8"
             ],
             [
              0.3333333333333333,
              "#9c179e"
             ],
             [
              0.4444444444444444,
              "#bd3786"
             ],
             [
              0.5555555555555556,
              "#d8576b"
             ],
             [
              0.6666666666666666,
              "#ed7953"
             ],
             [
              0.7777777777777778,
              "#fb9f3a"
             ],
             [
              0.8888888888888888,
              "#fdca26"
             ],
             [
              1,
              "#f0f921"
             ]
            ],
            "type": "heatmap"
           }
          ],
          "heatmapgl": [
           {
            "colorbar": {
             "outlinewidth": 0,
             "ticks": ""
            },
            "colorscale": [
             [
              0,
              "#0d0887"
             ],
             [
              0.1111111111111111,
              "#46039f"
             ],
             [
              0.2222222222222222,
              "#7201a8"
             ],
             [
              0.3333333333333333,
              "#9c179e"
             ],
             [
              0.4444444444444444,
              "#bd3786"
             ],
             [
              0.5555555555555556,
              "#d8576b"
             ],
             [
              0.6666666666666666,
              "#ed7953"
             ],
             [
              0.7777777777777778,
              "#fb9f3a"
             ],
             [
              0.8888888888888888,
              "#fdca26"
             ],
             [
              1,
              "#f0f921"
             ]
            ],
            "type": "heatmapgl"
           }
          ],
          "histogram": [
           {
            "marker": {
             "pattern": {
              "fillmode": "overlay",
              "size": 10,
              "solidity": 0.2
             }
            },
            "type": "histogram"
           }
          ],
          "histogram2d": [
           {
            "colorbar": {
             "outlinewidth": 0,
             "ticks": ""
            },
            "colorscale": [
             [
              0,
              "#0d0887"
             ],
             [
              0.1111111111111111,
              "#46039f"
             ],
             [
              0.2222222222222222,
              "#7201a8"
             ],
             [
              0.3333333333333333,
              "#9c179e"
             ],
             [
              0.4444444444444444,
              "#bd3786"
             ],
             [
              0.5555555555555556,
              "#d8576b"
             ],
             [
              0.6666666666666666,
              "#ed7953"
             ],
             [
              0.7777777777777778,
              "#fb9f3a"
             ],
             [
              0.8888888888888888,
              "#fdca26"
             ],
             [
              1,
              "#f0f921"
             ]
            ],
            "type": "histogram2d"
           }
          ],
          "histogram2dcontour": [
           {
            "colorbar": {
             "outlinewidth": 0,
             "ticks": ""
            },
            "colorscale": [
             [
              0,
              "#0d0887"
             ],
             [
              0.1111111111111111,
              "#46039f"
             ],
             [
              0.2222222222222222,
              "#7201a8"
             ],
             [
              0.3333333333333333,
              "#9c179e"
             ],
             [
              0.4444444444444444,
              "#bd3786"
             ],
             [
              0.5555555555555556,
              "#d8576b"
             ],
             [
              0.6666666666666666,
              "#ed7953"
             ],
             [
              0.7777777777777778,
              "#fb9f3a"
             ],
             [
              0.8888888888888888,
              "#fdca26"
             ],
             [
              1,
              "#f0f921"
             ]
            ],
            "type": "histogram2dcontour"
           }
          ],
          "mesh3d": [
           {
            "colorbar": {
             "outlinewidth": 0,
             "ticks": ""
            },
            "type": "mesh3d"
           }
          ],
          "parcoords": [
           {
            "line": {
             "colorbar": {
              "outlinewidth": 0,
              "ticks": ""
             }
            },
            "type": "parcoords"
           }
          ],
          "pie": [
           {
            "automargin": true,
            "type": "pie"
           }
          ],
          "scatter": [
           {
            "fillpattern": {
             "fillmode": "overlay",
             "size": 10,
             "solidity": 0.2
            },
            "type": "scatter"
           }
          ],
          "scatter3d": [
           {
            "line": {
             "colorbar": {
              "outlinewidth": 0,
              "ticks": ""
             }
            },
            "marker": {
             "colorbar": {
              "outlinewidth": 0,
              "ticks": ""
             }
            },
            "type": "scatter3d"
           }
          ],
          "scattercarpet": [
           {
            "marker": {
             "colorbar": {
              "outlinewidth": 0,
              "ticks": ""
             }
            },
            "type": "scattercarpet"
           }
          ],
          "scattergeo": [
           {
            "marker": {
             "colorbar": {
              "outlinewidth": 0,
              "ticks": ""
             }
            },
            "type": "scattergeo"
           }
          ],
          "scattergl": [
           {
            "marker": {
             "colorbar": {
              "outlinewidth": 0,
              "ticks": ""
             }
            },
            "type": "scattergl"
           }
          ],
          "scattermapbox": [
           {
            "marker": {
             "colorbar": {
              "outlinewidth": 0,
              "ticks": ""
             }
            },
            "type": "scattermapbox"
           }
          ],
          "scatterpolar": [
           {
            "marker": {
             "colorbar": {
              "outlinewidth": 0,
              "ticks": ""
             }
            },
            "type": "scatterpolar"
           }
          ],
          "scatterpolargl": [
           {
            "marker": {
             "colorbar": {
              "outlinewidth": 0,
              "ticks": ""
             }
            },
            "type": "scatterpolargl"
           }
          ],
          "scatterternary": [
           {
            "marker": {
             "colorbar": {
              "outlinewidth": 0,
              "ticks": ""
             }
            },
            "type": "scatterternary"
           }
          ],
          "surface": [
           {
            "colorbar": {
             "outlinewidth": 0,
             "ticks": ""
            },
            "colorscale": [
             [
              0,
              "#0d0887"
             ],
             [
              0.1111111111111111,
              "#46039f"
             ],
             [
              0.2222222222222222,
              "#7201a8"
             ],
             [
              0.3333333333333333,
              "#9c179e"
             ],
             [
              0.4444444444444444,
              "#bd3786"
             ],
             [
              0.5555555555555556,
              "#d8576b"
             ],
             [
              0.6666666666666666,
              "#ed7953"
             ],
             [
              0.7777777777777778,
              "#fb9f3a"
             ],
             [
              0.8888888888888888,
              "#fdca26"
             ],
             [
              1,
              "#f0f921"
             ]
            ],
            "type": "surface"
           }
          ],
          "table": [
           {
            "cells": {
             "fill": {
              "color": "#EBF0F8"
             },
             "line": {
              "color": "white"
             }
            },
            "header": {
             "fill": {
              "color": "#C8D4E3"
             },
             "line": {
              "color": "white"
             }
            },
            "type": "table"
           }
          ]
         },
         "layout": {
          "annotationdefaults": {
           "arrowcolor": "#2a3f5f",
           "arrowhead": 0,
           "arrowwidth": 1
          },
          "autotypenumbers": "strict",
          "coloraxis": {
           "colorbar": {
            "outlinewidth": 0,
            "ticks": ""
           }
          },
          "colorscale": {
           "diverging": [
            [
             0,
             "#8e0152"
            ],
            [
             0.1,
             "#c51b7d"
            ],
            [
             0.2,
             "#de77ae"
            ],
            [
             0.3,
             "#f1b6da"
            ],
            [
             0.4,
             "#fde0ef"
            ],
            [
             0.5,
             "#f7f7f7"
            ],
            [
             0.6,
             "#e6f5d0"
            ],
            [
             0.7,
             "#b8e186"
            ],
            [
             0.8,
             "#7fbc41"
            ],
            [
             0.9,
             "#4d9221"
            ],
            [
             1,
             "#276419"
            ]
           ],
           "sequential": [
            [
             0,
             "#0d0887"
            ],
            [
             0.1111111111111111,
             "#46039f"
            ],
            [
             0.2222222222222222,
             "#7201a8"
            ],
            [
             0.3333333333333333,
             "#9c179e"
            ],
            [
             0.4444444444444444,
             "#bd3786"
            ],
            [
             0.5555555555555556,
             "#d8576b"
            ],
            [
             0.6666666666666666,
             "#ed7953"
            ],
            [
             0.7777777777777778,
             "#fb9f3a"
            ],
            [
             0.8888888888888888,
             "#fdca26"
            ],
            [
             1,
             "#f0f921"
            ]
           ],
           "sequentialminus": [
            [
             0,
             "#0d0887"
            ],
            [
             0.1111111111111111,
             "#46039f"
            ],
            [
             0.2222222222222222,
             "#7201a8"
            ],
            [
             0.3333333333333333,
             "#9c179e"
            ],
            [
             0.4444444444444444,
             "#bd3786"
            ],
            [
             0.5555555555555556,
             "#d8576b"
            ],
            [
             0.6666666666666666,
             "#ed7953"
            ],
            [
             0.7777777777777778,
             "#fb9f3a"
            ],
            [
             0.8888888888888888,
             "#fdca26"
            ],
            [
             1,
             "#f0f921"
            ]
           ]
          },
          "colorway": [
           "#636efa",
           "#EF553B",
           "#00cc96",
           "#ab63fa",
           "#FFA15A",
           "#19d3f3",
           "#FF6692",
           "#B6E880",
           "#FF97FF",
           "#FECB52"
          ],
          "font": {
           "color": "#2a3f5f"
          },
          "geo": {
           "bgcolor": "white",
           "lakecolor": "white",
           "landcolor": "#E5ECF6",
           "showlakes": true,
           "showland": true,
           "subunitcolor": "white"
          },
          "hoverlabel": {
           "align": "left"
          },
          "hovermode": "closest",
          "mapbox": {
           "style": "light"
          },
          "paper_bgcolor": "white",
          "plot_bgcolor": "#E5ECF6",
          "polar": {
           "angularaxis": {
            "gridcolor": "white",
            "linecolor": "white",
            "ticks": ""
           },
           "bgcolor": "#E5ECF6",
           "radialaxis": {
            "gridcolor": "white",
            "linecolor": "white",
            "ticks": ""
           }
          },
          "scene": {
           "xaxis": {
            "backgroundcolor": "#E5ECF6",
            "gridcolor": "white",
            "gridwidth": 2,
            "linecolor": "white",
            "showbackground": true,
            "ticks": "",
            "zerolinecolor": "white"
           },
           "yaxis": {
            "backgroundcolor": "#E5ECF6",
            "gridcolor": "white",
            "gridwidth": 2,
            "linecolor": "white",
            "showbackground": true,
            "ticks": "",
            "zerolinecolor": "white"
           },
           "zaxis": {
            "backgroundcolor": "#E5ECF6",
            "gridcolor": "white",
            "gridwidth": 2,
            "linecolor": "white",
            "showbackground": true,
            "ticks": "",
            "zerolinecolor": "white"
           }
          },
          "shapedefaults": {
           "line": {
            "color": "#2a3f5f"
           }
          },
          "ternary": {
           "aaxis": {
            "gridcolor": "white",
            "linecolor": "white",
            "ticks": ""
           },
           "baxis": {
            "gridcolor": "white",
            "linecolor": "white",
            "ticks": ""
           },
           "bgcolor": "#E5ECF6",
           "caxis": {
            "gridcolor": "white",
            "linecolor": "white",
            "ticks": ""
           }
          },
          "title": {
           "x": 0.05
          },
          "xaxis": {
           "automargin": true,
           "gridcolor": "white",
           "linecolor": "white",
           "ticks": "",
           "title": {
            "standoff": 15
           },
           "zerolinecolor": "white",
           "zerolinewidth": 2
          },
          "yaxis": {
           "automargin": true,
           "gridcolor": "white",
           "linecolor": "white",
           "ticks": "",
           "title": {
            "standoff": 15
           },
           "zerolinecolor": "white",
           "zerolinewidth": 2
          }
         }
        },
        "title": {
         "text": "Separação por Região"
        },
        "xaxis": {
         "anchor": "y",
         "domain": [
          0,
          1
         ],
         "title": {
          "text": "Valor do Custo"
         }
        },
        "xaxis2": {
         "anchor": "y2",
         "domain": [
          0,
          1
         ],
         "matches": "x",
         "showgrid": true,
         "showticklabels": false
        },
        "yaxis": {
         "anchor": "x",
         "domain": [
          0,
          0.7326
         ],
         "title": {
          "text": "Frequência"
         }
        },
        "yaxis2": {
         "anchor": "x2",
         "domain": [
          0.7426,
          1
         ],
         "matches": "y2",
         "showgrid": false,
         "showline": false,
         "showticklabels": false,
         "ticks": ""
        }
       }
      }
     },
     "metadata": {},
     "output_type": "display_data"
    }
   ],
   "source": [
    "fig= px.histogram(Dados,x='charges',marginal='box',color='region')\n",
    "fig.update_layout(title='Separação por Região',xaxis_title='Valor do Custo',yaxis_title='Frequência', bargap=0.2) \n",
    "fig.show()"
   ]
  },
  {
   "cell_type": "markdown",
   "metadata": {},
   "source": [
    "Aqui podemos ver que a região que mais possui pessoas na base de dados é a \"southwest\" e a sua maior distribuição está entre pos 0-20k Dolares"
   ]
  },
  {
   "cell_type": "code",
   "execution_count": 382,
   "metadata": {},
   "outputs": [
    {
     "data": {
      "application/vnd.plotly.v1+json": {
       "config": {
        "plotlyServerURL": "https://plot.ly"
       },
       "data": [
        {
         "alignmentgroup": "True",
         "bingroup": "x",
         "hovertemplate": "sex=female<br>smoker=%{x}<br>count=%{y}<extra></extra>",
         "legendgroup": "female",
         "marker": {
          "color": "#636efa",
          "pattern": {
           "shape": ""
          }
         },
         "name": "female",
         "offsetgroup": "female",
         "orientation": "v",
         "showlegend": true,
         "type": "histogram",
         "x": [
          "yes",
          "yes",
          "no",
          "no",
          "no",
          "no",
          "yes",
          "no",
          "no",
          "no",
          "no",
          "yes",
          "no",
          "no",
          "no",
          "no",
          "no",
          "no",
          "no",
          "no",
          "no",
          "no",
          "no",
          "no",
          "no",
          "no",
          "no",
          "no",
          "yes",
          "no",
          "no",
          "yes",
          "no",
          "no",
          "no",
          "yes",
          "no",
          "no",
          "no",
          "no",
          "no",
          "no",
          "yes",
          "yes",
          "no",
          "no",
          "no",
          "no",
          "no",
          "yes",
          "no",
          "no",
          "no",
          "no",
          "yes",
          "no",
          "no",
          "no",
          "no",
          "yes",
          "no",
          "no",
          "no",
          "no",
          "no",
          "yes",
          "no",
          "yes",
          "no",
          "no",
          "no",
          "no",
          "no",
          "no",
          "no",
          "no",
          "no",
          "no",
          "no",
          "yes",
          "no",
          "no",
          "yes",
          "yes",
          "no",
          "no",
          "no",
          "no",
          "no",
          "no",
          "yes",
          "no",
          "no",
          "no",
          "no",
          "no",
          "no",
          "no",
          "no",
          "no",
          "no",
          "no",
          "no",
          "no",
          "no",
          "no",
          "no",
          "no",
          "yes",
          "no",
          "no",
          "no",
          "no",
          "no",
          "no",
          "no",
          "no",
          "no",
          "no",
          "no",
          "no",
          "no",
          "no",
          "no",
          "yes",
          "no",
          "yes",
          "no",
          "no",
          "yes",
          "no",
          "yes",
          "no",
          "no",
          "no",
          "yes",
          "no",
          "no",
          "no",
          "no",
          "no",
          "yes",
          "no",
          "no",
          "no",
          "no",
          "yes",
          "no",
          "no",
          "no",
          "yes",
          "no",
          "no",
          "no",
          "no",
          "no",
          "no",
          "no",
          "yes",
          "no",
          "no",
          "no",
          "yes",
          "yes",
          "no",
          "no",
          "no",
          "no",
          "no",
          "no",
          "no",
          "no",
          "no",
          "no",
          "no",
          "no",
          "no",
          "no",
          "no",
          "yes",
          "no",
          "no",
          "no",
          "no",
          "no",
          "no",
          "no",
          "no",
          "yes",
          "yes",
          "no",
          "yes",
          "no",
          "no",
          "no",
          "no",
          "no",
          "no",
          "no",
          "no",
          "no",
          "no",
          "no",
          "no",
          "no",
          "yes",
          "yes",
          "no",
          "no",
          "yes",
          "yes",
          "no",
          "no",
          "no",
          "no",
          "no",
          "no",
          "no",
          "no",
          "yes",
          "no",
          "no",
          "no",
          "no",
          "no",
          "no",
          "no",
          "no",
          "no",
          "yes",
          "no",
          "no",
          "no",
          "no",
          "no",
          "no",
          "no",
          "no",
          "no",
          "no",
          "no",
          "yes",
          "no",
          "no",
          "no",
          "no",
          "no",
          "no",
          "no",
          "no",
          "no",
          "no",
          "no",
          "no",
          "no",
          "no",
          "no",
          "no",
          "no",
          "no",
          "no",
          "no",
          "no",
          "no",
          "no",
          "no",
          "yes",
          "no",
          "no",
          "yes",
          "no",
          "no",
          "no",
          "yes",
          "no",
          "no",
          "no",
          "no",
          "no",
          "no",
          "no",
          "no",
          "no",
          "no",
          "no",
          "no",
          "yes",
          "no",
          "no",
          "no",
          "yes",
          "no",
          "no",
          "no",
          "yes",
          "no",
          "no",
          "no",
          "no",
          "no",
          "no",
          "no",
          "yes",
          "no",
          "no",
          "yes",
          "no",
          "no",
          "no",
          "no",
          "no",
          "yes",
          "no",
          "yes",
          "no",
          "no",
          "no",
          "yes",
          "no",
          "no",
          "no",
          "no",
          "no",
          "no",
          "no",
          "no",
          "no",
          "no",
          "no",
          "yes",
          "no",
          "no",
          "no",
          "no",
          "no",
          "yes",
          "yes",
          "no",
          "no",
          "no",
          "yes",
          "no",
          "no",
          "no",
          "no",
          "no",
          "no",
          "no",
          "no",
          "no",
          "no",
          "no",
          "no",
          "no",
          "no",
          "yes",
          "no",
          "no",
          "no",
          "no",
          "no",
          "no",
          "no",
          "no",
          "no",
          "no",
          "yes",
          "yes",
          "no",
          "no",
          "no",
          "no",
          "no",
          "no",
          "yes",
          "no",
          "no",
          "no",
          "yes",
          "no",
          "no",
          "yes",
          "no",
          "no",
          "no",
          "no",
          "no",
          "no",
          "no",
          "no",
          "yes",
          "yes",
          "no",
          "no",
          "no",
          "no",
          "no",
          "no",
          "no",
          "no",
          "no",
          "no",
          "yes",
          "no",
          "no",
          "no",
          "no",
          "no",
          "no",
          "no",
          "yes",
          "yes",
          "no",
          "no",
          "no",
          "no",
          "no",
          "no",
          "no",
          "no",
          "yes",
          "yes",
          "yes",
          "no",
          "no",
          "yes",
          "yes",
          "no",
          "yes",
          "no",
          "yes",
          "no",
          "yes",
          "no",
          "no",
          "no",
          "no",
          "no",
          "no",
          "no",
          "no",
          "no",
          "yes",
          "no",
          "yes",
          "no",
          "no",
          "yes",
          "no",
          "no",
          "no",
          "no",
          "no",
          "yes",
          "no",
          "no",
          "no",
          "yes",
          "no",
          "no",
          "no",
          "no",
          "no",
          "no",
          "no",
          "no",
          "no",
          "no",
          "no",
          "no",
          "no",
          "no",
          "no",
          "no",
          "no",
          "no",
          "no",
          "no",
          "no",
          "no",
          "no",
          "no",
          "no",
          "no",
          "no",
          "no",
          "yes",
          "no",
          "no",
          "no",
          "yes",
          "no",
          "no",
          "no",
          "no",
          "no",
          "no",
          "no",
          "no",
          "no",
          "no",
          "no",
          "no",
          "yes",
          "no",
          "no",
          "no",
          "yes",
          "yes",
          "no",
          "no",
          "yes",
          "yes",
          "no",
          "yes",
          "no",
          "no",
          "no",
          "no",
          "no",
          "no",
          "no",
          "no",
          "no",
          "no",
          "no",
          "no",
          "no",
          "no",
          "no",
          "yes",
          "no",
          "yes",
          "no",
          "no",
          "yes",
          "no",
          "no",
          "yes",
          "no",
          "no",
          "no",
          "no",
          "yes",
          "no",
          "no",
          "yes",
          "yes",
          "no",
          "yes",
          "no",
          "no",
          "no",
          "no",
          "no",
          "no",
          "no",
          "no",
          "yes",
          "no",
          "no",
          "no",
          "no",
          "no",
          "yes",
          "no",
          "no",
          "no",
          "no",
          "no",
          "no",
          "no",
          "no",
          "no",
          "no",
          "no",
          "no",
          "yes",
          "no",
          "no",
          "yes",
          "no",
          "no",
          "no",
          "no",
          "no",
          "no",
          "yes",
          "no",
          "yes",
          "no",
          "no",
          "no",
          "no",
          "no",
          "no",
          "no",
          "yes",
          "no",
          "yes",
          "no",
          "yes",
          "no",
          "no",
          "yes",
          "no",
          "no",
          "yes",
          "no",
          "yes",
          "no",
          "no",
          "no",
          "no",
          "no",
          "no",
          "no",
          "no",
          "no",
          "no",
          "no",
          "no",
          "no",
          "no",
          "no",
          "no",
          "no",
          "no",
          "no",
          "no",
          "no",
          "no",
          "no",
          "no",
          "no",
          "no",
          "yes",
          "yes",
          "no",
          "no",
          "no",
          "no",
          "no",
          "no",
          "no",
          "no",
          "yes",
          "yes",
          "no",
          "yes",
          "yes",
          "no",
          "no",
          "yes",
          "no",
          "no",
          "no",
          "no",
          "no",
          "no",
          "no",
          "no",
          "yes"
         ],
         "xaxis": "x",
         "yaxis": "y"
        },
        {
         "alignmentgroup": "True",
         "bingroup": "x",
         "hovertemplate": "sex=male<br>smoker=%{x}<br>count=%{y}<extra></extra>",
         "legendgroup": "male",
         "marker": {
          "color": "#EF553B",
          "pattern": {
           "shape": ""
          }
         },
         "name": "male",
         "offsetgroup": "male",
         "orientation": "v",
         "showlegend": true,
         "type": "histogram",
         "x": [
          "no",
          "no",
          "no",
          "no",
          "no",
          "no",
          "no",
          "no",
          "no",
          "yes",
          "no",
          "no",
          "no",
          "yes",
          "no",
          "no",
          "no",
          "yes",
          "yes",
          "no",
          "yes",
          "no",
          "no",
          "yes",
          "yes",
          "no",
          "no",
          "no",
          "yes",
          "yes",
          "yes",
          "yes",
          "yes",
          "no",
          "no",
          "no",
          "no",
          "yes",
          "no",
          "no",
          "no",
          "no",
          "no",
          "no",
          "yes",
          "yes",
          "yes",
          "no",
          "no",
          "yes",
          "yes",
          "no",
          "yes",
          "no",
          "no",
          "yes",
          "no",
          "no",
          "no",
          "no",
          "no",
          "no",
          "no",
          "yes",
          "no",
          "no",
          "no",
          "no",
          "no",
          "no",
          "yes",
          "no",
          "yes",
          "yes",
          "no",
          "no",
          "no",
          "no",
          "yes",
          "yes",
          "yes",
          "no",
          "no",
          "no",
          "no",
          "no",
          "no",
          "no",
          "no",
          "no",
          "no",
          "no",
          "no",
          "yes",
          "no",
          "no",
          "no",
          "no",
          "no",
          "yes",
          "no",
          "no",
          "no",
          "no",
          "no",
          "no",
          "yes",
          "yes",
          "no",
          "no",
          "no",
          "no",
          "no",
          "no",
          "yes",
          "no",
          "no",
          "no",
          "no",
          "no",
          "no",
          "yes",
          "yes",
          "no",
          "yes",
          "yes",
          "no",
          "yes",
          "yes",
          "yes",
          "yes",
          "yes",
          "no",
          "no",
          "no",
          "yes",
          "no",
          "no",
          "no",
          "no",
          "no",
          "yes",
          "no",
          "no",
          "no",
          "no",
          "yes",
          "no",
          "no",
          "yes",
          "yes",
          "yes",
          "no",
          "no",
          "no",
          "no",
          "yes",
          "no",
          "no",
          "no",
          "no",
          "no",
          "no",
          "yes",
          "no",
          "no",
          "no",
          "yes",
          "no",
          "yes",
          "no",
          "no",
          "no",
          "yes",
          "no",
          "no",
          "no",
          "no",
          "no",
          "no",
          "no",
          "no",
          "no",
          "no",
          "no",
          "no",
          "no",
          "yes",
          "no",
          "yes",
          "no",
          "yes",
          "no",
          "no",
          "no",
          "no",
          "no",
          "no",
          "no",
          "no",
          "no",
          "no",
          "no",
          "no",
          "no",
          "no",
          "no",
          "no",
          "no",
          "no",
          "no",
          "yes",
          "yes",
          "yes",
          "no",
          "no",
          "no",
          "no",
          "no",
          "no",
          "no",
          "no",
          "no",
          "no",
          "no",
          "yes",
          "no",
          "no",
          "no",
          "no",
          "no",
          "no",
          "no",
          "no",
          "no",
          "yes",
          "no",
          "no",
          "no",
          "yes",
          "yes",
          "yes",
          "no",
          "no",
          "no",
          "no",
          "no",
          "no",
          "no",
          "no",
          "no",
          "yes",
          "no",
          "no",
          "yes",
          "no",
          "yes",
          "yes",
          "no",
          "no",
          "no",
          "no",
          "no",
          "no",
          "no",
          "yes",
          "no",
          "no",
          "no",
          "no",
          "yes",
          "no",
          "no",
          "yes",
          "no",
          "no",
          "no",
          "no",
          "no",
          "no",
          "yes",
          "no",
          "no",
          "no",
          "no",
          "no",
          "no",
          "no",
          "no",
          "no",
          "no",
          "yes",
          "no",
          "no",
          "no",
          "no",
          "no",
          "no",
          "no",
          "no",
          "no",
          "no",
          "no",
          "no",
          "no",
          "yes",
          "yes",
          "no",
          "yes",
          "yes",
          "no",
          "no",
          "no",
          "no",
          "no",
          "no",
          "no",
          "no",
          "no",
          "yes",
          "no",
          "no",
          "yes",
          "no",
          "no",
          "no",
          "no",
          "no",
          "no",
          "no",
          "no",
          "yes",
          "no",
          "yes",
          "no",
          "no",
          "no",
          "yes",
          "no",
          "no",
          "yes",
          "no",
          "no",
          "no",
          "no",
          "yes",
          "no",
          "no",
          "no",
          "no",
          "yes",
          "no",
          "no",
          "no",
          "no",
          "no",
          "no",
          "no",
          "no",
          "no",
          "no",
          "no",
          "yes",
          "no",
          "no",
          "yes",
          "yes",
          "no",
          "yes",
          "yes",
          "no",
          "no",
          "no",
          "no",
          "no",
          "no",
          "no",
          "no",
          "no",
          "yes",
          "no",
          "yes",
          "no",
          "no",
          "no",
          "no",
          "no",
          "no",
          "no",
          "no",
          "no",
          "yes",
          "no",
          "no",
          "no",
          "no",
          "no",
          "no",
          "yes",
          "yes",
          "no",
          "yes",
          "no",
          "no",
          "no",
          "no",
          "no",
          "no",
          "no",
          "no",
          "no",
          "no",
          "no",
          "yes",
          "yes",
          "yes",
          "no",
          "no",
          "no",
          "no",
          "no",
          "no",
          "no",
          "no",
          "no",
          "no",
          "no",
          "no",
          "yes",
          "no",
          "no",
          "no",
          "no",
          "no",
          "no",
          "no",
          "no",
          "no",
          "no",
          "no",
          "no",
          "no",
          "no",
          "no",
          "yes",
          "yes",
          "no",
          "no",
          "no",
          "yes",
          "no",
          "no",
          "no",
          "yes",
          "no",
          "no",
          "no",
          "no",
          "no",
          "yes",
          "no",
          "yes",
          "no",
          "no",
          "no",
          "no",
          "no",
          "no",
          "no",
          "no",
          "no",
          "no",
          "no",
          "no",
          "no",
          "no",
          "no",
          "yes",
          "no",
          "yes",
          "no",
          "yes",
          "yes",
          "yes",
          "no",
          "yes",
          "no",
          "yes",
          "no",
          "no",
          "no",
          "no",
          "yes",
          "no",
          "no",
          "no",
          "yes",
          "no",
          "no",
          "no",
          "no",
          "yes",
          "no",
          "no",
          "no",
          "no",
          "yes",
          "yes",
          "no",
          "no",
          "no",
          "no",
          "no",
          "yes",
          "no",
          "no",
          "yes",
          "no",
          "no",
          "no",
          "yes",
          "no",
          "yes",
          "no",
          "no",
          "yes",
          "no",
          "yes",
          "no",
          "no",
          "no",
          "yes",
          "no",
          "yes",
          "yes",
          "no",
          "no",
          "yes",
          "no",
          "no",
          "no",
          "no",
          "yes",
          "no",
          "no",
          "no",
          "no",
          "yes",
          "no",
          "no",
          "no",
          "yes",
          "no",
          "no",
          "no",
          "no",
          "no",
          "no",
          "no",
          "no",
          "no",
          "yes",
          "no",
          "no",
          "no",
          "no",
          "no",
          "no",
          "no",
          "no",
          "yes",
          "no",
          "no",
          "no",
          "yes",
          "yes",
          "no",
          "no",
          "no",
          "no",
          "no",
          "no",
          "no",
          "no",
          "no",
          "no",
          "no",
          "yes",
          "no",
          "no",
          "yes",
          "no",
          "no",
          "no",
          "no",
          "yes",
          "no",
          "no",
          "yes",
          "no",
          "yes",
          "no",
          "no",
          "no",
          "no",
          "no",
          "no",
          "no",
          "yes",
          "no",
          "no",
          "no",
          "no",
          "no",
          "no",
          "no",
          "no",
          "no",
          "no",
          "no",
          "no",
          "no",
          "no",
          "yes",
          "no",
          "no",
          "no",
          "yes",
          "yes",
          "no",
          "no",
          "no",
          "yes",
          "yes",
          "no",
          "yes",
          "no",
          "no",
          "yes",
          "yes",
          "no",
          "no",
          "no",
          "no",
          "yes",
          "no",
          "yes",
          "no",
          "yes",
          "yes",
          "no",
          "yes",
          "no",
          "no",
          "no",
          "no",
          "no",
          "no",
          "yes",
          "yes",
          "yes",
          "yes",
          "yes",
          "no",
          "no",
          "no",
          "no",
          "no",
          "no",
          "no",
          "yes",
          "no",
          "no",
          "no",
          "no",
          "no",
          "no"
         ],
         "xaxis": "x",
         "yaxis": "y"
        }
       ],
       "layout": {
        "barmode": "relative",
        "legend": {
         "title": {
          "text": "sex"
         },
         "tracegroupgap": 0
        },
        "template": {
         "data": {
          "bar": [
           {
            "error_x": {
             "color": "#2a3f5f"
            },
            "error_y": {
             "color": "#2a3f5f"
            },
            "marker": {
             "line": {
              "color": "#E5ECF6",
              "width": 0.5
             },
             "pattern": {
              "fillmode": "overlay",
              "size": 10,
              "solidity": 0.2
             }
            },
            "type": "bar"
           }
          ],
          "barpolar": [
           {
            "marker": {
             "line": {
              "color": "#E5ECF6",
              "width": 0.5
             },
             "pattern": {
              "fillmode": "overlay",
              "size": 10,
              "solidity": 0.2
             }
            },
            "type": "barpolar"
           }
          ],
          "carpet": [
           {
            "aaxis": {
             "endlinecolor": "#2a3f5f",
             "gridcolor": "white",
             "linecolor": "white",
             "minorgridcolor": "white",
             "startlinecolor": "#2a3f5f"
            },
            "baxis": {
             "endlinecolor": "#2a3f5f",
             "gridcolor": "white",
             "linecolor": "white",
             "minorgridcolor": "white",
             "startlinecolor": "#2a3f5f"
            },
            "type": "carpet"
           }
          ],
          "choropleth": [
           {
            "colorbar": {
             "outlinewidth": 0,
             "ticks": ""
            },
            "type": "choropleth"
           }
          ],
          "contour": [
           {
            "colorbar": {
             "outlinewidth": 0,
             "ticks": ""
            },
            "colorscale": [
             [
              0,
              "#0d0887"
             ],
             [
              0.1111111111111111,
              "#46039f"
             ],
             [
              0.2222222222222222,
              "#7201a8"
             ],
             [
              0.3333333333333333,
              "#9c179e"
             ],
             [
              0.4444444444444444,
              "#bd3786"
             ],
             [
              0.5555555555555556,
              "#d8576b"
             ],
             [
              0.6666666666666666,
              "#ed7953"
             ],
             [
              0.7777777777777778,
              "#fb9f3a"
             ],
             [
              0.8888888888888888,
              "#fdca26"
             ],
             [
              1,
              "#f0f921"
             ]
            ],
            "type": "contour"
           }
          ],
          "contourcarpet": [
           {
            "colorbar": {
             "outlinewidth": 0,
             "ticks": ""
            },
            "type": "contourcarpet"
           }
          ],
          "heatmap": [
           {
            "colorbar": {
             "outlinewidth": 0,
             "ticks": ""
            },
            "colorscale": [
             [
              0,
              "#0d0887"
             ],
             [
              0.1111111111111111,
              "#46039f"
             ],
             [
              0.2222222222222222,
              "#7201a8"
             ],
             [
              0.3333333333333333,
              "#9c179e"
             ],
             [
              0.4444444444444444,
              "#bd3786"
             ],
             [
              0.5555555555555556,
              "#d8576b"
             ],
             [
              0.6666666666666666,
              "#ed7953"
             ],
             [
              0.7777777777777778,
              "#fb9f3a"
             ],
             [
              0.8888888888888888,
              "#fdca26"
             ],
             [
              1,
              "#f0f921"
             ]
            ],
            "type": "heatmap"
           }
          ],
          "heatmapgl": [
           {
            "colorbar": {
             "outlinewidth": 0,
             "ticks": ""
            },
            "colorscale": [
             [
              0,
              "#0d0887"
             ],
             [
              0.1111111111111111,
              "#46039f"
             ],
             [
              0.2222222222222222,
              "#7201a8"
             ],
             [
              0.3333333333333333,
              "#9c179e"
             ],
             [
              0.4444444444444444,
              "#bd3786"
             ],
             [
              0.5555555555555556,
              "#d8576b"
             ],
             [
              0.6666666666666666,
              "#ed7953"
             ],
             [
              0.7777777777777778,
              "#fb9f3a"
             ],
             [
              0.8888888888888888,
              "#fdca26"
             ],
             [
              1,
              "#f0f921"
             ]
            ],
            "type": "heatmapgl"
           }
          ],
          "histogram": [
           {
            "marker": {
             "pattern": {
              "fillmode": "overlay",
              "size": 10,
              "solidity": 0.2
             }
            },
            "type": "histogram"
           }
          ],
          "histogram2d": [
           {
            "colorbar": {
             "outlinewidth": 0,
             "ticks": ""
            },
            "colorscale": [
             [
              0,
              "#0d0887"
             ],
             [
              0.1111111111111111,
              "#46039f"
             ],
             [
              0.2222222222222222,
              "#7201a8"
             ],
             [
              0.3333333333333333,
              "#9c179e"
             ],
             [
              0.4444444444444444,
              "#bd3786"
             ],
             [
              0.5555555555555556,
              "#d8576b"
             ],
             [
              0.6666666666666666,
              "#ed7953"
             ],
             [
              0.7777777777777778,
              "#fb9f3a"
             ],
             [
              0.8888888888888888,
              "#fdca26"
             ],
             [
              1,
              "#f0f921"
             ]
            ],
            "type": "histogram2d"
           }
          ],
          "histogram2dcontour": [
           {
            "colorbar": {
             "outlinewidth": 0,
             "ticks": ""
            },
            "colorscale": [
             [
              0,
              "#0d0887"
             ],
             [
              0.1111111111111111,
              "#46039f"
             ],
             [
              0.2222222222222222,
              "#7201a8"
             ],
             [
              0.3333333333333333,
              "#9c179e"
             ],
             [
              0.4444444444444444,
              "#bd3786"
             ],
             [
              0.5555555555555556,
              "#d8576b"
             ],
             [
              0.6666666666666666,
              "#ed7953"
             ],
             [
              0.7777777777777778,
              "#fb9f3a"
             ],
             [
              0.8888888888888888,
              "#fdca26"
             ],
             [
              1,
              "#f0f921"
             ]
            ],
            "type": "histogram2dcontour"
           }
          ],
          "mesh3d": [
           {
            "colorbar": {
             "outlinewidth": 0,
             "ticks": ""
            },
            "type": "mesh3d"
           }
          ],
          "parcoords": [
           {
            "line": {
             "colorbar": {
              "outlinewidth": 0,
              "ticks": ""
             }
            },
            "type": "parcoords"
           }
          ],
          "pie": [
           {
            "automargin": true,
            "type": "pie"
           }
          ],
          "scatter": [
           {
            "fillpattern": {
             "fillmode": "overlay",
             "size": 10,
             "solidity": 0.2
            },
            "type": "scatter"
           }
          ],
          "scatter3d": [
           {
            "line": {
             "colorbar": {
              "outlinewidth": 0,
              "ticks": ""
             }
            },
            "marker": {
             "colorbar": {
              "outlinewidth": 0,
              "ticks": ""
             }
            },
            "type": "scatter3d"
           }
          ],
          "scattercarpet": [
           {
            "marker": {
             "colorbar": {
              "outlinewidth": 0,
              "ticks": ""
             }
            },
            "type": "scattercarpet"
           }
          ],
          "scattergeo": [
           {
            "marker": {
             "colorbar": {
              "outlinewidth": 0,
              "ticks": ""
             }
            },
            "type": "scattergeo"
           }
          ],
          "scattergl": [
           {
            "marker": {
             "colorbar": {
              "outlinewidth": 0,
              "ticks": ""
             }
            },
            "type": "scattergl"
           }
          ],
          "scattermapbox": [
           {
            "marker": {
             "colorbar": {
              "outlinewidth": 0,
              "ticks": ""
             }
            },
            "type": "scattermapbox"
           }
          ],
          "scatterpolar": [
           {
            "marker": {
             "colorbar": {
              "outlinewidth": 0,
              "ticks": ""
             }
            },
            "type": "scatterpolar"
           }
          ],
          "scatterpolargl": [
           {
            "marker": {
             "colorbar": {
              "outlinewidth": 0,
              "ticks": ""
             }
            },
            "type": "scatterpolargl"
           }
          ],
          "scatterternary": [
           {
            "marker": {
             "colorbar": {
              "outlinewidth": 0,
              "ticks": ""
             }
            },
            "type": "scatterternary"
           }
          ],
          "surface": [
           {
            "colorbar": {
             "outlinewidth": 0,
             "ticks": ""
            },
            "colorscale": [
             [
              0,
              "#0d0887"
             ],
             [
              0.1111111111111111,
              "#46039f"
             ],
             [
              0.2222222222222222,
              "#7201a8"
             ],
             [
              0.3333333333333333,
              "#9c179e"
             ],
             [
              0.4444444444444444,
              "#bd3786"
             ],
             [
              0.5555555555555556,
              "#d8576b"
             ],
             [
              0.6666666666666666,
              "#ed7953"
             ],
             [
              0.7777777777777778,
              "#fb9f3a"
             ],
             [
              0.8888888888888888,
              "#fdca26"
             ],
             [
              1,
              "#f0f921"
             ]
            ],
            "type": "surface"
           }
          ],
          "table": [
           {
            "cells": {
             "fill": {
              "color": "#EBF0F8"
             },
             "line": {
              "color": "white"
             }
            },
            "header": {
             "fill": {
              "color": "#C8D4E3"
             },
             "line": {
              "color": "white"
             }
            },
            "type": "table"
           }
          ]
         },
         "layout": {
          "annotationdefaults": {
           "arrowcolor": "#2a3f5f",
           "arrowhead": 0,
           "arrowwidth": 1
          },
          "autotypenumbers": "strict",
          "coloraxis": {
           "colorbar": {
            "outlinewidth": 0,
            "ticks": ""
           }
          },
          "colorscale": {
           "diverging": [
            [
             0,
             "#8e0152"
            ],
            [
             0.1,
             "#c51b7d"
            ],
            [
             0.2,
             "#de77ae"
            ],
            [
             0.3,
             "#f1b6da"
            ],
            [
             0.4,
             "#fde0ef"
            ],
            [
             0.5,
             "#f7f7f7"
            ],
            [
             0.6,
             "#e6f5d0"
            ],
            [
             0.7,
             "#b8e186"
            ],
            [
             0.8,
             "#7fbc41"
            ],
            [
             0.9,
             "#4d9221"
            ],
            [
             1,
             "#276419"
            ]
           ],
           "sequential": [
            [
             0,
             "#0d0887"
            ],
            [
             0.1111111111111111,
             "#46039f"
            ],
            [
             0.2222222222222222,
             "#7201a8"
            ],
            [
             0.3333333333333333,
             "#9c179e"
            ],
            [
             0.4444444444444444,
             "#bd3786"
            ],
            [
             0.5555555555555556,
             "#d8576b"
            ],
            [
             0.6666666666666666,
             "#ed7953"
            ],
            [
             0.7777777777777778,
             "#fb9f3a"
            ],
            [
             0.8888888888888888,
             "#fdca26"
            ],
            [
             1,
             "#f0f921"
            ]
           ],
           "sequentialminus": [
            [
             0,
             "#0d0887"
            ],
            [
             0.1111111111111111,
             "#46039f"
            ],
            [
             0.2222222222222222,
             "#7201a8"
            ],
            [
             0.3333333333333333,
             "#9c179e"
            ],
            [
             0.4444444444444444,
             "#bd3786"
            ],
            [
             0.5555555555555556,
             "#d8576b"
            ],
            [
             0.6666666666666666,
             "#ed7953"
            ],
            [
             0.7777777777777778,
             "#fb9f3a"
            ],
            [
             0.8888888888888888,
             "#fdca26"
            ],
            [
             1,
             "#f0f921"
            ]
           ]
          },
          "colorway": [
           "#636efa",
           "#EF553B",
           "#00cc96",
           "#ab63fa",
           "#FFA15A",
           "#19d3f3",
           "#FF6692",
           "#B6E880",
           "#FF97FF",
           "#FECB52"
          ],
          "font": {
           "color": "#2a3f5f"
          },
          "geo": {
           "bgcolor": "white",
           "lakecolor": "white",
           "landcolor": "#E5ECF6",
           "showlakes": true,
           "showland": true,
           "subunitcolor": "white"
          },
          "hoverlabel": {
           "align": "left"
          },
          "hovermode": "closest",
          "mapbox": {
           "style": "light"
          },
          "paper_bgcolor": "white",
          "plot_bgcolor": "#E5ECF6",
          "polar": {
           "angularaxis": {
            "gridcolor": "white",
            "linecolor": "white",
            "ticks": ""
           },
           "bgcolor": "#E5ECF6",
           "radialaxis": {
            "gridcolor": "white",
            "linecolor": "white",
            "ticks": ""
           }
          },
          "scene": {
           "xaxis": {
            "backgroundcolor": "#E5ECF6",
            "gridcolor": "white",
            "gridwidth": 2,
            "linecolor": "white",
            "showbackground": true,
            "ticks": "",
            "zerolinecolor": "white"
           },
           "yaxis": {
            "backgroundcolor": "#E5ECF6",
            "gridcolor": "white",
            "gridwidth": 2,
            "linecolor": "white",
            "showbackground": true,
            "ticks": "",
            "zerolinecolor": "white"
           },
           "zaxis": {
            "backgroundcolor": "#E5ECF6",
            "gridcolor": "white",
            "gridwidth": 2,
            "linecolor": "white",
            "showbackground": true,
            "ticks": "",
            "zerolinecolor": "white"
           }
          },
          "shapedefaults": {
           "line": {
            "color": "#2a3f5f"
           }
          },
          "ternary": {
           "aaxis": {
            "gridcolor": "white",
            "linecolor": "white",
            "ticks": ""
           },
           "baxis": {
            "gridcolor": "white",
            "linecolor": "white",
            "ticks": ""
           },
           "bgcolor": "#E5ECF6",
           "caxis": {
            "gridcolor": "white",
            "linecolor": "white",
            "ticks": ""
           }
          },
          "title": {
           "x": 0.05
          },
          "xaxis": {
           "automargin": true,
           "gridcolor": "white",
           "linecolor": "white",
           "ticks": "",
           "title": {
            "standoff": 15
           },
           "zerolinecolor": "white",
           "zerolinewidth": 2
          },
          "yaxis": {
           "automargin": true,
           "gridcolor": "white",
           "linecolor": "white",
           "ticks": "",
           "title": {
            "standoff": 15
           },
           "zerolinecolor": "white",
           "zerolinewidth": 2
          }
         }
        },
        "title": {
         "text": "Fumantes por genero"
        },
        "xaxis": {
         "anchor": "y",
         "domain": [
          0,
          1
         ],
         "title": {
          "text": "smoker"
         }
        },
        "yaxis": {
         "anchor": "x",
         "domain": [
          0,
          1
         ],
         "title": {
          "text": "count"
         }
        }
       }
      }
     },
     "metadata": {},
     "output_type": "display_data"
    }
   ],
   "source": [
    "px.histogram(Dados,x='smoker',color='sex',title=\"Fumantes por genero\")"
   ]
  },
  {
   "cell_type": "markdown",
   "metadata": {},
   "source": [
    "Agora vamos avaliar o comportamento das cobranças com a coluna \"children\" e entender a influencia no numero de filhos e o preço final do seguro:\n"
   ]
  },
  {
   "cell_type": "code",
   "execution_count": 383,
   "metadata": {},
   "outputs": [
    {
     "data": {
      "application/vnd.plotly.v1+json": {
       "config": {
        "plotlyServerURL": "https://plot.ly"
       },
       "data": [
        {
         "alignmentgroup": "True",
         "bingroup": "x",
         "hovertemplate": "children=2<br>charges=%{x}<br>count=%{y}<extra></extra>",
         "legendgroup": "2",
         "marker": {
          "color": "#636efa",
          "pattern": {
           "shape": ""
          }
         },
         "name": "2",
         "offsetgroup": "2",
         "orientation": "v",
         "showlegend": true,
         "type": "histogram",
         "x": [
          31109.889763423336,
          6406.4107,
          6203.90175,
          12268.63225,
          38711,
          4949.7587,
          6313.759,
          3393.35635,
          3579.8287,
          47496.49445,
          13607.36875,
          34303.1672,
          5989.52365,
          14235.072,
          7726.854,
          39836.519,
          21098.55405,
          5729.0053,
          47291.055,
          3877.30425,
          11881.358,
          6686.4313,
          7740.337,
          32734.1863,
          6082.405,
          11163.568,
          27375.90478,
          18972.495,
          18157.876,
          5152.134,
          6455.86265,
          8823.279,
          7731.4271,
          3981.9768,
          4922.9159,
          8516.829,
          20984.0936,
          3537.703,
          8520.026,
          7371.772,
          9225.2564,
          6710.1919,
          19444.2658,
          4463.2051,
          38511.6283,
          12829.4551,
          47305.305,
          44260.7499,
          42856.838,
          7265.7025,
          9715.841,
          2803.69785,
          12928.7911,
          9432.9253,
          42112.2356,
          12265.5069,
          4349.462,
          12646.207,
          19442.3535,
          20177.67113,
          7749.1564,
          42760.5022,
          19144.57652,
          4889.9995,
          10043.249,
          3180.5101,
          8017.06115,
          8116.26885,
          36085.219,
          15006.57945,
          5846.9176,
          8302.53565,
          30284.64294,
          9411.005,
          14988.432,
          11396.9002,
          14455.64405,
          18608.262,
          8968.33,
          4906.40965,
          4686.3887,
          11881.9696,
          15230.32405,
          12643.3778,
          9304.7019,
          4931.647,
          8027.968,
          8211.1002,
          3077.0955,
          8413.46305,
          24059.68019,
          12925.886,
          8825.086,
          3056.3881,
          23807.2406,
          11538.421,
          11187.6567,
          3847.674,
          9193.8385,
          2801.2588,
          7256.7231,
          45702.02235,
          4753.6368,
          13224.05705,
          6356.2707,
          2566.4707,
          7640.3092,
          7441.501,
          33471.97189,
          4435.0942,
          39241.442,
          6571.544,
          23306.547,
          7173.35995,
          24915.04626,
          18806.14547,
          9800.8882,
          8527.532,
          24667.419,
          4058.71245,
          42560.4304,
          40003.33225,
          46200.9851,
          10156.7832,
          40103.89,
          11244.3769,
          7729.64575,
          29186.48236,
          3500.6123,
          5375.038,
          10107.2206,
          8310.83915,
          10848.1343,
          3484.331,
          44585.45587,
          8604.48365,
          11737.84884,
          5031.26955,
          3925.7582,
          9095.06825,
          6933.24225,
          11150.78,
          7261.741,
          6986.697,
          7209.4918,
          4266.1658,
          11013.7119,
          4428.88785,
          5584.3057,
          8219.2039,
          16069.08475,
          43813.8661,
          4719.73655,
          7160.3303,
          6402.29135,
          36021.0112,
          14119.62,
          11729.6795,
          46113.511,
          12269.68865,
          6600.361,
          6311.952,
          44202.6536,
          19798.05455,
          4564.19145,
          5257.50795,
          25333.33284,
          2913.569,
          4673.3922,
          32108.66282,
          2304.0022,
          7160.094,
          47462.894,
          38998.546,
          26467.09737,
          23967.38305,
          3279.86855,
          7144.86265,
          10118.424,
          17361.7661,
          4433.3877,
          4438.2634,
          23241.47453,
          18767.7377,
          3987.926,
          26018.95052,
          6877.9801,
          37484.4493,
          22493.65964,
          21880.82,
          8978.1851,
          12096.6512,
          11884.04858,
          15019.76005,
          44641.1974,
          16776.30405,
          10493.9458,
          36124.5737,
          8347.1643,
          5836.5204,
          3693.428,
          6338.0756,
          9630.397,
          14426.07385,
          5124.1887,
          4529.477,
          4670.64,
          22478.6,
          6457.8434,
          4433.9159,
          8603.8234,
          5327.40025,
          4934.705,
          6198.7518,
          8733.22925,
          36910.60803,
          38415.474,
          23563.01618,
          10806.839,
          4058.1161,
          6593.5083,
          6640.54485,
          7162.0122,
          8515.7587,
          47269.854,
          49577.6624,
          10370.91255,
          4189.1131,
          24535.69855,
          38344.566,
          7133.9025,
          4340.4409,
          5261.46945,
          21259.37795,
          6875.961,
          36397.576,
          7201.70085,
          43896.3763,
          22395.74424,
          10325.206,
          12629.1656
         ],
         "xaxis": "x",
         "yaxis": "y"
        },
        {
         "alignmentgroup": "True",
         "hovertemplate": "children=2<br>charges=%{x}<extra></extra>",
         "legendgroup": "2",
         "marker": {
          "color": "#636efa"
         },
         "name": "2",
         "notched": true,
         "offsetgroup": "2",
         "showlegend": false,
         "type": "box",
         "x": [
          31109.889763423336,
          6406.4107,
          6203.90175,
          12268.63225,
          38711,
          4949.7587,
          6313.759,
          3393.35635,
          3579.8287,
          47496.49445,
          13607.36875,
          34303.1672,
          5989.52365,
          14235.072,
          7726.854,
          39836.519,
          21098.55405,
          5729.0053,
          47291.055,
          3877.30425,
          11881.358,
          6686.4313,
          7740.337,
          32734.1863,
          6082.405,
          11163.568,
          27375.90478,
          18972.495,
          18157.876,
          5152.134,
          6455.86265,
          8823.279,
          7731.4271,
          3981.9768,
          4922.9159,
          8516.829,
          20984.0936,
          3537.703,
          8520.026,
          7371.772,
          9225.2564,
          6710.1919,
          19444.2658,
          4463.2051,
          38511.6283,
          12829.4551,
          47305.305,
          44260.7499,
          42856.838,
          7265.7025,
          9715.841,
          2803.69785,
          12928.7911,
          9432.9253,
          42112.2356,
          12265.5069,
          4349.462,
          12646.207,
          19442.3535,
          20177.67113,
          7749.1564,
          42760.5022,
          19144.57652,
          4889.9995,
          10043.249,
          3180.5101,
          8017.06115,
          8116.26885,
          36085.219,
          15006.57945,
          5846.9176,
          8302.53565,
          30284.64294,
          9411.005,
          14988.432,
          11396.9002,
          14455.64405,
          18608.262,
          8968.33,
          4906.40965,
          4686.3887,
          11881.9696,
          15230.32405,
          12643.3778,
          9304.7019,
          4931.647,
          8027.968,
          8211.1002,
          3077.0955,
          8413.46305,
          24059.68019,
          12925.886,
          8825.086,
          3056.3881,
          23807.2406,
          11538.421,
          11187.6567,
          3847.674,
          9193.8385,
          2801.2588,
          7256.7231,
          45702.02235,
          4753.6368,
          13224.05705,
          6356.2707,
          2566.4707,
          7640.3092,
          7441.501,
          33471.97189,
          4435.0942,
          39241.442,
          6571.544,
          23306.547,
          7173.35995,
          24915.04626,
          18806.14547,
          9800.8882,
          8527.532,
          24667.419,
          4058.71245,
          42560.4304,
          40003.33225,
          46200.9851,
          10156.7832,
          40103.89,
          11244.3769,
          7729.64575,
          29186.48236,
          3500.6123,
          5375.038,
          10107.2206,
          8310.83915,
          10848.1343,
          3484.331,
          44585.45587,
          8604.48365,
          11737.84884,
          5031.26955,
          3925.7582,
          9095.06825,
          6933.24225,
          11150.78,
          7261.741,
          6986.697,
          7209.4918,
          4266.1658,
          11013.7119,
          4428.88785,
          5584.3057,
          8219.2039,
          16069.08475,
          43813.8661,
          4719.73655,
          7160.3303,
          6402.29135,
          36021.0112,
          14119.62,
          11729.6795,
          46113.511,
          12269.68865,
          6600.361,
          6311.952,
          44202.6536,
          19798.05455,
          4564.19145,
          5257.50795,
          25333.33284,
          2913.569,
          4673.3922,
          32108.66282,
          2304.0022,
          7160.094,
          47462.894,
          38998.546,
          26467.09737,
          23967.38305,
          3279.86855,
          7144.86265,
          10118.424,
          17361.7661,
          4433.3877,
          4438.2634,
          23241.47453,
          18767.7377,
          3987.926,
          26018.95052,
          6877.9801,
          37484.4493,
          22493.65964,
          21880.82,
          8978.1851,
          12096.6512,
          11884.04858,
          15019.76005,
          44641.1974,
          16776.30405,
          10493.9458,
          36124.5737,
          8347.1643,
          5836.5204,
          3693.428,
          6338.0756,
          9630.397,
          14426.07385,
          5124.1887,
          4529.477,
          4670.64,
          22478.6,
          6457.8434,
          4433.9159,
          8603.8234,
          5327.40025,
          4934.705,
          6198.7518,
          8733.22925,
          36910.60803,
          38415.474,
          23563.01618,
          10806.839,
          4058.1161,
          6593.5083,
          6640.54485,
          7162.0122,
          8515.7587,
          47269.854,
          49577.6624,
          10370.91255,
          4189.1131,
          24535.69855,
          38344.566,
          7133.9025,
          4340.4409,
          5261.46945,
          21259.37795,
          6875.961,
          36397.576,
          7201.70085,
          43896.3763,
          22395.74424,
          10325.206,
          12629.1656
         ],
         "xaxis": "x2",
         "yaxis": "y2"
        },
        {
         "alignmentgroup": "True",
         "bingroup": "x",
         "hovertemplate": "children=1<br>charges=%{x}<br>count=%{y}<extra></extra>",
         "legendgroup": "1",
         "marker": {
          "color": "#EF553B",
          "pattern": {
           "shape": ""
          }
         },
         "name": "1",
         "offsetgroup": "1",
         "orientation": "v",
         "showlegend": true,
         "type": "histogram",
         "x": [
          26650.70264664269,
          1725.5523,
          8240.5896,
          1837.237,
          10797.3362,
          4149.736,
          37701.8768,
          2775.19215,
          51194.55914,
          39774.2763,
          6272.4772,
          6079.6715,
          38709.176,
          23568.272,
          23244.7902,
          30166.61817,
          4133.64165,
          6389.37785,
          11946.6259,
          3947.4131,
          4441.21315,
          37165.1638,
          10942.13205,
          3766.8838,
          5003.853,
          17560.37975,
          2331.519,
          10825.2537,
          19107.7796,
          39556.4945,
          3490.5491,
          9877.6077,
          10959.6947,
          1842.519,
          5125.2157,
          7077.1894,
          10450.552,
          2719.27975,
          5246.047,
          10436.096,
          6775.961,
          12044.342,
          8871.1517,
          4337.7352,
          6610.1097,
          1980.07,
          5002.7827,
          3392.9768,
          5012.471,
          7358.17565,
          7443.64305,
          12333.828,
          7152.6714,
          5354.07465,
          35160.13457,
          1832.094,
          4040.55825,
          17085.2676,
          17179.522,
          7441.053,
          9282.4806,
          1719.4363,
          9617.66245,
          9855.1314,
          22331.5668,
          4237.12655,
          11879.10405,
          7742.1098,
          47896.79135,
          20277.80751,
          21978.6769,
          9249.4952,
          4151.0287,
          4667.60765,
          4894.7533,
          6600.20595,
          3561.8889,
          47928.03,
          48517.56315,
          13937.6665,
          41919.097,
          8232.6388,
          8334.45755,
          5478.0368,
          4751.07,
          2597.779,
          9778.3472,
          7639.41745,
          27000.98473,
          8964.06055,
          9290.1395,
          8083.9198,
          8539.671,
          4074.4537,
          19594.80965,
          7345.7266,
          14418.2804,
          39125.33225,
          6555.07035,
          3167.45585,
          4243.59005,
          4738.2682,
          28287.89766,
          26109.32905,
          4762.329,
          4032.2407,
          19521.9682,
          13224.693,
          23288.9284,
          2201.0971,
          28868.6639,
          9880.068,
          10461.9794,
          22218.1149,
          5974.3847,
          2643.2685,
          11763.0009,
          21082.16,
          27724.28875,
          5240.765,
          38245.59327,
          9861.025,
          8342.90875,
          48675.5177,
          6067.12675,
          8233.0975,
          8334.5896,
          9058.7303,
          6373.55735,
          2219.4451,
          31620.00106,
          58571.07448,
          9724.53,
          12913.9924,
          17626.23951,
          4779.6023,
          43943.8761,
          5976.8311,
          8428.0693,
          15359.1045,
          8823.98575,
          5594.8455,
          8547.6913,
          42969.8527,
          3659.346,
          9182.17,
          11326.71487,
          10085.846,
          9391.346,
          2709.1119,
          6123.5688,
          10579.711,
          3410.324,
          26392.26029,
          22192.43711,
          5148.5526,
          8703.456,
          6500.2359,
          2585.269,
          4766.022,
          26236.57997,
          34806.4677,
          8068.185,
          2362.22905,
          3577.999,
          40273.6455,
          5385.3379,
          8930.93455,
          1727.54,
          9566.9909,
          13112.6048,
          10106.13425,
          6664.68595,
          16657.71745,
          6781.3542,
          10065.413,
          9447.25035,
          9583.8933,
          9910.35985,
          8556.907,
          2416.955,
          19040.876,
          8062.764,
          7050.642,
          9386.1613,
          24520.264,
          4350.5144,
          4719.52405,
          7046.7222,
          2103.08,
          28476.73499,
          3309.7926,
          23401.30575,
          7445.918,
          20773.62775,
          6117.4945,
          5377.4578,
          9872.701,
          2438.0552,
          18218.16139,
          11576.13,
          3392.3652,
          6849.026,
          26140.3603,
          6282.235,
          2789.0574,
          19719.6947,
          11945.1327,
          2221.56445,
          7633.7206,
          2639.0429,
          7626.993,
          5245.2269,
          5488.262,
          12032.326,
          6289.7549,
          2927.0647,
          6238.298,
          9549.5651,
          11674.13,
          39047.285,
          4527.18295,
          20009.63365,
          3875.7341,
          41999.52,
          12609.88702,
          41034.2214,
          28468.91901,
          2730.10785,
          14474.675,
          4746.344,
          7518.02535,
          2902.9065,
          25517.11363,
          16796.41194,
          7624.63,
          28340.18885,
          3378.91,
          5484.4673,
          8627.5411,
          9957.7216,
          8765.249,
          2709.24395,
          42211.1382,
          1711.0268,
          8569.8618,
          16450.8947,
          21677.28345,
          39725.51805,
          11394.06555,
          44501.3982,
          3594.17085,
          8023.13545,
          9288.0267,
          4462.7218,
          11554.2236,
          48970.2476,
          7045.499,
          14349.8544,
          10928.849,
          39871.7043,
          4562.8421,
          8551.347,
          4454.40265,
          5855.9025,
          4076.497,
          9748.9106,
          3227.1211,
          3471.4096,
          2904.088,
          11512.405,
          10807.4863,
          38282.7495,
          18903.49141,
          40904.1995,
          14358.36437,
          7623.518,
          9048.0273,
          10791.96,
          5630.45785,
          7727.2532,
          18963.17192,
          7153.5539,
          6112.35295,
          17178.6824,
          23887.6627,
          6496.886,
          7650.77375,
          9447.3824,
          18328.2381,
          21771.3423,
          13725.47184,
          13019.16105,
          6393.60345,
          9964.06,
          5116.5004,
          20296.86345,
          12347.172,
          5373.36425,
          3956.07145,
          41661.602,
          4718.20355,
          6858.4796,
          4795.6568,
          3238.4357,
          37607.5277,
          11305.93455,
          3277.161,
          6770.1925,
          7337.748,
          3292.52985,
          4747.0529,
          22462.04375,
          1720.3537,
          47403.88,
          5472.449,
          7147.4728,
          1964.78,
          2710.82855,
          3208.787,
          6940.90985,
          4536.259,
          11272.33139,
          4239.89265,
          9377.9047
         ],
         "xaxis": "x",
         "yaxis": "y"
        },
        {
         "alignmentgroup": "True",
         "hovertemplate": "children=1<br>charges=%{x}<extra></extra>",
         "legendgroup": "1",
         "marker": {
          "color": "#EF553B"
         },
         "name": "1",
         "notched": true,
         "offsetgroup": "1",
         "showlegend": false,
         "type": "box",
         "x": [
          26650.70264664269,
          1725.5523,
          8240.5896,
          1837.237,
          10797.3362,
          4149.736,
          37701.8768,
          2775.19215,
          51194.55914,
          39774.2763,
          6272.4772,
          6079.6715,
          38709.176,
          23568.272,
          23244.7902,
          30166.61817,
          4133.64165,
          6389.37785,
          11946.6259,
          3947.4131,
          4441.21315,
          37165.1638,
          10942.13205,
          3766.8838,
          5003.853,
          17560.37975,
          2331.519,
          10825.2537,
          19107.7796,
          39556.4945,
          3490.5491,
          9877.6077,
          10959.6947,
          1842.519,
          5125.2157,
          7077.1894,
          10450.552,
          2719.27975,
          5246.047,
          10436.096,
          6775.961,
          12044.342,
          8871.1517,
          4337.7352,
          6610.1097,
          1980.07,
          5002.7827,
          3392.9768,
          5012.471,
          7358.17565,
          7443.64305,
          12333.828,
          7152.6714,
          5354.07465,
          35160.13457,
          1832.094,
          4040.55825,
          17085.2676,
          17179.522,
          7441.053,
          9282.4806,
          1719.4363,
          9617.66245,
          9855.1314,
          22331.5668,
          4237.12655,
          11879.10405,
          7742.1098,
          47896.79135,
          20277.80751,
          21978.6769,
          9249.4952,
          4151.0287,
          4667.60765,
          4894.7533,
          6600.20595,
          3561.8889,
          47928.03,
          48517.56315,
          13937.6665,
          41919.097,
          8232.6388,
          8334.45755,
          5478.0368,
          4751.07,
          2597.779,
          9778.3472,
          7639.41745,
          27000.98473,
          8964.06055,
          9290.1395,
          8083.9198,
          8539.671,
          4074.4537,
          19594.80965,
          7345.7266,
          14418.2804,
          39125.33225,
          6555.07035,
          3167.45585,
          4243.59005,
          4738.2682,
          28287.89766,
          26109.32905,
          4762.329,
          4032.2407,
          19521.9682,
          13224.693,
          23288.9284,
          2201.0971,
          28868.6639,
          9880.068,
          10461.9794,
          22218.1149,
          5974.3847,
          2643.2685,
          11763.0009,
          21082.16,
          27724.28875,
          5240.765,
          38245.59327,
          9861.025,
          8342.90875,
          48675.5177,
          6067.12675,
          8233.0975,
          8334.5896,
          9058.7303,
          6373.55735,
          2219.4451,
          31620.00106,
          58571.07448,
          9724.53,
          12913.9924,
          17626.23951,
          4779.6023,
          43943.8761,
          5976.8311,
          8428.0693,
          15359.1045,
          8823.98575,
          5594.8455,
          8547.6913,
          42969.8527,
          3659.346,
          9182.17,
          11326.71487,
          10085.846,
          9391.346,
          2709.1119,
          6123.5688,
          10579.711,
          3410.324,
          26392.26029,
          22192.43711,
          5148.5526,
          8703.456,
          6500.2359,
          2585.269,
          4766.022,
          26236.57997,
          34806.4677,
          8068.185,
          2362.22905,
          3577.999,
          40273.6455,
          5385.3379,
          8930.93455,
          1727.54,
          9566.9909,
          13112.6048,
          10106.13425,
          6664.68595,
          16657.71745,
          6781.3542,
          10065.413,
          9447.25035,
          9583.8933,
          9910.35985,
          8556.907,
          2416.955,
          19040.876,
          8062.764,
          7050.642,
          9386.1613,
          24520.264,
          4350.5144,
          4719.52405,
          7046.7222,
          2103.08,
          28476.73499,
          3309.7926,
          23401.30575,
          7445.918,
          20773.62775,
          6117.4945,
          5377.4578,
          9872.701,
          2438.0552,
          18218.16139,
          11576.13,
          3392.3652,
          6849.026,
          26140.3603,
          6282.235,
          2789.0574,
          19719.6947,
          11945.1327,
          2221.56445,
          7633.7206,
          2639.0429,
          7626.993,
          5245.2269,
          5488.262,
          12032.326,
          6289.7549,
          2927.0647,
          6238.298,
          9549.5651,
          11674.13,
          39047.285,
          4527.18295,
          20009.63365,
          3875.7341,
          41999.52,
          12609.88702,
          41034.2214,
          28468.91901,
          2730.10785,
          14474.675,
          4746.344,
          7518.02535,
          2902.9065,
          25517.11363,
          16796.41194,
          7624.63,
          28340.18885,
          3378.91,
          5484.4673,
          8627.5411,
          9957.7216,
          8765.249,
          2709.24395,
          42211.1382,
          1711.0268,
          8569.8618,
          16450.8947,
          21677.28345,
          39725.51805,
          11394.06555,
          44501.3982,
          3594.17085,
          8023.13545,
          9288.0267,
          4462.7218,
          11554.2236,
          48970.2476,
          7045.499,
          14349.8544,
          10928.849,
          39871.7043,
          4562.8421,
          8551.347,
          4454.40265,
          5855.9025,
          4076.497,
          9748.9106,
          3227.1211,
          3471.4096,
          2904.088,
          11512.405,
          10807.4863,
          38282.7495,
          18903.49141,
          40904.1995,
          14358.36437,
          7623.518,
          9048.0273,
          10791.96,
          5630.45785,
          7727.2532,
          18963.17192,
          7153.5539,
          6112.35295,
          17178.6824,
          23887.6627,
          6496.886,
          7650.77375,
          9447.3824,
          18328.2381,
          21771.3423,
          13725.47184,
          13019.16105,
          6393.60345,
          9964.06,
          5116.5004,
          20296.86345,
          12347.172,
          5373.36425,
          3956.07145,
          41661.602,
          4718.20355,
          6858.4796,
          4795.6568,
          3238.4357,
          37607.5277,
          11305.93455,
          3277.161,
          6770.1925,
          7337.748,
          3292.52985,
          4747.0529,
          22462.04375,
          1720.3537,
          47403.88,
          5472.449,
          7147.4728,
          1964.78,
          2710.82855,
          3208.787,
          6940.90985,
          4536.259,
          11272.33139,
          4239.89265,
          9377.9047
         ],
         "xaxis": "x2",
         "yaxis": "y2"
        },
        {
         "alignmentgroup": "True",
         "bingroup": "x",
         "hovertemplate": "children=0<br>charges=%{x}<br>count=%{y}<extra></extra>",
         "legendgroup": "0",
         "marker": {
          "color": "#00cc96",
          "pattern": {
           "shape": ""
          }
         },
         "name": "0",
         "offsetgroup": "0",
         "orientation": "v",
         "showlegend": true,
         "type": "histogram",
         "x": [
          21459.03799039332,
          16884.924,
          21984.47061,
          3866.8552,
          3756.6216,
          28923.13692,
          2721.3208,
          27808.7251,
          1826.843,
          11090.7178,
          39611.7577,
          2395.17155,
          10602.385,
          36837.467,
          13228.84695,
          1137.011,
          14451.83515,
          35585.576,
          2198.18985,
          13770.0979,
          1625.43375,
          2302.3,
          48173.361,
          3046.062,
          20630.28351,
          3556.9223,
          12629.8967,
          2211.13075,
          37742.5757,
          14711.7438,
          1743.214,
          5920.1041,
          16577.7795,
          11356.6609,
          1532.4697,
          2755.02095,
          6571.02435,
          7935.29115,
          43578.9394,
          11073.176,
          8026.6666,
          11082.5772,
          2026.9741,
          10226.2842,
          22412.6485,
          15820.699,
          6186.127,
          3645.0894,
          21344.8467,
          2867.1196,
          47055.5321,
          4646.759,
          2404.7338,
          30259.99556,
          11381.3254,
          8601.3293,
          1705.6245,
          2257.47525,
          3385.39915,
          17081.08,
          9634.538,
          12815.44495,
          13616.3586,
          1632.56445,
          2457.21115,
          2155.6815,
          1261.442,
          2045.68525,
          2166.732,
          7789.635,
          19964.7463,
          6948.7008,
          21223.6758,
          15518.18025,
          36950.2567,
          21348.706,
          36149.4835,
          5028.1466,
          13405.3903,
          8116.68,
          1694.7964,
          2855.43755,
          48824.45,
          11735.87905,
          1631.8212,
          7419.4779,
          12557.6053,
          4883.866,
          2137.6536,
          1137.4697,
          5649.715,
          9644.2525,
          14901.5167,
          2130.6759,
          13012.20865,
          37133.8982,
          7147.105,
          11743.299,
          13880.949,
          10355.641,
          2483.736,
          25081.76784,
          10564.8845,
          34779.615,
          19515.5416,
          2689.4954,
          24227.33724,
          1727.785,
          1615.7667,
          17352.6803,
          29523.1656,
          24476.47851,
          12648.7034,
          1986.9334,
          41097.16175,
          43921.1837,
          5400.9805,
          33750.2918,
          11837.16,
          36219.40545,
          2523.1695,
          2150.469,
          9625.92,
          14256.1928,
          3172.018,
          2156.7518,
          1704.5681,
          16297.846,
          11944.59435,
          8444.474,
          1737.376,
          8124.4084,
          34838.873,
          9722.7695,
          8835.26495,
          10435.06525,
          7421.19455,
          35491.64,
          11566.30055,
          2866.091,
          9144.565,
          24393.6224,
          13429.0354,
          11658.37915,
          13822.803,
          12142.5786,
          18955.22017,
          13352.0998,
          13217.0945,
          13981.85035,
          1635.73365,
          11830.6072,
          8932.084,
          3554.203,
          12404.8791,
          14133.03775,
          24603.04837,
          1837.2819,
          1607.5101,
          13844.506,
          13415.0381,
          12029.2867,
          1391.5287,
          18033.9679,
          38126.2465,
          42303.69215,
          20781.48892,
          1261.859,
          11856.4115,
          3176.8159,
          2138.0707,
          7526.70645,
          16586.49771,
          1631.6683,
          9264.797,
          14692.66935,
          3260.199,
          4185.0979,
          1621.3402,
          2134.9015,
          9140.951,
          28950.4692,
          46889.2612,
          46599.1084,
          2727.3951,
          7323.734819,
          23082.95533,
          5969.723,
          12638.195,
          2254.7967,
          2897.3235,
          37079.372,
          1149.3959,
          7345.084,
          12730.9996,
          11454.0215,
          5910.944,
          1969.614,
          1769.53165,
          21797.0004,
          11840.77505,
          10601.412,
          22144.032,
          11165.41765,
          1632.03625,
          2497.0383,
          2203.47185,
          1744.465,
          20878.78443,
          35147.52848,
          2534.39375,
          1534.3045,
          1824.2854,
          1622.1885,
          4347.02335,
          1253.936,
          48885.13561,
          1748.774,
          24513.09126,
          2196.4732,
          12574.049,
          1967.0227,
          13470.86,
          36197.699,
          6837.3687,
          32548.3405,
          3044.2133,
          11455.28,
          2498.4144,
          9361.3268,
          1256.299,
          11362.755,
          3857.75925,
          25656.57526,
          3994.1778,
          9866.30485,
          5397.6167,
          11482.63485,
          1708.0014,
          14043.4767,
          19214.70553,
          13831.1152,
          27346.04207,
          13887.204,
          63770.42801,
          10231.4999,
          3268.84665,
          3213.62205,
          45863.205,
          13390.559,
          3972.9247,
          12957.118,
          17878.90068,
          3935.1799,
          1646.4297,
          10923.9332,
          2494.022,
          2128.43105,
          3761.292,
          12222.8983,
          1664.9996,
          3206.49135,
          1639.5631,
          1242.816,
          13635.6379,
          11842.442,
          5709.1644,
          1633.0444,
          9174.13565,
          11070.535,
          17468.9839,
          9283.562,
          3558.62025,
          25678.77845,
          2207.69745,
          1880.07,
          11658.11505,
          34439.8559,
          10713.644,
          34617.84065,
          12129.61415,
          3736.4647,
          11365.952,
          42983.4585,
          1977.815,
          3366.6697,
          14410.9321,
          20149.3229,
          13143.86485,
          1712.227,
          12430.95335,
          8280.6227,
          12244.531,
          1136.3994,
          27037.9141,
          45710.20785,
          3943.5954,
          4399.731,
          6185.3208,
          7222.78625,
          1242.26,
          9863.4718,
          5438.7491,
          2104.1134,
          2352.96845,
          3201.24515,
          10976.24575,
          2020.5523,
          9541.69555,
          9504.3103,
          44400.4064,
          5469.0066,
          1984.4533,
          2457.502,
          12146.971,
          12231.6136,
          9875.6804,
          12979.358,
          1263.249,
          2217.6012,
          40419.0191,
          18246.4955,
          43254.41795,
          3757.8448,
          8827.2099,
          1627.28245,
          3062.50825,
          19539.243,
          1906.35825,
          14210.53595,
          11833.7823,
          23065.4207,
          36307.7983,
          3070.8087,
          11842.62375,
          14319.031,
          12797.20962,
          17748.5062,
          7448.40395,
          9869.8102,
          1146.7966,
          12741.16745,
          1917.3184,
          13457.9608,
          5662.225,
          1252.407,
          2731.9122,
          21195.818,
          18310.742,
          11848.141,
          17904.52705,
          14313.8463,
          38792.6856,
          1815.8759,
          7731.85785,
          2136.88225,
          1131.5066,
          1877.9294,
          2842.76075,
          55135.40209,
          2680.9493,
          1621.8827,
          12523.6048,
          13393.756,
          5266.3656,
          11743.9341,
          4402.233,
          11657.7189,
          12622.1795,
          1526.312,
          12323.936,
          27533.9129,
          10072.05505,
          45008.9555,
          2974.126,
          10601.63225,
          37270.1512,
          42111.6647,
          1875.344,
          40974.1649,
          15817.9857,
          10965.446,
          5458.04645,
          8782.469,
          1141.4451,
          13129.60345,
          8457.818,
          5966.8874,
          2690.1138,
          2585.85065,
          27218.43725,
          5272.1758,
          1682.597,
          29330.98315,
          10422.91665,
          13555.0049,
          13063.883,
          1634.5734,
          2117.33885,
          8688.85885,
          48673.5588,
          8125.7845,
          12644.589,
          17496.306,
          33732.6867,
          2473.3341,
          21774.32215,
          35069.37452,
          13041.921,
          13451.122,
          13462.52,
          4320.41085,
          6250.435,
          13470.8044,
          7348.142,
          12233.828,
          9487.6442,
          1121.8739,
          2217.46915,
          1628.4709,
          12982.8747,
          6358.77645,
          11534.87265,
          3353.284,
          4992.3764,
          2527.81865,
          1759.338,
          2322.6218,
          16138.76205,
          7804.1605,
          4889.0368,
          4500.33925,
          4518.82625,
          14571.8908,
          13887.9685,
          5267.81815,
          34472.841,
          1972.95,
          21232.18226,
          8269.044,
          5383.536,
          12124.9924,
          8798.593,
          2020.177,
          21595.38229,
          9850.432,
          44423.803,
          4137.5227,
          13747.87235,
          12950.0712,
          2250.8352,
          20234.85475,
          1704.70015,
          33475.81715,
          3161.454,
          7325.0482,
          39727.614,
          14394.5579,
          3353.4703,
          10594.50155,
          8277.523,
          17929.30337,
          2480.9791,
          1981.5819,
          5757.41345,
          13974.45555,
          1909.52745,
          13204.28565,
          2102.2647,
          34672.1472,
          10796.35025,
          11353.2276,
          10577.087,
          41676.0811,
          11286.5387,
          33907.548,
          1674.6323,
          23045.56616,
          11363.2832,
          20420.60465,
          10338.9316,
          8988.15875,
          2396.0959,
          34166.273,
          14254.6082,
          10214.636,
          1728.897,
          20709.02034,
          9991.03765,
          19673.33573,
          3176.2877,
          3704.3545,
          36898.73308,
          27117.99378,
          52590.82939,
          2261.5688,
          5979.731,
          2203.73595,
          12235.8392,
          39722.7462,
          2459.7201,
          3989.841,
          2200.83085,
          5227.98875,
          10982.5013,
          11093.6229,
          2154.361,
          2899.48935,
          19350.3689,
          2850.68375,
          2632.992,
          13844.7972,
          13126.67745,
          8671.19125,
          4134.08245,
          33307.5508,
          5699.8375,
          2055.3249,
          1702.4553,
          12890.05765,
          5415.6612,
          8442.667,
          26125.67477,
          10594.2257,
          11938.25595,
          20167.33603,
          11345.519,
          2699.56835,
          14449.8544,
          12224.35085,
          3171.6149,
          1135.9407,
          1633.9618,
          18648.4217,
          1241.565,
          16232.847,
          4415.1588,
          6474.013,
          10197.7722,
          4544.2348,
          26926.5144,
          10704.47,
          34254.05335,
          1880.487,
          3021.80915,
          17043.3414,
          10959.33,
          2741.948,
          4357.04365,
          8283.6807,
          14283.4594,
          8534.6718,
          3732.6251,
          34828.654,
          1515.3449,
          11931.12525,
          1708.92575,
          62592.87309,
          37829.7242,
          2464.6188,
          16115.3045,
          33900.653,
          4571.41305,
          1731.677,
          1163.4627,
          28101.33305,
          12981.3457,
          13143.33665,
          7050.0213,
          10795.93733,
          2205.9808,
          1629.8335,
          2007.945,
          29141.3603
         ],
         "xaxis": "x",
         "yaxis": "y"
        },
        {
         "alignmentgroup": "True",
         "hovertemplate": "children=0<br>charges=%{x}<extra></extra>",
         "legendgroup": "0",
         "marker": {
          "color": "#00cc96"
         },
         "name": "0",
         "notched": true,
         "offsetgroup": "0",
         "showlegend": false,
         "type": "box",
         "x": [
          21459.03799039332,
          16884.924,
          21984.47061,
          3866.8552,
          3756.6216,
          28923.13692,
          2721.3208,
          27808.7251,
          1826.843,
          11090.7178,
          39611.7577,
          2395.17155,
          10602.385,
          36837.467,
          13228.84695,
          1137.011,
          14451.83515,
          35585.576,
          2198.18985,
          13770.0979,
          1625.43375,
          2302.3,
          48173.361,
          3046.062,
          20630.28351,
          3556.9223,
          12629.8967,
          2211.13075,
          37742.5757,
          14711.7438,
          1743.214,
          5920.1041,
          16577.7795,
          11356.6609,
          1532.4697,
          2755.02095,
          6571.02435,
          7935.29115,
          43578.9394,
          11073.176,
          8026.6666,
          11082.5772,
          2026.9741,
          10226.2842,
          22412.6485,
          15820.699,
          6186.127,
          3645.0894,
          21344.8467,
          2867.1196,
          47055.5321,
          4646.759,
          2404.7338,
          30259.99556,
          11381.3254,
          8601.3293,
          1705.6245,
          2257.47525,
          3385.39915,
          17081.08,
          9634.538,
          12815.44495,
          13616.3586,
          1632.56445,
          2457.21115,
          2155.6815,
          1261.442,
          2045.68525,
          2166.732,
          7789.635,
          19964.7463,
          6948.7008,
          21223.6758,
          15518.18025,
          36950.2567,
          21348.706,
          36149.4835,
          5028.1466,
          13405.3903,
          8116.68,
          1694.7964,
          2855.43755,
          48824.45,
          11735.87905,
          1631.8212,
          7419.4779,
          12557.6053,
          4883.866,
          2137.6536,
          1137.4697,
          5649.715,
          9644.2525,
          14901.5167,
          2130.6759,
          13012.20865,
          37133.8982,
          7147.105,
          11743.299,
          13880.949,
          10355.641,
          2483.736,
          25081.76784,
          10564.8845,
          34779.615,
          19515.5416,
          2689.4954,
          24227.33724,
          1727.785,
          1615.7667,
          17352.6803,
          29523.1656,
          24476.47851,
          12648.7034,
          1986.9334,
          41097.16175,
          43921.1837,
          5400.9805,
          33750.2918,
          11837.16,
          36219.40545,
          2523.1695,
          2150.469,
          9625.92,
          14256.1928,
          3172.018,
          2156.7518,
          1704.5681,
          16297.846,
          11944.59435,
          8444.474,
          1737.376,
          8124.4084,
          34838.873,
          9722.7695,
          8835.26495,
          10435.06525,
          7421.19455,
          35491.64,
          11566.30055,
          2866.091,
          9144.565,
          24393.6224,
          13429.0354,
          11658.37915,
          13822.803,
          12142.5786,
          18955.22017,
          13352.0998,
          13217.0945,
          13981.85035,
          1635.73365,
          11830.6072,
          8932.084,
          3554.203,
          12404.8791,
          14133.03775,
          24603.04837,
          1837.2819,
          1607.5101,
          13844.506,
          13415.0381,
          12029.2867,
          1391.5287,
          18033.9679,
          38126.2465,
          42303.69215,
          20781.48892,
          1261.859,
          11856.4115,
          3176.8159,
          2138.0707,
          7526.70645,
          16586.49771,
          1631.6683,
          9264.797,
          14692.66935,
          3260.199,
          4185.0979,
          1621.3402,
          2134.9015,
          9140.951,
          28950.4692,
          46889.2612,
          46599.1084,
          2727.3951,
          7323.734819,
          23082.95533,
          5969.723,
          12638.195,
          2254.7967,
          2897.3235,
          37079.372,
          1149.3959,
          7345.084,
          12730.9996,
          11454.0215,
          5910.944,
          1969.614,
          1769.53165,
          21797.0004,
          11840.77505,
          10601.412,
          22144.032,
          11165.41765,
          1632.03625,
          2497.0383,
          2203.47185,
          1744.465,
          20878.78443,
          35147.52848,
          2534.39375,
          1534.3045,
          1824.2854,
          1622.1885,
          4347.02335,
          1253.936,
          48885.13561,
          1748.774,
          24513.09126,
          2196.4732,
          12574.049,
          1967.0227,
          13470.86,
          36197.699,
          6837.3687,
          32548.3405,
          3044.2133,
          11455.28,
          2498.4144,
          9361.3268,
          1256.299,
          11362.755,
          3857.75925,
          25656.57526,
          3994.1778,
          9866.30485,
          5397.6167,
          11482.63485,
          1708.0014,
          14043.4767,
          19214.70553,
          13831.1152,
          27346.04207,
          13887.204,
          63770.42801,
          10231.4999,
          3268.84665,
          3213.62205,
          45863.205,
          13390.559,
          3972.9247,
          12957.118,
          17878.90068,
          3935.1799,
          1646.4297,
          10923.9332,
          2494.022,
          2128.43105,
          3761.292,
          12222.8983,
          1664.9996,
          3206.49135,
          1639.5631,
          1242.816,
          13635.6379,
          11842.442,
          5709.1644,
          1633.0444,
          9174.13565,
          11070.535,
          17468.9839,
          9283.562,
          3558.62025,
          25678.77845,
          2207.69745,
          1880.07,
          11658.11505,
          34439.8559,
          10713.644,
          34617.84065,
          12129.61415,
          3736.4647,
          11365.952,
          42983.4585,
          1977.815,
          3366.6697,
          14410.9321,
          20149.3229,
          13143.86485,
          1712.227,
          12430.95335,
          8280.6227,
          12244.531,
          1136.3994,
          27037.9141,
          45710.20785,
          3943.5954,
          4399.731,
          6185.3208,
          7222.78625,
          1242.26,
          9863.4718,
          5438.7491,
          2104.1134,
          2352.96845,
          3201.24515,
          10976.24575,
          2020.5523,
          9541.69555,
          9504.3103,
          44400.4064,
          5469.0066,
          1984.4533,
          2457.502,
          12146.971,
          12231.6136,
          9875.6804,
          12979.358,
          1263.249,
          2217.6012,
          40419.0191,
          18246.4955,
          43254.41795,
          3757.8448,
          8827.2099,
          1627.28245,
          3062.50825,
          19539.243,
          1906.35825,
          14210.53595,
          11833.7823,
          23065.4207,
          36307.7983,
          3070.8087,
          11842.62375,
          14319.031,
          12797.20962,
          17748.5062,
          7448.40395,
          9869.8102,
          1146.7966,
          12741.16745,
          1917.3184,
          13457.9608,
          5662.225,
          1252.407,
          2731.9122,
          21195.818,
          18310.742,
          11848.141,
          17904.52705,
          14313.8463,
          38792.6856,
          1815.8759,
          7731.85785,
          2136.88225,
          1131.5066,
          1877.9294,
          2842.76075,
          55135.40209,
          2680.9493,
          1621.8827,
          12523.6048,
          13393.756,
          5266.3656,
          11743.9341,
          4402.233,
          11657.7189,
          12622.1795,
          1526.312,
          12323.936,
          27533.9129,
          10072.05505,
          45008.9555,
          2974.126,
          10601.63225,
          37270.1512,
          42111.6647,
          1875.344,
          40974.1649,
          15817.9857,
          10965.446,
          5458.04645,
          8782.469,
          1141.4451,
          13129.60345,
          8457.818,
          5966.8874,
          2690.1138,
          2585.85065,
          27218.43725,
          5272.1758,
          1682.597,
          29330.98315,
          10422.91665,
          13555.0049,
          13063.883,
          1634.5734,
          2117.33885,
          8688.85885,
          48673.5588,
          8125.7845,
          12644.589,
          17496.306,
          33732.6867,
          2473.3341,
          21774.32215,
          35069.37452,
          13041.921,
          13451.122,
          13462.52,
          4320.41085,
          6250.435,
          13470.8044,
          7348.142,
          12233.828,
          9487.6442,
          1121.8739,
          2217.46915,
          1628.4709,
          12982.8747,
          6358.77645,
          11534.87265,
          3353.284,
          4992.3764,
          2527.81865,
          1759.338,
          2322.6218,
          16138.76205,
          7804.1605,
          4889.0368,
          4500.33925,
          4518.82625,
          14571.8908,
          13887.9685,
          5267.81815,
          34472.841,
          1972.95,
          21232.18226,
          8269.044,
          5383.536,
          12124.9924,
          8798.593,
          2020.177,
          21595.38229,
          9850.432,
          44423.803,
          4137.5227,
          13747.87235,
          12950.0712,
          2250.8352,
          20234.85475,
          1704.70015,
          33475.81715,
          3161.454,
          7325.0482,
          39727.614,
          14394.5579,
          3353.4703,
          10594.50155,
          8277.523,
          17929.30337,
          2480.9791,
          1981.5819,
          5757.41345,
          13974.45555,
          1909.52745,
          13204.28565,
          2102.2647,
          34672.1472,
          10796.35025,
          11353.2276,
          10577.087,
          41676.0811,
          11286.5387,
          33907.548,
          1674.6323,
          23045.56616,
          11363.2832,
          20420.60465,
          10338.9316,
          8988.15875,
          2396.0959,
          34166.273,
          14254.6082,
          10214.636,
          1728.897,
          20709.02034,
          9991.03765,
          19673.33573,
          3176.2877,
          3704.3545,
          36898.73308,
          27117.99378,
          52590.82939,
          2261.5688,
          5979.731,
          2203.73595,
          12235.8392,
          39722.7462,
          2459.7201,
          3989.841,
          2200.83085,
          5227.98875,
          10982.5013,
          11093.6229,
          2154.361,
          2899.48935,
          19350.3689,
          2850.68375,
          2632.992,
          13844.7972,
          13126.67745,
          8671.19125,
          4134.08245,
          33307.5508,
          5699.8375,
          2055.3249,
          1702.4553,
          12890.05765,
          5415.6612,
          8442.667,
          26125.67477,
          10594.2257,
          11938.25595,
          20167.33603,
          11345.519,
          2699.56835,
          14449.8544,
          12224.35085,
          3171.6149,
          1135.9407,
          1633.9618,
          18648.4217,
          1241.565,
          16232.847,
          4415.1588,
          6474.013,
          10197.7722,
          4544.2348,
          26926.5144,
          10704.47,
          34254.05335,
          1880.487,
          3021.80915,
          17043.3414,
          10959.33,
          2741.948,
          4357.04365,
          8283.6807,
          14283.4594,
          8534.6718,
          3732.6251,
          34828.654,
          1515.3449,
          11931.12525,
          1708.92575,
          62592.87309,
          37829.7242,
          2464.6188,
          16115.3045,
          33900.653,
          4571.41305,
          1731.677,
          1163.4627,
          28101.33305,
          12981.3457,
          13143.33665,
          7050.0213,
          10795.93733,
          2205.9808,
          1629.8335,
          2007.945,
          29141.3603
         ],
         "xaxis": "x2",
         "yaxis": "y2"
        },
        {
         "alignmentgroup": "True",
         "bingroup": "x",
         "hovertemplate": "children=3<br>charges=%{x}<br>count=%{y}<extra></extra>",
         "legendgroup": "3",
         "marker": {
          "color": "#ab63fa",
          "pattern": {
           "shape": ""
          }
         },
         "name": "3",
         "offsetgroup": "3",
         "orientation": "v",
         "showlegend": true,
         "type": "histogram",
         "x": [
          4449.462,
          7281.5056,
          14001.1338,
          15612.19335,
          8059.6791,
          8606.2174,
          17663.1442,
          11741.726,
          30184.9367,
          12105.32,
          30942.1918,
          11488.31695,
          10115.00885,
          27322.73386,
          20745.9891,
          5138.2567,
          40720.55105,
          6334.34355,
          19749.38338,
          6128.79745,
          4827.90495,
          8538.28845,
          4005.4225,
          43753.33705,
          5325.651,
          5253.524,
          11987.1682,
          14001.2867,
          7196.867,
          4260.744,
          13047.33235,
          24869.8368,
          20462.99766,
          46151.1245,
          14590.63205,
          48549.17835,
          25992.82104,
          3906.127,
          38746.3551,
          6746.7425,
          24873.3849,
          42124.5153,
          6184.2994,
          8944.1151,
          9620.3307,
          13430.265,
          3481.868,
          21659.9301,
          16455.70785,
          4618.0799,
          8522.003,
          10269.46,
          6652.5288,
          18804.7524,
          13919.8229,
          5926.846,
          7682.67,
          10381.4787,
          25382.297,
          15555.18875,
          9563.029,
          12475.3513,
          6796.86325,
          5972.378,
          6196.448,
          39983.42595,
          3861.20965,
          16085.1275,
          6753.038,
          6748.5912,
          32787.45859,
          4466.6214,
          10141.1362,
          8252.2843,
          6435.6237,
          4837.5823,
          12485.8009,
          46130.5265,
          12363.547,
          10264.4421,
          6113.23105,
          11264.541,
          40932.4295,
          19361.9988,
          4234.927,
          14007.222,
          36189.1017,
          7985.815,
          5428.7277,
          27941.28758,
          10560.4917,
          5934.3798,
          18259.216,
          6414.178,
          5209.57885,
          9414.92,
          6360.9936,
          3597.596,
          39597.4072,
          24106.91255,
          7151.092,
          4391.652,
          8891.1395,
          3443.064,
          46255.1125,
          4661.28635,
          4846.92015,
          15170.069,
          14382.70905,
          19933.458,
          9500.57305,
          10702.6424,
          9704.66805,
          19199.944,
          8410.04685,
          16420.49455,
          7986.47525,
          7418.522,
          6551.7501,
          24915.22085,
          12495.29085,
          35595.5898,
          12094.478,
          25309.489,
          6548.19505,
          15161.5344,
          3591.48,
          11253.421,
          8605.3615,
          41949.2441,
          24180.9335,
          5312.16985,
          5693.4305,
          46661.4424,
          11085.5868,
          7954.517,
          11289.10925,
          40941.2854,
          7228.21565,
          37465.34375,
          18838.70366,
          18223.4512,
          7537.1639,
          60021.39897,
          12479.70895,
          6985.50695,
          4296.2712,
          9101.798,
          11436.73815,
          30063.58055,
          8615.3,
          9301.89355,
          46718.16325,
          18765.87545,
          5425.02335,
          11411.685,
          10600.5483
         ],
         "xaxis": "x",
         "yaxis": "y"
        },
        {
         "alignmentgroup": "True",
         "hovertemplate": "children=3<br>charges=%{x}<extra></extra>",
         "legendgroup": "3",
         "marker": {
          "color": "#ab63fa"
         },
         "name": "3",
         "notched": true,
         "offsetgroup": "3",
         "showlegend": false,
         "type": "box",
         "x": [
          4449.462,
          7281.5056,
          14001.1338,
          15612.19335,
          8059.6791,
          8606.2174,
          17663.1442,
          11741.726,
          30184.9367,
          12105.32,
          30942.1918,
          11488.31695,
          10115.00885,
          27322.73386,
          20745.9891,
          5138.2567,
          40720.55105,
          6334.34355,
          19749.38338,
          6128.79745,
          4827.90495,
          8538.28845,
          4005.4225,
          43753.33705,
          5325.651,
          5253.524,
          11987.1682,
          14001.2867,
          7196.867,
          4260.744,
          13047.33235,
          24869.8368,
          20462.99766,
          46151.1245,
          14590.63205,
          48549.17835,
          25992.82104,
          3906.127,
          38746.3551,
          6746.7425,
          24873.3849,
          42124.5153,
          6184.2994,
          8944.1151,
          9620.3307,
          13430.265,
          3481.868,
          21659.9301,
          16455.70785,
          4618.0799,
          8522.003,
          10269.46,
          6652.5288,
          18804.7524,
          13919.8229,
          5926.846,
          7682.67,
          10381.4787,
          25382.297,
          15555.18875,
          9563.029,
          12475.3513,
          6796.86325,
          5972.378,
          6196.448,
          39983.42595,
          3861.20965,
          16085.1275,
          6753.038,
          6748.5912,
          32787.45859,
          4466.6214,
          10141.1362,
          8252.2843,
          6435.6237,
          4837.5823,
          12485.8009,
          46130.5265,
          12363.547,
          10264.4421,
          6113.23105,
          11264.541,
          40932.4295,
          19361.9988,
          4234.927,
          14007.222,
          36189.1017,
          7985.815,
          5428.7277,
          27941.28758,
          10560.4917,
          5934.3798,
          18259.216,
          6414.178,
          5209.57885,
          9414.92,
          6360.9936,
          3597.596,
          39597.4072,
          24106.91255,
          7151.092,
          4391.652,
          8891.1395,
          3443.064,
          46255.1125,
          4661.28635,
          4846.92015,
          15170.069,
          14382.70905,
          19933.458,
          9500.57305,
          10702.6424,
          9704.66805,
          19199.944,
          8410.04685,
          16420.49455,
          7986.47525,
          7418.522,
          6551.7501,
          24915.22085,
          12495.29085,
          35595.5898,
          12094.478,
          25309.489,
          6548.19505,
          15161.5344,
          3591.48,
          11253.421,
          8605.3615,
          41949.2441,
          24180.9335,
          5312.16985,
          5693.4305,
          46661.4424,
          11085.5868,
          7954.517,
          11289.10925,
          40941.2854,
          7228.21565,
          37465.34375,
          18838.70366,
          18223.4512,
          7537.1639,
          60021.39897,
          12479.70895,
          6985.50695,
          4296.2712,
          9101.798,
          11436.73815,
          30063.58055,
          8615.3,
          9301.89355,
          46718.16325,
          18765.87545,
          5425.02335,
          11411.685,
          10600.5483
         ],
         "xaxis": "x2",
         "yaxis": "y2"
        },
        {
         "alignmentgroup": "True",
         "bingroup": "x",
         "hovertemplate": "children=5<br>charges=%{x}<br>count=%{y}<extra></extra>",
         "legendgroup": "5",
         "marker": {
          "color": "#FFA15A",
          "pattern": {
           "shape": ""
          }
         },
         "name": "5",
         "offsetgroup": "5",
         "orientation": "v",
         "showlegend": true,
         "type": "histogram",
         "x": [
          4687.797,
          6799.458,
          4830.63,
          5080.096,
          9788.8659,
          12592.5345,
          11552.904,
          6666.243,
          6653.7886,
          10096.97,
          8965.79575,
          8596.8278,
          4915.05985,
          19023.26,
          9222.4026,
          8582.3023,
          5615.369,
          14478.33015
         ],
         "xaxis": "x",
         "yaxis": "y"
        },
        {
         "alignmentgroup": "True",
         "hovertemplate": "children=5<br>charges=%{x}<extra></extra>",
         "legendgroup": "5",
         "marker": {
          "color": "#FFA15A"
         },
         "name": "5",
         "notched": true,
         "offsetgroup": "5",
         "showlegend": false,
         "type": "box",
         "x": [
          4687.797,
          6799.458,
          4830.63,
          5080.096,
          9788.8659,
          12592.5345,
          11552.904,
          6666.243,
          6653.7886,
          10096.97,
          8965.79575,
          8596.8278,
          4915.05985,
          19023.26,
          9222.4026,
          8582.3023,
          5615.369,
          14478.33015
         ],
         "xaxis": "x2",
         "yaxis": "y2"
        },
        {
         "alignmentgroup": "True",
         "bingroup": "x",
         "hovertemplate": "children=4<br>charges=%{x}<br>count=%{y}<extra></extra>",
         "legendgroup": "4",
         "marker": {
          "color": "#19d3f3",
          "pattern": {
           "shape": ""
          }
         },
         "name": "4",
         "offsetgroup": "4",
         "orientation": "v",
         "showlegend": true,
         "type": "histogram",
         "x": [
          4504.6624,
          11033.6617,
          10407.08585,
          8162.71625,
          11520.09985,
          24671.66334,
          10977.2063,
          10736.87075,
          7512.267,
          17942.106,
          40182.246,
          12949.1554,
          14394.39815,
          17128.42608,
          4877.98105,
          7243.8136,
          36580.28216,
          5708.867,
          11299.343,
          4561.1885,
          11015.1747,
          6059.173,
          15828.82173,
          21472.4788,
          19496.71917
         ],
         "xaxis": "x",
         "yaxis": "y"
        },
        {
         "alignmentgroup": "True",
         "hovertemplate": "children=4<br>charges=%{x}<extra></extra>",
         "legendgroup": "4",
         "marker": {
          "color": "#19d3f3"
         },
         "name": "4",
         "notched": true,
         "offsetgroup": "4",
         "showlegend": false,
         "type": "box",
         "x": [
          4504.6624,
          11033.6617,
          10407.08585,
          8162.71625,
          11520.09985,
          24671.66334,
          10977.2063,
          10736.87075,
          7512.267,
          17942.106,
          40182.246,
          12949.1554,
          14394.39815,
          17128.42608,
          4877.98105,
          7243.8136,
          36580.28216,
          5708.867,
          11299.343,
          4561.1885,
          11015.1747,
          6059.173,
          15828.82173,
          21472.4788,
          19496.71917
         ],
         "xaxis": "x2",
         "yaxis": "y2"
        }
       ],
       "layout": {
        "bargap": 0.2,
        "barmode": "relative",
        "legend": {
         "title": {
          "text": "children"
         },
         "tracegroupgap": 0
        },
        "margin": {
         "t": 60
        },
        "template": {
         "data": {
          "bar": [
           {
            "error_x": {
             "color": "#2a3f5f"
            },
            "error_y": {
             "color": "#2a3f5f"
            },
            "marker": {
             "line": {
              "color": "#E5ECF6",
              "width": 0.5
             },
             "pattern": {
              "fillmode": "overlay",
              "size": 10,
              "solidity": 0.2
             }
            },
            "type": "bar"
           }
          ],
          "barpolar": [
           {
            "marker": {
             "line": {
              "color": "#E5ECF6",
              "width": 0.5
             },
             "pattern": {
              "fillmode": "overlay",
              "size": 10,
              "solidity": 0.2
             }
            },
            "type": "barpolar"
           }
          ],
          "carpet": [
           {
            "aaxis": {
             "endlinecolor": "#2a3f5f",
             "gridcolor": "white",
             "linecolor": "white",
             "minorgridcolor": "white",
             "startlinecolor": "#2a3f5f"
            },
            "baxis": {
             "endlinecolor": "#2a3f5f",
             "gridcolor": "white",
             "linecolor": "white",
             "minorgridcolor": "white",
             "startlinecolor": "#2a3f5f"
            },
            "type": "carpet"
           }
          ],
          "choropleth": [
           {
            "colorbar": {
             "outlinewidth": 0,
             "ticks": ""
            },
            "type": "choropleth"
           }
          ],
          "contour": [
           {
            "colorbar": {
             "outlinewidth": 0,
             "ticks": ""
            },
            "colorscale": [
             [
              0,
              "#0d0887"
             ],
             [
              0.1111111111111111,
              "#46039f"
             ],
             [
              0.2222222222222222,
              "#7201a8"
             ],
             [
              0.3333333333333333,
              "#9c179e"
             ],
             [
              0.4444444444444444,
              "#bd3786"
             ],
             [
              0.5555555555555556,
              "#d8576b"
             ],
             [
              0.6666666666666666,
              "#ed7953"
             ],
             [
              0.7777777777777778,
              "#fb9f3a"
             ],
             [
              0.8888888888888888,
              "#fdca26"
             ],
             [
              1,
              "#f0f921"
             ]
            ],
            "type": "contour"
           }
          ],
          "contourcarpet": [
           {
            "colorbar": {
             "outlinewidth": 0,
             "ticks": ""
            },
            "type": "contourcarpet"
           }
          ],
          "heatmap": [
           {
            "colorbar": {
             "outlinewidth": 0,
             "ticks": ""
            },
            "colorscale": [
             [
              0,
              "#0d0887"
             ],
             [
              0.1111111111111111,
              "#46039f"
             ],
             [
              0.2222222222222222,
              "#7201a8"
             ],
             [
              0.3333333333333333,
              "#9c179e"
             ],
             [
              0.4444444444444444,
              "#bd3786"
             ],
             [
              0.5555555555555556,
              "#d8576b"
             ],
             [
              0.6666666666666666,
              "#ed7953"
             ],
             [
              0.7777777777777778,
              "#fb9f3a"
             ],
             [
              0.8888888888888888,
              "#fdca26"
             ],
             [
              1,
              "#f0f921"
             ]
            ],
            "type": "heatmap"
           }
          ],
          "heatmapgl": [
           {
            "colorbar": {
             "outlinewidth": 0,
             "ticks": ""
            },
            "colorscale": [
             [
              0,
              "#0d0887"
             ],
             [
              0.1111111111111111,
              "#46039f"
             ],
             [
              0.2222222222222222,
              "#7201a8"
             ],
             [
              0.3333333333333333,
              "#9c179e"
             ],
             [
              0.4444444444444444,
              "#bd3786"
             ],
             [
              0.5555555555555556,
              "#d8576b"
             ],
             [
              0.6666666666666666,
              "#ed7953"
             ],
             [
              0.7777777777777778,
              "#fb9f3a"
             ],
             [
              0.8888888888888888,
              "#fdca26"
             ],
             [
              1,
              "#f0f921"
             ]
            ],
            "type": "heatmapgl"
           }
          ],
          "histogram": [
           {
            "marker": {
             "pattern": {
              "fillmode": "overlay",
              "size": 10,
              "solidity": 0.2
             }
            },
            "type": "histogram"
           }
          ],
          "histogram2d": [
           {
            "colorbar": {
             "outlinewidth": 0,
             "ticks": ""
            },
            "colorscale": [
             [
              0,
              "#0d0887"
             ],
             [
              0.1111111111111111,
              "#46039f"
             ],
             [
              0.2222222222222222,
              "#7201a8"
             ],
             [
              0.3333333333333333,
              "#9c179e"
             ],
             [
              0.4444444444444444,
              "#bd3786"
             ],
             [
              0.5555555555555556,
              "#d8576b"
             ],
             [
              0.6666666666666666,
              "#ed7953"
             ],
             [
              0.7777777777777778,
              "#fb9f3a"
             ],
             [
              0.8888888888888888,
              "#fdca26"
             ],
             [
              1,
              "#f0f921"
             ]
            ],
            "type": "histogram2d"
           }
          ],
          "histogram2dcontour": [
           {
            "colorbar": {
             "outlinewidth": 0,
             "ticks": ""
            },
            "colorscale": [
             [
              0,
              "#0d0887"
             ],
             [
              0.1111111111111111,
              "#46039f"
             ],
             [
              0.2222222222222222,
              "#7201a8"
             ],
             [
              0.3333333333333333,
              "#9c179e"
             ],
             [
              0.4444444444444444,
              "#bd3786"
             ],
             [
              0.5555555555555556,
              "#d8576b"
             ],
             [
              0.6666666666666666,
              "#ed7953"
             ],
             [
              0.7777777777777778,
              "#fb9f3a"
             ],
             [
              0.8888888888888888,
              "#fdca26"
             ],
             [
              1,
              "#f0f921"
             ]
            ],
            "type": "histogram2dcontour"
           }
          ],
          "mesh3d": [
           {
            "colorbar": {
             "outlinewidth": 0,
             "ticks": ""
            },
            "type": "mesh3d"
           }
          ],
          "parcoords": [
           {
            "line": {
             "colorbar": {
              "outlinewidth": 0,
              "ticks": ""
             }
            },
            "type": "parcoords"
           }
          ],
          "pie": [
           {
            "automargin": true,
            "type": "pie"
           }
          ],
          "scatter": [
           {
            "fillpattern": {
             "fillmode": "overlay",
             "size": 10,
             "solidity": 0.2
            },
            "type": "scatter"
           }
          ],
          "scatter3d": [
           {
            "line": {
             "colorbar": {
              "outlinewidth": 0,
              "ticks": ""
             }
            },
            "marker": {
             "colorbar": {
              "outlinewidth": 0,
              "ticks": ""
             }
            },
            "type": "scatter3d"
           }
          ],
          "scattercarpet": [
           {
            "marker": {
             "colorbar": {
              "outlinewidth": 0,
              "ticks": ""
             }
            },
            "type": "scattercarpet"
           }
          ],
          "scattergeo": [
           {
            "marker": {
             "colorbar": {
              "outlinewidth": 0,
              "ticks": ""
             }
            },
            "type": "scattergeo"
           }
          ],
          "scattergl": [
           {
            "marker": {
             "colorbar": {
              "outlinewidth": 0,
              "ticks": ""
             }
            },
            "type": "scattergl"
           }
          ],
          "scattermapbox": [
           {
            "marker": {
             "colorbar": {
              "outlinewidth": 0,
              "ticks": ""
             }
            },
            "type": "scattermapbox"
           }
          ],
          "scatterpolar": [
           {
            "marker": {
             "colorbar": {
              "outlinewidth": 0,
              "ticks": ""
             }
            },
            "type": "scatterpolar"
           }
          ],
          "scatterpolargl": [
           {
            "marker": {
             "colorbar": {
              "outlinewidth": 0,
              "ticks": ""
             }
            },
            "type": "scatterpolargl"
           }
          ],
          "scatterternary": [
           {
            "marker": {
             "colorbar": {
              "outlinewidth": 0,
              "ticks": ""
             }
            },
            "type": "scatterternary"
           }
          ],
          "surface": [
           {
            "colorbar": {
             "outlinewidth": 0,
             "ticks": ""
            },
            "colorscale": [
             [
              0,
              "#0d0887"
             ],
             [
              0.1111111111111111,
              "#46039f"
             ],
             [
              0.2222222222222222,
              "#7201a8"
             ],
             [
              0.3333333333333333,
              "#9c179e"
             ],
             [
              0.4444444444444444,
              "#bd3786"
             ],
             [
              0.5555555555555556,
              "#d8576b"
             ],
             [
              0.6666666666666666,
              "#ed7953"
             ],
             [
              0.7777777777777778,
              "#fb9f3a"
             ],
             [
              0.8888888888888888,
              "#fdca26"
             ],
             [
              1,
              "#f0f921"
             ]
            ],
            "type": "surface"
           }
          ],
          "table": [
           {
            "cells": {
             "fill": {
              "color": "#EBF0F8"
             },
             "line": {
              "color": "white"
             }
            },
            "header": {
             "fill": {
              "color": "#C8D4E3"
             },
             "line": {
              "color": "white"
             }
            },
            "type": "table"
           }
          ]
         },
         "layout": {
          "annotationdefaults": {
           "arrowcolor": "#2a3f5f",
           "arrowhead": 0,
           "arrowwidth": 1
          },
          "autotypenumbers": "strict",
          "coloraxis": {
           "colorbar": {
            "outlinewidth": 0,
            "ticks": ""
           }
          },
          "colorscale": {
           "diverging": [
            [
             0,
             "#8e0152"
            ],
            [
             0.1,
             "#c51b7d"
            ],
            [
             0.2,
             "#de77ae"
            ],
            [
             0.3,
             "#f1b6da"
            ],
            [
             0.4,
             "#fde0ef"
            ],
            [
             0.5,
             "#f7f7f7"
            ],
            [
             0.6,
             "#e6f5d0"
            ],
            [
             0.7,
             "#b8e186"
            ],
            [
             0.8,
             "#7fbc41"
            ],
            [
             0.9,
             "#4d9221"
            ],
            [
             1,
             "#276419"
            ]
           ],
           "sequential": [
            [
             0,
             "#0d0887"
            ],
            [
             0.1111111111111111,
             "#46039f"
            ],
            [
             0.2222222222222222,
             "#7201a8"
            ],
            [
             0.3333333333333333,
             "#9c179e"
            ],
            [
             0.4444444444444444,
             "#bd3786"
            ],
            [
             0.5555555555555556,
             "#d8576b"
            ],
            [
             0.6666666666666666,
             "#ed7953"
            ],
            [
             0.7777777777777778,
             "#fb9f3a"
            ],
            [
             0.8888888888888888,
             "#fdca26"
            ],
            [
             1,
             "#f0f921"
            ]
           ],
           "sequentialminus": [
            [
             0,
             "#0d0887"
            ],
            [
             0.1111111111111111,
             "#46039f"
            ],
            [
             0.2222222222222222,
             "#7201a8"
            ],
            [
             0.3333333333333333,
             "#9c179e"
            ],
            [
             0.4444444444444444,
             "#bd3786"
            ],
            [
             0.5555555555555556,
             "#d8576b"
            ],
            [
             0.6666666666666666,
             "#ed7953"
            ],
            [
             0.7777777777777778,
             "#fb9f3a"
            ],
            [
             0.8888888888888888,
             "#fdca26"
            ],
            [
             1,
             "#f0f921"
            ]
           ]
          },
          "colorway": [
           "#636efa",
           "#EF553B",
           "#00cc96",
           "#ab63fa",
           "#FFA15A",
           "#19d3f3",
           "#FF6692",
           "#B6E880",
           "#FF97FF",
           "#FECB52"
          ],
          "font": {
           "color": "#2a3f5f"
          },
          "geo": {
           "bgcolor": "white",
           "lakecolor": "white",
           "landcolor": "#E5ECF6",
           "showlakes": true,
           "showland": true,
           "subunitcolor": "white"
          },
          "hoverlabel": {
           "align": "left"
          },
          "hovermode": "closest",
          "mapbox": {
           "style": "light"
          },
          "paper_bgcolor": "white",
          "plot_bgcolor": "#E5ECF6",
          "polar": {
           "angularaxis": {
            "gridcolor": "white",
            "linecolor": "white",
            "ticks": ""
           },
           "bgcolor": "#E5ECF6",
           "radialaxis": {
            "gridcolor": "white",
            "linecolor": "white",
            "ticks": ""
           }
          },
          "scene": {
           "xaxis": {
            "backgroundcolor": "#E5ECF6",
            "gridcolor": "white",
            "gridwidth": 2,
            "linecolor": "white",
            "showbackground": true,
            "ticks": "",
            "zerolinecolor": "white"
           },
           "yaxis": {
            "backgroundcolor": "#E5ECF6",
            "gridcolor": "white",
            "gridwidth": 2,
            "linecolor": "white",
            "showbackground": true,
            "ticks": "",
            "zerolinecolor": "white"
           },
           "zaxis": {
            "backgroundcolor": "#E5ECF6",
            "gridcolor": "white",
            "gridwidth": 2,
            "linecolor": "white",
            "showbackground": true,
            "ticks": "",
            "zerolinecolor": "white"
           }
          },
          "shapedefaults": {
           "line": {
            "color": "#2a3f5f"
           }
          },
          "ternary": {
           "aaxis": {
            "gridcolor": "white",
            "linecolor": "white",
            "ticks": ""
           },
           "baxis": {
            "gridcolor": "white",
            "linecolor": "white",
            "ticks": ""
           },
           "bgcolor": "#E5ECF6",
           "caxis": {
            "gridcolor": "white",
            "linecolor": "white",
            "ticks": ""
           }
          },
          "title": {
           "x": 0.05
          },
          "xaxis": {
           "automargin": true,
           "gridcolor": "white",
           "linecolor": "white",
           "ticks": "",
           "title": {
            "standoff": 15
           },
           "zerolinecolor": "white",
           "zerolinewidth": 2
          },
          "yaxis": {
           "automargin": true,
           "gridcolor": "white",
           "linecolor": "white",
           "ticks": "",
           "title": {
            "standoff": 15
           },
           "zerolinecolor": "white",
           "zerolinewidth": 2
          }
         }
        },
        "title": {
         "text": "Numero de crianças x Valor do Seguro"
        },
        "xaxis": {
         "anchor": "y",
         "domain": [
          0,
          1
         ],
         "title": {
          "text": "Valor do Custo"
         }
        },
        "xaxis2": {
         "anchor": "y2",
         "domain": [
          0,
          1
         ],
         "matches": "x",
         "showgrid": true,
         "showticklabels": false
        },
        "yaxis": {
         "anchor": "x",
         "domain": [
          0,
          0.7326
         ],
         "title": {
          "text": "Frequência"
         }
        },
        "yaxis2": {
         "anchor": "x2",
         "domain": [
          0.7426,
          1
         ],
         "matches": "y2",
         "showgrid": false,
         "showline": false,
         "showticklabels": false,
         "ticks": ""
        }
       }
      }
     },
     "metadata": {},
     "output_type": "display_data"
    }
   ],
   "source": [
    "fig= px.histogram(Dados,x='charges',marginal='box',color='children')\n",
    "fig.update_layout(title='Numero de crianças x Valor do Seguro',xaxis_title='Valor do Custo',yaxis_title='Frequência', bargap=0.2) \n",
    "fig.show()"
   ]
  },
  {
   "cell_type": "markdown",
   "metadata": {},
   "source": [
    "PODEMOS AVALIAR QUE A MAIOR PARTE DOS DADOS SUGERE QUE A MAIORIA DOS CLIENTES QUE NÃO POSSUEM FILHOS OU ATÉ 1 FILHO POSSUEM OS VALORES MAIS BARATOS DO SEGURO.\n"
   ]
  },
  {
   "cell_type": "code",
   "execution_count": 384,
   "metadata": {},
   "outputs": [
    {
     "data": {
      "application/vnd.plotly.v1+json": {
       "config": {
        "plotlyServerURL": "https://plot.ly"
       },
       "data": [
        {
         "customdata": [
          [
           "female"
          ],
          [
           "female"
          ],
          [
           "female"
          ],
          [
           "male"
          ],
          [
           "male"
          ],
          [
           "female"
          ],
          [
           "male"
          ],
          [
           "male"
          ],
          [
           "male"
          ],
          [
           "male"
          ],
          [
           "male"
          ],
          [
           "male"
          ],
          [
           "male"
          ],
          [
           "male"
          ],
          [
           "male"
          ],
          [
           "male"
          ],
          [
           "female"
          ],
          [
           "female"
          ],
          [
           "male"
          ],
          [
           "female"
          ],
          [
           "male"
          ],
          [
           "female"
          ],
          [
           "male"
          ],
          [
           "female"
          ],
          [
           "male"
          ],
          [
           "female"
          ],
          [
           "male"
          ],
          [
           "male"
          ],
          [
           "female"
          ],
          [
           "male"
          ],
          [
           "male"
          ],
          [
           "female"
          ],
          [
           "male"
          ],
          [
           "female"
          ],
          [
           "female"
          ],
          [
           "male"
          ],
          [
           "male"
          ],
          [
           "male"
          ],
          [
           "female"
          ],
          [
           "male"
          ],
          [
           "male"
          ],
          [
           "male"
          ],
          [
           "female"
          ],
          [
           "female"
          ],
          [
           "female"
          ],
          [
           "male"
          ],
          [
           "female"
          ],
          [
           "male"
          ],
          [
           "male"
          ],
          [
           "male"
          ],
          [
           "female"
          ],
          [
           "male"
          ],
          [
           "female"
          ],
          [
           "female"
          ],
          [
           "male"
          ],
          [
           "female"
          ],
          [
           "male"
          ],
          [
           "male"
          ],
          [
           "male"
          ],
          [
           "male"
          ],
          [
           "female"
          ],
          [
           "male"
          ],
          [
           "male"
          ],
          [
           "male"
          ],
          [
           "male"
          ],
          [
           "male"
          ],
          [
           "female"
          ],
          [
           "male"
          ],
          [
           "female"
          ],
          [
           "male"
          ],
          [
           "male"
          ],
          [
           "male"
          ],
          [
           "male"
          ],
          [
           "female"
          ],
          [
           "male"
          ],
          [
           "female"
          ],
          [
           "male"
          ],
          [
           "male"
          ],
          [
           "female"
          ],
          [
           "female"
          ],
          [
           "male"
          ],
          [
           "male"
          ],
          [
           "female"
          ],
          [
           "male"
          ],
          [
           "female"
          ],
          [
           "female"
          ],
          [
           "male"
          ],
          [
           "female"
          ],
          [
           "male"
          ],
          [
           "female"
          ],
          [
           "female"
          ],
          [
           "female"
          ],
          [
           "female"
          ],
          [
           "male"
          ],
          [
           "male"
          ],
          [
           "male"
          ],
          [
           "female"
          ],
          [
           "male"
          ],
          [
           "male"
          ],
          [
           "female"
          ],
          [
           "male"
          ],
          [
           "male"
          ],
          [
           "male"
          ],
          [
           "female"
          ],
          [
           "male"
          ],
          [
           "male"
          ],
          [
           "male"
          ],
          [
           "male"
          ],
          [
           "male"
          ],
          [
           "male"
          ],
          [
           "male"
          ],
          [
           "female"
          ],
          [
           "male"
          ],
          [
           "female"
          ],
          [
           "female"
          ],
          [
           "male"
          ],
          [
           "female"
          ],
          [
           "female"
          ],
          [
           "female"
          ],
          [
           "female"
          ],
          [
           "female"
          ],
          [
           "male"
          ],
          [
           "female"
          ],
          [
           "male"
          ],
          [
           "female"
          ],
          [
           "male"
          ],
          [
           "male"
          ],
          [
           "female"
          ],
          [
           "male"
          ],
          [
           "male"
          ],
          [
           "female"
          ],
          [
           "female"
          ],
          [
           "male"
          ],
          [
           "female"
          ],
          [
           "male"
          ],
          [
           "female"
          ],
          [
           "male"
          ],
          [
           "male"
          ],
          [
           "male"
          ],
          [
           "male"
          ],
          [
           "female"
          ],
          [
           "female"
          ],
          [
           "female"
          ],
          [
           "male"
          ],
          [
           "female"
          ],
          [
           "male"
          ],
          [
           "male"
          ],
          [
           "male"
          ],
          [
           "male"
          ],
          [
           "female"
          ],
          [
           "female"
          ],
          [
           "male"
          ],
          [
           "male"
          ],
          [
           "female"
          ],
          [
           "male"
          ],
          [
           "female"
          ],
          [
           "male"
          ],
          [
           "male"
          ],
          [
           "male"
          ],
          [
           "female"
          ],
          [
           "female"
          ],
          [
           "female"
          ],
          [
           "male"
          ],
          [
           "male"
          ],
          [
           "male"
          ],
          [
           "female"
          ],
          [
           "female"
          ],
          [
           "female"
          ],
          [
           "female"
          ],
          [
           "female"
          ],
          [
           "female"
          ],
          [
           "female"
          ],
          [
           "male"
          ],
          [
           "female"
          ],
          [
           "female"
          ],
          [
           "male"
          ],
          [
           "male"
          ],
          [
           "female"
          ],
          [
           "male"
          ],
          [
           "female"
          ],
          [
           "male"
          ],
          [
           "female"
          ],
          [
           "male"
          ],
          [
           "female"
          ],
          [
           "male"
          ],
          [
           "male"
          ],
          [
           "male"
          ],
          [
           "male"
          ],
          [
           "male"
          ],
          [
           "male"
          ],
          [
           "male"
          ],
          [
           "male"
          ],
          [
           "male"
          ],
          [
           "male"
          ],
          [
           "male"
          ],
          [
           "female"
          ],
          [
           "female"
          ],
          [
           "male"
          ],
          [
           "male"
          ],
          [
           "male"
          ],
          [
           "male"
          ],
          [
           "female"
          ],
          [
           "male"
          ],
          [
           "male"
          ],
          [
           "female"
          ],
          [
           "female"
          ],
          [
           "male"
          ],
          [
           "male"
          ],
          [
           "female"
          ],
          [
           "female"
          ],
          [
           "male"
          ],
          [
           "female"
          ],
          [
           "male"
          ],
          [
           "male"
          ],
          [
           "male"
          ],
          [
           "male"
          ],
          [
           "male"
          ],
          [
           "male"
          ],
          [
           "female"
          ],
          [
           "male"
          ],
          [
           "female"
          ],
          [
           "female"
          ],
          [
           "female"
          ],
          [
           "male"
          ],
          [
           "female"
          ],
          [
           "male"
          ],
          [
           "male"
          ],
          [
           "female"
          ],
          [
           "female"
          ],
          [
           "female"
          ],
          [
           "female"
          ],
          [
           "male"
          ],
          [
           "female"
          ],
          [
           "male"
          ],
          [
           "male"
          ],
          [
           "female"
          ],
          [
           "female"
          ],
          [
           "male"
          ],
          [
           "female"
          ],
          [
           "male"
          ],
          [
           "female"
          ],
          [
           "female"
          ],
          [
           "female"
          ],
          [
           "male"
          ],
          [
           "female"
          ],
          [
           "female"
          ],
          [
           "female"
          ],
          [
           "male"
          ],
          [
           "female"
          ],
          [
           "male"
          ],
          [
           "male"
          ],
          [
           "male"
          ],
          [
           "male"
          ],
          [
           "male"
          ],
          [
           "male"
          ],
          [
           "male"
          ],
          [
           "male"
          ],
          [
           "male"
          ],
          [
           "female"
          ],
          [
           "female"
          ],
          [
           "male"
          ],
          [
           "male"
          ],
          [
           "male"
          ],
          [
           "male"
          ],
          [
           "male"
          ],
          [
           "male"
          ],
          [
           "male"
          ],
          [
           "female"
          ],
          [
           "male"
          ],
          [
           "female"
          ],
          [
           "female"
          ],
          [
           "female"
          ],
          [
           "male"
          ],
          [
           "female"
          ],
          [
           "female"
          ]
         ],
         "hovertemplate": "smoker=yes<br>age=%{x}<br>charges=%{y}<br>sex=%{customdata[0]}<extra></extra>",
         "legendgroup": "yes",
         "marker": {
          "color": "#636efa",
          "size": 10,
          "symbol": "circle"
         },
         "mode": "markers",
         "name": "yes",
         "showlegend": true,
         "type": "scattergl",
         "x": [
          56,
          19,
          62,
          27,
          30,
          34,
          31,
          22,
          28,
          35,
          60,
          36,
          48,
          36,
          58,
          18,
          53,
          20,
          28,
          27,
          22,
          37,
          45,
          57,
          59,
          64,
          56,
          38,
          61,
          20,
          63,
          29,
          44,
          19,
          32,
          34,
          30,
          46,
          42,
          48,
          18,
          30,
          42,
          18,
          63,
          36,
          27,
          35,
          19,
          42,
          40,
          19,
          23,
          63,
          18,
          63,
          54,
          50,
          56,
          19,
          20,
          52,
          19,
          46,
          40,
          50,
          40,
          54,
          59,
          25,
          19,
          47,
          31,
          53,
          43,
          27,
          34,
          45,
          64,
          61,
          52,
          50,
          19,
          26,
          23,
          39,
          24,
          27,
          55,
          44,
          26,
          36,
          63,
          64,
          61,
          40,
          33,
          56,
          42,
          30,
          54,
          61,
          24,
          44,
          21,
          29,
          51,
          19,
          39,
          42,
          57,
          54,
          49,
          43,
          35,
          48,
          31,
          34,
          21,
          19,
          59,
          30,
          47,
          49,
          19,
          37,
          18,
          44,
          39,
          42,
          52,
          64,
          43,
          40,
          62,
          44,
          60,
          39,
          27,
          41,
          51,
          30,
          29,
          35,
          37,
          23,
          29,
          27,
          53,
          37,
          47,
          18,
          33,
          19,
          30,
          50,
          53,
          27,
          33,
          18,
          47,
          33,
          56,
          36,
          41,
          23,
          57,
          60,
          37,
          46,
          49,
          48,
          25,
          37,
          51,
          32,
          57,
          64,
          47,
          43,
          60,
          32,
          18,
          43,
          45,
          37,
          25,
          51,
          44,
          34,
          54,
          43,
          51,
          29,
          31,
          24,
          27,
          30,
          24,
          47,
          43,
          22,
          47,
          19,
          46,
          55,
          18,
          22,
          45,
          35,
          20,
          43,
          22,
          49,
          47,
          59,
          37,
          28,
          39,
          47,
          22,
          51,
          33,
          38,
          48,
          25,
          33,
          23,
          53,
          23,
          19,
          60,
          43,
          19,
          18,
          43,
          52,
          31,
          23,
          20,
          43,
          19,
          18,
          36,
          37,
          46,
          20,
          52,
          20,
          52,
          64,
          32,
          24,
          20,
          64,
          24,
          26,
          39,
          47,
          18,
          61,
          20,
          19,
          45,
          62,
          43,
          42,
          29,
          32,
          25,
          19,
          30,
          62,
          42,
          61
         ],
         "xaxis": "x",
         "y": [
          31109.889763423336,
          16884.924,
          27808.7251,
          39611.7577,
          36837.467,
          37701.8768,
          38711,
          35585.576,
          51194.55914,
          39774.2763,
          48173.361,
          38709.176,
          23568.272,
          37742.5757,
          47496.49445,
          34303.1672,
          23244.7902,
          14711.7438,
          17663.1442,
          16577.7795,
          37165.1638,
          39836.519,
          21098.55405,
          43578.9394,
          30184.9367,
          47291.055,
          22412.6485,
          15820.699,
          30942.1918,
          17560.37975,
          47055.5321,
          19107.7796,
          39556.4945,
          17081.08,
          32734.1863,
          18972.495,
          20745.9891,
          40720.55105,
          19964.7463,
          21223.6758,
          15518.18025,
          36950.2567,
          21348.706,
          36149.4835,
          48824.45,
          43753.33705,
          37133.8982,
          20984.0936,
          34779.615,
          19515.5416,
          19444.2658,
          17352.6803,
          38511.6283,
          29523.1656,
          12829.4551,
          47305.305,
          44260.7499,
          41097.16175,
          43921.1837,
          33750.2918,
          17085.2676,
          24869.8368,
          36219.40545,
          46151.1245,
          17179.522,
          42856.838,
          22331.5668,
          48549.17835,
          47896.79135,
          42112.2356,
          16297.846,
          21978.6769,
          38746.3551,
          24873.3849,
          42124.5153,
          34838.873,
          35491.64,
          42760.5022,
          47928.03,
          48517.56315,
          24393.6224,
          41919.097,
          13844.506,
          36085.219,
          18033.9679,
          21659.9301,
          38126.2465,
          15006.57945,
          42303.69215,
          19594.80965,
          14455.64405,
          18608.262,
          28950.4692,
          46889.2612,
          46599.1084,
          39125.33225,
          37079.372,
          26109.32905,
          22144.032,
          19521.9682,
          25382.297,
          28868.6639,
          35147.52848,
          48885.13561,
          17942.106,
          36197.699,
          22218.1149,
          32548.3405,
          21082.16,
          38245.59327,
          48675.5177,
          63770.42801,
          23807.2406,
          45863.205,
          39983.42595,
          45702.02235,
          58571.07448,
          43943.8761,
          15359.1045,
          17468.9839,
          25678.77845,
          39241.442,
          42969.8527,
          23306.547,
          34439.8559,
          40182.246,
          34617.84065,
          42983.4585,
          20149.3229,
          32787.45859,
          24667.419,
          27037.9141,
          42560.4304,
          40003.33225,
          45710.20785,
          46200.9851,
          46130.5265,
          40103.89,
          34806.4677,
          40273.6455,
          44400.4064,
          40932.4295,
          16657.71745,
          19361.9988,
          40419.0191,
          36189.1017,
          44585.45587,
          18246.4955,
          43254.41795,
          19539.243,
          23065.4207,
          36307.7983,
          19040.876,
          17748.5062,
          18259.216,
          24520.264,
          21195.818,
          18310.742,
          17904.52705,
          38792.6856,
          23401.30575,
          55135.40209,
          43813.8661,
          20773.62775,
          39597.4072,
          36021.0112,
          27533.9129,
          45008.9555,
          37270.1512,
          42111.6647,
          24106.91255,
          40974.1649,
          15817.9857,
          46113.511,
          46255.1125,
          19719.6947,
          27218.43725,
          29330.98315,
          44202.6536,
          19798.05455,
          48673.5588,
          17496.306,
          33732.6867,
          21774.32215,
          35069.37452,
          39047.285,
          19933.458,
          47462.894,
          38998.546,
          20009.63365,
          41999.52,
          41034.2214,
          23967.38305,
          16138.76205,
          19199.944,
          14571.8908,
          16420.49455,
          17361.7661,
          34472.841,
          24915.22085,
          18767.7377,
          35595.5898,
          42211.1382,
          16450.8947,
          21677.28345,
          44423.803,
          13747.87235,
          37484.4493,
          39725.51805,
          20234.85475,
          33475.81715,
          21880.82,
          44501.3982,
          39727.614,
          25309.489,
          48970.2476,
          39871.7043,
          34672.1472,
          19023.26,
          41676.0811,
          33907.548,
          44641.1974,
          16776.30405,
          41949.2441,
          24180.9335,
          36124.5737,
          38282.7495,
          34166.273,
          46661.4424,
          40904.1995,
          36898.73308,
          52590.82939,
          40941.2854,
          39722.7462,
          17178.6824,
          22478.6,
          23887.6627,
          19350.3689,
          18328.2381,
          37465.34375,
          21771.3423,
          33307.5508,
          18223.4512,
          38415.474,
          20296.86345,
          41661.602,
          26125.67477,
          60021.39897,
          20167.33603,
          47269.854,
          49577.6624,
          37607.5277,
          18648.4217,
          16232.847,
          26926.5144,
          34254.05335,
          17043.3414,
          22462.04375,
          24535.69855,
          14283.4594,
          47403.88,
          38344.566,
          34828.654,
          62592.87309,
          46718.16325,
          37829.7242,
          21259.37795,
          16115.3045,
          21472.4788,
          33900.653,
          36397.576,
          18765.87545,
          28101.33305,
          43896.3763,
          29141.3603
         ],
         "yaxis": "y"
        },
        {
         "customdata": [
          [
           "male"
          ],
          [
           "male"
          ],
          [
           "male"
          ],
          [
           "male"
          ],
          [
           "male"
          ],
          [
           "male"
          ],
          [
           "female"
          ],
          [
           "female"
          ],
          [
           "female"
          ],
          [
           "male"
          ],
          [
           "female"
          ],
          [
           "male"
          ],
          [
           "male"
          ],
          [
           "female"
          ],
          [
           "male"
          ],
          [
           "female"
          ],
          [
           "male"
          ],
          [
           "male"
          ],
          [
           "female"
          ],
          [
           "female"
          ],
          [
           "male"
          ],
          [
           "male"
          ],
          [
           "female"
          ],
          [
           "female"
          ],
          [
           "female"
          ],
          [
           "male"
          ],
          [
           "female"
          ],
          [
           "female"
          ],
          [
           "male"
          ],
          [
           "male"
          ],
          [
           "female"
          ],
          [
           "male"
          ],
          [
           "female"
          ],
          [
           "female"
          ],
          [
           "male"
          ],
          [
           "female"
          ],
          [
           "male"
          ],
          [
           "male"
          ],
          [
           "female"
          ],
          [
           "female"
          ],
          [
           "female"
          ],
          [
           "female"
          ],
          [
           "female"
          ],
          [
           "female"
          ],
          [
           "female"
          ],
          [
           "female"
          ],
          [
           "male"
          ],
          [
           "male"
          ],
          [
           "male"
          ],
          [
           "female"
          ],
          [
           "female"
          ],
          [
           "female"
          ],
          [
           "male"
          ],
          [
           "female"
          ],
          [
           "male"
          ],
          [
           "female"
          ],
          [
           "male"
          ],
          [
           "male"
          ],
          [
           "male"
          ],
          [
           "female"
          ],
          [
           "male"
          ],
          [
           "female"
          ],
          [
           "female"
          ],
          [
           "male"
          ],
          [
           "female"
          ],
          [
           "female"
          ],
          [
           "female"
          ],
          [
           "female"
          ],
          [
           "female"
          ],
          [
           "female"
          ],
          [
           "female"
          ],
          [
           "male"
          ],
          [
           "female"
          ],
          [
           "female"
          ],
          [
           "male"
          ],
          [
           "female"
          ],
          [
           "male"
          ],
          [
           "female"
          ],
          [
           "female"
          ],
          [
           "female"
          ],
          [
           "male"
          ],
          [
           "male"
          ],
          [
           "male"
          ],
          [
           "female"
          ],
          [
           "male"
          ],
          [
           "female"
          ],
          [
           "male"
          ],
          [
           "male"
          ],
          [
           "male"
          ],
          [
           "female"
          ],
          [
           "female"
          ],
          [
           "male"
          ],
          [
           "male"
          ],
          [
           "female"
          ],
          [
           "female"
          ],
          [
           "female"
          ],
          [
           "female"
          ],
          [
           "male"
          ],
          [
           "female"
          ],
          [
           "female"
          ],
          [
           "female"
          ],
          [
           "male"
          ],
          [
           "female"
          ],
          [
           "female"
          ],
          [
           "male"
          ],
          [
           "male"
          ],
          [
           "female"
          ],
          [
           "female"
          ],
          [
           "male"
          ],
          [
           "male"
          ],
          [
           "male"
          ],
          [
           "female"
          ],
          [
           "female"
          ],
          [
           "female"
          ],
          [
           "male"
          ],
          [
           "male"
          ],
          [
           "male"
          ],
          [
           "female"
          ],
          [
           "female"
          ],
          [
           "male"
          ],
          [
           "female"
          ],
          [
           "male"
          ],
          [
           "female"
          ],
          [
           "male"
          ],
          [
           "male"
          ],
          [
           "female"
          ],
          [
           "female"
          ],
          [
           "female"
          ],
          [
           "male"
          ],
          [
           "male"
          ],
          [
           "male"
          ],
          [
           "male"
          ],
          [
           "female"
          ],
          [
           "female"
          ],
          [
           "male"
          ],
          [
           "male"
          ],
          [
           "female"
          ],
          [
           "female"
          ],
          [
           "male"
          ],
          [
           "female"
          ],
          [
           "male"
          ],
          [
           "female"
          ],
          [
           "male"
          ],
          [
           "female"
          ],
          [
           "female"
          ],
          [
           "female"
          ],
          [
           "female"
          ],
          [
           "male"
          ],
          [
           "female"
          ],
          [
           "male"
          ],
          [
           "female"
          ],
          [
           "male"
          ],
          [
           "female"
          ],
          [
           "female"
          ],
          [
           "female"
          ],
          [
           "female"
          ],
          [
           "female"
          ],
          [
           "female"
          ],
          [
           "female"
          ],
          [
           "male"
          ],
          [
           "female"
          ],
          [
           "male"
          ],
          [
           "female"
          ],
          [
           "male"
          ],
          [
           "male"
          ],
          [
           "male"
          ],
          [
           "male"
          ],
          [
           "female"
          ],
          [
           "female"
          ],
          [
           "female"
          ],
          [
           "female"
          ],
          [
           "male"
          ],
          [
           "female"
          ],
          [
           "female"
          ],
          [
           "female"
          ],
          [
           "female"
          ],
          [
           "male"
          ],
          [
           "male"
          ],
          [
           "male"
          ],
          [
           "female"
          ],
          [
           "female"
          ],
          [
           "male"
          ],
          [
           "female"
          ],
          [
           "female"
          ],
          [
           "female"
          ],
          [
           "male"
          ],
          [
           "male"
          ],
          [
           "female"
          ],
          [
           "male"
          ],
          [
           "male"
          ],
          [
           "female"
          ],
          [
           "female"
          ],
          [
           "male"
          ],
          [
           "male"
          ],
          [
           "female"
          ],
          [
           "male"
          ],
          [
           "male"
          ],
          [
           "male"
          ],
          [
           "male"
          ],
          [
           "female"
          ],
          [
           "female"
          ],
          [
           "male"
          ],
          [
           "female"
          ],
          [
           "female"
          ],
          [
           "female"
          ],
          [
           "male"
          ],
          [
           "male"
          ],
          [
           "male"
          ],
          [
           "male"
          ],
          [
           "male"
          ],
          [
           "male"
          ],
          [
           "female"
          ],
          [
           "male"
          ],
          [
           "female"
          ],
          [
           "male"
          ],
          [
           "female"
          ],
          [
           "male"
          ],
          [
           "female"
          ],
          [
           "female"
          ],
          [
           "male"
          ],
          [
           "female"
          ],
          [
           "female"
          ],
          [
           "male"
          ],
          [
           "female"
          ],
          [
           "male"
          ],
          [
           "female"
          ],
          [
           "male"
          ],
          [
           "male"
          ],
          [
           "female"
          ],
          [
           "male"
          ],
          [
           "female"
          ],
          [
           "female"
          ],
          [
           "female"
          ],
          [
           "male"
          ],
          [
           "female"
          ],
          [
           "female"
          ],
          [
           "male"
          ],
          [
           "female"
          ],
          [
           "male"
          ],
          [
           "female"
          ],
          [
           "male"
          ],
          [
           "male"
          ],
          [
           "male"
          ],
          [
           "male"
          ],
          [
           "female"
          ],
          [
           "male"
          ],
          [
           "male"
          ],
          [
           "female"
          ],
          [
           "male"
          ],
          [
           "male"
          ],
          [
           "male"
          ],
          [
           "female"
          ],
          [
           "male"
          ],
          [
           "female"
          ],
          [
           "female"
          ],
          [
           "female"
          ],
          [
           "male"
          ],
          [
           "male"
          ],
          [
           "male"
          ],
          [
           "female"
          ],
          [
           "female"
          ],
          [
           "male"
          ],
          [
           "female"
          ],
          [
           "male"
          ],
          [
           "female"
          ],
          [
           "female"
          ],
          [
           "male"
          ],
          [
           "male"
          ],
          [
           "female"
          ],
          [
           "male"
          ],
          [
           "female"
          ],
          [
           "female"
          ],
          [
           "female"
          ],
          [
           "male"
          ],
          [
           "female"
          ],
          [
           "male"
          ],
          [
           "male"
          ],
          [
           "male"
          ],
          [
           "male"
          ],
          [
           "female"
          ],
          [
           "female"
          ],
          [
           "male"
          ],
          [
           "female"
          ],
          [
           "female"
          ],
          [
           "female"
          ],
          [
           "female"
          ],
          [
           "female"
          ],
          [
           "male"
          ],
          [
           "male"
          ],
          [
           "female"
          ],
          [
           "female"
          ],
          [
           "female"
          ],
          [
           "male"
          ],
          [
           "female"
          ],
          [
           "male"
          ],
          [
           "male"
          ],
          [
           "female"
          ],
          [
           "male"
          ],
          [
           "male"
          ],
          [
           "female"
          ],
          [
           "male"
          ],
          [
           "female"
          ],
          [
           "female"
          ],
          [
           "male"
          ],
          [
           "female"
          ],
          [
           "male"
          ],
          [
           "male"
          ],
          [
           "female"
          ],
          [
           "male"
          ],
          [
           "female"
          ],
          [
           "male"
          ],
          [
           "male"
          ],
          [
           "female"
          ],
          [
           "female"
          ],
          [
           "male"
          ],
          [
           "female"
          ],
          [
           "male"
          ],
          [
           "male"
          ],
          [
           "female"
          ],
          [
           "female"
          ],
          [
           "female"
          ],
          [
           "male"
          ],
          [
           "male"
          ],
          [
           "male"
          ],
          [
           "male"
          ],
          [
           "female"
          ],
          [
           "female"
          ],
          [
           "male"
          ],
          [
           "male"
          ],
          [
           "male"
          ],
          [
           "male"
          ],
          [
           "male"
          ],
          [
           "female"
          ],
          [
           "female"
          ],
          [
           "female"
          ],
          [
           "female"
          ],
          [
           "male"
          ],
          [
           "female"
          ],
          [
           "male"
          ],
          [
           "female"
          ],
          [
           "male"
          ],
          [
           "male"
          ],
          [
           "male"
          ],
          [
           "male"
          ],
          [
           "female"
          ],
          [
           "male"
          ],
          [
           "female"
          ],
          [
           "male"
          ],
          [
           "female"
          ],
          [
           "female"
          ],
          [
           "male"
          ],
          [
           "female"
          ],
          [
           "female"
          ],
          [
           "male"
          ],
          [
           "male"
          ],
          [
           "male"
          ],
          [
           "male"
          ],
          [
           "male"
          ],
          [
           "male"
          ],
          [
           "male"
          ],
          [
           "female"
          ],
          [
           "female"
          ],
          [
           "male"
          ],
          [
           "female"
          ],
          [
           "female"
          ],
          [
           "female"
          ],
          [
           "male"
          ],
          [
           "male"
          ],
          [
           "female"
          ],
          [
           "female"
          ],
          [
           "female"
          ],
          [
           "female"
          ],
          [
           "male"
          ],
          [
           "female"
          ],
          [
           "female"
          ],
          [
           "female"
          ],
          [
           "male"
          ],
          [
           "male"
          ],
          [
           "male"
          ],
          [
           "male"
          ],
          [
           "male"
          ],
          [
           "female"
          ],
          [
           "female"
          ],
          [
           "male"
          ],
          [
           "female"
          ],
          [
           "female"
          ],
          [
           "male"
          ],
          [
           "male"
          ],
          [
           "female"
          ],
          [
           "female"
          ],
          [
           "female"
          ],
          [
           "male"
          ],
          [
           "male"
          ],
          [
           "female"
          ],
          [
           "male"
          ],
          [
           "female"
          ],
          [
           "female"
          ],
          [
           "male"
          ],
          [
           "female"
          ],
          [
           "male"
          ],
          [
           "male"
          ],
          [
           "male"
          ],
          [
           "female"
          ],
          [
           "female"
          ],
          [
           "male"
          ],
          [
           "male"
          ],
          [
           "male"
          ],
          [
           "male"
          ],
          [
           "male"
          ],
          [
           "male"
          ],
          [
           "male"
          ],
          [
           "female"
          ],
          [
           "male"
          ],
          [
           "female"
          ],
          [
           "female"
          ],
          [
           "female"
          ],
          [
           "female"
          ],
          [
           "female"
          ],
          [
           "female"
          ],
          [
           "female"
          ],
          [
           "male"
          ],
          [
           "male"
          ],
          [
           "female"
          ],
          [
           "male"
          ],
          [
           "male"
          ],
          [
           "male"
          ],
          [
           "male"
          ],
          [
           "female"
          ],
          [
           "female"
          ],
          [
           "female"
          ],
          [
           "male"
          ],
          [
           "female"
          ],
          [
           "female"
          ],
          [
           "female"
          ],
          [
           "male"
          ],
          [
           "male"
          ],
          [
           "female"
          ],
          [
           "female"
          ],
          [
           "male"
          ],
          [
           "female"
          ],
          [
           "male"
          ],
          [
           "female"
          ],
          [
           "female"
          ],
          [
           "male"
          ],
          [
           "male"
          ],
          [
           "male"
          ],
          [
           "male"
          ],
          [
           "female"
          ],
          [
           "female"
          ],
          [
           "male"
          ],
          [
           "male"
          ],
          [
           "female"
          ],
          [
           "female"
          ],
          [
           "female"
          ],
          [
           "male"
          ],
          [
           "female"
          ],
          [
           "female"
          ],
          [
           "female"
          ],
          [
           "female"
          ],
          [
           "female"
          ],
          [
           "female"
          ],
          [
           "female"
          ],
          [
           "male"
          ],
          [
           "male"
          ],
          [
           "female"
          ],
          [
           "male"
          ],
          [
           "male"
          ],
          [
           "male"
          ],
          [
           "female"
          ],
          [
           "male"
          ],
          [
           "female"
          ],
          [
           "male"
          ],
          [
           "female"
          ],
          [
           "female"
          ],
          [
           "female"
          ],
          [
           "male"
          ],
          [
           "male"
          ],
          [
           "male"
          ],
          [
           "female"
          ],
          [
           "female"
          ],
          [
           "female"
          ],
          [
           "male"
          ],
          [
           "female"
          ],
          [
           "female"
          ],
          [
           "male"
          ],
          [
           "female"
          ],
          [
           "female"
          ],
          [
           "female"
          ],
          [
           "female"
          ],
          [
           "male"
          ],
          [
           "female"
          ],
          [
           "female"
          ],
          [
           "female"
          ],
          [
           "female"
          ],
          [
           "female"
          ],
          [
           "female"
          ],
          [
           "female"
          ],
          [
           "male"
          ],
          [
           "female"
          ],
          [
           "male"
          ],
          [
           "female"
          ],
          [
           "male"
          ],
          [
           "male"
          ],
          [
           "male"
          ],
          [
           "male"
          ],
          [
           "male"
          ],
          [
           "female"
          ],
          [
           "male"
          ],
          [
           "male"
          ],
          [
           "male"
          ],
          [
           "female"
          ],
          [
           "female"
          ],
          [
           "male"
          ],
          [
           "male"
          ],
          [
           "male"
          ],
          [
           "female"
          ],
          [
           "male"
          ],
          [
           "male"
          ],
          [
           "male"
          ],
          [
           "female"
          ],
          [
           "male"
          ],
          [
           "female"
          ],
          [
           "female"
          ],
          [
           "female"
          ],
          [
           "female"
          ],
          [
           "female"
          ],
          [
           "female"
          ],
          [
           "female"
          ],
          [
           "male"
          ],
          [
           "female"
          ],
          [
           "female"
          ],
          [
           "male"
          ],
          [
           "female"
          ],
          [
           "female"
          ],
          [
           "male"
          ],
          [
           "male"
          ],
          [
           "female"
          ],
          [
           "male"
          ],
          [
           "female"
          ],
          [
           "male"
          ],
          [
           "female"
          ],
          [
           "male"
          ],
          [
           "female"
          ],
          [
           "male"
          ],
          [
           "female"
          ],
          [
           "female"
          ],
          [
           "male"
          ],
          [
           "male"
          ],
          [
           "female"
          ],
          [
           "male"
          ],
          [
           "male"
          ],
          [
           "male"
          ],
          [
           "female"
          ],
          [
           "male"
          ],
          [
           "male"
          ],
          [
           "male"
          ],
          [
           "male"
          ],
          [
           "female"
          ],
          [
           "female"
          ],
          [
           "female"
          ],
          [
           "male"
          ],
          [
           "female"
          ],
          [
           "female"
          ],
          [
           "female"
          ],
          [
           "male"
          ],
          [
           "female"
          ],
          [
           "female"
          ],
          [
           "female"
          ],
          [
           "male"
          ],
          [
           "female"
          ],
          [
           "female"
          ],
          [
           "male"
          ],
          [
           "female"
          ],
          [
           "female"
          ],
          [
           "male"
          ],
          [
           "female"
          ],
          [
           "male"
          ],
          [
           "female"
          ],
          [
           "male"
          ],
          [
           "female"
          ],
          [
           "female"
          ],
          [
           "female"
          ],
          [
           "male"
          ],
          [
           "male"
          ],
          [
           "male"
          ],
          [
           "female"
          ],
          [
           "male"
          ],
          [
           "female"
          ],
          [
           "female"
          ],
          [
           "male"
          ],
          [
           "female"
          ],
          [
           "female"
          ],
          [
           "female"
          ],
          [
           "female"
          ],
          [
           "male"
          ],
          [
           "male"
          ],
          [
           "female"
          ],
          [
           "male"
          ],
          [
           "female"
          ],
          [
           "male"
          ],
          [
           "male"
          ],
          [
           "female"
          ],
          [
           "male"
          ],
          [
           "male"
          ],
          [
           "male"
          ],
          [
           "female"
          ],
          [
           "male"
          ],
          [
           "male"
          ],
          [
           "female"
          ],
          [
           "male"
          ],
          [
           "female"
          ],
          [
           "male"
          ],
          [
           "male"
          ],
          [
           "female"
          ],
          [
           "female"
          ],
          [
           "male"
          ],
          [
           "female"
          ],
          [
           "female"
          ],
          [
           "female"
          ],
          [
           "male"
          ],
          [
           "female"
          ],
          [
           "female"
          ],
          [
           "male"
          ],
          [
           "male"
          ],
          [
           "male"
          ],
          [
           "male"
          ],
          [
           "male"
          ],
          [
           "male"
          ],
          [
           "male"
          ],
          [
           "male"
          ],
          [
           "female"
          ],
          [
           "female"
          ],
          [
           "male"
          ],
          [
           "male"
          ],
          [
           "male"
          ],
          [
           "female"
          ],
          [
           "female"
          ],
          [
           "male"
          ],
          [
           "female"
          ],
          [
           "female"
          ],
          [
           "male"
          ],
          [
           "female"
          ],
          [
           "female"
          ],
          [
           "female"
          ],
          [
           "female"
          ],
          [
           "male"
          ],
          [
           "male"
          ],
          [
           "female"
          ],
          [
           "female"
          ],
          [
           "female"
          ],
          [
           "male"
          ],
          [
           "male"
          ],
          [
           "female"
          ],
          [
           "female"
          ],
          [
           "male"
          ],
          [
           "male"
          ],
          [
           "male"
          ],
          [
           "female"
          ],
          [
           "female"
          ],
          [
           "male"
          ],
          [
           "male"
          ],
          [
           "male"
          ],
          [
           "female"
          ],
          [
           "female"
          ],
          [
           "male"
          ],
          [
           "female"
          ],
          [
           "male"
          ],
          [
           "male"
          ],
          [
           "female"
          ],
          [
           "female"
          ],
          [
           "male"
          ],
          [
           "male"
          ],
          [
           "male"
          ],
          [
           "male"
          ],
          [
           "female"
          ],
          [
           "female"
          ],
          [
           "female"
          ],
          [
           "male"
          ],
          [
           "male"
          ],
          [
           "male"
          ],
          [
           "female"
          ],
          [
           "male"
          ],
          [
           "female"
          ],
          [
           "male"
          ],
          [
           "male"
          ],
          [
           "female"
          ],
          [
           "female"
          ],
          [
           "female"
          ],
          [
           "male"
          ],
          [
           "female"
          ],
          [
           "female"
          ],
          [
           "female"
          ],
          [
           "male"
          ],
          [
           "male"
          ],
          [
           "male"
          ],
          [
           "male"
          ],
          [
           "male"
          ],
          [
           "female"
          ],
          [
           "male"
          ],
          [
           "female"
          ],
          [
           "male"
          ],
          [
           "male"
          ],
          [
           "male"
          ],
          [
           "female"
          ],
          [
           "female"
          ],
          [
           "male"
          ],
          [
           "male"
          ],
          [
           "female"
          ],
          [
           "male"
          ],
          [
           "male"
          ],
          [
           "female"
          ],
          [
           "male"
          ],
          [
           "female"
          ],
          [
           "male"
          ],
          [
           "male"
          ],
          [
           "female"
          ],
          [
           "male"
          ],
          [
           "male"
          ],
          [
           "female"
          ],
          [
           "male"
          ],
          [
           "female"
          ],
          [
           "female"
          ],
          [
           "male"
          ],
          [
           "male"
          ],
          [
           "male"
          ],
          [
           "female"
          ],
          [
           "female"
          ],
          [
           "male"
          ],
          [
           "female"
          ],
          [
           "male"
          ],
          [
           "male"
          ],
          [
           "female"
          ],
          [
           "female"
          ],
          [
           "male"
          ],
          [
           "female"
          ],
          [
           "female"
          ],
          [
           "female"
          ],
          [
           "female"
          ],
          [
           "female"
          ],
          [
           "male"
          ],
          [
           "male"
          ],
          [
           "male"
          ],
          [
           "male"
          ],
          [
           "female"
          ],
          [
           "female"
          ],
          [
           "female"
          ],
          [
           "male"
          ],
          [
           "male"
          ],
          [
           "female"
          ],
          [
           "male"
          ],
          [
           "female"
          ],
          [
           "male"
          ],
          [
           "female"
          ],
          [
           "male"
          ],
          [
           "female"
          ],
          [
           "male"
          ],
          [
           "male"
          ],
          [
           "male"
          ],
          [
           "female"
          ],
          [
           "female"
          ],
          [
           "male"
          ],
          [
           "male"
          ],
          [
           "female"
          ],
          [
           "male"
          ],
          [
           "male"
          ],
          [
           "male"
          ],
          [
           "female"
          ],
          [
           "male"
          ],
          [
           "male"
          ],
          [
           "male"
          ],
          [
           "female"
          ],
          [
           "female"
          ],
          [
           "female"
          ],
          [
           "male"
          ],
          [
           "male"
          ],
          [
           "male"
          ],
          [
           "male"
          ],
          [
           "male"
          ],
          [
           "female"
          ],
          [
           "female"
          ],
          [
           "female"
          ],
          [
           "female"
          ],
          [
           "female"
          ],
          [
           "male"
          ],
          [
           "male"
          ],
          [
           "male"
          ],
          [
           "female"
          ],
          [
           "female"
          ],
          [
           "male"
          ],
          [
           "male"
          ],
          [
           "female"
          ],
          [
           "male"
          ],
          [
           "female"
          ],
          [
           "male"
          ],
          [
           "female"
          ],
          [
           "male"
          ],
          [
           "female"
          ],
          [
           "female"
          ],
          [
           "female"
          ],
          [
           "male"
          ],
          [
           "female"
          ],
          [
           "female"
          ],
          [
           "female"
          ],
          [
           "female"
          ],
          [
           "female"
          ],
          [
           "male"
          ],
          [
           "male"
          ],
          [
           "male"
          ],
          [
           "male"
          ],
          [
           "male"
          ],
          [
           "male"
          ],
          [
           "male"
          ],
          [
           "female"
          ],
          [
           "female"
          ],
          [
           "male"
          ],
          [
           "female"
          ],
          [
           "male"
          ],
          [
           "female"
          ],
          [
           "female"
          ],
          [
           "female"
          ],
          [
           "female"
          ],
          [
           "male"
          ],
          [
           "male"
          ],
          [
           "female"
          ],
          [
           "female"
          ],
          [
           "male"
          ],
          [
           "male"
          ],
          [
           "female"
          ],
          [
           "female"
          ],
          [
           "male"
          ],
          [
           "female"
          ],
          [
           "male"
          ],
          [
           "male"
          ],
          [
           "male"
          ],
          [
           "female"
          ],
          [
           "male"
          ],
          [
           "female"
          ],
          [
           "female"
          ],
          [
           "female"
          ],
          [
           "male"
          ],
          [
           "male"
          ],
          [
           "female"
          ],
          [
           "male"
          ],
          [
           "female"
          ],
          [
           "female"
          ],
          [
           "female"
          ],
          [
           "male"
          ],
          [
           "male"
          ],
          [
           "male"
          ],
          [
           "male"
          ],
          [
           "female"
          ],
          [
           "female"
          ],
          [
           "male"
          ],
          [
           "male"
          ],
          [
           "male"
          ],
          [
           "female"
          ],
          [
           "male"
          ],
          [
           "male"
          ],
          [
           "female"
          ],
          [
           "female"
          ],
          [
           "female"
          ],
          [
           "female"
          ],
          [
           "male"
          ],
          [
           "male"
          ],
          [
           "male"
          ],
          [
           "male"
          ],
          [
           "male"
          ],
          [
           "male"
          ],
          [
           "female"
          ],
          [
           "male"
          ],
          [
           "male"
          ],
          [
           "male"
          ],
          [
           "male"
          ],
          [
           "female"
          ],
          [
           "male"
          ],
          [
           "female"
          ],
          [
           "female"
          ],
          [
           "male"
          ],
          [
           "female"
          ],
          [
           "female"
          ],
          [
           "male"
          ],
          [
           "male"
          ],
          [
           "male"
          ],
          [
           "male"
          ],
          [
           "female"
          ],
          [
           "female"
          ],
          [
           "female"
          ],
          [
           "male"
          ],
          [
           "male"
          ],
          [
           "female"
          ],
          [
           "female"
          ],
          [
           "male"
          ],
          [
           "male"
          ],
          [
           "male"
          ],
          [
           "female"
          ],
          [
           "male"
          ],
          [
           "female"
          ],
          [
           "female"
          ],
          [
           "male"
          ],
          [
           "female"
          ],
          [
           "male"
          ],
          [
           "female"
          ],
          [
           "female"
          ],
          [
           "male"
          ],
          [
           "male"
          ],
          [
           "female"
          ],
          [
           "male"
          ],
          [
           "female"
          ],
          [
           "female"
          ],
          [
           "female"
          ],
          [
           "male"
          ],
          [
           "male"
          ],
          [
           "female"
          ],
          [
           "female"
          ],
          [
           "male"
          ],
          [
           "male"
          ],
          [
           "male"
          ],
          [
           "female"
          ],
          [
           "male"
          ],
          [
           "male"
          ],
          [
           "female"
          ],
          [
           "female"
          ],
          [
           "female"
          ],
          [
           "female"
          ],
          [
           "female"
          ],
          [
           "female"
          ],
          [
           "female"
          ],
          [
           "female"
          ],
          [
           "female"
          ],
          [
           "male"
          ],
          [
           "male"
          ],
          [
           "female"
          ],
          [
           "female"
          ],
          [
           "female"
          ],
          [
           "male"
          ],
          [
           "female"
          ],
          [
           "male"
          ],
          [
           "female"
          ],
          [
           "female"
          ],
          [
           "male"
          ],
          [
           "male"
          ],
          [
           "female"
          ],
          [
           "female"
          ],
          [
           "female"
          ],
          [
           "female"
          ],
          [
           "female"
          ],
          [
           "female"
          ],
          [
           "female"
          ],
          [
           "male"
          ],
          [
           "female"
          ],
          [
           "female"
          ],
          [
           "female"
          ],
          [
           "female"
          ],
          [
           "female"
          ],
          [
           "female"
          ],
          [
           "female"
          ],
          [
           "female"
          ],
          [
           "male"
          ],
          [
           "male"
          ],
          [
           "female"
          ],
          [
           "male"
          ],
          [
           "male"
          ],
          [
           "male"
          ],
          [
           "male"
          ],
          [
           "male"
          ],
          [
           "female"
          ],
          [
           "male"
          ],
          [
           "male"
          ],
          [
           "male"
          ],
          [
           "male"
          ],
          [
           "female"
          ],
          [
           "female"
          ],
          [
           "male"
          ],
          [
           "male"
          ],
          [
           "male"
          ],
          [
           "female"
          ],
          [
           "female"
          ],
          [
           "male"
          ],
          [
           "male"
          ],
          [
           "male"
          ],
          [
           "female"
          ],
          [
           "male"
          ],
          [
           "male"
          ],
          [
           "male"
          ],
          [
           "male"
          ],
          [
           "female"
          ],
          [
           "male"
          ],
          [
           "female"
          ],
          [
           "male"
          ],
          [
           "female"
          ],
          [
           "female"
          ],
          [
           "male"
          ],
          [
           "female"
          ],
          [
           "female"
          ],
          [
           "female"
          ],
          [
           "male"
          ],
          [
           "male"
          ],
          [
           "female"
          ],
          [
           "male"
          ],
          [
           "female"
          ],
          [
           "male"
          ],
          [
           "female"
          ],
          [
           "female"
          ],
          [
           "female"
          ],
          [
           "female"
          ],
          [
           "female"
          ],
          [
           "male"
          ],
          [
           "female"
          ],
          [
           "female"
          ],
          [
           "male"
          ],
          [
           "female"
          ],
          [
           "female"
          ],
          [
           "female"
          ],
          [
           "female"
          ],
          [
           "female"
          ],
          [
           "male"
          ],
          [
           "male"
          ],
          [
           "female"
          ],
          [
           "male"
          ],
          [
           "male"
          ],
          [
           "male"
          ],
          [
           "female"
          ],
          [
           "female"
          ],
          [
           "female"
          ],
          [
           "female"
          ],
          [
           "male"
          ],
          [
           "female"
          ],
          [
           "female"
          ],
          [
           "female"
          ],
          [
           "male"
          ],
          [
           "female"
          ],
          [
           "male"
          ],
          [
           "male"
          ],
          [
           "male"
          ],
          [
           "male"
          ],
          [
           "male"
          ],
          [
           "female"
          ],
          [
           "male"
          ],
          [
           "female"
          ],
          [
           "female"
          ],
          [
           "female"
          ],
          [
           "male"
          ],
          [
           "male"
          ],
          [
           "female"
          ],
          [
           "male"
          ],
          [
           "male"
          ],
          [
           "female"
          ],
          [
           "male"
          ],
          [
           "male"
          ],
          [
           "female"
          ],
          [
           "male"
          ],
          [
           "male"
          ],
          [
           "male"
          ],
          [
           "male"
          ],
          [
           "female"
          ],
          [
           "male"
          ],
          [
           "female"
          ],
          [
           "male"
          ],
          [
           "female"
          ],
          [
           "female"
          ],
          [
           "female"
          ],
          [
           "male"
          ],
          [
           "female"
          ],
          [
           "female"
          ],
          [
           "female"
          ]
         ],
         "hovertemplate": "smoker=no<br>age=%{x}<br>charges=%{y}<br>sex=%{customdata[0]}<extra></extra>",
         "legendgroup": "no",
         "marker": {
          "color": "#EF553B",
          "size": 10,
          "symbol": "circle"
         },
         "mode": "markers",
         "name": "no",
         "showlegend": true,
         "type": "scattergl",
         "x": [
          46,
          32,
          18,
          28,
          33,
          32,
          31,
          46,
          37,
          37,
          60,
          25,
          23,
          56,
          19,
          52,
          23,
          56,
          60,
          30,
          18,
          37,
          59,
          63,
          55,
          23,
          18,
          19,
          63,
          19,
          62,
          26,
          24,
          31,
          41,
          37,
          38,
          55,
          18,
          28,
          60,
          18,
          21,
          40,
          58,
          34,
          43,
          25,
          64,
          28,
          19,
          61,
          40,
          40,
          31,
          53,
          58,
          44,
          57,
          29,
          21,
          22,
          41,
          31,
          45,
          48,
          56,
          46,
          55,
          21,
          53,
          35,
          28,
          54,
          55,
          41,
          30,
          18,
          34,
          19,
          26,
          29,
          54,
          55,
          37,
          21,
          52,
          60,
          58,
          49,
          37,
          44,
          18,
          20,
          47,
          26,
          52,
          38,
          59,
          61,
          53,
          19,
          20,
          22,
          19,
          22,
          54,
          22,
          34,
          26,
          29,
          29,
          51,
          53,
          19,
          35,
          48,
          32,
          40,
          44,
          50,
          54,
          32,
          37,
          47,
          20,
          32,
          19,
          27,
          63,
          49,
          18,
          35,
          24,
          38,
          54,
          46,
          41,
          58,
          18,
          22,
          44,
          44,
          26,
          30,
          41,
          29,
          61,
          36,
          25,
          56,
          18,
          39,
          45,
          51,
          64,
          19,
          48,
          60,
          46,
          28,
          59,
          63,
          40,
          20,
          40,
          24,
          34,
          45,
          41,
          53,
          27,
          26,
          24,
          34,
          53,
          32,
          55,
          28,
          58,
          41,
          47,
          42,
          59,
          19,
          59,
          39,
          18,
          31,
          44,
          33,
          55,
          40,
          54,
          60,
          24,
          19,
          29,
          27,
          55,
          38,
          51,
          58,
          53,
          59,
          45,
          49,
          18,
          41,
          50,
          25,
          47,
          19,
          22,
          59,
          51,
          30,
          55,
          52,
          46,
          46,
          63,
          52,
          28,
          29,
          22,
          25,
          18,
          48,
          36,
          56,
          28,
          57,
          29,
          28,
          30,
          58,
          41,
          50,
          19,
          49,
          52,
          50,
          54,
          44,
          32,
          34,
          26,
          57,
          29,
          40,
          27,
          52,
          61,
          56,
          43,
          64,
          60,
          62,
          46,
          24,
          62,
          60,
          63,
          49,
          34,
          33,
          46,
          36,
          19,
          57,
          50,
          30,
          33,
          18,
          46,
          46,
          47,
          23,
          18,
          48,
          35,
          21,
          21,
          49,
          56,
          42,
          44,
          18,
          61,
          57,
          42,
          20,
          64,
          62,
          55,
          35,
          44,
          19,
          58,
          50,
          26,
          24,
          48,
          19,
          48,
          49,
          46,
          46,
          43,
          21,
          64,
          18,
          51,
          47,
          64,
          49,
          31,
          52,
          33,
          47,
          38,
          32,
          19,
          25,
          19,
          43,
          52,
          64,
          25,
          48,
          45,
          38,
          18,
          21,
          27,
          19,
          29,
          42,
          60,
          31,
          60,
          22,
          35,
          52,
          26,
          31,
          18,
          59,
          45,
          60,
          56,
          40,
          35,
          39,
          30,
          24,
          20,
          32,
          59,
          55,
          57,
          56,
          40,
          49,
          62,
          56,
          19,
          60,
          56,
          28,
          18,
          27,
          18,
          19,
          47,
          25,
          21,
          23,
          63,
          49,
          18,
          51,
          48,
          31,
          54,
          19,
          53,
          19,
          61,
          18,
          61,
          20,
          31,
          45,
          44,
          62,
          43,
          38,
          37,
          22,
          21,
          24,
          57,
          56,
          27,
          51,
          19,
          58,
          20,
          45,
          35,
          31,
          50,
          32,
          51,
          38,
          18,
          19,
          51,
          46,
          18,
          62,
          59,
          37,
          64,
          38,
          33,
          46,
          46,
          53,
          34,
          20,
          63,
          54,
          28,
          54,
          25,
          63,
          32,
          62,
          52,
          25,
          28,
          46,
          34,
          19,
          46,
          54,
          27,
          50,
          18,
          19,
          38,
          41,
          49,
          31,
          18,
          30,
          62,
          57,
          58,
          22,
          52,
          25,
          59,
          19,
          39,
          32,
          19,
          33,
          21,
          61,
          38,
          58,
          47,
          20,
          41,
          46,
          42,
          34,
          43,
          52,
          18,
          51,
          56,
          64,
          51,
          27,
          28,
          47,
          38,
          18,
          34,
          20,
          56,
          55,
          30,
          49,
          59,
          29,
          36,
          33,
          58,
          53,
          24,
          29,
          40,
          51,
          64,
          19,
          35,
          56,
          33,
          61,
          23,
          43,
          48,
          39,
          40,
          18,
          58,
          49,
          53,
          48,
          45,
          59,
          26,
          27,
          48,
          57,
          37,
          57,
          32,
          18,
          49,
          40,
          30,
          29,
          36,
          41,
          45,
          55,
          56,
          49,
          21,
          19,
          53,
          33,
          53,
          42,
          40,
          47,
          21,
          47,
          20,
          24,
          27,
          26,
          53,
          56,
          23,
          21,
          50,
          53,
          34,
          47,
          33,
          49,
          31,
          36,
          18,
          50,
          43,
          20,
          24,
          60,
          49,
          60,
          51,
          58,
          51,
          53,
          62,
          19,
          50,
          41,
          18,
          41,
          53,
          24,
          48,
          59,
          49,
          26,
          45,
          31,
          50,
          50,
          34,
          19,
          47,
          28,
          21,
          64,
          58,
          24,
          31,
          39,
          30,
          22,
          23,
          27,
          45,
          57,
          47,
          42,
          64,
          38,
          61,
          53,
          44,
          41,
          51,
          40,
          45,
          35,
          53,
          18,
          51,
          31,
          35,
          60,
          21,
          29,
          62,
          39,
          19,
          22,
          39,
          30,
          30,
          58,
          42,
          64,
          21,
          23,
          45,
          40,
          19,
          18,
          25,
          46,
          33,
          54,
          28,
          36,
          20,
          24,
          23,
          45,
          26,
          18,
          44,
          60,
          64,
          39,
          63,
          36,
          28,
          58,
          36,
          42,
          36,
          56,
          35,
          59,
          21,
          59,
          53,
          51,
          23,
          27,
          55,
          61,
          53,
          20,
          25,
          57,
          38,
          55,
          36,
          51,
          40,
          18,
          57,
          61,
          25,
          50,
          26,
          42,
          43,
          44,
          23,
          49,
          33,
          41,
          37,
          22,
          23,
          21,
          25,
          36,
          22,
          57,
          36,
          54,
          62,
          61,
          19,
          18,
          19,
          49,
          26,
          49,
          60,
          26,
          27,
          44,
          63,
          22,
          59,
          44,
          33,
          24,
          61,
          35,
          62,
          62,
          38,
          34,
          43,
          50,
          19,
          57,
          62,
          41,
          26,
          39,
          46,
          45,
          32,
          59,
          44,
          39,
          18,
          53,
          18,
          50,
          18,
          19,
          62,
          56,
          42,
          42,
          57,
          30,
          31,
          24,
          48,
          19,
          29,
          63,
          46,
          52,
          35,
          44,
          21,
          39,
          50,
          34,
          22,
          19,
          26,
          48,
          26,
          45,
          36,
          54,
          34,
          27,
          20,
          44,
          43,
          45,
          34,
          26,
          38,
          50,
          38,
          39,
          39,
          63,
          33,
          36,
          24,
          48,
          47,
          29,
          28,
          25,
          51,
          48,
          61,
          48,
          38,
          59,
          19,
          26,
          54,
          21,
          51,
          18,
          47,
          21,
          23,
          54,
          37,
          30,
          61,
          54,
          22,
          19,
          18,
          28,
          55,
          43,
          25,
          44,
          64,
          49,
          27,
          55,
          48,
          45,
          24,
          32,
          24,
          57,
          36,
          29,
          42,
          48,
          39,
          63,
          54,
          63,
          21,
          54,
          60,
          32,
          47,
          21,
          63,
          18,
          32,
          38,
          32,
          62,
          55,
          57,
          52,
          56,
          55,
          23,
          50,
          18,
          22,
          52,
          25,
          53,
          29,
          58,
          37,
          54,
          49,
          50,
          26,
          45,
          54,
          28,
          23,
          55,
          41,
          30,
          46,
          27,
          63,
          55,
          35,
          34,
          19,
          39,
          27,
          57,
          52,
          28,
          50,
          44,
          26,
          33,
          50,
          41,
          52,
          39,
          50,
          52,
          20,
          55,
          42,
          18,
          58,
          35,
          48,
          36,
          23,
          20,
          32,
          43,
          34,
          30,
          18,
          41,
          35,
          57,
          29,
          32,
          37,
          56,
          38,
          29,
          22,
          40,
          23,
          42,
          24,
          25,
          48,
          45,
          62,
          23,
          31,
          41,
          58,
          48,
          31,
          19,
          41,
          40,
          31,
          37,
          46,
          22,
          51,
          35,
          59,
          59,
          36,
          39,
          18,
          52,
          27,
          18,
          40,
          29,
          38,
          30,
          40,
          50,
          41,
          33,
          38,
          42,
          56,
          58,
          54,
          58,
          45,
          26,
          63,
          58,
          37,
          25,
          22,
          28,
          18,
          28,
          45,
          33,
          18,
          19,
          40,
          34,
          42,
          51,
          54,
          55,
          52,
          32,
          28,
          41,
          43,
          49,
          55,
          20,
          45,
          26,
          25,
          43,
          35,
          57,
          22,
          32,
          25,
          48,
          18,
          47,
          28,
          36,
          44,
          38,
          21,
          46,
          58,
          20,
          18,
          28,
          33,
          19,
          25,
          24,
          41,
          42,
          33,
          34,
          18,
          19,
          18,
          35,
          39,
          31,
          62,
          31,
          61,
          42,
          51,
          23,
          52,
          57,
          23,
          52,
          50,
          18,
          18,
          21
         ],
         "xaxis": "x",
         "y": [
          26650.70264664269,
          21459.03799039332,
          1725.5523,
          4449.462,
          21984.47061,
          3866.8552,
          3756.6216,
          8240.5896,
          7281.5056,
          6406.4107,
          28923.13692,
          2721.3208,
          1826.843,
          11090.7178,
          1837.237,
          10797.3362,
          2395.17155,
          10602.385,
          13228.84695,
          4149.736,
          1137.011,
          6203.90175,
          14001.1338,
          14451.83515,
          12268.63225,
          2775.19215,
          2198.18985,
          4687.797,
          13770.0979,
          1625.43375,
          15612.19335,
          2302.3,
          3046.062,
          4949.7587,
          6272.4772,
          6313.759,
          6079.6715,
          20630.28351,
          3393.35635,
          3556.9223,
          12629.8967,
          2211.13075,
          3579.8287,
          8059.6791,
          13607.36875,
          5989.52365,
          8606.2174,
          4504.6624,
          30166.61817,
          4133.64165,
          1743.214,
          14235.072,
          6389.37785,
          5920.1041,
          6799.458,
          11741.726,
          11946.6259,
          7726.854,
          11356.6609,
          3947.4131,
          1532.4697,
          2755.02095,
          6571.02435,
          4441.21315,
          7935.29115,
          11033.6617,
          11073.176,
          8026.6666,
          11082.5772,
          2026.9741,
          10942.13205,
          5729.0053,
          3766.8838,
          12105.32,
          10226.2842,
          6186.127,
          3645.0894,
          21344.8467,
          5003.853,
          2331.519,
          3877.30425,
          2867.1196,
          10825.2537,
          11881.358,
          4646.759,
          2404.7338,
          11488.31695,
          30259.99556,
          11381.3254,
          8601.3293,
          6686.4313,
          7740.337,
          1705.6245,
          2257.47525,
          10115.00885,
          3385.39915,
          9634.538,
          6082.405,
          12815.44495,
          13616.3586,
          11163.568,
          1632.56445,
          2457.21115,
          2155.6815,
          1261.442,
          2045.68525,
          27322.73386,
          2166.732,
          27375.90478,
          3490.5491,
          18157.876,
          5138.2567,
          9877.6077,
          10959.6947,
          1842.519,
          5125.2157,
          7789.635,
          6334.34355,
          7077.1894,
          6948.7008,
          19749.38338,
          10450.552,
          5152.134,
          5028.1466,
          10407.08585,
          4830.63,
          6128.79745,
          2719.27975,
          4827.90495,
          13405.3903,
          8116.68,
          1694.7964,
          5246.047,
          2855.43755,
          6455.86265,
          10436.096,
          8823.279,
          8538.28845,
          11735.87905,
          1631.8212,
          4005.4225,
          7419.4779,
          7731.4271,
          3981.9768,
          5325.651,
          6775.961,
          4922.9159,
          12557.6053,
          4883.866,
          2137.6536,
          12044.342,
          1137.4697,
          5649.715,
          8516.829,
          9644.2525,
          14901.5167,
          2130.6759,
          8871.1517,
          13012.20865,
          7147.105,
          4337.7352,
          11743.299,
          13880.949,
          6610.1097,
          1980.07,
          8162.71625,
          3537.703,
          5002.7827,
          8520.026,
          7371.772,
          10355.641,
          2483.736,
          3392.9768,
          25081.76784,
          5012.471,
          10564.8845,
          5253.524,
          11987.1682,
          2689.4954,
          24227.33724,
          7358.17565,
          9225.2564,
          7443.64305,
          14001.2867,
          1727.785,
          12333.828,
          6710.1919,
          1615.7667,
          4463.2051,
          7152.6714,
          5354.07465,
          35160.13457,
          7196.867,
          24476.47851,
          12648.7034,
          1986.9334,
          1832.094,
          4040.55825,
          4260.744,
          13047.33235,
          5400.9805,
          11520.09985,
          11837.16,
          20462.99766,
          14590.63205,
          7441.053,
          9282.4806,
          1719.4363,
          7265.7025,
          9617.66245,
          2523.1695,
          9715.841,
          2803.69785,
          2150.469,
          12928.7911,
          9855.1314,
          4237.12655,
          11879.10405,
          9625.92,
          7742.1098,
          9432.9253,
          14256.1928,
          25992.82104,
          3172.018,
          20277.80751,
          2156.7518,
          3906.127,
          1704.5681,
          9249.4952,
          6746.7425,
          12265.5069,
          4349.462,
          12646.207,
          19442.3535,
          20177.67113,
          4151.0287,
          11944.59435,
          7749.1564,
          8444.474,
          1737.376,
          8124.4084,
          9722.7695,
          8835.26495,
          10435.06525,
          7421.19455,
          4667.60765,
          4894.7533,
          24671.66334,
          11566.30055,
          2866.091,
          6600.20595,
          3561.8889,
          9144.565,
          13429.0354,
          11658.37915,
          19144.57652,
          13822.803,
          12142.5786,
          13937.6665,
          8232.6388,
          18955.22017,
          13352.0998,
          13217.0945,
          13981.85035,
          10977.2063,
          6184.2994,
          4889.9995,
          8334.45755,
          5478.0368,
          1635.73365,
          11830.6072,
          8932.084,
          3554.203,
          12404.8791,
          14133.03775,
          24603.04837,
          8944.1151,
          9620.3307,
          1837.2819,
          1607.5101,
          10043.249,
          4751.07,
          2597.779,
          3180.5101,
          9778.3472,
          13430.265,
          8017.06115,
          8116.26885,
          3481.868,
          13415.0381,
          12029.2867,
          7639.41745,
          1391.5287,
          16455.70785,
          27000.98473,
          20781.48892,
          5846.9176,
          8302.53565,
          1261.859,
          11856.4115,
          30284.64294,
          3176.8159,
          4618.0799,
          10736.87075,
          2138.0707,
          8964.06055,
          9290.1395,
          9411.005,
          7526.70645,
          8522.003,
          16586.49771,
          14988.432,
          1631.6683,
          9264.797,
          8083.9198,
          14692.66935,
          10269.46,
          3260.199,
          11396.9002,
          4185.0979,
          8539.671,
          6652.5288,
          4074.4537,
          1621.3402,
          5080.096,
          2134.9015,
          7345.7266,
          9140.951,
          14418.2804,
          2727.3951,
          8968.33,
          9788.8659,
          6555.07035,
          7323.734819,
          3167.45585,
          18804.7524,
          23082.95533,
          4906.40965,
          5969.723,
          12638.195,
          4243.59005,
          13919.8229,
          2254.7967,
          5926.846,
          12592.5345,
          2897.3235,
          4738.2682,
          1149.3959,
          28287.89766,
          7345.084,
          12730.9996,
          11454.0215,
          5910.944,
          4762.329,
          7512.267,
          4032.2407,
          1969.614,
          1769.53165,
          4686.3887,
          21797.0004,
          11881.9696,
          11840.77505,
          10601.412,
          7682.67,
          10381.4787,
          15230.32405,
          11165.41765,
          1632.03625,
          13224.693,
          12643.3778,
          23288.9284,
          2201.0971,
          2497.0383,
          2203.47185,
          1744.465,
          20878.78443,
          2534.39375,
          1534.3045,
          1824.2854,
          15555.18875,
          9304.7019,
          1622.1885,
          9880.068,
          9563.029,
          4347.02335,
          12475.3513,
          1253.936,
          10461.9794,
          1748.774,
          24513.09126,
          2196.4732,
          12574.049,
          1967.0227,
          4931.647,
          8027.968,
          8211.1002,
          13470.86,
          6837.3687,
          5974.3847,
          6796.86325,
          2643.2685,
          3077.0955,
          3044.2133,
          11455.28,
          11763.0009,
          2498.4144,
          9361.3268,
          1256.299,
          11362.755,
          27724.28875,
          8413.46305,
          5240.765,
          3857.75925,
          25656.57526,
          3994.1778,
          9866.30485,
          5397.6167,
          11482.63485,
          24059.68019,
          9861.025,
          8342.90875,
          1708.0014,
          14043.4767,
          12925.886,
          19214.70553,
          13831.1152,
          6067.12675,
          5972.378,
          8825.086,
          8233.0975,
          27346.04207,
          6196.448,
          3056.3881,
          13887.204,
          10231.4999,
          3268.84665,
          11538.421,
          3213.62205,
          13390.559,
          3972.9247,
          12957.118,
          11187.6567,
          17878.90068,
          3847.674,
          8334.5896,
          3935.1799,
          1646.4297,
          9193.8385,
          10923.9332,
          2494.022,
          9058.7303,
          2801.2588,
          2128.43105,
          6373.55735,
          7256.7231,
          11552.904,
          3761.292,
          2219.4451,
          4753.6368,
          31620.00106,
          13224.05705,
          12222.8983,
          1664.9996,
          9724.53,
          3206.49135,
          12913.9924,
          1639.5631,
          6356.2707,
          17626.23951,
          1242.816,
          4779.6023,
          3861.20965,
          13635.6379,
          5976.8311,
          11842.442,
          8428.0693,
          2566.4707,
          5709.1644,
          8823.98575,
          7640.3092,
          5594.8455,
          7441.501,
          33471.97189,
          1633.0444,
          9174.13565,
          11070.535,
          16085.1275,
          9283.562,
          3558.62025,
          4435.0942,
          8547.6913,
          6571.544,
          2207.69745,
          6753.038,
          1880.07,
          11658.11505,
          10713.644,
          3659.346,
          9182.17,
          12129.61415,
          3736.4647,
          6748.5912,
          11326.71487,
          11365.952,
          10085.846,
          1977.815,
          3366.6697,
          7173.35995,
          9391.346,
          14410.9321,
          2709.1119,
          24915.04626,
          12949.1554,
          6666.243,
          13143.86485,
          4466.6214,
          18806.14547,
          10141.1362,
          6123.5688,
          8252.2843,
          1712.227,
          12430.95335,
          9800.8882,
          10579.711,
          8280.6227,
          8527.532,
          12244.531,
          3410.324,
          4058.71245,
          26392.26029,
          14394.39815,
          6435.6237,
          22192.43711,
          5148.5526,
          1136.3994,
          8703.456,
          6500.2359,
          4837.5823,
          3943.5954,
          4399.731,
          6185.3208,
          7222.78625,
          12485.8009,
          12363.547,
          10156.7832,
          2585.269,
          1242.26,
          9863.4718,
          4766.022,
          11244.3769,
          7729.64575,
          5438.7491,
          26236.57997,
          2104.1134,
          8068.185,
          2362.22905,
          2352.96845,
          3577.999,
          3201.24515,
          29186.48236,
          10976.24575,
          3500.6123,
          2020.5523,
          9541.69555,
          9504.3103,
          5385.3379,
          8930.93455,
          5375.038,
          10264.4421,
          6113.23105,
          5469.0066,
          1727.54,
          10107.2206,
          8310.83915,
          1984.4533,
          2457.502,
          12146.971,
          9566.9909,
          13112.6048,
          10848.1343,
          12231.6136,
          9875.6804,
          11264.541,
          12979.358,
          1263.249,
          10106.13425,
          6664.68595,
          2217.6012,
          6781.3542,
          10065.413,
          4234.927,
          9447.25035,
          14007.222,
          9583.8933,
          3484.331,
          8604.48365,
          3757.8448,
          8827.2099,
          9910.35985,
          11737.84884,
          1627.28245,
          8556.907,
          3062.50825,
          1906.35825,
          14210.53595,
          11833.7823,
          17128.42608,
          5031.26955,
          7985.815,
          5428.7277,
          3925.7582,
          2416.955,
          3070.8087,
          9095.06825,
          11842.62375,
          8062.764,
          7050.642,
          14319.031,
          6933.24225,
          27941.28758,
          11150.78,
          12797.20962,
          7261.741,
          10560.4917,
          6986.697,
          7448.40395,
          5934.3798,
          9869.8102,
          1146.7966,
          9386.1613,
          4350.5144,
          6414.178,
          12741.16745,
          1917.3184,
          5209.57885,
          13457.9608,
          5662.225,
          1252.407,
          2731.9122,
          7209.4918,
          4266.1658,
          4719.52405,
          11848.141,
          7046.7222,
          14313.8463,
          2103.08,
          1815.8759,
          7731.85785,
          28476.73499,
          2136.88225,
          1131.5066,
          3309.7926,
          9414.92,
          6360.9936,
          11013.7119,
          4428.88785,
          5584.3057,
          1877.9294,
          2842.76075,
          3597.596,
          7445.918,
          2680.9493,
          1621.8827,
          8219.2039,
          12523.6048,
          16069.08475,
          6117.4945,
          13393.756,
          5266.3656,
          4719.73655,
          11743.9341,
          5377.4578,
          7160.3303,
          4402.233,
          11657.7189,
          6402.29135,
          12622.1795,
          1526.312,
          12323.936,
          10072.05505,
          9872.701,
          2438.0552,
          2974.126,
          10601.63225,
          14119.62,
          11729.6795,
          1875.344,
          18218.16139,
          10965.446,
          7151.092,
          12269.68865,
          5458.04645,
          8782.469,
          6600.361,
          1141.4451,
          11576.13,
          13129.60345,
          4391.652,
          8457.818,
          3392.3652,
          5966.8874,
          6849.026,
          8891.1395,
          2690.1138,
          26140.3603,
          6653.7886,
          6282.235,
          6311.952,
          3443.064,
          2789.0574,
          2585.85065,
          4877.98105,
          5272.1758,
          1682.597,
          11945.1327,
          7243.8136,
          10422.91665,
          13555.0049,
          13063.883,
          2221.56445,
          1634.5734,
          2117.33885,
          8688.85885,
          4661.28635,
          8125.7845,
          12644.589,
          4564.19145,
          4846.92015,
          7633.7206,
          15170.069,
          2639.0429,
          14382.70905,
          7626.993,
          5257.50795,
          2473.3341,
          13041.921,
          5245.2269,
          13451.122,
          13462.52,
          5488.262,
          4320.41085,
          6250.435,
          25333.33284,
          2913.569,
          12032.326,
          13470.8044,
          6289.7549,
          2927.0647,
          6238.298,
          10096.97,
          7348.142,
          4673.3922,
          12233.828,
          32108.66282,
          8965.79575,
          2304.0022,
          9487.6442,
          1121.8739,
          9549.5651,
          2217.46915,
          1628.4709,
          12982.8747,
          11674.13,
          7160.094,
          6358.77645,
          11534.87265,
          4527.18295,
          3875.7341,
          12609.88702,
          28468.91901,
          2730.10785,
          3353.284,
          14474.675,
          9500.57305,
          26467.09737,
          4746.344,
          7518.02535,
          3279.86855,
          8596.8278,
          10702.6424,
          4992.3764,
          2527.81865,
          1759.338,
          2322.6218,
          7804.1605,
          2902.9065,
          9704.66805,
          4889.0368,
          25517.11363,
          4500.33925,
          16796.41194,
          4915.05985,
          7624.63,
          8410.04685,
          28340.18885,
          4518.82625,
          3378.91,
          7144.86265,
          10118.424,
          5484.4673,
          7986.47525,
          7418.522,
          13887.9685,
          6551.7501,
          5267.81815,
          1972.95,
          21232.18226,
          8627.5411,
          4433.3877,
          4438.2634,
          23241.47453,
          9957.7216,
          8269.044,
          36580.28216,
          8765.249,
          5383.536,
          12124.9924,
          2709.24395,
          3987.926,
          12495.29085,
          26018.95052,
          8798.593,
          1711.0268,
          8569.8618,
          2020.177,
          21595.38229,
          9850.432,
          6877.9801,
          4137.5227,
          12950.0712,
          12094.478,
          2250.8352,
          22493.65964,
          1704.70015,
          3161.454,
          11394.06555,
          7325.0482,
          3594.17085,
          8023.13545,
          14394.5579,
          9288.0267,
          3353.4703,
          10594.50155,
          8277.523,
          17929.30337,
          2480.9791,
          4462.7218,
          1981.5819,
          11554.2236,
          6548.19505,
          5708.867,
          7045.499,
          8978.1851,
          5757.41345,
          14349.8544,
          10928.849,
          13974.45555,
          1909.52745,
          12096.6512,
          13204.28565,
          4562.8421,
          8551.347,
          2102.2647,
          15161.5344,
          11884.04858,
          4454.40265,
          5855.9025,
          4076.497,
          15019.76005,
          10796.35025,
          11353.2276,
          9748.9106,
          10577.087,
          11286.5387,
          3591.48,
          11299.343,
          4561.1885,
          1674.6323,
          23045.56616,
          3227.1211,
          11253.421,
          3471.4096,
          11363.2832,
          20420.60465,
          10338.9316,
          8988.15875,
          10493.9458,
          2904.088,
          8605.3615,
          11512.405,
          5312.16985,
          2396.0959,
          10807.4863,
          9222.4026,
          5693.4305,
          8347.1643,
          18903.49141,
          14254.6082,
          10214.636,
          5836.5204,
          14358.36437,
          1728.897,
          8582.3023,
          3693.428,
          20709.02034,
          9991.03765,
          19673.33573,
          11085.5868,
          7623.518,
          3176.2877,
          3704.3545,
          9048.0273,
          7954.517,
          27117.99378,
          6338.0756,
          9630.397,
          11289.10925,
          2261.5688,
          10791.96,
          5979.731,
          2203.73595,
          12235.8392,
          5630.45785,
          11015.1747,
          7228.21565,
          14426.07385,
          2459.7201,
          3989.841,
          7727.2532,
          5124.1887,
          18963.17192,
          2200.83085,
          7153.5539,
          5227.98875,
          10982.5013,
          4529.477,
          4670.64,
          6112.35295,
          11093.6229,
          6457.8434,
          4433.9159,
          2154.361,
          6496.886,
          2899.48935,
          7650.77375,
          2850.68375,
          2632.992,
          9447.3824,
          8603.8234,
          13844.7972,
          13126.67745,
          5327.40025,
          13725.47184,
          13019.16105,
          8671.19125,
          4134.08245,
          18838.70366,
          5699.8375,
          6393.60345,
          4934.705,
          6198.7518,
          8733.22925,
          2055.3249,
          9964.06,
          5116.5004,
          36910.60803,
          12347.172,
          5373.36425,
          23563.01618,
          1702.4553,
          10806.839,
          3956.07145,
          12890.05765,
          5415.6612,
          4058.1161,
          7537.1639,
          4718.20355,
          6593.5083,
          8442.667,
          6858.4796,
          4795.6568,
          6640.54485,
          7162.0122,
          10594.2257,
          11938.25595,
          12479.70895,
          11345.519,
          8515.7587,
          2699.56835,
          14449.8544,
          12224.35085,
          6985.50695,
          3238.4357,
          4296.2712,
          3171.6149,
          1135.9407,
          5615.369,
          9101.798,
          6059.173,
          1633.9618,
          1241.565,
          15828.82173,
          4415.1588,
          6474.013,
          11436.73815,
          11305.93455,
          30063.58055,
          10197.7722,
          4544.2348,
          3277.161,
          6770.1925,
          7337.748,
          10370.91255,
          10704.47,
          1880.487,
          8615.3,
          3292.52985,
          3021.80915,
          14478.33015,
          4747.0529,
          10959.33,
          2741.948,
          4357.04365,
          4189.1131,
          8283.6807,
          1720.3537,
          8534.6718,
          3732.6251,
          5472.449,
          7147.4728,
          7133.9025,
          1515.3449,
          9301.89355,
          11931.12525,
          1964.78,
          1708.92575,
          4340.4409,
          5261.46945,
          2710.82855,
          3208.787,
          2464.6188,
          6875.961,
          6940.90985,
          4571.41305,
          4536.259,
          11272.33139,
          1731.677,
          1163.4627,
          19496.71917,
          7201.70085,
          5425.02335,
          12981.3457,
          4239.89265,
          13143.33665,
          7050.0213,
          9377.9047,
          22395.74424,
          10325.206,
          12629.1656,
          10795.93733,
          11411.685,
          10600.5483,
          2205.9808,
          1629.8335,
          2007.945
         ],
         "yaxis": "y"
        }
       ],
       "layout": {
        "legend": {
         "title": {
          "text": "smoker"
         },
         "tracegroupgap": 0
        },
        "template": {
         "data": {
          "bar": [
           {
            "error_x": {
             "color": "#2a3f5f"
            },
            "error_y": {
             "color": "#2a3f5f"
            },
            "marker": {
             "line": {
              "color": "#E5ECF6",
              "width": 0.5
             },
             "pattern": {
              "fillmode": "overlay",
              "size": 10,
              "solidity": 0.2
             }
            },
            "type": "bar"
           }
          ],
          "barpolar": [
           {
            "marker": {
             "line": {
              "color": "#E5ECF6",
              "width": 0.5
             },
             "pattern": {
              "fillmode": "overlay",
              "size": 10,
              "solidity": 0.2
             }
            },
            "type": "barpolar"
           }
          ],
          "carpet": [
           {
            "aaxis": {
             "endlinecolor": "#2a3f5f",
             "gridcolor": "white",
             "linecolor": "white",
             "minorgridcolor": "white",
             "startlinecolor": "#2a3f5f"
            },
            "baxis": {
             "endlinecolor": "#2a3f5f",
             "gridcolor": "white",
             "linecolor": "white",
             "minorgridcolor": "white",
             "startlinecolor": "#2a3f5f"
            },
            "type": "carpet"
           }
          ],
          "choropleth": [
           {
            "colorbar": {
             "outlinewidth": 0,
             "ticks": ""
            },
            "type": "choropleth"
           }
          ],
          "contour": [
           {
            "colorbar": {
             "outlinewidth": 0,
             "ticks": ""
            },
            "colorscale": [
             [
              0,
              "#0d0887"
             ],
             [
              0.1111111111111111,
              "#46039f"
             ],
             [
              0.2222222222222222,
              "#7201a8"
             ],
             [
              0.3333333333333333,
              "#9c179e"
             ],
             [
              0.4444444444444444,
              "#bd3786"
             ],
             [
              0.5555555555555556,
              "#d8576b"
             ],
             [
              0.6666666666666666,
              "#ed7953"
             ],
             [
              0.7777777777777778,
              "#fb9f3a"
             ],
             [
              0.8888888888888888,
              "#fdca26"
             ],
             [
              1,
              "#f0f921"
             ]
            ],
            "type": "contour"
           }
          ],
          "contourcarpet": [
           {
            "colorbar": {
             "outlinewidth": 0,
             "ticks": ""
            },
            "type": "contourcarpet"
           }
          ],
          "heatmap": [
           {
            "colorbar": {
             "outlinewidth": 0,
             "ticks": ""
            },
            "colorscale": [
             [
              0,
              "#0d0887"
             ],
             [
              0.1111111111111111,
              "#46039f"
             ],
             [
              0.2222222222222222,
              "#7201a8"
             ],
             [
              0.3333333333333333,
              "#9c179e"
             ],
             [
              0.4444444444444444,
              "#bd3786"
             ],
             [
              0.5555555555555556,
              "#d8576b"
             ],
             [
              0.6666666666666666,
              "#ed7953"
             ],
             [
              0.7777777777777778,
              "#fb9f3a"
             ],
             [
              0.8888888888888888,
              "#fdca26"
             ],
             [
              1,
              "#f0f921"
             ]
            ],
            "type": "heatmap"
           }
          ],
          "heatmapgl": [
           {
            "colorbar": {
             "outlinewidth": 0,
             "ticks": ""
            },
            "colorscale": [
             [
              0,
              "#0d0887"
             ],
             [
              0.1111111111111111,
              "#46039f"
             ],
             [
              0.2222222222222222,
              "#7201a8"
             ],
             [
              0.3333333333333333,
              "#9c179e"
             ],
             [
              0.4444444444444444,
              "#bd3786"
             ],
             [
              0.5555555555555556,
              "#d8576b"
             ],
             [
              0.6666666666666666,
              "#ed7953"
             ],
             [
              0.7777777777777778,
              "#fb9f3a"
             ],
             [
              0.8888888888888888,
              "#fdca26"
             ],
             [
              1,
              "#f0f921"
             ]
            ],
            "type": "heatmapgl"
           }
          ],
          "histogram": [
           {
            "marker": {
             "pattern": {
              "fillmode": "overlay",
              "size": 10,
              "solidity": 0.2
             }
            },
            "type": "histogram"
           }
          ],
          "histogram2d": [
           {
            "colorbar": {
             "outlinewidth": 0,
             "ticks": ""
            },
            "colorscale": [
             [
              0,
              "#0d0887"
             ],
             [
              0.1111111111111111,
              "#46039f"
             ],
             [
              0.2222222222222222,
              "#7201a8"
             ],
             [
              0.3333333333333333,
              "#9c179e"
             ],
             [
              0.4444444444444444,
              "#bd3786"
             ],
             [
              0.5555555555555556,
              "#d8576b"
             ],
             [
              0.6666666666666666,
              "#ed7953"
             ],
             [
              0.7777777777777778,
              "#fb9f3a"
             ],
             [
              0.8888888888888888,
              "#fdca26"
             ],
             [
              1,
              "#f0f921"
             ]
            ],
            "type": "histogram2d"
           }
          ],
          "histogram2dcontour": [
           {
            "colorbar": {
             "outlinewidth": 0,
             "ticks": ""
            },
            "colorscale": [
             [
              0,
              "#0d0887"
             ],
             [
              0.1111111111111111,
              "#46039f"
             ],
             [
              0.2222222222222222,
              "#7201a8"
             ],
             [
              0.3333333333333333,
              "#9c179e"
             ],
             [
              0.4444444444444444,
              "#bd3786"
             ],
             [
              0.5555555555555556,
              "#d8576b"
             ],
             [
              0.6666666666666666,
              "#ed7953"
             ],
             [
              0.7777777777777778,
              "#fb9f3a"
             ],
             [
              0.8888888888888888,
              "#fdca26"
             ],
             [
              1,
              "#f0f921"
             ]
            ],
            "type": "histogram2dcontour"
           }
          ],
          "mesh3d": [
           {
            "colorbar": {
             "outlinewidth": 0,
             "ticks": ""
            },
            "type": "mesh3d"
           }
          ],
          "parcoords": [
           {
            "line": {
             "colorbar": {
              "outlinewidth": 0,
              "ticks": ""
             }
            },
            "type": "parcoords"
           }
          ],
          "pie": [
           {
            "automargin": true,
            "type": "pie"
           }
          ],
          "scatter": [
           {
            "fillpattern": {
             "fillmode": "overlay",
             "size": 10,
             "solidity": 0.2
            },
            "type": "scatter"
           }
          ],
          "scatter3d": [
           {
            "line": {
             "colorbar": {
              "outlinewidth": 0,
              "ticks": ""
             }
            },
            "marker": {
             "colorbar": {
              "outlinewidth": 0,
              "ticks": ""
             }
            },
            "type": "scatter3d"
           }
          ],
          "scattercarpet": [
           {
            "marker": {
             "colorbar": {
              "outlinewidth": 0,
              "ticks": ""
             }
            },
            "type": "scattercarpet"
           }
          ],
          "scattergeo": [
           {
            "marker": {
             "colorbar": {
              "outlinewidth": 0,
              "ticks": ""
             }
            },
            "type": "scattergeo"
           }
          ],
          "scattergl": [
           {
            "marker": {
             "colorbar": {
              "outlinewidth": 0,
              "ticks": ""
             }
            },
            "type": "scattergl"
           }
          ],
          "scattermapbox": [
           {
            "marker": {
             "colorbar": {
              "outlinewidth": 0,
              "ticks": ""
             }
            },
            "type": "scattermapbox"
           }
          ],
          "scatterpolar": [
           {
            "marker": {
             "colorbar": {
              "outlinewidth": 0,
              "ticks": ""
             }
            },
            "type": "scatterpolar"
           }
          ],
          "scatterpolargl": [
           {
            "marker": {
             "colorbar": {
              "outlinewidth": 0,
              "ticks": ""
             }
            },
            "type": "scatterpolargl"
           }
          ],
          "scatterternary": [
           {
            "marker": {
             "colorbar": {
              "outlinewidth": 0,
              "ticks": ""
             }
            },
            "type": "scatterternary"
           }
          ],
          "surface": [
           {
            "colorbar": {
             "outlinewidth": 0,
             "ticks": ""
            },
            "colorscale": [
             [
              0,
              "#0d0887"
             ],
             [
              0.1111111111111111,
              "#46039f"
             ],
             [
              0.2222222222222222,
              "#7201a8"
             ],
             [
              0.3333333333333333,
              "#9c179e"
             ],
             [
              0.4444444444444444,
              "#bd3786"
             ],
             [
              0.5555555555555556,
              "#d8576b"
             ],
             [
              0.6666666666666666,
              "#ed7953"
             ],
             [
              0.7777777777777778,
              "#fb9f3a"
             ],
             [
              0.8888888888888888,
              "#fdca26"
             ],
             [
              1,
              "#f0f921"
             ]
            ],
            "type": "surface"
           }
          ],
          "table": [
           {
            "cells": {
             "fill": {
              "color": "#EBF0F8"
             },
             "line": {
              "color": "white"
             }
            },
            "header": {
             "fill": {
              "color": "#C8D4E3"
             },
             "line": {
              "color": "white"
             }
            },
            "type": "table"
           }
          ]
         },
         "layout": {
          "annotationdefaults": {
           "arrowcolor": "#2a3f5f",
           "arrowhead": 0,
           "arrowwidth": 1
          },
          "autotypenumbers": "strict",
          "coloraxis": {
           "colorbar": {
            "outlinewidth": 0,
            "ticks": ""
           }
          },
          "colorscale": {
           "diverging": [
            [
             0,
             "#8e0152"
            ],
            [
             0.1,
             "#c51b7d"
            ],
            [
             0.2,
             "#de77ae"
            ],
            [
             0.3,
             "#f1b6da"
            ],
            [
             0.4,
             "#fde0ef"
            ],
            [
             0.5,
             "#f7f7f7"
            ],
            [
             0.6,
             "#e6f5d0"
            ],
            [
             0.7,
             "#b8e186"
            ],
            [
             0.8,
             "#7fbc41"
            ],
            [
             0.9,
             "#4d9221"
            ],
            [
             1,
             "#276419"
            ]
           ],
           "sequential": [
            [
             0,
             "#0d0887"
            ],
            [
             0.1111111111111111,
             "#46039f"
            ],
            [
             0.2222222222222222,
             "#7201a8"
            ],
            [
             0.3333333333333333,
             "#9c179e"
            ],
            [
             0.4444444444444444,
             "#bd3786"
            ],
            [
             0.5555555555555556,
             "#d8576b"
            ],
            [
             0.6666666666666666,
             "#ed7953"
            ],
            [
             0.7777777777777778,
             "#fb9f3a"
            ],
            [
             0.8888888888888888,
             "#fdca26"
            ],
            [
             1,
             "#f0f921"
            ]
           ],
           "sequentialminus": [
            [
             0,
             "#0d0887"
            ],
            [
             0.1111111111111111,
             "#46039f"
            ],
            [
             0.2222222222222222,
             "#7201a8"
            ],
            [
             0.3333333333333333,
             "#9c179e"
            ],
            [
             0.4444444444444444,
             "#bd3786"
            ],
            [
             0.5555555555555556,
             "#d8576b"
            ],
            [
             0.6666666666666666,
             "#ed7953"
            ],
            [
             0.7777777777777778,
             "#fb9f3a"
            ],
            [
             0.8888888888888888,
             "#fdca26"
            ],
            [
             1,
             "#f0f921"
            ]
           ]
          },
          "colorway": [
           "#636efa",
           "#EF553B",
           "#00cc96",
           "#ab63fa",
           "#FFA15A",
           "#19d3f3",
           "#FF6692",
           "#B6E880",
           "#FF97FF",
           "#FECB52"
          ],
          "font": {
           "color": "#2a3f5f"
          },
          "geo": {
           "bgcolor": "white",
           "lakecolor": "white",
           "landcolor": "#E5ECF6",
           "showlakes": true,
           "showland": true,
           "subunitcolor": "white"
          },
          "hoverlabel": {
           "align": "left"
          },
          "hovermode": "closest",
          "mapbox": {
           "style": "light"
          },
          "paper_bgcolor": "white",
          "plot_bgcolor": "#E5ECF6",
          "polar": {
           "angularaxis": {
            "gridcolor": "white",
            "linecolor": "white",
            "ticks": ""
           },
           "bgcolor": "#E5ECF6",
           "radialaxis": {
            "gridcolor": "white",
            "linecolor": "white",
            "ticks": ""
           }
          },
          "scene": {
           "xaxis": {
            "backgroundcolor": "#E5ECF6",
            "gridcolor": "white",
            "gridwidth": 2,
            "linecolor": "white",
            "showbackground": true,
            "ticks": "",
            "zerolinecolor": "white"
           },
           "yaxis": {
            "backgroundcolor": "#E5ECF6",
            "gridcolor": "white",
            "gridwidth": 2,
            "linecolor": "white",
            "showbackground": true,
            "ticks": "",
            "zerolinecolor": "white"
           },
           "zaxis": {
            "backgroundcolor": "#E5ECF6",
            "gridcolor": "white",
            "gridwidth": 2,
            "linecolor": "white",
            "showbackground": true,
            "ticks": "",
            "zerolinecolor": "white"
           }
          },
          "shapedefaults": {
           "line": {
            "color": "#2a3f5f"
           }
          },
          "ternary": {
           "aaxis": {
            "gridcolor": "white",
            "linecolor": "white",
            "ticks": ""
           },
           "baxis": {
            "gridcolor": "white",
            "linecolor": "white",
            "ticks": ""
           },
           "bgcolor": "#E5ECF6",
           "caxis": {
            "gridcolor": "white",
            "linecolor": "white",
            "ticks": ""
           }
          },
          "title": {
           "x": 0.05
          },
          "xaxis": {
           "automargin": true,
           "gridcolor": "white",
           "linecolor": "white",
           "ticks": "",
           "title": {
            "standoff": 15
           },
           "zerolinecolor": "white",
           "zerolinewidth": 2
          },
          "yaxis": {
           "automargin": true,
           "gridcolor": "white",
           "linecolor": "white",
           "ticks": "",
           "title": {
            "standoff": 15
           },
           "zerolinecolor": "white",
           "zerolinewidth": 2
          }
         }
        },
        "title": {
         "text": "Idade x Valor das Cobranças"
        },
        "xaxis": {
         "anchor": "y",
         "domain": [
          0,
          1
         ],
         "title": {
          "text": "age"
         }
        },
        "yaxis": {
         "anchor": "x",
         "domain": [
          0,
          1
         ],
         "title": {
          "text": "charges"
         }
        }
       }
      }
     },
     "metadata": {},
     "output_type": "display_data"
    }
   ],
   "source": [
    "#AGORA VOU AVALIAR A INFLUENCIA DA IDADE NO VALOR DAS COBRANÇAS:\n",
    "\n",
    "fig= px.scatter(Dados, x=\"age\", y=\"charges\", color=\"smoker\",hover_data=['sex'], title=\"Idade x Valor das Cobranças\")\n",
    "fig.update_traces(marker_size=10)\n",
    "fig.show()"
   ]
  },
  {
   "cell_type": "markdown",
   "metadata": {},
   "source": [
    "AQUI PODEMOS IDENTIFICAR QUE QUANTO MAIS ALTA A IDADE DO CLIENTE, A CURVA DE TENDENCIA É DE SUBIR O VALOR A SER COBRADO.\n",
    "ALÉM DISSO,PODEMOS VER PELAS CORES QUE REALMENTE OS VALORES PRATICADOS PARA FUMANTES SÃO MAIORES DO QUE OS NÃO FUMANTES EM MÉDIA.\n",
    "\n",
    "A ULTIMA VISUALIZAÇÃO QUE SERÁ APRESENTADA: SERÁ A INFLUENCIA DO IMC NOS VALORES DO SEGURO."
   ]
  },
  {
   "cell_type": "code",
   "execution_count": 385,
   "metadata": {},
   "outputs": [
    {
     "data": {
      "application/vnd.plotly.v1+json": {
       "config": {
        "plotlyServerURL": "https://plot.ly"
       },
       "data": [
        {
         "customdata": [
          [
           "female"
          ],
          [
           "female"
          ],
          [
           "female"
          ],
          [
           "male"
          ],
          [
           "male"
          ],
          [
           "female"
          ],
          [
           "male"
          ],
          [
           "male"
          ],
          [
           "male"
          ],
          [
           "male"
          ],
          [
           "male"
          ],
          [
           "male"
          ],
          [
           "male"
          ],
          [
           "male"
          ],
          [
           "male"
          ],
          [
           "male"
          ],
          [
           "female"
          ],
          [
           "female"
          ],
          [
           "male"
          ],
          [
           "female"
          ],
          [
           "male"
          ],
          [
           "female"
          ],
          [
           "male"
          ],
          [
           "female"
          ],
          [
           "male"
          ],
          [
           "female"
          ],
          [
           "male"
          ],
          [
           "male"
          ],
          [
           "female"
          ],
          [
           "male"
          ],
          [
           "male"
          ],
          [
           "female"
          ],
          [
           "male"
          ],
          [
           "female"
          ],
          [
           "female"
          ],
          [
           "male"
          ],
          [
           "male"
          ],
          [
           "male"
          ],
          [
           "female"
          ],
          [
           "male"
          ],
          [
           "male"
          ],
          [
           "male"
          ],
          [
           "female"
          ],
          [
           "female"
          ],
          [
           "female"
          ],
          [
           "male"
          ],
          [
           "female"
          ],
          [
           "male"
          ],
          [
           "male"
          ],
          [
           "male"
          ],
          [
           "female"
          ],
          [
           "male"
          ],
          [
           "female"
          ],
          [
           "female"
          ],
          [
           "male"
          ],
          [
           "female"
          ],
          [
           "male"
          ],
          [
           "male"
          ],
          [
           "male"
          ],
          [
           "male"
          ],
          [
           "female"
          ],
          [
           "male"
          ],
          [
           "male"
          ],
          [
           "male"
          ],
          [
           "male"
          ],
          [
           "male"
          ],
          [
           "female"
          ],
          [
           "male"
          ],
          [
           "female"
          ],
          [
           "male"
          ],
          [
           "male"
          ],
          [
           "male"
          ],
          [
           "male"
          ],
          [
           "female"
          ],
          [
           "male"
          ],
          [
           "female"
          ],
          [
           "male"
          ],
          [
           "male"
          ],
          [
           "female"
          ],
          [
           "female"
          ],
          [
           "male"
          ],
          [
           "male"
          ],
          [
           "female"
          ],
          [
           "male"
          ],
          [
           "female"
          ],
          [
           "female"
          ],
          [
           "male"
          ],
          [
           "female"
          ],
          [
           "male"
          ],
          [
           "female"
          ],
          [
           "female"
          ],
          [
           "female"
          ],
          [
           "female"
          ],
          [
           "male"
          ],
          [
           "male"
          ],
          [
           "male"
          ],
          [
           "female"
          ],
          [
           "male"
          ],
          [
           "male"
          ],
          [
           "female"
          ],
          [
           "male"
          ],
          [
           "male"
          ],
          [
           "male"
          ],
          [
           "female"
          ],
          [
           "male"
          ],
          [
           "male"
          ],
          [
           "male"
          ],
          [
           "male"
          ],
          [
           "male"
          ],
          [
           "male"
          ],
          [
           "male"
          ],
          [
           "female"
          ],
          [
           "male"
          ],
          [
           "female"
          ],
          [
           "female"
          ],
          [
           "male"
          ],
          [
           "female"
          ],
          [
           "female"
          ],
          [
           "female"
          ],
          [
           "female"
          ],
          [
           "female"
          ],
          [
           "male"
          ],
          [
           "female"
          ],
          [
           "male"
          ],
          [
           "female"
          ],
          [
           "male"
          ],
          [
           "male"
          ],
          [
           "female"
          ],
          [
           "male"
          ],
          [
           "male"
          ],
          [
           "female"
          ],
          [
           "female"
          ],
          [
           "male"
          ],
          [
           "female"
          ],
          [
           "male"
          ],
          [
           "female"
          ],
          [
           "male"
          ],
          [
           "male"
          ],
          [
           "male"
          ],
          [
           "male"
          ],
          [
           "female"
          ],
          [
           "female"
          ],
          [
           "female"
          ],
          [
           "male"
          ],
          [
           "female"
          ],
          [
           "male"
          ],
          [
           "male"
          ],
          [
           "male"
          ],
          [
           "male"
          ],
          [
           "female"
          ],
          [
           "female"
          ],
          [
           "male"
          ],
          [
           "male"
          ],
          [
           "female"
          ],
          [
           "male"
          ],
          [
           "female"
          ],
          [
           "male"
          ],
          [
           "male"
          ],
          [
           "male"
          ],
          [
           "female"
          ],
          [
           "female"
          ],
          [
           "female"
          ],
          [
           "male"
          ],
          [
           "male"
          ],
          [
           "male"
          ],
          [
           "female"
          ],
          [
           "female"
          ],
          [
           "female"
          ],
          [
           "female"
          ],
          [
           "female"
          ],
          [
           "female"
          ],
          [
           "female"
          ],
          [
           "male"
          ],
          [
           "female"
          ],
          [
           "female"
          ],
          [
           "male"
          ],
          [
           "male"
          ],
          [
           "female"
          ],
          [
           "male"
          ],
          [
           "female"
          ],
          [
           "male"
          ],
          [
           "female"
          ],
          [
           "male"
          ],
          [
           "female"
          ],
          [
           "male"
          ],
          [
           "male"
          ],
          [
           "male"
          ],
          [
           "male"
          ],
          [
           "male"
          ],
          [
           "male"
          ],
          [
           "male"
          ],
          [
           "male"
          ],
          [
           "male"
          ],
          [
           "male"
          ],
          [
           "male"
          ],
          [
           "female"
          ],
          [
           "female"
          ],
          [
           "male"
          ],
          [
           "male"
          ],
          [
           "male"
          ],
          [
           "male"
          ],
          [
           "female"
          ],
          [
           "male"
          ],
          [
           "male"
          ],
          [
           "female"
          ],
          [
           "female"
          ],
          [
           "male"
          ],
          [
           "male"
          ],
          [
           "female"
          ],
          [
           "female"
          ],
          [
           "male"
          ],
          [
           "female"
          ],
          [
           "male"
          ],
          [
           "male"
          ],
          [
           "male"
          ],
          [
           "male"
          ],
          [
           "male"
          ],
          [
           "male"
          ],
          [
           "female"
          ],
          [
           "male"
          ],
          [
           "female"
          ],
          [
           "female"
          ],
          [
           "female"
          ],
          [
           "male"
          ],
          [
           "female"
          ],
          [
           "male"
          ],
          [
           "male"
          ],
          [
           "female"
          ],
          [
           "female"
          ],
          [
           "female"
          ],
          [
           "female"
          ],
          [
           "male"
          ],
          [
           "female"
          ],
          [
           "male"
          ],
          [
           "male"
          ],
          [
           "female"
          ],
          [
           "female"
          ],
          [
           "male"
          ],
          [
           "female"
          ],
          [
           "male"
          ],
          [
           "female"
          ],
          [
           "female"
          ],
          [
           "female"
          ],
          [
           "male"
          ],
          [
           "female"
          ],
          [
           "female"
          ],
          [
           "female"
          ],
          [
           "male"
          ],
          [
           "female"
          ],
          [
           "male"
          ],
          [
           "male"
          ],
          [
           "male"
          ],
          [
           "male"
          ],
          [
           "male"
          ],
          [
           "male"
          ],
          [
           "male"
          ],
          [
           "male"
          ],
          [
           "male"
          ],
          [
           "female"
          ],
          [
           "female"
          ],
          [
           "male"
          ],
          [
           "male"
          ],
          [
           "male"
          ],
          [
           "male"
          ],
          [
           "male"
          ],
          [
           "male"
          ],
          [
           "male"
          ],
          [
           "female"
          ],
          [
           "male"
          ],
          [
           "female"
          ],
          [
           "female"
          ],
          [
           "female"
          ],
          [
           "male"
          ],
          [
           "female"
          ],
          [
           "female"
          ]
         ],
         "hovertemplate": "smoker=yes<br>bmi=%{x}<br>charges=%{y}<br>sex=%{customdata[0]}<extra></extra>",
         "legendgroup": "yes",
         "marker": {
          "color": "#636efa",
          "opacity": 0.8,
          "size": 5,
          "symbol": "circle"
         },
         "mode": "markers",
         "name": "yes",
         "showlegend": true,
         "type": "scattergl",
         "x": [
          29.774373714007336,
          27.9,
          26.29,
          42.13,
          35.3,
          31.92,
          36.3,
          35.6,
          36.4,
          36.67,
          39.9,
          35.2,
          28,
          34.43,
          36.955,
          31.68,
          22.88,
          22.42,
          23.98,
          24.75,
          37.62,
          34.8,
          22.895,
          31.16,
          29.83,
          31.3,
          19.95,
          19.3,
          29.92,
          28.025,
          35.09,
          27.94,
          31.35,
          28.3,
          17.765,
          25.3,
          28.69,
          30.495,
          23.37,
          24.42,
          25.175,
          35.53,
          26.6,
          36.85,
          37.7,
          41.895,
          36.08,
          27.74,
          34.8,
          24.64,
          22.22,
          29.07,
          36.67,
          27.74,
          17.29,
          32.2,
          34.21,
          31.825,
          33.63,
          31.92,
          26.84,
          24.32,
          36.955,
          42.35,
          19.8,
          34.2,
          28.12,
          40.565,
          36.765,
          45.54,
          27.7,
          25.41,
          34.39,
          22.61,
          35.97,
          31.4,
          30.8,
          36.48,
          33.8,
          36.385,
          27.36,
          32.3,
          21.7,
          32.9,
          28.31,
          24.89,
          40.15,
          17.955,
          30.685,
          20.235,
          17.195,
          22.6,
          26.98,
          33.88,
          35.86,
          32.775,
          33.5,
          26.695,
          30,
          28.38,
          25.1,
          28.31,
          28.5,
          38.06,
          25.7,
          34.4,
          23.21,
          30.25,
          28.3,
          26.07,
          42.13,
          47.41,
          25.84,
          46.2,
          34.105,
          40.565,
          38.095,
          30.21,
          21.85,
          28.31,
          23.655,
          37.8,
          36.63,
          25.6,
          33.11,
          34.1,
          33.535,
          38.95,
          26.41,
          28.31,
          25.3,
          22.99,
          38.06,
          32.775,
          32.015,
          43.89,
          31.35,
          35.3,
          31.13,
          35.75,
          38.06,
          39.05,
          21.755,
          24.42,
          38.39,
          31.73,
          35.5,
          29.15,
          34.105,
          26.4,
          27.83,
          38.17,
          27.1,
          28.88,
          24.4,
          27.6,
          20.9,
          28.5,
          24.795,
          42.24,
          26.125,
          35.53,
          31.79,
          28.025,
          30.78,
          32.78,
          29.81,
          32.45,
          30.78,
          35.53,
          23.845,
          33.11,
          24.13,
          47.6,
          37.05,
          28.93,
          28.975,
          26.885,
          38.94,
          20.045,
          40.92,
          24.6,
          31.73,
          26.885,
          22.895,
          34.2,
          29.7,
          42.9,
          30.2,
          27.835,
          30.8,
          34.96,
          24.795,
          22.895,
          25.9,
          20.52,
          20.045,
          22.99,
          32.7,
          28.215,
          20.13,
          31.02,
          36.08,
          26.03,
          23.655,
          35.2,
          21.565,
          37.07,
          30.495,
          28.025,
          30.685,
          24.7,
          52.58,
          30.9,
          29.8,
          41.14,
          37.07,
          31.68,
          18.3,
          36.19,
          30.4,
          34.96,
          19.095,
          38.39,
          25.85,
          33.33,
          35.75,
          31.4,
          36.86,
          42.75,
          32.49,
          32.8,
          32.56,
          44.88,
          27.36,
          26.7,
          24.13,
          29.81,
          28.49,
          35.625,
          25.27,
          30.02,
          27.28,
          33.4,
          25.555,
          34.6,
          24.42,
          34.485,
          21.8,
          41.8,
          36.96,
          33.63,
          29.83,
          27.3,
          23.76,
          31.065,
          27.06,
          29.925,
          27.645,
          21.66,
          36.3,
          39.4,
          34.9,
          30.36,
          30.875,
          27.8,
          24.605,
          21.85,
          28.12,
          30.2,
          34.7,
          23.655,
          26.695,
          40.37,
          29.07
         ],
         "xaxis": "x",
         "y": [
          31109.889763423336,
          16884.924,
          27808.7251,
          39611.7577,
          36837.467,
          37701.8768,
          38711,
          35585.576,
          51194.55914,
          39774.2763,
          48173.361,
          38709.176,
          23568.272,
          37742.5757,
          47496.49445,
          34303.1672,
          23244.7902,
          14711.7438,
          17663.1442,
          16577.7795,
          37165.1638,
          39836.519,
          21098.55405,
          43578.9394,
          30184.9367,
          47291.055,
          22412.6485,
          15820.699,
          30942.1918,
          17560.37975,
          47055.5321,
          19107.7796,
          39556.4945,
          17081.08,
          32734.1863,
          18972.495,
          20745.9891,
          40720.55105,
          19964.7463,
          21223.6758,
          15518.18025,
          36950.2567,
          21348.706,
          36149.4835,
          48824.45,
          43753.33705,
          37133.8982,
          20984.0936,
          34779.615,
          19515.5416,
          19444.2658,
          17352.6803,
          38511.6283,
          29523.1656,
          12829.4551,
          47305.305,
          44260.7499,
          41097.16175,
          43921.1837,
          33750.2918,
          17085.2676,
          24869.8368,
          36219.40545,
          46151.1245,
          17179.522,
          42856.838,
          22331.5668,
          48549.17835,
          47896.79135,
          42112.2356,
          16297.846,
          21978.6769,
          38746.3551,
          24873.3849,
          42124.5153,
          34838.873,
          35491.64,
          42760.5022,
          47928.03,
          48517.56315,
          24393.6224,
          41919.097,
          13844.506,
          36085.219,
          18033.9679,
          21659.9301,
          38126.2465,
          15006.57945,
          42303.69215,
          19594.80965,
          14455.64405,
          18608.262,
          28950.4692,
          46889.2612,
          46599.1084,
          39125.33225,
          37079.372,
          26109.32905,
          22144.032,
          19521.9682,
          25382.297,
          28868.6639,
          35147.52848,
          48885.13561,
          17942.106,
          36197.699,
          22218.1149,
          32548.3405,
          21082.16,
          38245.59327,
          48675.5177,
          63770.42801,
          23807.2406,
          45863.205,
          39983.42595,
          45702.02235,
          58571.07448,
          43943.8761,
          15359.1045,
          17468.9839,
          25678.77845,
          39241.442,
          42969.8527,
          23306.547,
          34439.8559,
          40182.246,
          34617.84065,
          42983.4585,
          20149.3229,
          32787.45859,
          24667.419,
          27037.9141,
          42560.4304,
          40003.33225,
          45710.20785,
          46200.9851,
          46130.5265,
          40103.89,
          34806.4677,
          40273.6455,
          44400.4064,
          40932.4295,
          16657.71745,
          19361.9988,
          40419.0191,
          36189.1017,
          44585.45587,
          18246.4955,
          43254.41795,
          19539.243,
          23065.4207,
          36307.7983,
          19040.876,
          17748.5062,
          18259.216,
          24520.264,
          21195.818,
          18310.742,
          17904.52705,
          38792.6856,
          23401.30575,
          55135.40209,
          43813.8661,
          20773.62775,
          39597.4072,
          36021.0112,
          27533.9129,
          45008.9555,
          37270.1512,
          42111.6647,
          24106.91255,
          40974.1649,
          15817.9857,
          46113.511,
          46255.1125,
          19719.6947,
          27218.43725,
          29330.98315,
          44202.6536,
          19798.05455,
          48673.5588,
          17496.306,
          33732.6867,
          21774.32215,
          35069.37452,
          39047.285,
          19933.458,
          47462.894,
          38998.546,
          20009.63365,
          41999.52,
          41034.2214,
          23967.38305,
          16138.76205,
          19199.944,
          14571.8908,
          16420.49455,
          17361.7661,
          34472.841,
          24915.22085,
          18767.7377,
          35595.5898,
          42211.1382,
          16450.8947,
          21677.28345,
          44423.803,
          13747.87235,
          37484.4493,
          39725.51805,
          20234.85475,
          33475.81715,
          21880.82,
          44501.3982,
          39727.614,
          25309.489,
          48970.2476,
          39871.7043,
          34672.1472,
          19023.26,
          41676.0811,
          33907.548,
          44641.1974,
          16776.30405,
          41949.2441,
          24180.9335,
          36124.5737,
          38282.7495,
          34166.273,
          46661.4424,
          40904.1995,
          36898.73308,
          52590.82939,
          40941.2854,
          39722.7462,
          17178.6824,
          22478.6,
          23887.6627,
          19350.3689,
          18328.2381,
          37465.34375,
          21771.3423,
          33307.5508,
          18223.4512,
          38415.474,
          20296.86345,
          41661.602,
          26125.67477,
          60021.39897,
          20167.33603,
          47269.854,
          49577.6624,
          37607.5277,
          18648.4217,
          16232.847,
          26926.5144,
          34254.05335,
          17043.3414,
          22462.04375,
          24535.69855,
          14283.4594,
          47403.88,
          38344.566,
          34828.654,
          62592.87309,
          46718.16325,
          37829.7242,
          21259.37795,
          16115.3045,
          21472.4788,
          33900.653,
          36397.576,
          18765.87545,
          28101.33305,
          43896.3763,
          29141.3603
         ],
         "yaxis": "y"
        },
        {
         "customdata": [
          [
           "male"
          ],
          [
           "male"
          ],
          [
           "male"
          ],
          [
           "male"
          ],
          [
           "male"
          ],
          [
           "male"
          ],
          [
           "female"
          ],
          [
           "female"
          ],
          [
           "female"
          ],
          [
           "male"
          ],
          [
           "female"
          ],
          [
           "male"
          ],
          [
           "male"
          ],
          [
           "female"
          ],
          [
           "male"
          ],
          [
           "female"
          ],
          [
           "male"
          ],
          [
           "male"
          ],
          [
           "female"
          ],
          [
           "female"
          ],
          [
           "male"
          ],
          [
           "male"
          ],
          [
           "female"
          ],
          [
           "female"
          ],
          [
           "female"
          ],
          [
           "male"
          ],
          [
           "female"
          ],
          [
           "female"
          ],
          [
           "male"
          ],
          [
           "male"
          ],
          [
           "female"
          ],
          [
           "male"
          ],
          [
           "female"
          ],
          [
           "female"
          ],
          [
           "male"
          ],
          [
           "female"
          ],
          [
           "male"
          ],
          [
           "male"
          ],
          [
           "female"
          ],
          [
           "female"
          ],
          [
           "female"
          ],
          [
           "female"
          ],
          [
           "female"
          ],
          [
           "female"
          ],
          [
           "female"
          ],
          [
           "female"
          ],
          [
           "male"
          ],
          [
           "male"
          ],
          [
           "male"
          ],
          [
           "female"
          ],
          [
           "female"
          ],
          [
           "female"
          ],
          [
           "male"
          ],
          [
           "female"
          ],
          [
           "male"
          ],
          [
           "female"
          ],
          [
           "male"
          ],
          [
           "male"
          ],
          [
           "male"
          ],
          [
           "female"
          ],
          [
           "male"
          ],
          [
           "female"
          ],
          [
           "female"
          ],
          [
           "male"
          ],
          [
           "female"
          ],
          [
           "female"
          ],
          [
           "female"
          ],
          [
           "female"
          ],
          [
           "female"
          ],
          [
           "female"
          ],
          [
           "female"
          ],
          [
           "male"
          ],
          [
           "female"
          ],
          [
           "female"
          ],
          [
           "male"
          ],
          [
           "female"
          ],
          [
           "male"
          ],
          [
           "female"
          ],
          [
           "female"
          ],
          [
           "female"
          ],
          [
           "male"
          ],
          [
           "male"
          ],
          [
           "male"
          ],
          [
           "female"
          ],
          [
           "male"
          ],
          [
           "female"
          ],
          [
           "male"
          ],
          [
           "male"
          ],
          [
           "male"
          ],
          [
           "female"
          ],
          [
           "female"
          ],
          [
           "male"
          ],
          [
           "male"
          ],
          [
           "female"
          ],
          [
           "female"
          ],
          [
           "female"
          ],
          [
           "female"
          ],
          [
           "male"
          ],
          [
           "female"
          ],
          [
           "female"
          ],
          [
           "female"
          ],
          [
           "male"
          ],
          [
           "female"
          ],
          [
           "female"
          ],
          [
           "male"
          ],
          [
           "male"
          ],
          [
           "female"
          ],
          [
           "female"
          ],
          [
           "male"
          ],
          [
           "male"
          ],
          [
           "male"
          ],
          [
           "female"
          ],
          [
           "female"
          ],
          [
           "female"
          ],
          [
           "male"
          ],
          [
           "male"
          ],
          [
           "male"
          ],
          [
           "female"
          ],
          [
           "female"
          ],
          [
           "male"
          ],
          [
           "female"
          ],
          [
           "male"
          ],
          [
           "female"
          ],
          [
           "male"
          ],
          [
           "male"
          ],
          [
           "female"
          ],
          [
           "female"
          ],
          [
           "female"
          ],
          [
           "male"
          ],
          [
           "male"
          ],
          [
           "male"
          ],
          [
           "male"
          ],
          [
           "female"
          ],
          [
           "female"
          ],
          [
           "male"
          ],
          [
           "male"
          ],
          [
           "female"
          ],
          [
           "female"
          ],
          [
           "male"
          ],
          [
           "female"
          ],
          [
           "male"
          ],
          [
           "female"
          ],
          [
           "male"
          ],
          [
           "female"
          ],
          [
           "female"
          ],
          [
           "female"
          ],
          [
           "female"
          ],
          [
           "male"
          ],
          [
           "female"
          ],
          [
           "male"
          ],
          [
           "female"
          ],
          [
           "male"
          ],
          [
           "female"
          ],
          [
           "female"
          ],
          [
           "female"
          ],
          [
           "female"
          ],
          [
           "female"
          ],
          [
           "female"
          ],
          [
           "female"
          ],
          [
           "male"
          ],
          [
           "female"
          ],
          [
           "male"
          ],
          [
           "female"
          ],
          [
           "male"
          ],
          [
           "male"
          ],
          [
           "male"
          ],
          [
           "male"
          ],
          [
           "female"
          ],
          [
           "female"
          ],
          [
           "female"
          ],
          [
           "female"
          ],
          [
           "male"
          ],
          [
           "female"
          ],
          [
           "female"
          ],
          [
           "female"
          ],
          [
           "female"
          ],
          [
           "male"
          ],
          [
           "male"
          ],
          [
           "male"
          ],
          [
           "female"
          ],
          [
           "female"
          ],
          [
           "male"
          ],
          [
           "female"
          ],
          [
           "female"
          ],
          [
           "female"
          ],
          [
           "male"
          ],
          [
           "male"
          ],
          [
           "female"
          ],
          [
           "male"
          ],
          [
           "male"
          ],
          [
           "female"
          ],
          [
           "female"
          ],
          [
           "male"
          ],
          [
           "male"
          ],
          [
           "female"
          ],
          [
           "male"
          ],
          [
           "male"
          ],
          [
           "male"
          ],
          [
           "male"
          ],
          [
           "female"
          ],
          [
           "female"
          ],
          [
           "male"
          ],
          [
           "female"
          ],
          [
           "female"
          ],
          [
           "female"
          ],
          [
           "male"
          ],
          [
           "male"
          ],
          [
           "male"
          ],
          [
           "male"
          ],
          [
           "male"
          ],
          [
           "male"
          ],
          [
           "female"
          ],
          [
           "male"
          ],
          [
           "female"
          ],
          [
           "male"
          ],
          [
           "female"
          ],
          [
           "male"
          ],
          [
           "female"
          ],
          [
           "female"
          ],
          [
           "male"
          ],
          [
           "female"
          ],
          [
           "female"
          ],
          [
           "male"
          ],
          [
           "female"
          ],
          [
           "male"
          ],
          [
           "female"
          ],
          [
           "male"
          ],
          [
           "male"
          ],
          [
           "female"
          ],
          [
           "male"
          ],
          [
           "female"
          ],
          [
           "female"
          ],
          [
           "female"
          ],
          [
           "male"
          ],
          [
           "female"
          ],
          [
           "female"
          ],
          [
           "male"
          ],
          [
           "female"
          ],
          [
           "male"
          ],
          [
           "female"
          ],
          [
           "male"
          ],
          [
           "male"
          ],
          [
           "male"
          ],
          [
           "male"
          ],
          [
           "female"
          ],
          [
           "male"
          ],
          [
           "male"
          ],
          [
           "female"
          ],
          [
           "male"
          ],
          [
           "male"
          ],
          [
           "male"
          ],
          [
           "female"
          ],
          [
           "male"
          ],
          [
           "female"
          ],
          [
           "female"
          ],
          [
           "female"
          ],
          [
           "male"
          ],
          [
           "male"
          ],
          [
           "male"
          ],
          [
           "female"
          ],
          [
           "female"
          ],
          [
           "male"
          ],
          [
           "female"
          ],
          [
           "male"
          ],
          [
           "female"
          ],
          [
           "female"
          ],
          [
           "male"
          ],
          [
           "male"
          ],
          [
           "female"
          ],
          [
           "male"
          ],
          [
           "female"
          ],
          [
           "female"
          ],
          [
           "female"
          ],
          [
           "male"
          ],
          [
           "female"
          ],
          [
           "male"
          ],
          [
           "male"
          ],
          [
           "male"
          ],
          [
           "male"
          ],
          [
           "female"
          ],
          [
           "female"
          ],
          [
           "male"
          ],
          [
           "female"
          ],
          [
           "female"
          ],
          [
           "female"
          ],
          [
           "female"
          ],
          [
           "female"
          ],
          [
           "male"
          ],
          [
           "male"
          ],
          [
           "female"
          ],
          [
           "female"
          ],
          [
           "female"
          ],
          [
           "male"
          ],
          [
           "female"
          ],
          [
           "male"
          ],
          [
           "male"
          ],
          [
           "female"
          ],
          [
           "male"
          ],
          [
           "male"
          ],
          [
           "female"
          ],
          [
           "male"
          ],
          [
           "female"
          ],
          [
           "female"
          ],
          [
           "male"
          ],
          [
           "female"
          ],
          [
           "male"
          ],
          [
           "male"
          ],
          [
           "female"
          ],
          [
           "male"
          ],
          [
           "female"
          ],
          [
           "male"
          ],
          [
           "male"
          ],
          [
           "female"
          ],
          [
           "female"
          ],
          [
           "male"
          ],
          [
           "female"
          ],
          [
           "male"
          ],
          [
           "male"
          ],
          [
           "female"
          ],
          [
           "female"
          ],
          [
           "female"
          ],
          [
           "male"
          ],
          [
           "male"
          ],
          [
           "male"
          ],
          [
           "male"
          ],
          [
           "female"
          ],
          [
           "female"
          ],
          [
           "male"
          ],
          [
           "male"
          ],
          [
           "male"
          ],
          [
           "male"
          ],
          [
           "male"
          ],
          [
           "female"
          ],
          [
           "female"
          ],
          [
           "female"
          ],
          [
           "female"
          ],
          [
           "male"
          ],
          [
           "female"
          ],
          [
           "male"
          ],
          [
           "female"
          ],
          [
           "male"
          ],
          [
           "male"
          ],
          [
           "male"
          ],
          [
           "male"
          ],
          [
           "female"
          ],
          [
           "male"
          ],
          [
           "female"
          ],
          [
           "male"
          ],
          [
           "female"
          ],
          [
           "female"
          ],
          [
           "male"
          ],
          [
           "female"
          ],
          [
           "female"
          ],
          [
           "male"
          ],
          [
           "male"
          ],
          [
           "male"
          ],
          [
           "male"
          ],
          [
           "male"
          ],
          [
           "male"
          ],
          [
           "male"
          ],
          [
           "female"
          ],
          [
           "female"
          ],
          [
           "male"
          ],
          [
           "female"
          ],
          [
           "female"
          ],
          [
           "female"
          ],
          [
           "male"
          ],
          [
           "male"
          ],
          [
           "female"
          ],
          [
           "female"
          ],
          [
           "female"
          ],
          [
           "female"
          ],
          [
           "male"
          ],
          [
           "female"
          ],
          [
           "female"
          ],
          [
           "female"
          ],
          [
           "male"
          ],
          [
           "male"
          ],
          [
           "male"
          ],
          [
           "male"
          ],
          [
           "male"
          ],
          [
           "female"
          ],
          [
           "female"
          ],
          [
           "male"
          ],
          [
           "female"
          ],
          [
           "female"
          ],
          [
           "male"
          ],
          [
           "male"
          ],
          [
           "female"
          ],
          [
           "female"
          ],
          [
           "female"
          ],
          [
           "male"
          ],
          [
           "male"
          ],
          [
           "female"
          ],
          [
           "male"
          ],
          [
           "female"
          ],
          [
           "female"
          ],
          [
           "male"
          ],
          [
           "female"
          ],
          [
           "male"
          ],
          [
           "male"
          ],
          [
           "male"
          ],
          [
           "female"
          ],
          [
           "female"
          ],
          [
           "male"
          ],
          [
           "male"
          ],
          [
           "male"
          ],
          [
           "male"
          ],
          [
           "male"
          ],
          [
           "male"
          ],
          [
           "male"
          ],
          [
           "female"
          ],
          [
           "male"
          ],
          [
           "female"
          ],
          [
           "female"
          ],
          [
           "female"
          ],
          [
           "female"
          ],
          [
           "female"
          ],
          [
           "female"
          ],
          [
           "female"
          ],
          [
           "male"
          ],
          [
           "male"
          ],
          [
           "female"
          ],
          [
           "male"
          ],
          [
           "male"
          ],
          [
           "male"
          ],
          [
           "male"
          ],
          [
           "female"
          ],
          [
           "female"
          ],
          [
           "female"
          ],
          [
           "male"
          ],
          [
           "female"
          ],
          [
           "female"
          ],
          [
           "female"
          ],
          [
           "male"
          ],
          [
           "male"
          ],
          [
           "female"
          ],
          [
           "female"
          ],
          [
           "male"
          ],
          [
           "female"
          ],
          [
           "male"
          ],
          [
           "female"
          ],
          [
           "female"
          ],
          [
           "male"
          ],
          [
           "male"
          ],
          [
           "male"
          ],
          [
           "male"
          ],
          [
           "female"
          ],
          [
           "female"
          ],
          [
           "male"
          ],
          [
           "male"
          ],
          [
           "female"
          ],
          [
           "female"
          ],
          [
           "female"
          ],
          [
           "male"
          ],
          [
           "female"
          ],
          [
           "female"
          ],
          [
           "female"
          ],
          [
           "female"
          ],
          [
           "female"
          ],
          [
           "female"
          ],
          [
           "female"
          ],
          [
           "male"
          ],
          [
           "male"
          ],
          [
           "female"
          ],
          [
           "male"
          ],
          [
           "male"
          ],
          [
           "male"
          ],
          [
           "female"
          ],
          [
           "male"
          ],
          [
           "female"
          ],
          [
           "male"
          ],
          [
           "female"
          ],
          [
           "female"
          ],
          [
           "female"
          ],
          [
           "male"
          ],
          [
           "male"
          ],
          [
           "male"
          ],
          [
           "female"
          ],
          [
           "female"
          ],
          [
           "female"
          ],
          [
           "male"
          ],
          [
           "female"
          ],
          [
           "female"
          ],
          [
           "male"
          ],
          [
           "female"
          ],
          [
           "female"
          ],
          [
           "female"
          ],
          [
           "female"
          ],
          [
           "male"
          ],
          [
           "female"
          ],
          [
           "female"
          ],
          [
           "female"
          ],
          [
           "female"
          ],
          [
           "female"
          ],
          [
           "female"
          ],
          [
           "female"
          ],
          [
           "male"
          ],
          [
           "female"
          ],
          [
           "male"
          ],
          [
           "female"
          ],
          [
           "male"
          ],
          [
           "male"
          ],
          [
           "male"
          ],
          [
           "male"
          ],
          [
           "male"
          ],
          [
           "female"
          ],
          [
           "male"
          ],
          [
           "male"
          ],
          [
           "male"
          ],
          [
           "female"
          ],
          [
           "female"
          ],
          [
           "male"
          ],
          [
           "male"
          ],
          [
           "male"
          ],
          [
           "female"
          ],
          [
           "male"
          ],
          [
           "male"
          ],
          [
           "male"
          ],
          [
           "female"
          ],
          [
           "male"
          ],
          [
           "female"
          ],
          [
           "female"
          ],
          [
           "female"
          ],
          [
           "female"
          ],
          [
           "female"
          ],
          [
           "female"
          ],
          [
           "female"
          ],
          [
           "male"
          ],
          [
           "female"
          ],
          [
           "female"
          ],
          [
           "male"
          ],
          [
           "female"
          ],
          [
           "female"
          ],
          [
           "male"
          ],
          [
           "male"
          ],
          [
           "female"
          ],
          [
           "male"
          ],
          [
           "female"
          ],
          [
           "male"
          ],
          [
           "female"
          ],
          [
           "male"
          ],
          [
           "female"
          ],
          [
           "male"
          ],
          [
           "female"
          ],
          [
           "female"
          ],
          [
           "male"
          ],
          [
           "male"
          ],
          [
           "female"
          ],
          [
           "male"
          ],
          [
           "male"
          ],
          [
           "male"
          ],
          [
           "female"
          ],
          [
           "male"
          ],
          [
           "male"
          ],
          [
           "male"
          ],
          [
           "male"
          ],
          [
           "female"
          ],
          [
           "female"
          ],
          [
           "female"
          ],
          [
           "male"
          ],
          [
           "female"
          ],
          [
           "female"
          ],
          [
           "female"
          ],
          [
           "male"
          ],
          [
           "female"
          ],
          [
           "female"
          ],
          [
           "female"
          ],
          [
           "male"
          ],
          [
           "female"
          ],
          [
           "female"
          ],
          [
           "male"
          ],
          [
           "female"
          ],
          [
           "female"
          ],
          [
           "male"
          ],
          [
           "female"
          ],
          [
           "male"
          ],
          [
           "female"
          ],
          [
           "male"
          ],
          [
           "female"
          ],
          [
           "female"
          ],
          [
           "female"
          ],
          [
           "male"
          ],
          [
           "male"
          ],
          [
           "male"
          ],
          [
           "female"
          ],
          [
           "male"
          ],
          [
           "female"
          ],
          [
           "female"
          ],
          [
           "male"
          ],
          [
           "female"
          ],
          [
           "female"
          ],
          [
           "female"
          ],
          [
           "female"
          ],
          [
           "male"
          ],
          [
           "male"
          ],
          [
           "female"
          ],
          [
           "male"
          ],
          [
           "female"
          ],
          [
           "male"
          ],
          [
           "male"
          ],
          [
           "female"
          ],
          [
           "male"
          ],
          [
           "male"
          ],
          [
           "male"
          ],
          [
           "female"
          ],
          [
           "male"
          ],
          [
           "male"
          ],
          [
           "female"
          ],
          [
           "male"
          ],
          [
           "female"
          ],
          [
           "male"
          ],
          [
           "male"
          ],
          [
           "female"
          ],
          [
           "female"
          ],
          [
           "male"
          ],
          [
           "female"
          ],
          [
           "female"
          ],
          [
           "female"
          ],
          [
           "male"
          ],
          [
           "female"
          ],
          [
           "female"
          ],
          [
           "male"
          ],
          [
           "male"
          ],
          [
           "male"
          ],
          [
           "male"
          ],
          [
           "male"
          ],
          [
           "male"
          ],
          [
           "male"
          ],
          [
           "male"
          ],
          [
           "female"
          ],
          [
           "female"
          ],
          [
           "male"
          ],
          [
           "male"
          ],
          [
           "male"
          ],
          [
           "female"
          ],
          [
           "female"
          ],
          [
           "male"
          ],
          [
           "female"
          ],
          [
           "female"
          ],
          [
           "male"
          ],
          [
           "female"
          ],
          [
           "female"
          ],
          [
           "female"
          ],
          [
           "female"
          ],
          [
           "male"
          ],
          [
           "male"
          ],
          [
           "female"
          ],
          [
           "female"
          ],
          [
           "female"
          ],
          [
           "male"
          ],
          [
           "male"
          ],
          [
           "female"
          ],
          [
           "female"
          ],
          [
           "male"
          ],
          [
           "male"
          ],
          [
           "male"
          ],
          [
           "female"
          ],
          [
           "female"
          ],
          [
           "male"
          ],
          [
           "male"
          ],
          [
           "male"
          ],
          [
           "female"
          ],
          [
           "female"
          ],
          [
           "male"
          ],
          [
           "female"
          ],
          [
           "male"
          ],
          [
           "male"
          ],
          [
           "female"
          ],
          [
           "female"
          ],
          [
           "male"
          ],
          [
           "male"
          ],
          [
           "male"
          ],
          [
           "male"
          ],
          [
           "female"
          ],
          [
           "female"
          ],
          [
           "female"
          ],
          [
           "male"
          ],
          [
           "male"
          ],
          [
           "male"
          ],
          [
           "female"
          ],
          [
           "male"
          ],
          [
           "female"
          ],
          [
           "male"
          ],
          [
           "male"
          ],
          [
           "female"
          ],
          [
           "female"
          ],
          [
           "female"
          ],
          [
           "male"
          ],
          [
           "female"
          ],
          [
           "female"
          ],
          [
           "female"
          ],
          [
           "male"
          ],
          [
           "male"
          ],
          [
           "male"
          ],
          [
           "male"
          ],
          [
           "male"
          ],
          [
           "female"
          ],
          [
           "male"
          ],
          [
           "female"
          ],
          [
           "male"
          ],
          [
           "male"
          ],
          [
           "male"
          ],
          [
           "female"
          ],
          [
           "female"
          ],
          [
           "male"
          ],
          [
           "male"
          ],
          [
           "female"
          ],
          [
           "male"
          ],
          [
           "male"
          ],
          [
           "female"
          ],
          [
           "male"
          ],
          [
           "female"
          ],
          [
           "male"
          ],
          [
           "male"
          ],
          [
           "female"
          ],
          [
           "male"
          ],
          [
           "male"
          ],
          [
           "female"
          ],
          [
           "male"
          ],
          [
           "female"
          ],
          [
           "female"
          ],
          [
           "male"
          ],
          [
           "male"
          ],
          [
           "male"
          ],
          [
           "female"
          ],
          [
           "female"
          ],
          [
           "male"
          ],
          [
           "female"
          ],
          [
           "male"
          ],
          [
           "male"
          ],
          [
           "female"
          ],
          [
           "female"
          ],
          [
           "male"
          ],
          [
           "female"
          ],
          [
           "female"
          ],
          [
           "female"
          ],
          [
           "female"
          ],
          [
           "female"
          ],
          [
           "male"
          ],
          [
           "male"
          ],
          [
           "male"
          ],
          [
           "male"
          ],
          [
           "female"
          ],
          [
           "female"
          ],
          [
           "female"
          ],
          [
           "male"
          ],
          [
           "male"
          ],
          [
           "female"
          ],
          [
           "male"
          ],
          [
           "female"
          ],
          [
           "male"
          ],
          [
           "female"
          ],
          [
           "male"
          ],
          [
           "female"
          ],
          [
           "male"
          ],
          [
           "male"
          ],
          [
           "male"
          ],
          [
           "female"
          ],
          [
           "female"
          ],
          [
           "male"
          ],
          [
           "male"
          ],
          [
           "female"
          ],
          [
           "male"
          ],
          [
           "male"
          ],
          [
           "male"
          ],
          [
           "female"
          ],
          [
           "male"
          ],
          [
           "male"
          ],
          [
           "male"
          ],
          [
           "female"
          ],
          [
           "female"
          ],
          [
           "female"
          ],
          [
           "male"
          ],
          [
           "male"
          ],
          [
           "male"
          ],
          [
           "male"
          ],
          [
           "male"
          ],
          [
           "female"
          ],
          [
           "female"
          ],
          [
           "female"
          ],
          [
           "female"
          ],
          [
           "female"
          ],
          [
           "male"
          ],
          [
           "male"
          ],
          [
           "male"
          ],
          [
           "female"
          ],
          [
           "female"
          ],
          [
           "male"
          ],
          [
           "male"
          ],
          [
           "female"
          ],
          [
           "male"
          ],
          [
           "female"
          ],
          [
           "male"
          ],
          [
           "female"
          ],
          [
           "male"
          ],
          [
           "female"
          ],
          [
           "female"
          ],
          [
           "female"
          ],
          [
           "male"
          ],
          [
           "female"
          ],
          [
           "female"
          ],
          [
           "female"
          ],
          [
           "female"
          ],
          [
           "female"
          ],
          [
           "male"
          ],
          [
           "male"
          ],
          [
           "male"
          ],
          [
           "male"
          ],
          [
           "male"
          ],
          [
           "male"
          ],
          [
           "male"
          ],
          [
           "female"
          ],
          [
           "female"
          ],
          [
           "male"
          ],
          [
           "female"
          ],
          [
           "male"
          ],
          [
           "female"
          ],
          [
           "female"
          ],
          [
           "female"
          ],
          [
           "female"
          ],
          [
           "male"
          ],
          [
           "male"
          ],
          [
           "female"
          ],
          [
           "female"
          ],
          [
           "male"
          ],
          [
           "male"
          ],
          [
           "female"
          ],
          [
           "female"
          ],
          [
           "male"
          ],
          [
           "female"
          ],
          [
           "male"
          ],
          [
           "male"
          ],
          [
           "male"
          ],
          [
           "female"
          ],
          [
           "male"
          ],
          [
           "female"
          ],
          [
           "female"
          ],
          [
           "female"
          ],
          [
           "male"
          ],
          [
           "male"
          ],
          [
           "female"
          ],
          [
           "male"
          ],
          [
           "female"
          ],
          [
           "female"
          ],
          [
           "female"
          ],
          [
           "male"
          ],
          [
           "male"
          ],
          [
           "male"
          ],
          [
           "male"
          ],
          [
           "female"
          ],
          [
           "female"
          ],
          [
           "male"
          ],
          [
           "male"
          ],
          [
           "male"
          ],
          [
           "female"
          ],
          [
           "male"
          ],
          [
           "male"
          ],
          [
           "female"
          ],
          [
           "female"
          ],
          [
           "female"
          ],
          [
           "female"
          ],
          [
           "male"
          ],
          [
           "male"
          ],
          [
           "male"
          ],
          [
           "male"
          ],
          [
           "male"
          ],
          [
           "male"
          ],
          [
           "female"
          ],
          [
           "male"
          ],
          [
           "male"
          ],
          [
           "male"
          ],
          [
           "male"
          ],
          [
           "female"
          ],
          [
           "male"
          ],
          [
           "female"
          ],
          [
           "female"
          ],
          [
           "male"
          ],
          [
           "female"
          ],
          [
           "female"
          ],
          [
           "male"
          ],
          [
           "male"
          ],
          [
           "male"
          ],
          [
           "male"
          ],
          [
           "female"
          ],
          [
           "female"
          ],
          [
           "female"
          ],
          [
           "male"
          ],
          [
           "male"
          ],
          [
           "female"
          ],
          [
           "female"
          ],
          [
           "male"
          ],
          [
           "male"
          ],
          [
           "male"
          ],
          [
           "female"
          ],
          [
           "male"
          ],
          [
           "female"
          ],
          [
           "female"
          ],
          [
           "male"
          ],
          [
           "female"
          ],
          [
           "male"
          ],
          [
           "female"
          ],
          [
           "female"
          ],
          [
           "male"
          ],
          [
           "male"
          ],
          [
           "female"
          ],
          [
           "male"
          ],
          [
           "female"
          ],
          [
           "female"
          ],
          [
           "female"
          ],
          [
           "male"
          ],
          [
           "male"
          ],
          [
           "female"
          ],
          [
           "female"
          ],
          [
           "male"
          ],
          [
           "male"
          ],
          [
           "male"
          ],
          [
           "female"
          ],
          [
           "male"
          ],
          [
           "male"
          ],
          [
           "female"
          ],
          [
           "female"
          ],
          [
           "female"
          ],
          [
           "female"
          ],
          [
           "female"
          ],
          [
           "female"
          ],
          [
           "female"
          ],
          [
           "female"
          ],
          [
           "female"
          ],
          [
           "male"
          ],
          [
           "male"
          ],
          [
           "female"
          ],
          [
           "female"
          ],
          [
           "female"
          ],
          [
           "male"
          ],
          [
           "female"
          ],
          [
           "male"
          ],
          [
           "female"
          ],
          [
           "female"
          ],
          [
           "male"
          ],
          [
           "male"
          ],
          [
           "female"
          ],
          [
           "female"
          ],
          [
           "female"
          ],
          [
           "female"
          ],
          [
           "female"
          ],
          [
           "female"
          ],
          [
           "female"
          ],
          [
           "male"
          ],
          [
           "female"
          ],
          [
           "female"
          ],
          [
           "female"
          ],
          [
           "female"
          ],
          [
           "female"
          ],
          [
           "female"
          ],
          [
           "female"
          ],
          [
           "female"
          ],
          [
           "male"
          ],
          [
           "male"
          ],
          [
           "female"
          ],
          [
           "male"
          ],
          [
           "male"
          ],
          [
           "male"
          ],
          [
           "male"
          ],
          [
           "male"
          ],
          [
           "female"
          ],
          [
           "male"
          ],
          [
           "male"
          ],
          [
           "male"
          ],
          [
           "male"
          ],
          [
           "female"
          ],
          [
           "female"
          ],
          [
           "male"
          ],
          [
           "male"
          ],
          [
           "male"
          ],
          [
           "female"
          ],
          [
           "female"
          ],
          [
           "male"
          ],
          [
           "male"
          ],
          [
           "male"
          ],
          [
           "female"
          ],
          [
           "male"
          ],
          [
           "male"
          ],
          [
           "male"
          ],
          [
           "male"
          ],
          [
           "female"
          ],
          [
           "male"
          ],
          [
           "female"
          ],
          [
           "male"
          ],
          [
           "female"
          ],
          [
           "female"
          ],
          [
           "male"
          ],
          [
           "female"
          ],
          [
           "female"
          ],
          [
           "female"
          ],
          [
           "male"
          ],
          [
           "male"
          ],
          [
           "female"
          ],
          [
           "male"
          ],
          [
           "female"
          ],
          [
           "male"
          ],
          [
           "female"
          ],
          [
           "female"
          ],
          [
           "female"
          ],
          [
           "female"
          ],
          [
           "female"
          ],
          [
           "male"
          ],
          [
           "female"
          ],
          [
           "female"
          ],
          [
           "male"
          ],
          [
           "female"
          ],
          [
           "female"
          ],
          [
           "female"
          ],
          [
           "female"
          ],
          [
           "female"
          ],
          [
           "male"
          ],
          [
           "male"
          ],
          [
           "female"
          ],
          [
           "male"
          ],
          [
           "male"
          ],
          [
           "male"
          ],
          [
           "female"
          ],
          [
           "female"
          ],
          [
           "female"
          ],
          [
           "female"
          ],
          [
           "male"
          ],
          [
           "female"
          ],
          [
           "female"
          ],
          [
           "female"
          ],
          [
           "male"
          ],
          [
           "female"
          ],
          [
           "male"
          ],
          [
           "male"
          ],
          [
           "male"
          ],
          [
           "male"
          ],
          [
           "male"
          ],
          [
           "female"
          ],
          [
           "male"
          ],
          [
           "female"
          ],
          [
           "female"
          ],
          [
           "female"
          ],
          [
           "male"
          ],
          [
           "male"
          ],
          [
           "female"
          ],
          [
           "male"
          ],
          [
           "male"
          ],
          [
           "female"
          ],
          [
           "male"
          ],
          [
           "male"
          ],
          [
           "female"
          ],
          [
           "male"
          ],
          [
           "male"
          ],
          [
           "male"
          ],
          [
           "male"
          ],
          [
           "female"
          ],
          [
           "male"
          ],
          [
           "female"
          ],
          [
           "male"
          ],
          [
           "female"
          ],
          [
           "female"
          ],
          [
           "female"
          ],
          [
           "male"
          ],
          [
           "female"
          ],
          [
           "female"
          ],
          [
           "female"
          ]
         ],
         "hovertemplate": "smoker=no<br>bmi=%{x}<br>charges=%{y}<br>sex=%{customdata[0]}<extra></extra>",
         "legendgroup": "no",
         "marker": {
          "color": "#EF553B",
          "opacity": 0.8,
          "size": 5,
          "symbol": "circle"
         },
         "mode": "markers",
         "name": "no",
         "showlegend": true,
         "type": "scattergl",
         "x": [
          25.857394655216343,
          23.014839993647488,
          33.77,
          33,
          22.705,
          28.88,
          25.74,
          33.44,
          27.74,
          29.83,
          25.84,
          26.22,
          34.4,
          39.82,
          24.6,
          30.78,
          23.845,
          40.3,
          36.005,
          32.4,
          34.1,
          28.025,
          27.72,
          23.085,
          32.775,
          17.385,
          26.315,
          28.6,
          28.31,
          20.425,
          32.965,
          20.8,
          26.6,
          36.63,
          21.78,
          30.8,
          37.05,
          37.3,
          38.665,
          34.77,
          24.53,
          35.625,
          33.63,
          28.69,
          31.825,
          37.335,
          27.36,
          33.66,
          24.7,
          25.935,
          28.9,
          39.1,
          26.315,
          36.19,
          28.5,
          28.1,
          32.01,
          27.4,
          34.01,
          29.59,
          35.53,
          39.805,
          32.965,
          26.885,
          38.285,
          41.23,
          27.2,
          27.74,
          26.98,
          39.49,
          24.795,
          34.77,
          37.62,
          30.8,
          38.28,
          31.6,
          25.46,
          30.115,
          27.5,
          28.4,
          30.875,
          27.94,
          33.63,
          29.7,
          30.8,
          35.72,
          32.205,
          28.595,
          49.06,
          27.17,
          23.37,
          37.1,
          23.75,
          28.975,
          33.915,
          28.785,
          37.4,
          34.7,
          26.505,
          22.04,
          35.9,
          25.555,
          28.785,
          28.05,
          34.1,
          25.175,
          31.9,
          36,
          22.42,
          32.49,
          29.735,
          38.83,
          37.73,
          37.43,
          28.4,
          24.13,
          29.7,
          37.145,
          25.46,
          39.52,
          27.83,
          39.6,
          29.8,
          29.64,
          28.215,
          37,
          33.155,
          31.825,
          18.905,
          41.47,
          30.3,
          15.96,
          34.8,
          33.345,
          27.835,
          29.2,
          28.9,
          33.155,
          28.595,
          38.28,
          19.95,
          26.41,
          30.69,
          29.92,
          30.9,
          32.2,
          32.11,
          31.57,
          26.2,
          25.74,
          26.6,
          34.43,
          32.8,
          28.6,
          18.05,
          39.33,
          32.11,
          32.23,
          24.035,
          22.3,
          28.88,
          26.4,
          31.8,
          41.23,
          33,
          30.875,
          28.5,
          26.73,
          30.9,
          37.1,
          26.6,
          23.1,
          29.92,
          23.21,
          33.7,
          33.25,
          30.8,
          33.88,
          38.06,
          41.91,
          31.635,
          25.46,
          36.195,
          27.83,
          17.8,
          27.5,
          24.51,
          26.73,
          38.39,
          38.06,
          22.135,
          26.8,
          35.3,
          30.02,
          38.06,
          35.86,
          20.9,
          28.975,
          30.3,
          25.365,
          40.15,
          24.415,
          25.2,
          38.06,
          32.395,
          30.2,
          25.84,
          29.37,
          37.05,
          27.455,
          27.55,
          26.6,
          20.615,
          24.3,
          31.79,
          21.56,
          27.645,
          32.395,
          31.2,
          26.62,
          48.07,
          26.22,
          26.4,
          33.4,
          29.64,
          28.82,
          26.8,
          22.99,
          28.88,
          27.55,
          37.51,
          33,
          38,
          33.345,
          27.5,
          33.33,
          34.865,
          33.06,
          26.6,
          24.7,
          35.86,
          33.25,
          32.205,
          32.775,
          27.645,
          37.335,
          25.27,
          29.64,
          40.945,
          27.2,
          34.105,
          23.21,
          36.7,
          31.16,
          28.785,
          35.72,
          34.5,
          25.74,
          27.55,
          27.72,
          27.6,
          30.02,
          27.55,
          36.765,
          41.47,
          29.26,
          35.75,
          33.345,
          29.92,
          27.835,
          23.18,
          25.6,
          27.7,
          35.245,
          38.28,
          27.6,
          43.89,
          29.83,
          41.91,
          20.79,
          32.3,
          30.5,
          26.4,
          21.89,
          30.78,
          32.3,
          24.985,
          32.015,
          30.4,
          21.09,
          22.23,
          33.155,
          33.33,
          30.115,
          31.46,
          33,
          43.34,
          22.135,
          34.4,
          39.05,
          25.365,
          22.61,
          30.21,
          35.625,
          37.43,
          31.445,
          31.35,
          32.3,
          19.855,
          34.4,
          31.02,
          25.6,
          38.17,
          20.6,
          47.52,
          32.965,
          32.3,
          20.4,
          38.38,
          24.31,
          23.6,
          21.12,
          30.03,
          17.48,
          23.9,
          35.15,
          35.64,
          34.1,
          39.16,
          30.59,
          30.2,
          24.31,
          27.265,
          29.165,
          16.815,
          30.4,
          33.1,
          20.235,
          26.9,
          30.5,
          28.595,
          33.11,
          31.73,
          28.9,
          46.75,
          29.45,
          32.68,
          43.01,
          36.52,
          33.1,
          29.64,
          25.65,
          29.6,
          38.6,
          29.6,
          24.13,
          23.4,
          29.735,
          46.53,
          37.4,
          30.14,
          30.495,
          39.6,
          33,
          36.63,
          38.095,
          25.935,
          25.175,
          28.7,
          33.82,
          24.32,
          24.09,
          32.67,
          30.115,
          29.8,
          33.345,
          35.625,
          36.85,
          32.56,
          41.325,
          37.51,
          31.35,
          39.5,
          34.3,
          31.065,
          21.47,
          28.7,
          31.16,
          32.9,
          25.08,
          25.08,
          43.4,
          27.93,
          23.6,
          28.7,
          23.98,
          39.2,
          26.03,
          28.93,
          30.875,
          31.35,
          23.75,
          25.27,
          28.7,
          32.11,
          33.66,
          22.42,
          30.4,
          35.7,
          35.31,
          30.495,
          31,
          30.875,
          27.36,
          44.22,
          33.915,
          37.73,
          33.88,
          30.59,
          25.8,
          39.425,
          25.46,
          31.73,
          29.7,
          36.19,
          40.48,
          28.025,
          38.9,
          30.2,
          28.05,
          31.35,
          38,
          31.79,
          36.3,
          30.21,
          35.435,
          46.7,
          28.595,
          30.8,
          28.93,
          21.4,
          31.73,
          41.325,
          23.8,
          33.44,
          34.21,
          35.53,
          19.95,
          32.68,
          30.5,
          44.77,
          32.12,
          30.495,
          40.565,
          30.59,
          31.9,
          29.1,
          37.29,
          43.12,
          36.86,
          34.295,
          27.17,
          26.84,
          30.2,
          23.465,
          25.46,
          30.59,
          45.43,
          23.65,
          20.7,
          28.27,
          20.235,
          35.91,
          30.69,
          29,
          19.57,
          31.13,
          40.26,
          33.725,
          29.48,
          33.25,
          32.6,
          37.525,
          39.16,
          31.635,
          25.3,
          39.05,
          34.1,
          25.175,
          26.98,
          29.37,
          34.8,
          33.155,
          19,
          33,
          28.595,
          37.1,
          31.4,
          21.3,
          28.785,
          26.03,
          28.88,
          42.46,
          38,
          36.1,
          29.3,
          35.53,
          22.705,
          39.7,
          38.19,
          24.51,
          38.095,
          33.66,
          42.4,
          33.915,
          34.96,
          35.31,
          30.78,
          26.22,
          23.37,
          28.5,
          32.965,
          42.68,
          39.6,
          31.13,
          36.3,
          35.2,
          42.4,
          33.155,
          35.91,
          28.785,
          46.53,
          23.98,
          31.54,
          33.66,
          28.7,
          29.81,
          31.57,
          31.16,
          29.7,
          31.02,
          21.375,
          40.81,
          36.1,
          23.18,
          17.4,
          20.3,
          24.32,
          18.5,
          26.41,
          26.125,
          41.69,
          24.1,
          27.36,
          36.2,
          32.395,
          23.655,
          34.8,
          40.185,
          32.3,
          33.725,
          39.27,
          34.87,
          44.745,
          41.47,
          26.41,
          29.545,
          32.9,
          28.69,
          30.495,
          27.74,
          35.2,
          23.54,
          30.685,
          40.47,
          22.6,
          28.9,
          22.61,
          24.32,
          36.67,
          33.44,
          40.66,
          36.6,
          37.4,
          35.4,
          27.075,
          28.405,
          40.28,
          36.08,
          21.4,
          30.1,
          27.265,
          32.1,
          34.77,
          23.7,
          24.035,
          26.62,
          26.41,
          30.115,
          27,
          21.755,
          36,
          30.875,
          28.975,
          37.905,
          22.77,
          33.63,
          27.645,
          22.8,
          37.43,
          34.58,
          35.2,
          26.03,
          25.175,
          31.825,
          32.3,
          29,
          39.7,
          19.475,
          36.1,
          26.7,
          36.48,
          34.2,
          33.33,
          32.3,
          39.805,
          34.32,
          28.88,
          41.14,
          35.97,
          29.26,
          27.7,
          36.955,
          36.86,
          22.515,
          29.92,
          41.8,
          27.6,
          23.18,
          31.92,
          44.22,
          22.895,
          33.1,
          26.18,
          35.97,
          22.3,
          26.51,
          35.815,
          41.42,
          36.575,
          30.14,
          25.84,
          30.8,
          42.94,
          21.01,
          22.515,
          34.43,
          31.46,
          24.225,
          37.1,
          33.7,
          17.67,
          31.13,
          29.81,
          24.32,
          31.825,
          21.85,
          33.1,
          25.84,
          23.845,
          34.39,
          33.82,
          35.97,
          31.5,
          28.31,
          23.465,
          31.35,
          31.1,
          24.7,
          30.495,
          34.2,
          50.38,
          24.1,
          32.775,
          32.3,
          23.75,
          29.6,
          32.23,
          28.1,
          28,
          33.535,
          19.855,
          25.4,
          29.9,
          37.29,
          43.7,
          23.655,
          24.3,
          36.2,
          29.48,
          24.86,
          30.1,
          21.85,
          28.12,
          27.1,
          33.44,
          28.8,
          29.5,
          34.8,
          27.36,
          22.135,
          26.695,
          30.02,
          39.5,
          33.63,
          29.04,
          24.035,
          32.11,
          44,
          25.555,
          40.26,
          22.515,
          22.515,
          27.265,
          36.85,
          35.1,
          29.355,
          32.585,
          32.34,
          39.8,
          28.31,
          26.695,
          27.5,
          24.605,
          33.99,
          28.2,
          34.21,
          25,
          33.2,
          31,
          35.815,
          23.2,
          32.11,
          23.4,
          20.1,
          39.16,
          34.21,
          46.53,
          32.5,
          25.8,
          35.3,
          37.18,
          27.5,
          29.735,
          24.225,
          26.18,
          29.48,
          23.21,
          46.09,
          40.185,
          22.61,
          39.93,
          35.8,
          35.8,
          31.255,
          18.335,
          28.405,
          39.49,
          26.79,
          36.67,
          39.615,
          25.9,
          35.2,
          24.795,
          36.765,
          27.1,
          25.365,
          25.745,
          34.32,
          28.16,
          23.56,
          20.235,
          40.5,
          35.42,
          40.15,
          29.15,
          39.995,
          29.92,
          25.46,
          21.375,
          30.59,
          30.115,
          25.8,
          30.115,
          27.645,
          34.675,
          19.8,
          27.835,
          31.6,
          28.27,
          23.275,
          34.1,
          36.85,
          36.29,
          26.885,
          25.8,
          29.6,
          19.19,
          31.73,
          29.26,
          24.985,
          27.74,
          22.8,
          33.33,
          32.3,
          27.6,
          25.46,
          24.605,
          34.2,
          35.815,
          32.68,
          37,
          23.32,
          45.32,
          34.6,
          18.715,
          31.6,
          17.29,
          27.93,
          38.38,
          23,
          28.88,
          27.265,
          23.085,
          25.8,
          35.245,
          25.08,
          22.515,
          36.955,
          26.41,
          29.83,
          21.47,
          27.645,
          28.9,
          31.79,
          39.49,
          33.82,
          32.01,
          27.94,
          28.595,
          25.6,
          25.3,
          37.29,
          42.655,
          21.66,
          31.9,
          31.445,
          31.255,
          28.88,
          18.335,
          29.59,
          32,
          26.03,
          33.66,
          21.78,
          27.835,
          19.95,
          31.5,
          30.495,
          28.975,
          31.54,
          47.74,
          22.1,
          29.83,
          32.7,
          33.7,
          31.35,
          33.77,
          30.875,
          33.99,
          28.6,
          38.94,
          36.08,
          29.8,
          31.24,
          29.925,
          26.22,
          30,
          20.35,
          32.3,
          26.315,
          24.51,
          32.67,
          29.64,
          19.95,
          38.17,
          32.395,
          25.08,
          29.9,
          35.86,
          32.8,
          18.6,
          23.87,
          45.9,
          40.28,
          18.335,
          33.82,
          28.12,
          25,
          22.23,
          30.25,
          37.07,
          32.6,
          24.86,
          32.34,
          32.3,
          32.775,
          31.92,
          21.5,
          34.1,
          30.305,
          36.48,
          35.815,
          27.93,
          22.135,
          23.18,
          30.59,
          41.1,
          34.58,
          42.13,
          38.83,
          28.215,
          28.31,
          26.125,
          40.37,
          24.6,
          35.2,
          34.105,
          41.91,
          29.26,
          32.11,
          27.1,
          27.4,
          34.865,
          41.325,
          29.925,
          30.3,
          27.36,
          23.56,
          32.68,
          28,
          32.775,
          21.755,
          32.395,
          36.575,
          21.755,
          27.93,
          33.55,
          29.355,
          25.8,
          24.32,
          40.375,
          32.11,
          32.3,
          17.86,
          34.8,
          37.1,
          30.875,
          34.1,
          21.47,
          33.3,
          31.255,
          39.14,
          25.08,
          37.29,
          30.21,
          21.945,
          24.97,
          25.3,
          23.94,
          39.82,
          16.815,
          37.18,
          34.43,
          30.305,
          24.605,
          23.3,
          27.83,
          31.065,
          21.66,
          28.215,
          22.705,
          42.13,
          21.28,
          33.11,
          33.33,
          24.3,
          25.7,
          29.4,
          39.82,
          19.8,
          29.3,
          27.72,
          37.9,
          36.385,
          27.645,
          37.715,
          23.18,
          20.52,
          37.1,
          28.05,
          29.9,
          33.345,
          30.5,
          33.3,
          27.5,
          33.915,
          34.485,
          25.52,
          27.61,
          23.7,
          30.4,
          29.735,
          26.79,
          33.33,
          30.03,
          24.32,
          17.29,
          25.9,
          34.32,
          19.95,
          23.21,
          25.745,
          25.175,
          22,
          26.125,
          26.51,
          27.455,
          25.745,
          20.8,
          27.72,
          32.2,
          26.315,
          26.695,
          42.9,
          28.31,
          20.6,
          53.13,
          39.71,
          26.315,
          31.065,
          38.83,
          25.935,
          33.535,
          32.87,
          30.03,
          24.225,
          38.6,
          25.74,
          33.4,
          44.7,
          30.97,
          31.92,
          36.85,
          25.8
         ],
         "xaxis": "x",
         "y": [
          26650.70264664269,
          21459.03799039332,
          1725.5523,
          4449.462,
          21984.47061,
          3866.8552,
          3756.6216,
          8240.5896,
          7281.5056,
          6406.4107,
          28923.13692,
          2721.3208,
          1826.843,
          11090.7178,
          1837.237,
          10797.3362,
          2395.17155,
          10602.385,
          13228.84695,
          4149.736,
          1137.011,
          6203.90175,
          14001.1338,
          14451.83515,
          12268.63225,
          2775.19215,
          2198.18985,
          4687.797,
          13770.0979,
          1625.43375,
          15612.19335,
          2302.3,
          3046.062,
          4949.7587,
          6272.4772,
          6313.759,
          6079.6715,
          20630.28351,
          3393.35635,
          3556.9223,
          12629.8967,
          2211.13075,
          3579.8287,
          8059.6791,
          13607.36875,
          5989.52365,
          8606.2174,
          4504.6624,
          30166.61817,
          4133.64165,
          1743.214,
          14235.072,
          6389.37785,
          5920.1041,
          6799.458,
          11741.726,
          11946.6259,
          7726.854,
          11356.6609,
          3947.4131,
          1532.4697,
          2755.02095,
          6571.02435,
          4441.21315,
          7935.29115,
          11033.6617,
          11073.176,
          8026.6666,
          11082.5772,
          2026.9741,
          10942.13205,
          5729.0053,
          3766.8838,
          12105.32,
          10226.2842,
          6186.127,
          3645.0894,
          21344.8467,
          5003.853,
          2331.519,
          3877.30425,
          2867.1196,
          10825.2537,
          11881.358,
          4646.759,
          2404.7338,
          11488.31695,
          30259.99556,
          11381.3254,
          8601.3293,
          6686.4313,
          7740.337,
          1705.6245,
          2257.47525,
          10115.00885,
          3385.39915,
          9634.538,
          6082.405,
          12815.44495,
          13616.3586,
          11163.568,
          1632.56445,
          2457.21115,
          2155.6815,
          1261.442,
          2045.68525,
          27322.73386,
          2166.732,
          27375.90478,
          3490.5491,
          18157.876,
          5138.2567,
          9877.6077,
          10959.6947,
          1842.519,
          5125.2157,
          7789.635,
          6334.34355,
          7077.1894,
          6948.7008,
          19749.38338,
          10450.552,
          5152.134,
          5028.1466,
          10407.08585,
          4830.63,
          6128.79745,
          2719.27975,
          4827.90495,
          13405.3903,
          8116.68,
          1694.7964,
          5246.047,
          2855.43755,
          6455.86265,
          10436.096,
          8823.279,
          8538.28845,
          11735.87905,
          1631.8212,
          4005.4225,
          7419.4779,
          7731.4271,
          3981.9768,
          5325.651,
          6775.961,
          4922.9159,
          12557.6053,
          4883.866,
          2137.6536,
          12044.342,
          1137.4697,
          5649.715,
          8516.829,
          9644.2525,
          14901.5167,
          2130.6759,
          8871.1517,
          13012.20865,
          7147.105,
          4337.7352,
          11743.299,
          13880.949,
          6610.1097,
          1980.07,
          8162.71625,
          3537.703,
          5002.7827,
          8520.026,
          7371.772,
          10355.641,
          2483.736,
          3392.9768,
          25081.76784,
          5012.471,
          10564.8845,
          5253.524,
          11987.1682,
          2689.4954,
          24227.33724,
          7358.17565,
          9225.2564,
          7443.64305,
          14001.2867,
          1727.785,
          12333.828,
          6710.1919,
          1615.7667,
          4463.2051,
          7152.6714,
          5354.07465,
          35160.13457,
          7196.867,
          24476.47851,
          12648.7034,
          1986.9334,
          1832.094,
          4040.55825,
          4260.744,
          13047.33235,
          5400.9805,
          11520.09985,
          11837.16,
          20462.99766,
          14590.63205,
          7441.053,
          9282.4806,
          1719.4363,
          7265.7025,
          9617.66245,
          2523.1695,
          9715.841,
          2803.69785,
          2150.469,
          12928.7911,
          9855.1314,
          4237.12655,
          11879.10405,
          9625.92,
          7742.1098,
          9432.9253,
          14256.1928,
          25992.82104,
          3172.018,
          20277.80751,
          2156.7518,
          3906.127,
          1704.5681,
          9249.4952,
          6746.7425,
          12265.5069,
          4349.462,
          12646.207,
          19442.3535,
          20177.67113,
          4151.0287,
          11944.59435,
          7749.1564,
          8444.474,
          1737.376,
          8124.4084,
          9722.7695,
          8835.26495,
          10435.06525,
          7421.19455,
          4667.60765,
          4894.7533,
          24671.66334,
          11566.30055,
          2866.091,
          6600.20595,
          3561.8889,
          9144.565,
          13429.0354,
          11658.37915,
          19144.57652,
          13822.803,
          12142.5786,
          13937.6665,
          8232.6388,
          18955.22017,
          13352.0998,
          13217.0945,
          13981.85035,
          10977.2063,
          6184.2994,
          4889.9995,
          8334.45755,
          5478.0368,
          1635.73365,
          11830.6072,
          8932.084,
          3554.203,
          12404.8791,
          14133.03775,
          24603.04837,
          8944.1151,
          9620.3307,
          1837.2819,
          1607.5101,
          10043.249,
          4751.07,
          2597.779,
          3180.5101,
          9778.3472,
          13430.265,
          8017.06115,
          8116.26885,
          3481.868,
          13415.0381,
          12029.2867,
          7639.41745,
          1391.5287,
          16455.70785,
          27000.98473,
          20781.48892,
          5846.9176,
          8302.53565,
          1261.859,
          11856.4115,
          30284.64294,
          3176.8159,
          4618.0799,
          10736.87075,
          2138.0707,
          8964.06055,
          9290.1395,
          9411.005,
          7526.70645,
          8522.003,
          16586.49771,
          14988.432,
          1631.6683,
          9264.797,
          8083.9198,
          14692.66935,
          10269.46,
          3260.199,
          11396.9002,
          4185.0979,
          8539.671,
          6652.5288,
          4074.4537,
          1621.3402,
          5080.096,
          2134.9015,
          7345.7266,
          9140.951,
          14418.2804,
          2727.3951,
          8968.33,
          9788.8659,
          6555.07035,
          7323.734819,
          3167.45585,
          18804.7524,
          23082.95533,
          4906.40965,
          5969.723,
          12638.195,
          4243.59005,
          13919.8229,
          2254.7967,
          5926.846,
          12592.5345,
          2897.3235,
          4738.2682,
          1149.3959,
          28287.89766,
          7345.084,
          12730.9996,
          11454.0215,
          5910.944,
          4762.329,
          7512.267,
          4032.2407,
          1969.614,
          1769.53165,
          4686.3887,
          21797.0004,
          11881.9696,
          11840.77505,
          10601.412,
          7682.67,
          10381.4787,
          15230.32405,
          11165.41765,
          1632.03625,
          13224.693,
          12643.3778,
          23288.9284,
          2201.0971,
          2497.0383,
          2203.47185,
          1744.465,
          20878.78443,
          2534.39375,
          1534.3045,
          1824.2854,
          15555.18875,
          9304.7019,
          1622.1885,
          9880.068,
          9563.029,
          4347.02335,
          12475.3513,
          1253.936,
          10461.9794,
          1748.774,
          24513.09126,
          2196.4732,
          12574.049,
          1967.0227,
          4931.647,
          8027.968,
          8211.1002,
          13470.86,
          6837.3687,
          5974.3847,
          6796.86325,
          2643.2685,
          3077.0955,
          3044.2133,
          11455.28,
          11763.0009,
          2498.4144,
          9361.3268,
          1256.299,
          11362.755,
          27724.28875,
          8413.46305,
          5240.765,
          3857.75925,
          25656.57526,
          3994.1778,
          9866.30485,
          5397.6167,
          11482.63485,
          24059.68019,
          9861.025,
          8342.90875,
          1708.0014,
          14043.4767,
          12925.886,
          19214.70553,
          13831.1152,
          6067.12675,
          5972.378,
          8825.086,
          8233.0975,
          27346.04207,
          6196.448,
          3056.3881,
          13887.204,
          10231.4999,
          3268.84665,
          11538.421,
          3213.62205,
          13390.559,
          3972.9247,
          12957.118,
          11187.6567,
          17878.90068,
          3847.674,
          8334.5896,
          3935.1799,
          1646.4297,
          9193.8385,
          10923.9332,
          2494.022,
          9058.7303,
          2801.2588,
          2128.43105,
          6373.55735,
          7256.7231,
          11552.904,
          3761.292,
          2219.4451,
          4753.6368,
          31620.00106,
          13224.05705,
          12222.8983,
          1664.9996,
          9724.53,
          3206.49135,
          12913.9924,
          1639.5631,
          6356.2707,
          17626.23951,
          1242.816,
          4779.6023,
          3861.20965,
          13635.6379,
          5976.8311,
          11842.442,
          8428.0693,
          2566.4707,
          5709.1644,
          8823.98575,
          7640.3092,
          5594.8455,
          7441.501,
          33471.97189,
          1633.0444,
          9174.13565,
          11070.535,
          16085.1275,
          9283.562,
          3558.62025,
          4435.0942,
          8547.6913,
          6571.544,
          2207.69745,
          6753.038,
          1880.07,
          11658.11505,
          10713.644,
          3659.346,
          9182.17,
          12129.61415,
          3736.4647,
          6748.5912,
          11326.71487,
          11365.952,
          10085.846,
          1977.815,
          3366.6697,
          7173.35995,
          9391.346,
          14410.9321,
          2709.1119,
          24915.04626,
          12949.1554,
          6666.243,
          13143.86485,
          4466.6214,
          18806.14547,
          10141.1362,
          6123.5688,
          8252.2843,
          1712.227,
          12430.95335,
          9800.8882,
          10579.711,
          8280.6227,
          8527.532,
          12244.531,
          3410.324,
          4058.71245,
          26392.26029,
          14394.39815,
          6435.6237,
          22192.43711,
          5148.5526,
          1136.3994,
          8703.456,
          6500.2359,
          4837.5823,
          3943.5954,
          4399.731,
          6185.3208,
          7222.78625,
          12485.8009,
          12363.547,
          10156.7832,
          2585.269,
          1242.26,
          9863.4718,
          4766.022,
          11244.3769,
          7729.64575,
          5438.7491,
          26236.57997,
          2104.1134,
          8068.185,
          2362.22905,
          2352.96845,
          3577.999,
          3201.24515,
          29186.48236,
          10976.24575,
          3500.6123,
          2020.5523,
          9541.69555,
          9504.3103,
          5385.3379,
          8930.93455,
          5375.038,
          10264.4421,
          6113.23105,
          5469.0066,
          1727.54,
          10107.2206,
          8310.83915,
          1984.4533,
          2457.502,
          12146.971,
          9566.9909,
          13112.6048,
          10848.1343,
          12231.6136,
          9875.6804,
          11264.541,
          12979.358,
          1263.249,
          10106.13425,
          6664.68595,
          2217.6012,
          6781.3542,
          10065.413,
          4234.927,
          9447.25035,
          14007.222,
          9583.8933,
          3484.331,
          8604.48365,
          3757.8448,
          8827.2099,
          9910.35985,
          11737.84884,
          1627.28245,
          8556.907,
          3062.50825,
          1906.35825,
          14210.53595,
          11833.7823,
          17128.42608,
          5031.26955,
          7985.815,
          5428.7277,
          3925.7582,
          2416.955,
          3070.8087,
          9095.06825,
          11842.62375,
          8062.764,
          7050.642,
          14319.031,
          6933.24225,
          27941.28758,
          11150.78,
          12797.20962,
          7261.741,
          10560.4917,
          6986.697,
          7448.40395,
          5934.3798,
          9869.8102,
          1146.7966,
          9386.1613,
          4350.5144,
          6414.178,
          12741.16745,
          1917.3184,
          5209.57885,
          13457.9608,
          5662.225,
          1252.407,
          2731.9122,
          7209.4918,
          4266.1658,
          4719.52405,
          11848.141,
          7046.7222,
          14313.8463,
          2103.08,
          1815.8759,
          7731.85785,
          28476.73499,
          2136.88225,
          1131.5066,
          3309.7926,
          9414.92,
          6360.9936,
          11013.7119,
          4428.88785,
          5584.3057,
          1877.9294,
          2842.76075,
          3597.596,
          7445.918,
          2680.9493,
          1621.8827,
          8219.2039,
          12523.6048,
          16069.08475,
          6117.4945,
          13393.756,
          5266.3656,
          4719.73655,
          11743.9341,
          5377.4578,
          7160.3303,
          4402.233,
          11657.7189,
          6402.29135,
          12622.1795,
          1526.312,
          12323.936,
          10072.05505,
          9872.701,
          2438.0552,
          2974.126,
          10601.63225,
          14119.62,
          11729.6795,
          1875.344,
          18218.16139,
          10965.446,
          7151.092,
          12269.68865,
          5458.04645,
          8782.469,
          6600.361,
          1141.4451,
          11576.13,
          13129.60345,
          4391.652,
          8457.818,
          3392.3652,
          5966.8874,
          6849.026,
          8891.1395,
          2690.1138,
          26140.3603,
          6653.7886,
          6282.235,
          6311.952,
          3443.064,
          2789.0574,
          2585.85065,
          4877.98105,
          5272.1758,
          1682.597,
          11945.1327,
          7243.8136,
          10422.91665,
          13555.0049,
          13063.883,
          2221.56445,
          1634.5734,
          2117.33885,
          8688.85885,
          4661.28635,
          8125.7845,
          12644.589,
          4564.19145,
          4846.92015,
          7633.7206,
          15170.069,
          2639.0429,
          14382.70905,
          7626.993,
          5257.50795,
          2473.3341,
          13041.921,
          5245.2269,
          13451.122,
          13462.52,
          5488.262,
          4320.41085,
          6250.435,
          25333.33284,
          2913.569,
          12032.326,
          13470.8044,
          6289.7549,
          2927.0647,
          6238.298,
          10096.97,
          7348.142,
          4673.3922,
          12233.828,
          32108.66282,
          8965.79575,
          2304.0022,
          9487.6442,
          1121.8739,
          9549.5651,
          2217.46915,
          1628.4709,
          12982.8747,
          11674.13,
          7160.094,
          6358.77645,
          11534.87265,
          4527.18295,
          3875.7341,
          12609.88702,
          28468.91901,
          2730.10785,
          3353.284,
          14474.675,
          9500.57305,
          26467.09737,
          4746.344,
          7518.02535,
          3279.86855,
          8596.8278,
          10702.6424,
          4992.3764,
          2527.81865,
          1759.338,
          2322.6218,
          7804.1605,
          2902.9065,
          9704.66805,
          4889.0368,
          25517.11363,
          4500.33925,
          16796.41194,
          4915.05985,
          7624.63,
          8410.04685,
          28340.18885,
          4518.82625,
          3378.91,
          7144.86265,
          10118.424,
          5484.4673,
          7986.47525,
          7418.522,
          13887.9685,
          6551.7501,
          5267.81815,
          1972.95,
          21232.18226,
          8627.5411,
          4433.3877,
          4438.2634,
          23241.47453,
          9957.7216,
          8269.044,
          36580.28216,
          8765.249,
          5383.536,
          12124.9924,
          2709.24395,
          3987.926,
          12495.29085,
          26018.95052,
          8798.593,
          1711.0268,
          8569.8618,
          2020.177,
          21595.38229,
          9850.432,
          6877.9801,
          4137.5227,
          12950.0712,
          12094.478,
          2250.8352,
          22493.65964,
          1704.70015,
          3161.454,
          11394.06555,
          7325.0482,
          3594.17085,
          8023.13545,
          14394.5579,
          9288.0267,
          3353.4703,
          10594.50155,
          8277.523,
          17929.30337,
          2480.9791,
          4462.7218,
          1981.5819,
          11554.2236,
          6548.19505,
          5708.867,
          7045.499,
          8978.1851,
          5757.41345,
          14349.8544,
          10928.849,
          13974.45555,
          1909.52745,
          12096.6512,
          13204.28565,
          4562.8421,
          8551.347,
          2102.2647,
          15161.5344,
          11884.04858,
          4454.40265,
          5855.9025,
          4076.497,
          15019.76005,
          10796.35025,
          11353.2276,
          9748.9106,
          10577.087,
          11286.5387,
          3591.48,
          11299.343,
          4561.1885,
          1674.6323,
          23045.56616,
          3227.1211,
          11253.421,
          3471.4096,
          11363.2832,
          20420.60465,
          10338.9316,
          8988.15875,
          10493.9458,
          2904.088,
          8605.3615,
          11512.405,
          5312.16985,
          2396.0959,
          10807.4863,
          9222.4026,
          5693.4305,
          8347.1643,
          18903.49141,
          14254.6082,
          10214.636,
          5836.5204,
          14358.36437,
          1728.897,
          8582.3023,
          3693.428,
          20709.02034,
          9991.03765,
          19673.33573,
          11085.5868,
          7623.518,
          3176.2877,
          3704.3545,
          9048.0273,
          7954.517,
          27117.99378,
          6338.0756,
          9630.397,
          11289.10925,
          2261.5688,
          10791.96,
          5979.731,
          2203.73595,
          12235.8392,
          5630.45785,
          11015.1747,
          7228.21565,
          14426.07385,
          2459.7201,
          3989.841,
          7727.2532,
          5124.1887,
          18963.17192,
          2200.83085,
          7153.5539,
          5227.98875,
          10982.5013,
          4529.477,
          4670.64,
          6112.35295,
          11093.6229,
          6457.8434,
          4433.9159,
          2154.361,
          6496.886,
          2899.48935,
          7650.77375,
          2850.68375,
          2632.992,
          9447.3824,
          8603.8234,
          13844.7972,
          13126.67745,
          5327.40025,
          13725.47184,
          13019.16105,
          8671.19125,
          4134.08245,
          18838.70366,
          5699.8375,
          6393.60345,
          4934.705,
          6198.7518,
          8733.22925,
          2055.3249,
          9964.06,
          5116.5004,
          36910.60803,
          12347.172,
          5373.36425,
          23563.01618,
          1702.4553,
          10806.839,
          3956.07145,
          12890.05765,
          5415.6612,
          4058.1161,
          7537.1639,
          4718.20355,
          6593.5083,
          8442.667,
          6858.4796,
          4795.6568,
          6640.54485,
          7162.0122,
          10594.2257,
          11938.25595,
          12479.70895,
          11345.519,
          8515.7587,
          2699.56835,
          14449.8544,
          12224.35085,
          6985.50695,
          3238.4357,
          4296.2712,
          3171.6149,
          1135.9407,
          5615.369,
          9101.798,
          6059.173,
          1633.9618,
          1241.565,
          15828.82173,
          4415.1588,
          6474.013,
          11436.73815,
          11305.93455,
          30063.58055,
          10197.7722,
          4544.2348,
          3277.161,
          6770.1925,
          7337.748,
          10370.91255,
          10704.47,
          1880.487,
          8615.3,
          3292.52985,
          3021.80915,
          14478.33015,
          4747.0529,
          10959.33,
          2741.948,
          4357.04365,
          4189.1131,
          8283.6807,
          1720.3537,
          8534.6718,
          3732.6251,
          5472.449,
          7147.4728,
          7133.9025,
          1515.3449,
          9301.89355,
          11931.12525,
          1964.78,
          1708.92575,
          4340.4409,
          5261.46945,
          2710.82855,
          3208.787,
          2464.6188,
          6875.961,
          6940.90985,
          4571.41305,
          4536.259,
          11272.33139,
          1731.677,
          1163.4627,
          19496.71917,
          7201.70085,
          5425.02335,
          12981.3457,
          4239.89265,
          13143.33665,
          7050.0213,
          9377.9047,
          22395.74424,
          10325.206,
          12629.1656,
          10795.93733,
          11411.685,
          10600.5483,
          2205.9808,
          1629.8335,
          2007.945
         ],
         "yaxis": "y"
        }
       ],
       "layout": {
        "legend": {
         "title": {
          "text": "smoker"
         },
         "tracegroupgap": 0
        },
        "template": {
         "data": {
          "bar": [
           {
            "error_x": {
             "color": "#2a3f5f"
            },
            "error_y": {
             "color": "#2a3f5f"
            },
            "marker": {
             "line": {
              "color": "#E5ECF6",
              "width": 0.5
             },
             "pattern": {
              "fillmode": "overlay",
              "size": 10,
              "solidity": 0.2
             }
            },
            "type": "bar"
           }
          ],
          "barpolar": [
           {
            "marker": {
             "line": {
              "color": "#E5ECF6",
              "width": 0.5
             },
             "pattern": {
              "fillmode": "overlay",
              "size": 10,
              "solidity": 0.2
             }
            },
            "type": "barpolar"
           }
          ],
          "carpet": [
           {
            "aaxis": {
             "endlinecolor": "#2a3f5f",
             "gridcolor": "white",
             "linecolor": "white",
             "minorgridcolor": "white",
             "startlinecolor": "#2a3f5f"
            },
            "baxis": {
             "endlinecolor": "#2a3f5f",
             "gridcolor": "white",
             "linecolor": "white",
             "minorgridcolor": "white",
             "startlinecolor": "#2a3f5f"
            },
            "type": "carpet"
           }
          ],
          "choropleth": [
           {
            "colorbar": {
             "outlinewidth": 0,
             "ticks": ""
            },
            "type": "choropleth"
           }
          ],
          "contour": [
           {
            "colorbar": {
             "outlinewidth": 0,
             "ticks": ""
            },
            "colorscale": [
             [
              0,
              "#0d0887"
             ],
             [
              0.1111111111111111,
              "#46039f"
             ],
             [
              0.2222222222222222,
              "#7201a8"
             ],
             [
              0.3333333333333333,
              "#9c179e"
             ],
             [
              0.4444444444444444,
              "#bd3786"
             ],
             [
              0.5555555555555556,
              "#d8576b"
             ],
             [
              0.6666666666666666,
              "#ed7953"
             ],
             [
              0.7777777777777778,
              "#fb9f3a"
             ],
             [
              0.8888888888888888,
              "#fdca26"
             ],
             [
              1,
              "#f0f921"
             ]
            ],
            "type": "contour"
           }
          ],
          "contourcarpet": [
           {
            "colorbar": {
             "outlinewidth": 0,
             "ticks": ""
            },
            "type": "contourcarpet"
           }
          ],
          "heatmap": [
           {
            "colorbar": {
             "outlinewidth": 0,
             "ticks": ""
            },
            "colorscale": [
             [
              0,
              "#0d0887"
             ],
             [
              0.1111111111111111,
              "#46039f"
             ],
             [
              0.2222222222222222,
              "#7201a8"
             ],
             [
              0.3333333333333333,
              "#9c179e"
             ],
             [
              0.4444444444444444,
              "#bd3786"
             ],
             [
              0.5555555555555556,
              "#d8576b"
             ],
             [
              0.6666666666666666,
              "#ed7953"
             ],
             [
              0.7777777777777778,
              "#fb9f3a"
             ],
             [
              0.8888888888888888,
              "#fdca26"
             ],
             [
              1,
              "#f0f921"
             ]
            ],
            "type": "heatmap"
           }
          ],
          "heatmapgl": [
           {
            "colorbar": {
             "outlinewidth": 0,
             "ticks": ""
            },
            "colorscale": [
             [
              0,
              "#0d0887"
             ],
             [
              0.1111111111111111,
              "#46039f"
             ],
             [
              0.2222222222222222,
              "#7201a8"
             ],
             [
              0.3333333333333333,
              "#9c179e"
             ],
             [
              0.4444444444444444,
              "#bd3786"
             ],
             [
              0.5555555555555556,
              "#d8576b"
             ],
             [
              0.6666666666666666,
              "#ed7953"
             ],
             [
              0.7777777777777778,
              "#fb9f3a"
             ],
             [
              0.8888888888888888,
              "#fdca26"
             ],
             [
              1,
              "#f0f921"
             ]
            ],
            "type": "heatmapgl"
           }
          ],
          "histogram": [
           {
            "marker": {
             "pattern": {
              "fillmode": "overlay",
              "size": 10,
              "solidity": 0.2
             }
            },
            "type": "histogram"
           }
          ],
          "histogram2d": [
           {
            "colorbar": {
             "outlinewidth": 0,
             "ticks": ""
            },
            "colorscale": [
             [
              0,
              "#0d0887"
             ],
             [
              0.1111111111111111,
              "#46039f"
             ],
             [
              0.2222222222222222,
              "#7201a8"
             ],
             [
              0.3333333333333333,
              "#9c179e"
             ],
             [
              0.4444444444444444,
              "#bd3786"
             ],
             [
              0.5555555555555556,
              "#d8576b"
             ],
             [
              0.6666666666666666,
              "#ed7953"
             ],
             [
              0.7777777777777778,
              "#fb9f3a"
             ],
             [
              0.8888888888888888,
              "#fdca26"
             ],
             [
              1,
              "#f0f921"
             ]
            ],
            "type": "histogram2d"
           }
          ],
          "histogram2dcontour": [
           {
            "colorbar": {
             "outlinewidth": 0,
             "ticks": ""
            },
            "colorscale": [
             [
              0,
              "#0d0887"
             ],
             [
              0.1111111111111111,
              "#46039f"
             ],
             [
              0.2222222222222222,
              "#7201a8"
             ],
             [
              0.3333333333333333,
              "#9c179e"
             ],
             [
              0.4444444444444444,
              "#bd3786"
             ],
             [
              0.5555555555555556,
              "#d8576b"
             ],
             [
              0.6666666666666666,
              "#ed7953"
             ],
             [
              0.7777777777777778,
              "#fb9f3a"
             ],
             [
              0.8888888888888888,
              "#fdca26"
             ],
             [
              1,
              "#f0f921"
             ]
            ],
            "type": "histogram2dcontour"
           }
          ],
          "mesh3d": [
           {
            "colorbar": {
             "outlinewidth": 0,
             "ticks": ""
            },
            "type": "mesh3d"
           }
          ],
          "parcoords": [
           {
            "line": {
             "colorbar": {
              "outlinewidth": 0,
              "ticks": ""
             }
            },
            "type": "parcoords"
           }
          ],
          "pie": [
           {
            "automargin": true,
            "type": "pie"
           }
          ],
          "scatter": [
           {
            "fillpattern": {
             "fillmode": "overlay",
             "size": 10,
             "solidity": 0.2
            },
            "type": "scatter"
           }
          ],
          "scatter3d": [
           {
            "line": {
             "colorbar": {
              "outlinewidth": 0,
              "ticks": ""
             }
            },
            "marker": {
             "colorbar": {
              "outlinewidth": 0,
              "ticks": ""
             }
            },
            "type": "scatter3d"
           }
          ],
          "scattercarpet": [
           {
            "marker": {
             "colorbar": {
              "outlinewidth": 0,
              "ticks": ""
             }
            },
            "type": "scattercarpet"
           }
          ],
          "scattergeo": [
           {
            "marker": {
             "colorbar": {
              "outlinewidth": 0,
              "ticks": ""
             }
            },
            "type": "scattergeo"
           }
          ],
          "scattergl": [
           {
            "marker": {
             "colorbar": {
              "outlinewidth": 0,
              "ticks": ""
             }
            },
            "type": "scattergl"
           }
          ],
          "scattermapbox": [
           {
            "marker": {
             "colorbar": {
              "outlinewidth": 0,
              "ticks": ""
             }
            },
            "type": "scattermapbox"
           }
          ],
          "scatterpolar": [
           {
            "marker": {
             "colorbar": {
              "outlinewidth": 0,
              "ticks": ""
             }
            },
            "type": "scatterpolar"
           }
          ],
          "scatterpolargl": [
           {
            "marker": {
             "colorbar": {
              "outlinewidth": 0,
              "ticks": ""
             }
            },
            "type": "scatterpolargl"
           }
          ],
          "scatterternary": [
           {
            "marker": {
             "colorbar": {
              "outlinewidth": 0,
              "ticks": ""
             }
            },
            "type": "scatterternary"
           }
          ],
          "surface": [
           {
            "colorbar": {
             "outlinewidth": 0,
             "ticks": ""
            },
            "colorscale": [
             [
              0,
              "#0d0887"
             ],
             [
              0.1111111111111111,
              "#46039f"
             ],
             [
              0.2222222222222222,
              "#7201a8"
             ],
             [
              0.3333333333333333,
              "#9c179e"
             ],
             [
              0.4444444444444444,
              "#bd3786"
             ],
             [
              0.5555555555555556,
              "#d8576b"
             ],
             [
              0.6666666666666666,
              "#ed7953"
             ],
             [
              0.7777777777777778,
              "#fb9f3a"
             ],
             [
              0.8888888888888888,
              "#fdca26"
             ],
             [
              1,
              "#f0f921"
             ]
            ],
            "type": "surface"
           }
          ],
          "table": [
           {
            "cells": {
             "fill": {
              "color": "#EBF0F8"
             },
             "line": {
              "color": "white"
             }
            },
            "header": {
             "fill": {
              "color": "#C8D4E3"
             },
             "line": {
              "color": "white"
             }
            },
            "type": "table"
           }
          ]
         },
         "layout": {
          "annotationdefaults": {
           "arrowcolor": "#2a3f5f",
           "arrowhead": 0,
           "arrowwidth": 1
          },
          "autotypenumbers": "strict",
          "coloraxis": {
           "colorbar": {
            "outlinewidth": 0,
            "ticks": ""
           }
          },
          "colorscale": {
           "diverging": [
            [
             0,
             "#8e0152"
            ],
            [
             0.1,
             "#c51b7d"
            ],
            [
             0.2,
             "#de77ae"
            ],
            [
             0.3,
             "#f1b6da"
            ],
            [
             0.4,
             "#fde0ef"
            ],
            [
             0.5,
             "#f7f7f7"
            ],
            [
             0.6,
             "#e6f5d0"
            ],
            [
             0.7,
             "#b8e186"
            ],
            [
             0.8,
             "#7fbc41"
            ],
            [
             0.9,
             "#4d9221"
            ],
            [
             1,
             "#276419"
            ]
           ],
           "sequential": [
            [
             0,
             "#0d0887"
            ],
            [
             0.1111111111111111,
             "#46039f"
            ],
            [
             0.2222222222222222,
             "#7201a8"
            ],
            [
             0.3333333333333333,
             "#9c179e"
            ],
            [
             0.4444444444444444,
             "#bd3786"
            ],
            [
             0.5555555555555556,
             "#d8576b"
            ],
            [
             0.6666666666666666,
             "#ed7953"
            ],
            [
             0.7777777777777778,
             "#fb9f3a"
            ],
            [
             0.8888888888888888,
             "#fdca26"
            ],
            [
             1,
             "#f0f921"
            ]
           ],
           "sequentialminus": [
            [
             0,
             "#0d0887"
            ],
            [
             0.1111111111111111,
             "#46039f"
            ],
            [
             0.2222222222222222,
             "#7201a8"
            ],
            [
             0.3333333333333333,
             "#9c179e"
            ],
            [
             0.4444444444444444,
             "#bd3786"
            ],
            [
             0.5555555555555556,
             "#d8576b"
            ],
            [
             0.6666666666666666,
             "#ed7953"
            ],
            [
             0.7777777777777778,
             "#fb9f3a"
            ],
            [
             0.8888888888888888,
             "#fdca26"
            ],
            [
             1,
             "#f0f921"
            ]
           ]
          },
          "colorway": [
           "#636efa",
           "#EF553B",
           "#00cc96",
           "#ab63fa",
           "#FFA15A",
           "#19d3f3",
           "#FF6692",
           "#B6E880",
           "#FF97FF",
           "#FECB52"
          ],
          "font": {
           "color": "#2a3f5f"
          },
          "geo": {
           "bgcolor": "white",
           "lakecolor": "white",
           "landcolor": "#E5ECF6",
           "showlakes": true,
           "showland": true,
           "subunitcolor": "white"
          },
          "hoverlabel": {
           "align": "left"
          },
          "hovermode": "closest",
          "mapbox": {
           "style": "light"
          },
          "paper_bgcolor": "white",
          "plot_bgcolor": "#E5ECF6",
          "polar": {
           "angularaxis": {
            "gridcolor": "white",
            "linecolor": "white",
            "ticks": ""
           },
           "bgcolor": "#E5ECF6",
           "radialaxis": {
            "gridcolor": "white",
            "linecolor": "white",
            "ticks": ""
           }
          },
          "scene": {
           "xaxis": {
            "backgroundcolor": "#E5ECF6",
            "gridcolor": "white",
            "gridwidth": 2,
            "linecolor": "white",
            "showbackground": true,
            "ticks": "",
            "zerolinecolor": "white"
           },
           "yaxis": {
            "backgroundcolor": "#E5ECF6",
            "gridcolor": "white",
            "gridwidth": 2,
            "linecolor": "white",
            "showbackground": true,
            "ticks": "",
            "zerolinecolor": "white"
           },
           "zaxis": {
            "backgroundcolor": "#E5ECF6",
            "gridcolor": "white",
            "gridwidth": 2,
            "linecolor": "white",
            "showbackground": true,
            "ticks": "",
            "zerolinecolor": "white"
           }
          },
          "shapedefaults": {
           "line": {
            "color": "#2a3f5f"
           }
          },
          "ternary": {
           "aaxis": {
            "gridcolor": "white",
            "linecolor": "white",
            "ticks": ""
           },
           "baxis": {
            "gridcolor": "white",
            "linecolor": "white",
            "ticks": ""
           },
           "bgcolor": "#E5ECF6",
           "caxis": {
            "gridcolor": "white",
            "linecolor": "white",
            "ticks": ""
           }
          },
          "title": {
           "x": 0.05
          },
          "xaxis": {
           "automargin": true,
           "gridcolor": "white",
           "linecolor": "white",
           "ticks": "",
           "title": {
            "standoff": 15
           },
           "zerolinecolor": "white",
           "zerolinewidth": 2
          },
          "yaxis": {
           "automargin": true,
           "gridcolor": "white",
           "linecolor": "white",
           "ticks": "",
           "title": {
            "standoff": 15
           },
           "zerolinecolor": "white",
           "zerolinewidth": 2
          }
         }
        },
        "title": {
         "text": "Gráfico de BMI x Custo"
        },
        "xaxis": {
         "anchor": "y",
         "domain": [
          0,
          1
         ],
         "title": {
          "text": "bmi"
         }
        },
        "yaxis": {
         "anchor": "x",
         "domain": [
          0,
          1
         ],
         "title": {
          "text": "charges"
         }
        }
       }
      }
     },
     "metadata": {},
     "output_type": "display_data"
    }
   ],
   "source": [
    "fig = px.scatter(Dados, x='bmi', y='charges', color='smoker',opacity=0.8,  hover_data=['sex'], title='Gráfico de BMI x Custo')\n",
    "fig.update_traces(marker_size=5)\n",
    "fig.show()"
   ]
  },
  {
   "cell_type": "code",
   "execution_count": 386,
   "metadata": {},
   "outputs": [
    {
     "data": {
      "text/plain": [
       "<AxesSubplot: xlabel='sex', ylabel='charges'>"
      ]
     },
     "execution_count": 386,
     "metadata": {},
     "output_type": "execute_result"
    },
    {
     "data": {
      "image/png": "[encoded data removed]",
      "text/plain": [
       "<Figure size 640x480 with 1 Axes>"
      ]
     },
     "metadata": {},
     "output_type": "display_data"
    }
   ],
   "source": [
    "sb.barplot(data = Dados,x = 'sex',y = 'charges',hue = \"smoker\")\n"
   ]
  },
  {
   "cell_type": "markdown",
   "metadata": {},
   "source": [
    "AQUI PODEMOS VER A DIFERENÇA MEDIA DE VALORES COBRADOS DE FUMANTES X NAO FUMANTES , SEPARADOS POR SEXO...\n",
    "DEFINITIVAMENTE, INDEPENDENTE DO SEXO, A MEDIA DE VALORES COBRADOS DE FUMANTES É MAIOR QUE A MEDIA DE VALORES COBRADOS DE NAO FUMANTES.\n",
    "\n",
    "\n",
    "AGORA VOU FAZER O ENCODING DOS DADOS: 2 MODOS... LABELENCODER E DUMMY ENCODER..."
   ]
  },
  {
   "cell_type": "code",
   "execution_count": 387,
   "metadata": {},
   "outputs": [
    {
     "data": {
      "text/html": [
       "<div>\n",
       "<style scoped>\n",
       "    .dataframe tbody tr th:only-of-type {\n",
       "        vertical-align: middle;\n",
       "    }\n",
       "\n",
       "    .dataframe tbody tr th {\n",
       "        vertical-align: top;\n",
       "    }\n",
       "\n",
       "    .dataframe thead th {\n",
       "        text-align: right;\n",
       "    }\n",
       "</style>\n",
       "<table border=\"1\" class=\"dataframe\">\n",
       "  <thead>\n",
       "    <tr style=\"text-align: right;\">\n",
       "      <th></th>\n",
       "      <th>age</th>\n",
       "      <th>sex</th>\n",
       "      <th>bmi</th>\n",
       "      <th>children</th>\n",
       "      <th>smoker</th>\n",
       "      <th>region</th>\n",
       "      <th>charges</th>\n",
       "    </tr>\n",
       "  </thead>\n",
       "  <tbody>\n",
       "    <tr>\n",
       "      <th>0</th>\n",
       "      <td>56</td>\n",
       "      <td>0</td>\n",
       "      <td>29.774374</td>\n",
       "      <td>2</td>\n",
       "      <td>1</td>\n",
       "      <td>3</td>\n",
       "      <td>31109.889763</td>\n",
       "    </tr>\n",
       "    <tr>\n",
       "      <th>1</th>\n",
       "      <td>46</td>\n",
       "      <td>1</td>\n",
       "      <td>25.857395</td>\n",
       "      <td>1</td>\n",
       "      <td>0</td>\n",
       "      <td>0</td>\n",
       "      <td>26650.702647</td>\n",
       "    </tr>\n",
       "    <tr>\n",
       "      <th>2</th>\n",
       "      <td>32</td>\n",
       "      <td>1</td>\n",
       "      <td>23.014840</td>\n",
       "      <td>0</td>\n",
       "      <td>0</td>\n",
       "      <td>3</td>\n",
       "      <td>21459.037990</td>\n",
       "    </tr>\n",
       "    <tr>\n",
       "      <th>2775</th>\n",
       "      <td>19</td>\n",
       "      <td>0</td>\n",
       "      <td>27.900000</td>\n",
       "      <td>0</td>\n",
       "      <td>1</td>\n",
       "      <td>3</td>\n",
       "      <td>16884.924000</td>\n",
       "    </tr>\n",
       "    <tr>\n",
       "      <th>2776</th>\n",
       "      <td>18</td>\n",
       "      <td>1</td>\n",
       "      <td>33.770000</td>\n",
       "      <td>1</td>\n",
       "      <td>0</td>\n",
       "      <td>2</td>\n",
       "      <td>1725.552300</td>\n",
       "    </tr>\n",
       "  </tbody>\n",
       "</table>\n",
       "</div>"
      ],
      "text/plain": [
       "      age  sex        bmi  children  smoker  region       charges\n",
       "0      56    0  29.774374         2       1       3  31109.889763\n",
       "1      46    1  25.857395         1       0       0  26650.702647\n",
       "2      32    1  23.014840         0       0       3  21459.037990\n",
       "2775   19    0  27.900000         0       1       3  16884.924000\n",
       "2776   18    1  33.770000         1       0       2   1725.552300"
      ]
     },
     "execution_count": 387,
     "metadata": {},
     "output_type": "execute_result"
    }
   ],
   "source": [
    "Dados.head()\n",
    "\n",
    "Dados_dummy = Dados.copy()\n",
    "\n",
    "LE = LabelEncoder()\n",
    "categoricos=['sex','region','smoker']\n",
    "\n",
    "for col in categoricos:\n",
    "    nomecol = col + '_LE'\n",
    "    Dados[col] = LE.fit_transform(Dados[col])\n",
    "    \n",
    "Dados.head()\n",
    "\n",
    "\n"
   ]
  },
  {
   "cell_type": "code",
   "execution_count": 388,
   "metadata": {},
   "outputs": [
    {
     "data": {
      "text/html": [
       "<div>\n",
       "<style scoped>\n",
       "    .dataframe tbody tr th:only-of-type {\n",
       "        vertical-align: middle;\n",
       "    }\n",
       "\n",
       "    .dataframe tbody tr th {\n",
       "        vertical-align: top;\n",
       "    }\n",
       "\n",
       "    .dataframe thead th {\n",
       "        text-align: right;\n",
       "    }\n",
       "</style>\n",
       "<table border=\"1\" class=\"dataframe\">\n",
       "  <thead>\n",
       "    <tr style=\"text-align: right;\">\n",
       "      <th></th>\n",
       "      <th>age</th>\n",
       "      <th>bmi</th>\n",
       "      <th>children</th>\n",
       "      <th>charges</th>\n",
       "      <th>sex_female</th>\n",
       "      <th>sex_male</th>\n",
       "      <th>region_northeast</th>\n",
       "      <th>region_northwest</th>\n",
       "      <th>region_southeast</th>\n",
       "      <th>region_southwest</th>\n",
       "      <th>smoker_no</th>\n",
       "      <th>smoker_yes</th>\n",
       "    </tr>\n",
       "  </thead>\n",
       "  <tbody>\n",
       "    <tr>\n",
       "      <th>0</th>\n",
       "      <td>56</td>\n",
       "      <td>29.774374</td>\n",
       "      <td>2</td>\n",
       "      <td>31109.889763</td>\n",
       "      <td>1</td>\n",
       "      <td>0</td>\n",
       "      <td>0</td>\n",
       "      <td>0</td>\n",
       "      <td>0</td>\n",
       "      <td>1</td>\n",
       "      <td>0</td>\n",
       "      <td>1</td>\n",
       "    </tr>\n",
       "    <tr>\n",
       "      <th>1</th>\n",
       "      <td>46</td>\n",
       "      <td>25.857395</td>\n",
       "      <td>1</td>\n",
       "      <td>26650.702647</td>\n",
       "      <td>0</td>\n",
       "      <td>1</td>\n",
       "      <td>1</td>\n",
       "      <td>0</td>\n",
       "      <td>0</td>\n",
       "      <td>0</td>\n",
       "      <td>1</td>\n",
       "      <td>0</td>\n",
       "    </tr>\n",
       "    <tr>\n",
       "      <th>2</th>\n",
       "      <td>32</td>\n",
       "      <td>23.014840</td>\n",
       "      <td>0</td>\n",
       "      <td>21459.037990</td>\n",
       "      <td>0</td>\n",
       "      <td>1</td>\n",
       "      <td>0</td>\n",
       "      <td>0</td>\n",
       "      <td>0</td>\n",
       "      <td>1</td>\n",
       "      <td>1</td>\n",
       "      <td>0</td>\n",
       "    </tr>\n",
       "    <tr>\n",
       "      <th>2775</th>\n",
       "      <td>19</td>\n",
       "      <td>27.900000</td>\n",
       "      <td>0</td>\n",
       "      <td>16884.924000</td>\n",
       "      <td>1</td>\n",
       "      <td>0</td>\n",
       "      <td>0</td>\n",
       "      <td>0</td>\n",
       "      <td>0</td>\n",
       "      <td>1</td>\n",
       "      <td>0</td>\n",
       "      <td>1</td>\n",
       "    </tr>\n",
       "    <tr>\n",
       "      <th>2776</th>\n",
       "      <td>18</td>\n",
       "      <td>33.770000</td>\n",
       "      <td>1</td>\n",
       "      <td>1725.552300</td>\n",
       "      <td>0</td>\n",
       "      <td>1</td>\n",
       "      <td>0</td>\n",
       "      <td>0</td>\n",
       "      <td>1</td>\n",
       "      <td>0</td>\n",
       "      <td>1</td>\n",
       "      <td>0</td>\n",
       "    </tr>\n",
       "    <tr>\n",
       "      <th>...</th>\n",
       "      <td>...</td>\n",
       "      <td>...</td>\n",
       "      <td>...</td>\n",
       "      <td>...</td>\n",
       "      <td>...</td>\n",
       "      <td>...</td>\n",
       "      <td>...</td>\n",
       "      <td>...</td>\n",
       "      <td>...</td>\n",
       "      <td>...</td>\n",
       "      <td>...</td>\n",
       "      <td>...</td>\n",
       "    </tr>\n",
       "    <tr>\n",
       "      <th>4108</th>\n",
       "      <td>50</td>\n",
       "      <td>30.970000</td>\n",
       "      <td>3</td>\n",
       "      <td>10600.548300</td>\n",
       "      <td>0</td>\n",
       "      <td>1</td>\n",
       "      <td>0</td>\n",
       "      <td>1</td>\n",
       "      <td>0</td>\n",
       "      <td>0</td>\n",
       "      <td>1</td>\n",
       "      <td>0</td>\n",
       "    </tr>\n",
       "    <tr>\n",
       "      <th>4109</th>\n",
       "      <td>18</td>\n",
       "      <td>31.920000</td>\n",
       "      <td>0</td>\n",
       "      <td>2205.980800</td>\n",
       "      <td>1</td>\n",
       "      <td>0</td>\n",
       "      <td>1</td>\n",
       "      <td>0</td>\n",
       "      <td>0</td>\n",
       "      <td>0</td>\n",
       "      <td>1</td>\n",
       "      <td>0</td>\n",
       "    </tr>\n",
       "    <tr>\n",
       "      <th>4110</th>\n",
       "      <td>18</td>\n",
       "      <td>36.850000</td>\n",
       "      <td>0</td>\n",
       "      <td>1629.833500</td>\n",
       "      <td>1</td>\n",
       "      <td>0</td>\n",
       "      <td>0</td>\n",
       "      <td>0</td>\n",
       "      <td>1</td>\n",
       "      <td>0</td>\n",
       "      <td>1</td>\n",
       "      <td>0</td>\n",
       "    </tr>\n",
       "    <tr>\n",
       "      <th>4111</th>\n",
       "      <td>21</td>\n",
       "      <td>25.800000</td>\n",
       "      <td>0</td>\n",
       "      <td>2007.945000</td>\n",
       "      <td>1</td>\n",
       "      <td>0</td>\n",
       "      <td>0</td>\n",
       "      <td>0</td>\n",
       "      <td>0</td>\n",
       "      <td>1</td>\n",
       "      <td>1</td>\n",
       "      <td>0</td>\n",
       "    </tr>\n",
       "    <tr>\n",
       "      <th>4112</th>\n",
       "      <td>61</td>\n",
       "      <td>29.070000</td>\n",
       "      <td>0</td>\n",
       "      <td>29141.360300</td>\n",
       "      <td>1</td>\n",
       "      <td>0</td>\n",
       "      <td>0</td>\n",
       "      <td>1</td>\n",
       "      <td>0</td>\n",
       "      <td>0</td>\n",
       "      <td>0</td>\n",
       "      <td>1</td>\n",
       "    </tr>\n",
       "  </tbody>\n",
       "</table>\n",
       "<p>1340 rows × 12 columns</p>\n",
       "</div>"
      ],
      "text/plain": [
       "      age        bmi  children       charges  sex_female  sex_male  \\\n",
       "0      56  29.774374         2  31109.889763           1         0   \n",
       "1      46  25.857395         1  26650.702647           0         1   \n",
       "2      32  23.014840         0  21459.037990           0         1   \n",
       "2775   19  27.900000         0  16884.924000           1         0   \n",
       "2776   18  33.770000         1   1725.552300           0         1   \n",
       "...   ...        ...       ...           ...         ...       ...   \n",
       "4108   50  30.970000         3  10600.548300           0         1   \n",
       "4109   18  31.920000         0   2205.980800           1         0   \n",
       "4110   18  36.850000         0   1629.833500           1         0   \n",
       "4111   21  25.800000         0   2007.945000           1         0   \n",
       "4112   61  29.070000         0  29141.360300           1         0   \n",
       "\n",
       "      region_northeast  region_northwest  region_southeast  region_southwest  \\\n",
       "0                    0                 0                 0                 1   \n",
       "1                    1                 0                 0                 0   \n",
       "2                    0                 0                 0                 1   \n",
       "2775                 0                 0                 0                 1   \n",
       "2776                 0                 0                 1                 0   \n",
       "...                ...               ...               ...               ...   \n",
       "4108                 0                 1                 0                 0   \n",
       "4109                 1                 0                 0                 0   \n",
       "4110                 0                 0                 1                 0   \n",
       "4111                 0                 0                 0                 1   \n",
       "4112                 0                 1                 0                 0   \n",
       "\n",
       "      smoker_no  smoker_yes  \n",
       "0             0           1  \n",
       "1             1           0  \n",
       "2             1           0  \n",
       "2775          0           1  \n",
       "2776          1           0  \n",
       "...         ...         ...  \n",
       "4108          1           0  \n",
       "4109          1           0  \n",
       "4110          1           0  \n",
       "4111          1           0  \n",
       "4112          0           1  \n",
       "\n",
       "[1340 rows x 12 columns]"
      ]
     },
     "execution_count": 388,
     "metadata": {},
     "output_type": "execute_result"
    }
   ],
   "source": [
    "#Vou criar o df dummies para os dados de entrada.\n",
    "\n",
    "df1=pd.get_dummies(Dados_dummy,columns=categoricos)\n",
    "\n",
    "df1.dtypes\n",
    "\n",
    "for col in df1.columns:\n",
    "    if df1[col].dtype =='bool':\n",
    "        df1[col] = df1[col].fillna(False).astype('int')\n",
    "        \n",
    "df1\n"
   ]
  },
  {
   "cell_type": "code",
   "execution_count": null,
   "metadata": {},
   "outputs": [],
   "source": []
  },
  {
   "cell_type": "code",
   "execution_count": 389,
   "metadata": {},
   "outputs": [
    {
     "data": {
      "text/plain": [
       "<AxesSubplot: >"
      ]
     },
     "execution_count": 389,
     "metadata": {},
     "output_type": "execute_result"
    },
    {
     "data": {
      "image/png": "[encoded data removed]",
      "text/plain": [
       "<Figure size 1000x1000 with 2 Axes>"
      ]
     },
     "metadata": {},
     "output_type": "display_data"
    }
   ],
   "source": [
    "plt.figure(figsize=(10, 10))\n",
    "sb.heatmap(df1.corr(),annot=True)"
   ]
  },
  {
   "cell_type": "code",
   "execution_count": 390,
   "metadata": {},
   "outputs": [
    {
     "data": {
      "text/html": [
       "<div>\n",
       "<style scoped>\n",
       "    .dataframe tbody tr th:only-of-type {\n",
       "        vertical-align: middle;\n",
       "    }\n",
       "\n",
       "    .dataframe tbody tr th {\n",
       "        vertical-align: top;\n",
       "    }\n",
       "\n",
       "    .dataframe thead th {\n",
       "        text-align: right;\n",
       "    }\n",
       "</style>\n",
       "<table border=\"1\" class=\"dataframe\">\n",
       "  <thead>\n",
       "    <tr style=\"text-align: right;\">\n",
       "      <th></th>\n",
       "      <th>charges</th>\n",
       "    </tr>\n",
       "  </thead>\n",
       "  <tbody>\n",
       "    <tr>\n",
       "      <th>0</th>\n",
       "      <td>31109.889763</td>\n",
       "    </tr>\n",
       "    <tr>\n",
       "      <th>1</th>\n",
       "      <td>26650.702647</td>\n",
       "    </tr>\n",
       "    <tr>\n",
       "      <th>2</th>\n",
       "      <td>21459.037990</td>\n",
       "    </tr>\n",
       "    <tr>\n",
       "      <th>2775</th>\n",
       "      <td>16884.924000</td>\n",
       "    </tr>\n",
       "    <tr>\n",
       "      <th>2776</th>\n",
       "      <td>1725.552300</td>\n",
       "    </tr>\n",
       "  </tbody>\n",
       "</table>\n",
       "</div>"
      ],
      "text/plain": [
       "           charges\n",
       "0     31109.889763\n",
       "1     26650.702647\n",
       "2     21459.037990\n",
       "2775  16884.924000\n",
       "2776   1725.552300"
      ]
     },
     "execution_count": 390,
     "metadata": {},
     "output_type": "execute_result"
    }
   ],
   "source": [
    "X_dados_LE = pd.DataFrame(Dados,columns=['age','sex','bmi','children','smoker','region'])\n",
    "\n",
    "Y_dados_LE = pd.DataFrame(Dados,columns=['charges'])\n",
    "\n",
    "Y_dados_LE.head()"
   ]
  },
  {
   "cell_type": "code",
   "execution_count": 391,
   "metadata": {},
   "outputs": [
    {
     "data": {
      "text/html": [
       "<div>\n",
       "<style scoped>\n",
       "    .dataframe tbody tr th:only-of-type {\n",
       "        vertical-align: middle;\n",
       "    }\n",
       "\n",
       "    .dataframe tbody tr th {\n",
       "        vertical-align: top;\n",
       "    }\n",
       "\n",
       "    .dataframe thead th {\n",
       "        text-align: right;\n",
       "    }\n",
       "</style>\n",
       "<table border=\"1\" class=\"dataframe\">\n",
       "  <thead>\n",
       "    <tr style=\"text-align: right;\">\n",
       "      <th></th>\n",
       "      <th>age</th>\n",
       "      <th>bmi</th>\n",
       "      <th>children</th>\n",
       "      <th>sex_female</th>\n",
       "      <th>sex_male</th>\n",
       "      <th>region_northeast</th>\n",
       "      <th>region_northwest</th>\n",
       "      <th>region_southeast</th>\n",
       "      <th>region_southwest</th>\n",
       "      <th>smoker_no</th>\n",
       "      <th>smoker_yes</th>\n",
       "    </tr>\n",
       "  </thead>\n",
       "  <tbody>\n",
       "    <tr>\n",
       "      <th>0</th>\n",
       "      <td>56</td>\n",
       "      <td>29.774374</td>\n",
       "      <td>2</td>\n",
       "      <td>1</td>\n",
       "      <td>0</td>\n",
       "      <td>0</td>\n",
       "      <td>0</td>\n",
       "      <td>0</td>\n",
       "      <td>1</td>\n",
       "      <td>0</td>\n",
       "      <td>1</td>\n",
       "    </tr>\n",
       "    <tr>\n",
       "      <th>1</th>\n",
       "      <td>46</td>\n",
       "      <td>25.857395</td>\n",
       "      <td>1</td>\n",
       "      <td>0</td>\n",
       "      <td>1</td>\n",
       "      <td>1</td>\n",
       "      <td>0</td>\n",
       "      <td>0</td>\n",
       "      <td>0</td>\n",
       "      <td>1</td>\n",
       "      <td>0</td>\n",
       "    </tr>\n",
       "    <tr>\n",
       "      <th>2</th>\n",
       "      <td>32</td>\n",
       "      <td>23.014840</td>\n",
       "      <td>0</td>\n",
       "      <td>0</td>\n",
       "      <td>1</td>\n",
       "      <td>0</td>\n",
       "      <td>0</td>\n",
       "      <td>0</td>\n",
       "      <td>1</td>\n",
       "      <td>1</td>\n",
       "      <td>0</td>\n",
       "    </tr>\n",
       "    <tr>\n",
       "      <th>2775</th>\n",
       "      <td>19</td>\n",
       "      <td>27.900000</td>\n",
       "      <td>0</td>\n",
       "      <td>1</td>\n",
       "      <td>0</td>\n",
       "      <td>0</td>\n",
       "      <td>0</td>\n",
       "      <td>0</td>\n",
       "      <td>1</td>\n",
       "      <td>0</td>\n",
       "      <td>1</td>\n",
       "    </tr>\n",
       "    <tr>\n",
       "      <th>2776</th>\n",
       "      <td>18</td>\n",
       "      <td>33.770000</td>\n",
       "      <td>1</td>\n",
       "      <td>0</td>\n",
       "      <td>1</td>\n",
       "      <td>0</td>\n",
       "      <td>0</td>\n",
       "      <td>1</td>\n",
       "      <td>0</td>\n",
       "      <td>1</td>\n",
       "      <td>0</td>\n",
       "    </tr>\n",
       "    <tr>\n",
       "      <th>...</th>\n",
       "      <td>...</td>\n",
       "      <td>...</td>\n",
       "      <td>...</td>\n",
       "      <td>...</td>\n",
       "      <td>...</td>\n",
       "      <td>...</td>\n",
       "      <td>...</td>\n",
       "      <td>...</td>\n",
       "      <td>...</td>\n",
       "      <td>...</td>\n",
       "      <td>...</td>\n",
       "    </tr>\n",
       "    <tr>\n",
       "      <th>4108</th>\n",
       "      <td>50</td>\n",
       "      <td>30.970000</td>\n",
       "      <td>3</td>\n",
       "      <td>0</td>\n",
       "      <td>1</td>\n",
       "      <td>0</td>\n",
       "      <td>1</td>\n",
       "      <td>0</td>\n",
       "      <td>0</td>\n",
       "      <td>1</td>\n",
       "      <td>0</td>\n",
       "    </tr>\n",
       "    <tr>\n",
       "      <th>4109</th>\n",
       "      <td>18</td>\n",
       "      <td>31.920000</td>\n",
       "      <td>0</td>\n",
       "      <td>1</td>\n",
       "      <td>0</td>\n",
       "      <td>1</td>\n",
       "      <td>0</td>\n",
       "      <td>0</td>\n",
       "      <td>0</td>\n",
       "      <td>1</td>\n",
       "      <td>0</td>\n",
       "    </tr>\n",
       "    <tr>\n",
       "      <th>4110</th>\n",
       "      <td>18</td>\n",
       "      <td>36.850000</td>\n",
       "      <td>0</td>\n",
       "      <td>1</td>\n",
       "      <td>0</td>\n",
       "      <td>0</td>\n",
       "      <td>0</td>\n",
       "      <td>1</td>\n",
       "      <td>0</td>\n",
       "      <td>1</td>\n",
       "      <td>0</td>\n",
       "    </tr>\n",
       "    <tr>\n",
       "      <th>4111</th>\n",
       "      <td>21</td>\n",
       "      <td>25.800000</td>\n",
       "      <td>0</td>\n",
       "      <td>1</td>\n",
       "      <td>0</td>\n",
       "      <td>0</td>\n",
       "      <td>0</td>\n",
       "      <td>0</td>\n",
       "      <td>1</td>\n",
       "      <td>1</td>\n",
       "      <td>0</td>\n",
       "    </tr>\n",
       "    <tr>\n",
       "      <th>4112</th>\n",
       "      <td>61</td>\n",
       "      <td>29.070000</td>\n",
       "      <td>0</td>\n",
       "      <td>1</td>\n",
       "      <td>0</td>\n",
       "      <td>0</td>\n",
       "      <td>1</td>\n",
       "      <td>0</td>\n",
       "      <td>0</td>\n",
       "      <td>0</td>\n",
       "      <td>1</td>\n",
       "    </tr>\n",
       "  </tbody>\n",
       "</table>\n",
       "<p>1340 rows × 11 columns</p>\n",
       "</div>"
      ],
      "text/plain": [
       "      age        bmi  children  sex_female  sex_male  region_northeast  \\\n",
       "0      56  29.774374         2           1         0                 0   \n",
       "1      46  25.857395         1           0         1                 1   \n",
       "2      32  23.014840         0           0         1                 0   \n",
       "2775   19  27.900000         0           1         0                 0   \n",
       "2776   18  33.770000         1           0         1                 0   \n",
       "...   ...        ...       ...         ...       ...               ...   \n",
       "4108   50  30.970000         3           0         1                 0   \n",
       "4109   18  31.920000         0           1         0                 1   \n",
       "4110   18  36.850000         0           1         0                 0   \n",
       "4111   21  25.800000         0           1         0                 0   \n",
       "4112   61  29.070000         0           1         0                 0   \n",
       "\n",
       "      region_northwest  region_southeast  region_southwest  smoker_no  \\\n",
       "0                    0                 0                 1          0   \n",
       "1                    0                 0                 0          1   \n",
       "2                    0                 0                 1          1   \n",
       "2775                 0                 0                 1          0   \n",
       "2776                 0                 1                 0          1   \n",
       "...                ...               ...               ...        ...   \n",
       "4108                 1                 0                 0          1   \n",
       "4109                 0                 0                 0          1   \n",
       "4110                 0                 1                 0          1   \n",
       "4111                 0                 0                 1          1   \n",
       "4112                 1                 0                 0          0   \n",
       "\n",
       "      smoker_yes  \n",
       "0              1  \n",
       "1              0  \n",
       "2              0  \n",
       "2775           1  \n",
       "2776           0  \n",
       "...          ...  \n",
       "4108           0  \n",
       "4109           0  \n",
       "4110           0  \n",
       "4111           0  \n",
       "4112           1  \n",
       "\n",
       "[1340 rows x 11 columns]"
      ]
     },
     "execution_count": 391,
     "metadata": {},
     "output_type": "execute_result"
    }
   ],
   "source": [
    "x_dados_dummies=df1.drop(columns=['charges'],axis=1)\n",
    "\n",
    "y_dados_dummies=df1['charges']\n",
    "\n",
    "x_dados_dummies\n"
   ]
  },
  {
   "cell_type": "code",
   "execution_count": 392,
   "metadata": {},
   "outputs": [
    {
     "data": {
      "text/plain": [
       "array([[ 1.13473155e+04],\n",
       "       [ 7.60869831e+03],\n",
       "       [ 1.55005095e+04],\n",
       "       [ 1.14273845e+04],\n",
       "       [ 1.04981292e+04],\n",
       "       [ 6.43833952e+03],\n",
       "       [ 1.40606053e+04],\n",
       "       [ 9.30720697e+03],\n",
       "       [ 5.43272987e+03],\n",
       "       [ 7.92464441e+03],\n",
       "       [ 5.67855736e+03],\n",
       "       [ 3.68399026e+04],\n",
       "       [ 1.34659516e+04],\n",
       "       [ 2.83825999e+04],\n",
       "       [ 5.54134595e+03],\n",
       "       [ 6.36486010e+03],\n",
       "       [ 3.15244736e+04],\n",
       "       [ 1.19019784e+04],\n",
       "       [ 7.97357032e+03],\n",
       "       [ 6.58631529e+03],\n",
       "       [ 4.43311512e+03],\n",
       "       [ 1.55099894e+04],\n",
       "       [ 3.37347837e+03],\n",
       "       [ 1.35874518e+04],\n",
       "       [ 4.70123368e+03],\n",
       "       [ 1.39041137e+04],\n",
       "       [ 5.18010086e+03],\n",
       "       [ 3.35222957e+04],\n",
       "       [ 2.86903145e+04],\n",
       "       [ 1.25428592e+04],\n",
       "       [ 8.22108861e+03],\n",
       "       [ 3.17399410e+03],\n",
       "       [ 1.35514832e+04],\n",
       "       [ 3.18390100e+04],\n",
       "       [ 5.55035125e+03],\n",
       "       [ 1.28619806e+04],\n",
       "       [ 3.71081678e+03],\n",
       "       [ 1.46004425e+04],\n",
       "       [ 1.04156334e+04],\n",
       "       [ 6.70825392e+03],\n",
       "       [ 3.17921635e+04],\n",
       "       [ 1.32034373e+04],\n",
       "       [ 3.12933526e+04],\n",
       "       [ 3.80331449e+04],\n",
       "       [ 8.34753190e+03],\n",
       "       [ 1.35708766e+04],\n",
       "       [ 1.09651337e+04],\n",
       "       [ 2.76790265e+03],\n",
       "       [ 2.87018023e+04],\n",
       "       [ 2.98034980e+04],\n",
       "       [ 1.34423831e+04],\n",
       "       [ 1.25744879e+04],\n",
       "       [ 3.31759520e+04],\n",
       "       [ 1.35131276e+03],\n",
       "       [ 1.12555848e+04],\n",
       "       [ 6.79258834e+03],\n",
       "       [ 3.25287842e+04],\n",
       "       [ 3.57564468e+04],\n",
       "       [ 1.56318336e+04],\n",
       "       [ 1.34742851e+03],\n",
       "       [ 1.12819579e+04],\n",
       "       [ 1.67460251e+04],\n",
       "       [ 3.88419979e+04],\n",
       "       [ 1.14013698e+04],\n",
       "       [ 3.15039342e+04],\n",
       "       [ 9.90902195e+03],\n",
       "       [ 2.45599201e+03],\n",
       "       [ 1.25961538e+04],\n",
       "       [ 3.45764420e+04],\n",
       "       [ 3.44575857e+04],\n",
       "       [ 8.73576773e+03],\n",
       "       [ 9.53788594e+03],\n",
       "       [ 1.08026281e+04],\n",
       "       [ 9.31939471e+03],\n",
       "       [ 9.27144246e+03],\n",
       "       [ 3.29670837e+04],\n",
       "       [ 4.25615717e+03],\n",
       "       [ 1.24324412e+04],\n",
       "       [ 1.16321401e+04],\n",
       "       [ 2.97220389e+04],\n",
       "       [ 6.11730680e+03],\n",
       "       [ 8.14422607e+03],\n",
       "       [ 3.08828487e+04],\n",
       "       [ 2.57855027e+04],\n",
       "       [ 5.10016011e+03],\n",
       "       [ 3.72797881e+04],\n",
       "       [ 5.85961651e+03],\n",
       "       [ 1.41374574e+04],\n",
       "       [ 1.31615695e+04],\n",
       "       [ 1.53611560e+04],\n",
       "       [ 3.33431112e+04],\n",
       "       [ 1.76102802e+04],\n",
       "       [ 2.95925771e+04],\n",
       "       [ 1.19049316e+04],\n",
       "       [ 1.13209645e+04],\n",
       "       [ 8.37374640e+02],\n",
       "       [ 7.46374572e+03],\n",
       "       [ 2.65998988e+04],\n",
       "       [ 2.86257676e+04],\n",
       "       [ 2.68510478e+04],\n",
       "       [ 9.87527623e+03],\n",
       "       [ 1.28978693e+04],\n",
       "       [ 1.98886563e+03],\n",
       "       [ 1.43193082e+03],\n",
       "       [ 2.48423400e+03],\n",
       "       [ 1.02344138e+04],\n",
       "       [ 4.78057357e+03],\n",
       "       [ 9.53421532e+03],\n",
       "       [ 8.01527142e+03],\n",
       "       [ 3.95133769e+04],\n",
       "       [ 2.97635199e+03],\n",
       "       [ 8.51567788e+03],\n",
       "       [ 2.69409749e+04],\n",
       "       [ 1.53629500e+04],\n",
       "       [ 1.27201005e+04],\n",
       "       [ 1.38157748e+04],\n",
       "       [ 6.81026386e+03],\n",
       "       [ 1.48856246e+04],\n",
       "       [ 3.08227322e+03],\n",
       "       [ 3.27635178e+04],\n",
       "       [ 9.47430864e+03],\n",
       "       [ 1.32977500e+04],\n",
       "       [ 1.23270306e+04],\n",
       "       [ 1.15080135e+04],\n",
       "       [ 2.08371973e+03],\n",
       "       [ 5.73171819e+03],\n",
       "       [ 9.03317438e+03],\n",
       "       [ 1.13402997e+04],\n",
       "       [ 9.54252404e+03],\n",
       "       [ 1.08122550e+04],\n",
       "       [ 4.20569543e+03],\n",
       "       [ 1.08774481e+04],\n",
       "       [ 9.57335376e+03],\n",
       "       [ 6.92146577e+03],\n",
       "       [ 1.15270436e+04],\n",
       "       [ 9.65249101e+03],\n",
       "       [ 1.33264161e+04],\n",
       "       [ 1.77440984e+04],\n",
       "       [ 3.16003017e+04],\n",
       "       [ 1.15423818e+04],\n",
       "       [ 3.00073197e+04],\n",
       "       [ 1.80741475e+03],\n",
       "       [ 2.75433675e+04],\n",
       "       [ 6.18167606e+03],\n",
       "       [ 7.04598088e+03],\n",
       "       [ 5.27208770e+03],\n",
       "       [ 2.89579951e+04],\n",
       "       [ 5.04579447e+03],\n",
       "       [ 1.46571379e+04],\n",
       "       [ 9.96471510e+03],\n",
       "       [ 1.66704774e+02],\n",
       "       [ 1.24235106e+04],\n",
       "       [ 3.16947218e+04],\n",
       "       [ 9.24459187e+03],\n",
       "       [ 2.80193370e+04],\n",
       "       [-9.80140477e+02],\n",
       "       [ 1.03614713e+03],\n",
       "       [ 9.60945074e+03],\n",
       "       [ 1.35207936e+04],\n",
       "       [ 2.92324297e+04],\n",
       "       [ 3.15781846e+04],\n",
       "       [ 6.96056611e+03],\n",
       "       [ 1.36308725e+04],\n",
       "       [ 3.98377643e+04],\n",
       "       [ 1.43844992e+04],\n",
       "       [ 3.93424095e+03],\n",
       "       [-1.99675232e+03],\n",
       "       [ 1.60789992e+04],\n",
       "       [ 1.18534753e+04],\n",
       "       [ 1.12702845e+04],\n",
       "       [ 3.48584763e+04],\n",
       "       [ 3.09464239e+04],\n",
       "       [ 5.63808768e+03],\n",
       "       [ 4.88695376e+03],\n",
       "       [ 1.16983533e+04],\n",
       "       [ 2.47159892e+04],\n",
       "       [ 3.18731939e+02],\n",
       "       [ 1.70326725e+04],\n",
       "       [ 4.31211378e+03],\n",
       "       [ 1.86048314e+03],\n",
       "       [ 1.07195624e+04],\n",
       "       [-3.14576018e+02],\n",
       "       [ 4.07430606e+03],\n",
       "       [ 4.65897586e+03],\n",
       "       [ 1.57882397e+04],\n",
       "       [ 9.70655604e+03],\n",
       "       [ 8.67963706e+03],\n",
       "       [ 8.45760952e+03],\n",
       "       [ 8.70149167e+03],\n",
       "       [ 3.74238663e+04],\n",
       "       [ 3.29022407e+04],\n",
       "       [ 7.36134384e+03],\n",
       "       [ 3.63431140e+03],\n",
       "       [ 1.18727100e+04],\n",
       "       [ 1.61039929e+04],\n",
       "       [ 3.95412405e+03],\n",
       "       [ 2.71823053e+04],\n",
       "       [ 3.49709796e+03],\n",
       "       [ 3.01721748e+01],\n",
       "       [ 1.00643742e+04],\n",
       "       [ 1.41474551e+04],\n",
       "       [ 6.80245998e+03],\n",
       "       [ 3.92695576e+04],\n",
       "       [ 1.32455191e+04],\n",
       "       [ 2.67242126e+04],\n",
       "       [ 7.30784866e+03],\n",
       "       [ 1.06217180e+04],\n",
       "       [ 1.05432847e+04],\n",
       "       [ 3.93767851e+04],\n",
       "       [ 2.65995259e+04],\n",
       "       [ 8.74296162e+03],\n",
       "       [ 1.14942493e+04],\n",
       "       [ 7.71893396e+03],\n",
       "       [ 5.85266969e+03],\n",
       "       [ 4.03379242e+03],\n",
       "       [ 2.39662301e+03],\n",
       "       [ 1.95045414e+03],\n",
       "       [ 9.71224237e+03],\n",
       "       [ 1.35426482e+04],\n",
       "       [ 3.08708826e+04],\n",
       "       [ 1.32883450e+04],\n",
       "       [ 1.03700489e+04],\n",
       "       [ 1.18081074e+04],\n",
       "       [ 3.98373855e+03],\n",
       "       [ 1.71949214e+04],\n",
       "       [ 1.03435174e+04],\n",
       "       [ 1.38514965e+04],\n",
       "       [ 3.06225281e+04],\n",
       "       [ 1.10282247e+04],\n",
       "       [ 9.83319388e+03],\n",
       "       [ 4.12795424e+03],\n",
       "       [ 8.02319039e+03],\n",
       "       [ 1.05141292e+04],\n",
       "       [ 1.45384530e+04],\n",
       "       [ 7.19315995e+03],\n",
       "       [ 2.86808063e+04],\n",
       "       [ 5.59341097e+03],\n",
       "       [ 9.17259859e+03],\n",
       "       [ 1.73514496e+04],\n",
       "       [ 1.09808368e+04],\n",
       "       [ 1.26682845e+04],\n",
       "       [ 1.50883989e+04],\n",
       "       [ 5.62531491e+03],\n",
       "       [ 1.01705000e+04],\n",
       "       [ 1.01317461e+04],\n",
       "       [ 4.70992486e+03],\n",
       "       [ 1.25781109e+04],\n",
       "       [ 5.76784183e+03],\n",
       "       [ 1.00475230e+04],\n",
       "       [ 9.15243078e+03],\n",
       "       [ 7.69706018e+03],\n",
       "       [ 4.49866046e+03],\n",
       "       [ 1.16447299e+04],\n",
       "       [ 6.98085761e+02],\n",
       "       [ 1.18022600e+04],\n",
       "       [ 7.05578167e+03],\n",
       "       [ 8.42727923e+03],\n",
       "       [ 6.23993375e+03],\n",
       "       [ 1.04240721e+04],\n",
       "       [ 6.51873527e+03],\n",
       "       [ 5.50597404e+03],\n",
       "       [ 4.53327469e+03],\n",
       "       [ 3.64257985e+04],\n",
       "       [ 2.06362301e+03],\n",
       "       [ 1.99087799e+03],\n",
       "       [ 1.02757669e+04],\n",
       "       [ 3.88533098e+04],\n",
       "       [ 1.01477671e+04]])"
      ]
     },
     "execution_count": 392,
     "metadata": {},
     "output_type": "execute_result"
    }
   ],
   "source": [
    "#agora vou fazer o train_test_split \n",
    "from sklearn.linear_model import LinearRegression\n",
    "x_train_LE, x_test_LE, y_train_LE, y_test_LE = train_test_split(X_dados_LE, Y_dados_LE, test_size=0.20, random_state=42)\n",
    "\n",
    "modelo=LinearRegression()\n",
    "modelo.fit(x_train_LE,y_train_LE)\n",
    "\n",
    "#previsoes AQUI VOU TESTAR O MEU MODELO\n",
    "\n",
    "previsoes=modelo.predict(x_test_LE)\n",
    "previsoes"
   ]
  },
  {
   "cell_type": "code",
   "execution_count": 393,
   "metadata": {},
   "outputs": [
    {
     "name": "stdout",
     "output_type": "stream",
     "text": [
      "Erro quadratico medio:  36988918.12534132\n",
      "Erro absoluto medio:  4163.783113605077\n",
      "Coeficiente de determinacao:  0.7551913305035904\n"
     ]
    },
    {
     "data": {
      "text/html": [
       "<div>\n",
       "<style scoped>\n",
       "    .dataframe tbody tr th:only-of-type {\n",
       "        vertical-align: middle;\n",
       "    }\n",
       "\n",
       "    .dataframe tbody tr th {\n",
       "        vertical-align: top;\n",
       "    }\n",
       "\n",
       "    .dataframe thead th {\n",
       "        text-align: right;\n",
       "    }\n",
       "</style>\n",
       "<table border=\"1\" class=\"dataframe\">\n",
       "  <thead>\n",
       "    <tr style=\"text-align: right;\">\n",
       "      <th></th>\n",
       "      <th>y_test_LE</th>\n",
       "      <th>previsoes</th>\n",
       "      <th>diferenca</th>\n",
       "    </tr>\n",
       "  </thead>\n",
       "  <tbody>\n",
       "    <tr>\n",
       "      <th>3167</th>\n",
       "      <td>8964.06055</td>\n",
       "      <td>11347.315477</td>\n",
       "      <td>2383.254927</td>\n",
       "    </tr>\n",
       "    <tr>\n",
       "      <th>3654</th>\n",
       "      <td>6311.95200</td>\n",
       "      <td>7608.698308</td>\n",
       "      <td>1296.746308</td>\n",
       "    </tr>\n",
       "    <tr>\n",
       "      <th>3131</th>\n",
       "      <td>8944.11510</td>\n",
       "      <td>15500.509465</td>\n",
       "      <td>6556.394365</td>\n",
       "    </tr>\n",
       "    <tr>\n",
       "      <th>3140</th>\n",
       "      <td>9778.34720</td>\n",
       "      <td>11427.384456</td>\n",
       "      <td>1649.037256</td>\n",
       "    </tr>\n",
       "    <tr>\n",
       "      <th>3032</th>\n",
       "      <td>5400.98050</td>\n",
       "      <td>10498.129167</td>\n",
       "      <td>5097.148667</td>\n",
       "    </tr>\n",
       "    <tr>\n",
       "      <th>...</th>\n",
       "      <td>...</td>\n",
       "      <td>...</td>\n",
       "      <td>...</td>\n",
       "    </tr>\n",
       "    <tr>\n",
       "      <th>2881</th>\n",
       "      <td>2331.51900</td>\n",
       "      <td>2063.623009</td>\n",
       "      <td>267.895991</td>\n",
       "    </tr>\n",
       "    <tr>\n",
       "      <th>3591</th>\n",
       "      <td>2842.76075</td>\n",
       "      <td>1990.877994</td>\n",
       "      <td>851.882756</td>\n",
       "    </tr>\n",
       "    <tr>\n",
       "      <th>3311</th>\n",
       "      <td>5972.37800</td>\n",
       "      <td>10275.766926</td>\n",
       "      <td>4303.388926</td>\n",
       "    </tr>\n",
       "    <tr>\n",
       "      <th>4059</th>\n",
       "      <td>47403.88000</td>\n",
       "      <td>38853.309782</td>\n",
       "      <td>8550.570218</td>\n",
       "    </tr>\n",
       "    <tr>\n",
       "      <th>3487</th>\n",
       "      <td>8310.83915</td>\n",
       "      <td>10147.767097</td>\n",
       "      <td>1836.927947</td>\n",
       "    </tr>\n",
       "  </tbody>\n",
       "</table>\n",
       "<p>268 rows × 3 columns</p>\n",
       "</div>"
      ],
      "text/plain": [
       "        y_test_LE     previsoes    diferenca\n",
       "3167   8964.06055  11347.315477  2383.254927\n",
       "3654   6311.95200   7608.698308  1296.746308\n",
       "3131   8944.11510  15500.509465  6556.394365\n",
       "3140   9778.34720  11427.384456  1649.037256\n",
       "3032   5400.98050  10498.129167  5097.148667\n",
       "...           ...           ...          ...\n",
       "2881   2331.51900   2063.623009   267.895991\n",
       "3591   2842.76075   1990.877994   851.882756\n",
       "3311   5972.37800  10275.766926  4303.388926\n",
       "4059  47403.88000  38853.309782  8550.570218\n",
       "3487   8310.83915  10147.767097  1836.927947\n",
       "\n",
       "[268 rows x 3 columns]"
      ]
     },
     "execution_count": 393,
     "metadata": {},
     "output_type": "execute_result"
    }
   ],
   "source": [
    "from sklearn.metrics import mean_squared_error, mean_absolute_error, r2_score\n",
    "from sklearn.model_selection import cross_val_score\n",
    "erroMMQ=mean_squared_error(y_test_LE,previsoes)\n",
    "erroABS=mean_absolute_error(y_test_LE,previsoes)\n",
    "rr2=r2_score(y_test_LE,previsoes)\n",
    "\n",
    "print('Erro quadratico medio: ',erroMMQ)\n",
    "print('Erro absoluto medio: ',erroABS)\n",
    "print('Coeficiente de determinacao: ',rr2)\n",
    "\n",
    "\n",
    "#previsoes.shape,x_test_LE.shape,y_test_LE.shape,x_train_LE.shape,y_train_LE.shape\n",
    "\n",
    "def compare(y_test_LE,previsoes):\n",
    "    compare=pd.DataFrame()\n",
    "    compare['y_test_LE']=y_test_LE\n",
    "    compare['previsoes']=previsoes\n",
    "    compare['diferenca']=abs(compare['y_test_LE']-compare['previsoes'])\n",
    "    return compare\n",
    "\n",
    "\n",
    "compare(y_test_LE,previsoes)\n",
    "    "
   ]
  },
  {
   "cell_type": "code",
   "execution_count": 394,
   "metadata": {},
   "outputs": [
    {
     "name": "stdout",
     "output_type": "stream",
     "text": [
      "(268, 1)\n",
      "(268, 1)\n"
     ]
    },
    {
     "data": {
      "text/plain": [
       "0.7560084375543975"
      ]
     },
     "execution_count": 394,
     "metadata": {},
     "output_type": "execute_result"
    }
   ],
   "source": [
    "\n",
    "print(y_test_LE.shape)\n",
    "print(previsoes.shape)\n",
    "\n",
    "scores = cross_val_score(modelo,y_test_LE, previsoes)\n",
    "\n",
    "scores.mean()"
   ]
  },
  {
   "cell_type": "code",
   "execution_count": 395,
   "metadata": {},
   "outputs": [
    {
     "name": "stdout",
     "output_type": "stream",
     "text": [
      "[31.      1.     31.3213  0.      0.      0.    ]\n",
      "os dados previstos são [[6378.88744767]]\n"
     ]
    },
    {
     "name": "stderr",
     "output_type": "stream",
     "text": [
      "/Users/user/Library/Python/3.9/lib/python/site-packages/sklearn/base.py:493: UserWarning:\n",
      "\n",
      "X does not have valid feature names, but LinearRegression was fitted with feature names\n",
      "\n"
     ]
    }
   ],
   "source": [
    "meus_dados=(31,1,31.3213,0,0,0)   #(idade,sexo,imc,filhos,fuma,local)\n",
    "\n",
    "array= np.asarray(meus_dados)\n",
    "print(array)\n",
    "\n",
    "arrayr=array.reshape((1,-1))\n",
    "arrayr\n",
    "\n",
    "\n",
    "meus_dados_previstos= modelo.predict(arrayr)\n",
    "\n",
    "print(f'os dados previstos são {meus_dados_previstos}')\n",
    "\n",
    "#x_test_LE"
   ]
  },
  {
   "cell_type": "code",
   "execution_count": 396,
   "metadata": {},
   "outputs": [
    {
     "data": {
      "text/plain": [
       "array([ 1.14268389e+04,  7.80018696e+03,  1.52543401e+04,  1.14964995e+04,\n",
       "        1.02321621e+04,  6.02061563e+03,  1.42522629e+04,  9.39220672e+03,\n",
       "        5.17779415e+03,  7.98856610e+03,  5.43568526e+03,  3.69454499e+04,\n",
       "        1.31062036e+04,  2.86011622e+04,  5.57867971e+03,  6.37813469e+03,\n",
       "        3.15876238e+04,  1.19513889e+04,  7.60728546e+03,  6.77570549e+03,\n",
       "        4.56085420e+03,  1.57766183e+04,  3.46194136e+03,  1.37212232e+04,\n",
       "        4.69808287e+03,  1.41996313e+04,  5.16330060e+03,  3.36543992e+04,\n",
       "        2.83413313e+04,  1.27745431e+04,  8.29417429e+03,  3.20423702e+03,\n",
       "        1.31624803e+04,  3.15655547e+04,  5.59063253e+03,  1.29829349e+04,\n",
       "        3.82473293e+03,  1.47730858e+04,  1.05519613e+04,  6.86603746e+03,\n",
       "        3.20943928e+04,  1.32852823e+04,  3.14105137e+04,  3.81535095e+04,\n",
       "        7.88993706e+03,  1.31542626e+04,  1.05319134e+04,  2.88631335e+03,\n",
       "        2.83719348e+04,  2.93822591e+04,  1.36485077e+04,  1.26643921e+04,\n",
       "        3.32796548e+04,  1.39812679e+03,  1.09924854e+04,  7.00397384e+03,\n",
       "        3.25313777e+04,  3.58488688e+04,  1.57661837e+04,  9.18871981e+02,\n",
       "        1.08712059e+04,  1.68695359e+04,  3.90225537e+04,  1.09731575e+04,\n",
       "        3.16497187e+04,  9.93886564e+03,  2.51987800e+03,  1.26457249e+04,\n",
       "        3.44768883e+04,  3.44681171e+04,  8.42676868e+03,  9.70300291e+03,\n",
       "        1.04634392e+04,  8.96674416e+03,  8.98331435e+03,  3.31160904e+04,\n",
       "        3.85825333e+03,  1.25688955e+04,  1.17322192e+04,  2.98199724e+04,\n",
       "        6.17925329e+03,  8.31786165e+03,  3.09830986e+04,  2.59251494e+04,\n",
       "        5.16938084e+03,  3.69748539e+04,  5.94810435e+03,  1.43848510e+04,\n",
       "        1.28326738e+04,  1.56338319e+04,  3.35050315e+04,  1.79654709e+04,\n",
       "        2.92932346e+04,  1.21715559e+04,  1.14662811e+04,  9.77539110e+02,\n",
       "        7.50314330e+03,  2.62485862e+04,  2.86855837e+04,  2.65605048e+04,\n",
       "        9.42543433e+03,  1.29293484e+04,  1.60088861e+03,  1.48154628e+03,\n",
       "        2.67444002e+03,  1.05068234e+04,  4.50582139e+03,  9.64147196e+03,\n",
       "        8.06333649e+03,  3.97012965e+04,  3.22734262e+03,  8.74183762e+03,\n",
       "        2.65965682e+04,  1.54845360e+04,  1.23342310e+04,  1.40286514e+04,\n",
       "        7.02929801e+03,  1.49890529e+04,  3.12760577e+03,  3.29512297e+04,\n",
       "        9.69408995e+03,  1.29434103e+04,  1.25345088e+04,  1.16033413e+04,\n",
       "        2.14819483e+03,  5.76683506e+03,  8.60722898e+03,  1.13524946e+04,\n",
       "        9.20603682e+03,  1.10245884e+04,  4.37373700e+03,  1.09618629e+04,\n",
       "        9.71139850e+03,  7.09995110e+03,  1.15782543e+04,  9.88731580e+03,\n",
       "        1.33874120e+04,  1.78743303e+04,  3.16536987e+04,  1.15633406e+04,\n",
       "        3.03460364e+04,  1.86843968e+03,  2.72124757e+04,  5.81502115e+03,\n",
       "        7.16010430e+03,  4.89680654e+03,  2.91504987e+04,  4.75549488e+03,\n",
       "        1.47974842e+04,  1.00047444e+04,  3.00467454e+02,  1.26976450e+04,\n",
       "        3.17641809e+04,  9.44800968e+03,  2.82825336e+04, -1.42993800e+03,\n",
       "        9.86316230e+02,  9.85348691e+03,  1.37906864e+04,  2.88657936e+04,\n",
       "        3.12956680e+04,  7.06157491e+03,  1.34092307e+04,  3.96082851e+04,\n",
       "        1.44985785e+04,  3.58655920e+03, -2.05167276e+03,  1.62636861e+04,\n",
       "        1.21208078e+04,  1.08460906e+04,  3.46050614e+04,  3.05716195e+04,\n",
       "        5.81515987e+03,  4.94717833e+03,  1.17499297e+04,  2.49493836e+04,\n",
       "        3.34169923e+02,  1.73632004e+04,  4.37832145e+03,  1.95132095e+03,\n",
       "        1.08807304e+04, -3.71324416e+02,  3.71897934e+03,  4.29094285e+03,\n",
       "        1.54768322e+04,  9.91462779e+03,  8.87778910e+03,  8.61488937e+03,\n",
       "        8.90490168e+03,  3.75646325e+04,  3.29622087e+04,  6.99981638e+03,\n",
       "        3.66915823e+03,  1.18634990e+04,  1.58232183e+04,  4.10054415e+03,\n",
       "        2.72863586e+04,  3.62117115e+03,  8.79786154e+00,  1.00864992e+04,\n",
       "        1.42629308e+04,  6.46656922e+03,  3.90415795e+04,  1.29379410e+04,\n",
       "        2.68923829e+04,  7.36740770e+03,  1.09577031e+04,  1.05818820e+04,\n",
       "        3.91603127e+04,  2.67263239e+04,  8.91350610e+03,  1.15947324e+04,\n",
       "        7.81532446e+03,  5.91290234e+03,  4.16592619e+03,  2.47060600e+03,\n",
       "        1.91991208e+03,  9.72672339e+03,  1.38177990e+04,  3.10933613e+04,\n",
       "        1.34141636e+04,  1.05000293e+04,  1.18546655e+04,  3.98337199e+03,\n",
       "        1.69226038e+04,  1.04644442e+04,  1.39436503e+04,  3.07572410e+04,\n",
       "        1.06521359e+04,  9.87279066e+03,  3.79672824e+03,  8.25799181e+03,\n",
       "        1.02002996e+04,  1.48191201e+04,  7.16927731e+03,  2.88956052e+04,\n",
       "        5.77201176e+03,  9.42217756e+03,  1.70602819e+04,  1.10518983e+04,\n",
       "        1.27102620e+04,  1.53539228e+04,  5.77647255e+03,  1.02288395e+04,\n",
       "        1.01543802e+04,  4.82961386e+03,  1.26150766e+04,  5.84658567e+03,\n",
       "        9.69477269e+03,  9.28818781e+03,  7.73051041e+03,  4.48919802e+03,\n",
       "        1.12816445e+04,  2.75676471e+02,  1.18330355e+04,  7.01314978e+03,\n",
       "        8.44203249e+03,  6.38250724e+03,  1.05204325e+04,  6.56951905e+03,\n",
       "        5.63928226e+03,  4.60595667e+03,  3.65715492e+04,  2.25867909e+03,\n",
       "        2.03984689e+03,  1.05576806e+04,  3.91462826e+04,  1.02406774e+04])"
      ]
     },
     "execution_count": 396,
     "metadata": {},
     "output_type": "execute_result"
    }
   ],
   "source": [
    "#agora vou fazer o train_test_split \n",
    "from sklearn.linear_model import LinearRegression\n",
    "x_train_LE, x_test_LE, y_train_LE, y_test_LE = train_test_split(x_dados_dummies, y_dados_dummies, test_size=0.20, random_state=42)\n",
    "\n",
    "modeloDummy=LinearRegression()\n",
    "\n",
    "x_dados_dummies.dtypes\n",
    "modeloDummy.fit(x_train_LE,y_train_LE)\n",
    "\n",
    "#previsoes AQUI VOU TESTAR O MEU MODELO\n",
    "\n",
    "previsoes=modeloDummy.predict(x_test_LE)\n",
    "previsoes"
   ]
  },
  {
   "cell_type": "code",
   "execution_count": 399,
   "metadata": {},
   "outputs": [
    {
     "name": "stdout",
     "output_type": "stream",
     "text": [
      "Erro quadratico medio:  37051031.64909648\n",
      "Erro absoluto medio:  4176.668589024245\n",
      "Coeficiente de determinacao:  0.7547802363197403\n"
     ]
    },
    {
     "data": {
      "text/html": [
       "<div>\n",
       "<style scoped>\n",
       "    .dataframe tbody tr th:only-of-type {\n",
       "        vertical-align: middle;\n",
       "    }\n",
       "\n",
       "    .dataframe tbody tr th {\n",
       "        vertical-align: top;\n",
       "    }\n",
       "\n",
       "    .dataframe thead th {\n",
       "        text-align: right;\n",
       "    }\n",
       "</style>\n",
       "<table border=\"1\" class=\"dataframe\">\n",
       "  <thead>\n",
       "    <tr style=\"text-align: right;\">\n",
       "      <th></th>\n",
       "      <th>age</th>\n",
       "      <th>bmi</th>\n",
       "      <th>children</th>\n",
       "      <th>sex_female</th>\n",
       "      <th>sex_male</th>\n",
       "      <th>region_northeast</th>\n",
       "      <th>region_northwest</th>\n",
       "      <th>region_southeast</th>\n",
       "      <th>region_southwest</th>\n",
       "      <th>smoker_no</th>\n",
       "      <th>smoker_yes</th>\n",
       "    </tr>\n",
       "  </thead>\n",
       "  <tbody>\n",
       "    <tr>\n",
       "      <th>3167</th>\n",
       "      <td>48</td>\n",
       "      <td>31.445</td>\n",
       "      <td>1</td>\n",
       "      <td>0</td>\n",
       "      <td>1</td>\n",
       "      <td>1</td>\n",
       "      <td>0</td>\n",
       "      <td>0</td>\n",
       "      <td>0</td>\n",
       "      <td>1</td>\n",
       "      <td>0</td>\n",
       "    </tr>\n",
       "    <tr>\n",
       "      <th>3654</th>\n",
       "      <td>37</td>\n",
       "      <td>29.500</td>\n",
       "      <td>2</td>\n",
       "      <td>1</td>\n",
       "      <td>0</td>\n",
       "      <td>0</td>\n",
       "      <td>0</td>\n",
       "      <td>0</td>\n",
       "      <td>1</td>\n",
       "      <td>1</td>\n",
       "      <td>0</td>\n",
       "    </tr>\n",
       "    <tr>\n",
       "      <th>3131</th>\n",
       "      <td>46</td>\n",
       "      <td>43.890</td>\n",
       "      <td>3</td>\n",
       "      <td>0</td>\n",
       "      <td>1</td>\n",
       "      <td>0</td>\n",
       "      <td>0</td>\n",
       "      <td>1</td>\n",
       "      <td>0</td>\n",
       "      <td>1</td>\n",
       "      <td>0</td>\n",
       "    </tr>\n",
       "    <tr>\n",
       "      <th>3140</th>\n",
       "      <td>49</td>\n",
       "      <td>30.780</td>\n",
       "      <td>1</td>\n",
       "      <td>1</td>\n",
       "      <td>0</td>\n",
       "      <td>1</td>\n",
       "      <td>0</td>\n",
       "      <td>0</td>\n",
       "      <td>0</td>\n",
       "      <td>1</td>\n",
       "      <td>0</td>\n",
       "    </tr>\n",
       "    <tr>\n",
       "      <th>3032</th>\n",
       "      <td>38</td>\n",
       "      <td>40.150</td>\n",
       "      <td>0</td>\n",
       "      <td>1</td>\n",
       "      <td>0</td>\n",
       "      <td>0</td>\n",
       "      <td>0</td>\n",
       "      <td>1</td>\n",
       "      <td>0</td>\n",
       "      <td>1</td>\n",
       "      <td>0</td>\n",
       "    </tr>\n",
       "  </tbody>\n",
       "</table>\n",
       "</div>"
      ],
      "text/plain": [
       "      age     bmi  children  sex_female  sex_male  region_northeast  \\\n",
       "3167   48  31.445         1           0         1                 1   \n",
       "3654   37  29.500         2           1         0                 0   \n",
       "3131   46  43.890         3           0         1                 0   \n",
       "3140   49  30.780         1           1         0                 1   \n",
       "3032   38  40.150         0           1         0                 0   \n",
       "\n",
       "      region_northwest  region_southeast  region_southwest  smoker_no  \\\n",
       "3167                 0                 0                 0          1   \n",
       "3654                 0                 0                 1          1   \n",
       "3131                 0                 1                 0          1   \n",
       "3140                 0                 0                 0          1   \n",
       "3032                 0                 1                 0          1   \n",
       "\n",
       "      smoker_yes  \n",
       "3167           0  \n",
       "3654           0  \n",
       "3131           0  \n",
       "3140           0  \n",
       "3032           0  "
      ]
     },
     "execution_count": 399,
     "metadata": {},
     "output_type": "execute_result"
    }
   ],
   "source": [
    "from sklearn.metrics import mean_squared_error, mean_absolute_error, r2_score\n",
    "from sklearn.model_selection import cross_val_score\n",
    "erroMMQ=mean_squared_error(y_test_LE,previsoes)\n",
    "erroABS=mean_absolute_error(y_test_LE,previsoes)\n",
    "rr2=r2_score(y_test_LE,previsoes)\n",
    "\n",
    "print('Erro quadratico medio: ',erroMMQ)\n",
    "print('Erro absoluto medio: ',erroABS)\n",
    "print('Coeficiente de determinacao: ',rr2)\n",
    "\n",
    "compare(y_test_LE,previsoes)\n",
    "x_test_LE.head()"
   ]
  },
  {
   "cell_type": "code",
   "execution_count": 401,
   "metadata": {},
   "outputs": [
    {
     "name": "stdout",
     "output_type": "stream",
     "text": [
      "(268,)\n",
      "(268,)\n",
      "[31.     31.3213  0.      0.      1.      0.      0.      1.      0.\n",
      "  1.      0.    ]\n",
      "os dados previstos  são [[6378.88744767]]\n",
      "os dados previstos dummt são [5413.01792243]\n"
     ]
    },
    {
     "name": "stderr",
     "output_type": "stream",
     "text": [
      "/Users/user/Library/Python/3.9/lib/python/site-packages/sklearn/base.py:493: UserWarning:\n",
      "\n",
      "X does not have valid feature names, but LinearRegression was fitted with feature names\n",
      "\n"
     ]
    }
   ],
   "source": [
    "\n",
    "print(y_test_LE.shape)\n",
    "print(previsoes.shape)\n",
    "\n",
    "#scores = cross_val_score(modeloDummy,y_test_LE, previsoes)\n",
    "\n",
    "meus_dados=(31,31.3213,0,0,1,0,0,1,0,1,0)   #(idade,sexo,imc,filhos,fuma,local)\n",
    "\n",
    "array= np.asarray(meus_dados)\n",
    "print(array)\n",
    "\n",
    "arrayr=array.reshape((1,-1))\n",
    "arrayr\n",
    "\n",
    "\n",
    "meus_dados_previstos_dummy= modeloDummy.predict(arrayr)\n",
    "\n",
    "print(f'os dados previstos  são {meus_dados_previstos}')\n",
    "print(f'os dados previstos dummt são {meus_dados_previstos_dummy}')"
   ]
  }
 ],
 "metadata": {
  "kernelspec": {
   "display_name": "Python 3",
   "language": "python",
   "name": "python3"
  },
  "language_info": {
   "codemirror_mode": {
    "name": "ipython",
    "version": 3
   },
   "file_extension": ".py",
   "mimetype": "text/x-python",
   "name": "python",
   "nbconvert_exporter": "python",
   "pygments_lexer": "ipython3",
   "version": "3.9.6"
  }
 },
 "nbformat": 4,
 "nbformat_minor": 2
}
